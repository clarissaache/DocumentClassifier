{
 "cells": [
  {
   "cell_type": "markdown",
   "metadata": {},
   "source": [
    "# Neural Network Approach for Document Categorization\n",
    "\n",
    "use bi-directional LSTM with self attention"
   ]
  },
  {
   "cell_type": "code",
   "execution_count": 4,
   "metadata": {},
   "outputs": [
    {
     "name": "stderr",
     "output_type": "stream",
     "text": [
      "[nltk_data] Downloading package stopwords to /home/sxia1/nltk_data...\n",
      "[nltk_data]   Package stopwords is already up-to-date!\n"
     ]
    }
   ],
   "source": [
    "import re \n",
    "import string\n",
    "import numpy as np\n",
    "import pandas as pd\n",
    "import matplotlib.pyplot as plt\n",
    "# nltk\n",
    "import nltk\n",
    "nltk.download('stopwords')\n",
    "from nltk.corpus import stopwords\n",
    "from nltk.stem import WordNetLemmatizer\n",
    "# Gensim\n",
    "import gensim\n",
    "\n",
    "import matplotlib.pyplot as plt\n",
    "import numpy as np\n",
    "from sklearn.model_selection import train_test_split\n",
    "import torch\n",
    "import torch.nn as nn"
   ]
  },
  {
   "cell_type": "markdown",
   "metadata": {},
   "source": [
    "## given a corpus clean each text in the collection"
   ]
  },
  {
   "cell_type": "code",
   "execution_count": 5,
   "metadata": {},
   "outputs": [],
   "source": [
    "#helper function for lemmatization\n",
    "def get_wordnet_pos(tag):\n",
    "\n",
    "    if tag.startswith('J'):\n",
    "        return 'a'\n",
    "    elif tag.startswith('V'):\n",
    "        return 'v'\n",
    "    elif tag.startswith('R'):\n",
    "        return 'r'\n",
    "    else:\n",
    "        return 'n' #if not belong to any, default is noun, inclunding N\n",
    "\n",
    "def lemmatize_with_pos(abstract_toekenized):\n",
    "    abstract_tagged = nltk.pos_tag(abstract_toekenized)\n",
    "    tags = list(map(lambda token: get_wordnet_pos(token[1]),abstract_tagged))\n",
    "    abstract_lemmatized = list(map(lemmatizer.lemmatize,abstract_toekenized,tags))\n",
    "    return abstract_lemmatized\n",
    "\n",
    "\n",
    "#import nltk lemmatizer\n",
    "lemmatizer = WordNetLemmatizer()\n",
    "\n",
    "def prepare_token(text_tokenized_list):\n",
    "    # remove stopwords and puntuation, \n",
    "    text_stopwords_removed = list(map(lambda abstract: list(filter(lambda word: word not in stop_words, abstract)),text_tokenized_list))\n",
    "    # lemmatize\n",
    "    abstract_lemmatized = list(map(lemmatize_with_pos,text_stopwords_removed))\n",
    "    return abstract_lemmatized\n",
    "\n",
    "def tokenize_prepare(df):\n",
    "    # remove puncutations and number, then tokenize each text\n",
    "    text_tokenized = list(map(lambda abstract_i:nltk.word_tokenize(re.sub(r'[^A-Za-z\\s]','',abstract_i.lower())), df.Abstract))\n",
    "    len(text_tokenized)\n",
    "    df['n_words']=list(map(lambda x:len(x),text_tokenized))\n",
    "    #come back to adjust the threshold value: (cnt(a, b) - min_count) * N / (cnt(a) * cnt(b)) > threshold\n",
    "    # bigram_freeze = bigram.freeze()\n",
    "    abstract_lemmatized = prepare_token(text_tokenized)\n",
    "    df['n_words_removed']=list(map(lambda x:len(x),abstract_lemmatized))\n",
    "    # plot data\n",
    "    fig,axs = plt.subplots(1,3,figsize=(25,5))\n",
    "    categories = df.Domain.value_counts().index\n",
    "    counts = df.Domain.value_counts().values\n",
    "    axs[0].bar(categories, counts, width=0.5)\n",
    "    axs[0].set_title(\"Domain Frquency\")\n",
    "    # categories = df.area.value_counts().index\n",
    "    # counts = df.area.value_counts().values\n",
    "    # axs[1].bar(categories, counts, width=0.5)\n",
    "    # axs[1].set_title(\"Area Frquency\")\n",
    "    axs[1].hist(df.n_words)\n",
    "    axs[1].set_title(\"abstract word count\")\n",
    "    axs[2].hist(df.n_words_removed,bins=30)\n",
    "    axs[2].set_title(\"abstract without stop words word count\")\n",
    "\n",
    "    plt.show()\n",
    "    return abstract_lemmatized,df\n",
    "\n"
   ]
  },
  {
   "cell_type": "code",
   "execution_count": 6,
   "metadata": {},
   "outputs": [
    {
     "name": "stdout",
     "output_type": "stream",
     "text": [
      "46985\n",
      "['CS ' 'Medical ' 'Civil ' 'ECE ' 'biochemistry ' 'MAE ' 'Psychology  ']\n"
     ]
    },
    {
     "name": "stderr",
     "output_type": "stream",
     "text": [
      "/tmp/ipykernel_5656/2251930101.py:8: SettingWithCopyWarning: \n",
      "A value is trying to be set on a copy of a slice from a DataFrame.\n",
      "Try using .loc[row_indexer,col_indexer] = value instead\n",
      "\n",
      "See the caveats in the documentation: https://pandas.pydata.org/pandas-docs/stable/user_guide/indexing.html#returning-a-view-versus-a-copy\n",
      "  df_paper['Domain_No'] = df_paper.Domain.map(topic2num)\n",
      "/tmp/ipykernel_5656/3809838574.py:34: SettingWithCopyWarning: \n",
      "A value is trying to be set on a copy of a slice from a DataFrame.\n",
      "Try using .loc[row_indexer,col_indexer] = value instead\n",
      "\n",
      "See the caveats in the documentation: https://pandas.pydata.org/pandas-docs/stable/user_guide/indexing.html#returning-a-view-versus-a-copy\n",
      "  df['n_words']=list(map(lambda x:len(x),text_tokenized))\n",
      "/tmp/ipykernel_5656/3809838574.py:38: SettingWithCopyWarning: \n",
      "A value is trying to be set on a copy of a slice from a DataFrame.\n",
      "Try using .loc[row_indexer,col_indexer] = value instead\n",
      "\n",
      "See the caveats in the documentation: https://pandas.pydata.org/pandas-docs/stable/user_guide/indexing.html#returning-a-view-versus-a-copy\n",
      "  df['n_words_removed']=list(map(lambda x:len(x),abstract_lemmatized))\n"
     ]
    },
    {
     "data": {
      "image/png": "[encoded data removed]",
      "text/plain": [
       "<Figure size 1800x360 with 3 Axes>"
      ]
     },
     "metadata": {
      "needs_background": "light"
     },
     "output_type": "display_data"
    }
   ],
   "source": [
    "stop_words = stopwords.words('english')\n",
    "# read-in pre-labled research apper abstracts\n",
    "df_paper_raw = pd.read_excel(\"data/WebOfScienceData.xlsx\",sheet_name=\"abstracts\")\n",
    "print(len(df_paper_raw))\n",
    "df_paper = df_paper_raw.head(5000) #use first 2000\n",
    "print(df_paper.Domain.unique())\n",
    "topic2num = {'CS ': 0, 'Medical ': 1, 'Civil ': 2, 'ECE ': 3, 'biochemistry ': 4, 'MAE ': 5, 'Psychology  ': 6}\n",
    "df_paper['Domain_No'] = df_paper.Domain.map(topic2num)\n",
    "\n",
    "abstract_lemmatized, df= tokenize_prepare(df_paper)\n",
    "\n"
   ]
  },
  {
   "cell_type": "code",
   "execution_count": 7,
   "metadata": {},
   "outputs": [
    {
     "name": "stdout",
     "output_type": "stream",
     "text": [
      "['use', 'study', 'patient', 'result', 'model', 'system', 'method', 'show', 'high', 'cell', 'control', 'c', 'data', 'increase', 'analysis', 'level', 'p', 'effect', 'present', 'propose', 'also', 'base', 'treatment', 'group', 'include', 'design', 'disease', 'compare', 'aim', 'may', 'low', 'associate', 'two', 'different', 'factor', 'time', 'provide', 'test', 'process', 'elsevier', 'expression', 'right', 'develop', 'well', 'year', 'approach', 'one', 'find', 'change', 'paper', 'risk', 'new', 'reserve', 'measure', 'gene']\n"
     ]
    },
    {
     "data": {
      "image/png": "[encoded data removed]",
      "text/plain": [
       "<Figure size 3960x504 with 1 Axes>"
      ]
     },
     "metadata": {
      "needs_background": "light"
     },
     "output_type": "display_data"
    },
    {
     "name": "stdout",
     "output_type": "stream",
     "text": [
      "['expression', 'right', 'develop', 'well', 'year', 'approach', 'one', 'change', 'find', 'paper', 'risk', 'new', 'reserve', 'gene', 'measure', 'age', 'however', 'significant', 'significantly', 'health']\n"
     ]
    },
    {
     "data": {
      "image/png": "[encoded data removed]",
      "text/plain": [
       "<Figure size 1440x504 with 1 Axes>"
      ]
     },
     "metadata": {
      "needs_background": "light"
     },
     "output_type": "display_data"
    },
    {
     "name": "stderr",
     "output_type": "stream",
     "text": [
      "/tmp/ipykernel_5656/3453406941.py:22: SettingWithCopyWarning: \n",
      "A value is trying to be set on a copy of a slice from a DataFrame.\n",
      "Try using .loc[row_indexer,col_indexer] = value instead\n",
      "\n",
      "See the caveats in the documentation: https://pandas.pydata.org/pandas-docs/stable/user_guide/indexing.html#returning-a-view-versus-a-copy\n",
      "  df_paper['n_words_lemmatize_clean']=list(map(lambda x:len(x),abstract_lemmatized_cleaned))\n"
     ]
    },
    {
     "data": {
      "text/plain": [
       "Text(200, 150, 'median length: 105')"
      ]
     },
     "execution_count": 7,
     "metadata": {},
     "output_type": "execute_result"
    },
    {
     "data": {
      "image/png": "[encoded data removed]",
      "text/plain": [
       "<Figure size 432x288 with 1 Axes>"
      ]
     },
     "metadata": {
      "needs_background": "light"
     },
     "output_type": "display_data"
    }
   ],
   "source": [
    "# remove popular words??\n",
    "def check_frequent_words(corpus,top_n):\n",
    "    all_corpus_together=np.concatenate(corpus)\n",
    "    (word, counts) = np.unique(all_corpus_together, return_counts=True)\n",
    "    frequencies = np.asarray((word, counts)).T\n",
    "    count_df = pd.DataFrame(data=frequencies,columns = ['word','freq'])\n",
    "    count_df.freq = count_df.freq.astype(int)\n",
    "    count_df.sort_values(by=['freq'],axis=0,ascending=False,ignore_index=True,inplace=True)\n",
    "    print(list(count_df.head(top_n).word))\n",
    "    plt.figure(figsize=(top_n,7))\n",
    "    plt.bar(count_df[:top_n].word,height=count_df[:top_n].freq,width=0.6,align='center')\n",
    "    plt.title(\"most frequent words - should consider removeing them\",fontsize=20)\n",
    "    plt.show()\n",
    "    return count_df\n",
    "\n",
    "count_df =check_frequent_words(abstract_lemmatized,55)\n",
    "\n",
    "# remove top 50 most frequent words\n",
    "top_n = list(count_df[:40].word)\n",
    "abstract_lemmatized_cleaned = list(map(lambda abstract: list(filter(lambda word: word not in top_n, abstract)),abstract_lemmatized))\n",
    "check_frequent_words(abstract_lemmatized_cleaned,top_n=20)\n",
    "df_paper['n_words_lemmatize_clean']=list(map(lambda x:len(x),abstract_lemmatized_cleaned))\n",
    "median_count = np.median(df_paper.n_words_lemmatize_clean)\n",
    "plt.hist(df_paper.n_words_lemmatize_clean,bins=30)\n",
    "plt.title(\"abstract without stop words word count\")\n",
    "plt.text(200,150,\"median length: %d\"%median_count,fontsize=10)"
   ]
  },
  {
   "cell_type": "markdown",
   "metadata": {},
   "source": [
    "## Building our Nerual Network\n",
    "1. define and train word2vec from Gensim\n",
    "2. apply word2vec on our documents \n",
    "3. input to the nerual network: vectorized document using word2vec\n",
    "4. output: distribution of topics (a vector with length = # topics)\n",
    "\n",
    "5. cross entropy function:"
   ]
  },
  {
   "cell_type": "code",
   "execution_count": 8,
   "metadata": {},
   "outputs": [],
   "source": [
    "import gensim.downloader\n",
    "from gensim.models import Word2Vec\n",
    "\n",
    "glove_vectors = gensim.downloader.load('glove-wiki-gigaword-100')"
   ]
  },
  {
   "cell_type": "code",
   "execution_count": 9,
   "metadata": {},
   "outputs": [
    {
     "name": "stdout",
     "output_type": "stream",
     "text": [
      "(100,)\n",
      "(100,)\n"
     ]
    }
   ],
   "source": [
    "print(np.shape(glove_vectors['medicine']))\n",
    "print(np.shape(glove_vectors['water']))\n",
    "#word vector/input dim = 100\n",
    "global embedding_dim\n",
    "embedding_dim = np.shape(glove_vectors['water'])[0]"
   ]
  },
  {
   "cell_type": "code",
   "execution_count": 10,
   "metadata": {},
   "outputs": [
    {
     "name": "stdout",
     "output_type": "stream",
     "text": [
      "# unseen words: 8\n",
      "(168, 100)\n",
      "(2500,)\n",
      "(2500, 292, 100)\n"
     ]
    }
   ],
   "source": [
    "# apply word2vec and vectorize corpus\n",
    "def embed_w_word2vec(word):\n",
    "    try:\n",
    "        return glove_vectors[word]\n",
    "    except:\n",
    "        return np.zeros(embedding_dim) #unseen word -> zeros \n",
    "\n",
    "text_i = abstract_lemmatized_cleaned[0]\n",
    "text_embedded = np.array(list(map(embed_w_word2vec, text_i)))\n",
    "print(\"# unseen words:\",np.sum(np.sum(text_embedded,axis=1)==0))\n",
    "\n",
    "def applyGlove_corpus(abstract_lemmatized_cleaned,n_document,n_topics):\n",
    "    corpus_embedded = list(map(lambda text_i: np.asarray(list(map(embed_w_word2vec, text_i))),abstract_lemmatized_cleaned[:n_document]))\n",
    "    print(np.shape(corpus_embedded[1]))\n",
    "    max_length = max(len(document) for document in corpus_embedded)\n",
    "    X = np.array(list(map(lambda d: np.vstack([d,np.zeros((max_length-len(d),100))]),corpus_embedded)))\n",
    "    return X\n",
    "\n",
    "n_document = 2500\n",
    "n_topics = 7\n",
    "X = applyGlove_corpus(abstract_lemmatized_cleaned,n_document,n_topics)\n",
    "# split into training and testing data\n",
    "Y = np.array(df_paper.Domain_No[:n_document])\n",
    "X_train, X_test, Y_train, Y_test = train_test_split(X, Y,test_size=0.2)\n",
    "print(np.shape(Y))\n",
    "print(np.shape(X))\n"
   ]
  },
  {
   "cell_type": "code",
   "execution_count": null,
   "metadata": {},
   "outputs": [
    {
     "ename": "Error",
     "evalue": "Session cannot generate requests",
     "output_type": "error",
     "traceback": [
      "Error: Session cannot generate requests",
      "at S.executeCodeCell (/home/sxia1/.vscode-server/extensions/ms-toolsai.jupyter-2021.10.1101450599/out/client/extension.js:66:301742)",
      "at S.execute (/home/sxia1/.vscode-server/extensions/ms-toolsai.jupyter-2021.10.1101450599/out/client/extension.js:66:300732)",
      "at S.start (/home/sxia1/.vscode-server/extensions/ms-toolsai.jupyter-2021.10.1101450599/out/client/extension.js:66:296408)",
      "at runMicrotasks (<anonymous>)",
      "at processTicksAndRejections (internal/process/task_queues.js:93:5)",
      "at async t.CellExecutionQueue.executeQueuedCells (/home/sxia1/.vscode-server/extensions/ms-toolsai.jupyter-2021.10.1101450599/out/client/extension.js:66:312326)",
      "at async t.CellExecutionQueue.start (/home/sxia1/.vscode-server/extensions/ms-toolsai.jupyter-2021.10.1101450599/out/client/extension.js:66:311862)"
     ]
    }
   ],
   "source": [
    "print(np.shape(X_train))"
   ]
  },
  {
   "cell_type": "code",
   "execution_count": 15,
   "metadata": {},
   "outputs": [],
   "source": [
    "class myBi_LSTM(nn.Module):\n",
    "    def __init__(self, embedding_dim, hidden_dim, output_dim,learning_rate=1e-2, device='cpu'):\n",
    "        super().__init__()  \n",
    "        self.device = device\n",
    "        self.learning_rate = learning_rate\n",
    "\n",
    "        if self.device == 'cuda':\n",
    "            self.cuda() #net is for nueral network\n",
    "\n",
    "        self.embedding_dim = embedding_dim\n",
    "        self.hidden_dim = hidden_dim #how to choose hidden_dim? \n",
    "        self.output_dim = output_dim\n",
    "        \n",
    "        self.lstm = nn.LSTM(embedding_dim, hidden_dim, bidirectional=True,batch_first=True) #batch_first = True means using all documents to train once\n",
    "        #self.concat = torch.cat(final hidden forward +final hidden backward) #concat the final forward and backward hidden state\n",
    "        self.linear = nn.Linear(hidden_dim*2,output_dim)\n",
    "        self.dropout = nn.Dropout(0.2)\n",
    "        self.softmax = nn.Softmax() #just re-scaling to 0-1 -> probabilty and normalizing, input dim = output dim\n",
    "\n",
    "        self.loss_func = nn.CrossEntropyLoss()\n",
    "\n",
    "                #constructing optimizers, adam algorithm\n",
    "        self.optimizer = torch.optim.Adam(\n",
    "            self.parameters(), \n",
    "            lr=self.learning_rate,\n",
    "        )\n",
    "\n",
    "\n",
    "    def forward(self, X_t):\n",
    "        \"\"\"forward / predict.\"\"\"\n",
    "        #print(\"original dim\", np.shape(X_t))\n",
    "        lstmout,(hidden,cell_t) = self.lstm(X_t)\n",
    "        #print(\"hidden state dim\", np.shape(hidden))\n",
    "        catout = torch.cat((hidden[-2,:,:],hidden[-1,:,:]),dim=1)\n",
    "        #print(\"catoutput dim:\",np.shape(catout))\n",
    "        linearout = self.linear(catout)\n",
    "        #print(\"dim after linear\", np.shape(linearout))\n",
    "        droplinearout = self.dropout(linearout)\n",
    "        out = self.softmax(droplinearout)\n",
    "        #print(\"dim final:\",np.shape(out))\n",
    "        return out\n",
    "\n",
    "    def update_network(self, y_hat, Y_t):\n",
    "        \"\"\"Update weights.\"\"\"\n",
    "        self.optimizer.zero_grad() #restart losses from last step, so error won't accumulate\n",
    "        loss = self.loss_func(y_hat, Y_t) #compute loss by calling loss_func method\n",
    "        loss.backward()\n",
    "        self.optimizer.step()\n",
    "        self.training_loss.append(loss.item())\n",
    "        return loss.item()\n",
    "\n",
    "    def calculate_accuracy(self, y_hat_class, Y):\n",
    "        \"\"\"Calculate accuracy.\"\"\"\n",
    "        return torch.sum(torch.eq(Y,y_hat_class)) / len(Y)\n",
    "\n",
    "    def train(self, X, Y, n_iters=10):\n",
    "        \"\"\"Train network.\"\"\"\n",
    "        print(\"niters\",n_iters)\n",
    "        \n",
    "        self.training_loss = []\n",
    "        self.training_accuracy = []\n",
    "\n",
    "        X_t = torch.FloatTensor(X).to(device=self.device)\n",
    "        print(np.shape(X_t))\n",
    "        #this is just writing our training np narray into tensor datatype. Tensor can run on both CPU and GPU(cuda)\n",
    "        Y_t = torch.LongTensor(Y).to(device=self.device)\n",
    "\n",
    "        for _ in range(n_iters):\n",
    "            y_hat = self.forward(X_t)\n",
    "            loss = self.update_network(y_hat, Y_t)\n",
    "            y_hat_class = torch.argmax(y_hat,dim=1) # max probabilty -> text category\n",
    "            accuracy = self.calculate_accuracy(y_hat_class, Y_t)\n",
    "            self.training_accuracy.append(accuracy)\n",
    "            print(\"%d iteration: train loss %.3f, train accuracy %.3f\"% ( _, loss, accuracy))\n",
    "\n",
    "    def plot_training_progress(self):\n",
    "        \"\"\"Plot training progress.\"\"\"\n",
    "        fig, ax = plt.subplots(2, 1, figsize=(12, 8))\n",
    "        ax[0].plot(self.training_loss)\n",
    "        ax[0].set_ylabel('Loss')\n",
    "        ax[0].set_title('Training Loss')\n",
    "\n",
    "        ax[1].plot(self.training_accuracy)\n",
    "        ax[1].set_ylabel('Classification Accuracy')\n",
    "        ax[1].set_title('Training Accuracy')\n",
    "\n",
    "        plt.tight_layout()\n",
    "        plt.show()\n",
    "    \n",
    "    def predict(self,X_test):\n",
    "        # take test data and return predictionas a numpy array\n",
    "        X_t = torch.FloatTensor(X_test).to(device=self.device)\n",
    "        Y_t_pred = self.forward(X_t)\n",
    "        Y_t_class_pred = torch.argmax(Y_t_pred,dim=1)\n",
    "        return Y_t_class_pred.detach().numpy()\n"
   ]
  },
  {
   "cell_type": "code",
   "execution_count": null,
   "metadata": {},
   "outputs": [
    {
     "ename": "Error",
     "evalue": "Session cannot generate requests",
     "output_type": "error",
     "traceback": [
      "Error: Session cannot generate requests",
      "at S.executeCodeCell (/home/sxia1/.vscode-server/extensions/ms-toolsai.jupyter-2021.10.1101450599/out/client/extension.js:66:301742)",
      "at S.execute (/home/sxia1/.vscode-server/extensions/ms-toolsai.jupyter-2021.10.1101450599/out/client/extension.js:66:300732)",
      "at S.start (/home/sxia1/.vscode-server/extensions/ms-toolsai.jupyter-2021.10.1101450599/out/client/extension.js:66:296408)",
      "at runMicrotasks (<anonymous>)",
      "at processTicksAndRejections (internal/process/task_queues.js:93:5)",
      "at async t.CellExecutionQueue.executeQueuedCells (/home/sxia1/.vscode-server/extensions/ms-toolsai.jupyter-2021.10.1101450599/out/client/extension.js:66:312326)",
      "at async t.CellExecutionQueue.start (/home/sxia1/.vscode-server/extensions/ms-toolsai.jupyter-2021.10.1101450599/out/client/extension.js:66:311862)"
     ]
    }
   ],
   "source": [
    "\n",
    "net = myBi_LSTM(embedding_dim=embedding_dim,hidden_dim=50,output_dim=n_topics)\n",
    "net.train(X_train,Y_train,n_iters=1000)\n",
    "net.plot_training_progress()"
   ]
  },
  {
   "cell_type": "code",
   "execution_count": 13,
   "metadata": {},
   "outputs": [
    {
     "name": "stdout",
     "output_type": "stream",
     "text": [
      "test accuracy 0.64\n"
     ]
    },
    {
     "name": "stderr",
     "output_type": "stream",
     "text": [
      "/tmp/ipykernel_32667/3464648344.py:36: UserWarning: Implicit dimension choice for softmax has been deprecated. Change the call to include dim=X as an argument.\n",
      "  out = self.softmax(linearout)\n"
     ]
    }
   ],
   "source": [
    "y_pred= net.predict(X_test)\n",
    "test_accuracy = np.sum(y_pred==Y_test)/len(Y_test)\n",
    "print(\"test accuracy\",test_accuracy)"
   ]
  },
  {
   "cell_type": "code",
   "execution_count": 14,
   "metadata": {},
   "outputs": [
    {
     "data": {
      "text/plain": [
       "(250,)"
      ]
     },
     "execution_count": 14,
     "metadata": {},
     "output_type": "execute_result"
    }
   ],
   "source": [
    "np.shape(Y_test)"
   ]
  },
  {
   "cell_type": "markdown",
   "metadata": {},
   "source": [
    "## apply LSTM to synthetic data"
   ]
  },
  {
   "cell_type": "code",
   "execution_count": 15,
   "metadata": {},
   "outputs": [
    {
     "data": {
      "image/png": "[encoded data removed]",
      "text/plain": [
       "<Figure size 1800x360 with 3 Axes>"
      ]
     },
     "metadata": {
      "needs_background": "light"
     },
     "output_type": "display_data"
    },
    {
     "name": "stdout",
     "output_type": "stream",
     "text": [
      "(87, 100)\n",
      "(1000,)\n"
     ]
    }
   ],
   "source": [
    "# load and vectorize synthetic data with glove\n",
    "mock_data = pd.read_csv(\"mockdata.csv\", engine='python')\n",
    "topic2num = {\"CS\": 0, \"Civil\":1, \"MAE\":2, \"ECE\":3, \"Psychology\":4, \"Biochemistry\":5,\"Medical\":6}\n",
    "mock_data['Domain_No'] = mock_data.Domain.map(topic2num)\n",
    "mock_data.head()\n",
    "\n",
    "abstract_lemmatized, df= tokenize_prepare(mock_data)\n",
    "n_document = 1000\n",
    "n_topics = 7\n",
    "mockX = applyGlove_corpus(abstract_lemmatized,n_document,n_topics)\n",
    "# split into training and testing data\n",
    "mockY = np.array(df_paper.Domain_No[:n_document])\n",
    "mockX_train, mockX_test, mockY_train, mockY_test = train_test_split(mockX, mockY,test_size=0.25,)\n",
    "print(np.shape(mockY))"
   ]
  },
  {
   "cell_type": "code",
   "execution_count": 19,
   "metadata": {},
   "outputs": [
    {
     "name": "stdout",
     "output_type": "stream",
     "text": [
      "niters 500\n",
      "torch.Size([750, 123, 100])\n"
     ]
    },
    {
     "name": "stderr",
     "output_type": "stream",
     "text": [
      "/tmp/ipykernel_32667/3464648344.py:36: UserWarning: Implicit dimension choice for softmax has been deprecated. Change the call to include dim=X as an argument.\n",
      "  out = self.softmax(linearout)\n"
     ]
    },
    {
     "name": "stdout",
     "output_type": "stream",
     "text": [
      "0 iteration: train loss 1.945, train accuracy 0.136\n",
      "1 iteration: train loss 1.933, train accuracy 0.308\n",
      "2 iteration: train loss 1.909, train accuracy 0.308\n",
      "3 iteration: train loss 1.871, train accuracy 0.308\n",
      "4 iteration: train loss 1.857, train accuracy 0.308\n",
      "5 iteration: train loss 1.857, train accuracy 0.308\n",
      "6 iteration: train loss 1.857, train accuracy 0.308\n",
      "7 iteration: train loss 1.857, train accuracy 0.308\n",
      "8 iteration: train loss 1.857, train accuracy 0.308\n",
      "9 iteration: train loss 1.857, train accuracy 0.308\n",
      "10 iteration: train loss 1.857, train accuracy 0.308\n",
      "11 iteration: train loss 1.857, train accuracy 0.308\n",
      "12 iteration: train loss 1.857, train accuracy 0.308\n",
      "13 iteration: train loss 1.857, train accuracy 0.308\n",
      "14 iteration: train loss 1.857, train accuracy 0.308\n",
      "15 iteration: train loss 1.857, train accuracy 0.308\n",
      "16 iteration: train loss 1.857, train accuracy 0.308\n",
      "17 iteration: train loss 1.857, train accuracy 0.308\n",
      "18 iteration: train loss 1.857, train accuracy 0.308\n",
      "19 iteration: train loss 1.857, train accuracy 0.308\n",
      "20 iteration: train loss 1.857, train accuracy 0.308\n",
      "21 iteration: train loss 1.857, train accuracy 0.308\n",
      "22 iteration: train loss 1.857, train accuracy 0.308\n",
      "23 iteration: train loss 1.857, train accuracy 0.308\n",
      "24 iteration: train loss 1.857, train accuracy 0.308\n",
      "25 iteration: train loss 1.857, train accuracy 0.308\n",
      "26 iteration: train loss 1.857, train accuracy 0.308\n",
      "27 iteration: train loss 1.857, train accuracy 0.308\n"
     ]
    },
    {
     "ename": "KeyboardInterrupt",
     "evalue": "",
     "output_type": "error",
     "traceback": [
      "\u001b[0;31m---------------------------------------------------------------------------\u001b[0m",
      "\u001b[0;31mKeyboardInterrupt\u001b[0m                         Traceback (most recent call last)",
      "\u001b[0;32m/tmp/ipykernel_32667/2550590911.py\u001b[0m in \u001b[0;36m<module>\u001b[0;34m\u001b[0m\n\u001b[1;32m      1\u001b[0m \u001b[0mmockdata_net\u001b[0m \u001b[0;34m=\u001b[0m \u001b[0mmyBi_LSTM\u001b[0m\u001b[0;34m(\u001b[0m\u001b[0membedding_dim\u001b[0m\u001b[0;34m=\u001b[0m\u001b[0membedding_dim\u001b[0m\u001b[0;34m,\u001b[0m\u001b[0mhidden_dim\u001b[0m\u001b[0;34m=\u001b[0m\u001b[0;36m50\u001b[0m\u001b[0;34m,\u001b[0m\u001b[0moutput_dim\u001b[0m\u001b[0;34m=\u001b[0m\u001b[0mn_topics\u001b[0m\u001b[0;34m)\u001b[0m\u001b[0;34m\u001b[0m\u001b[0;34m\u001b[0m\u001b[0m\n\u001b[0;32m----> 2\u001b[0;31m \u001b[0mmockdata_net\u001b[0m\u001b[0;34m.\u001b[0m\u001b[0mtrain\u001b[0m\u001b[0;34m(\u001b[0m\u001b[0mmockX_train\u001b[0m\u001b[0;34m,\u001b[0m\u001b[0mmockY_train\u001b[0m\u001b[0;34m,\u001b[0m\u001b[0mn_iters\u001b[0m\u001b[0;34m=\u001b[0m\u001b[0;36m500\u001b[0m\u001b[0;34m)\u001b[0m\u001b[0;34m\u001b[0m\u001b[0;34m\u001b[0m\u001b[0m\n\u001b[0m\u001b[1;32m      3\u001b[0m \u001b[0mmockdata_net\u001b[0m\u001b[0;34m.\u001b[0m\u001b[0mplot_training_progress\u001b[0m\u001b[0;34m(\u001b[0m\u001b[0;34m)\u001b[0m\u001b[0;34m\u001b[0m\u001b[0;34m\u001b[0m\u001b[0m\n",
      "\u001b[0;32m/tmp/ipykernel_32667/3464648344.py\u001b[0m in \u001b[0;36mtrain\u001b[0;34m(self, X, Y, n_iters)\u001b[0m\n\u001b[1;32m     65\u001b[0m         \u001b[0;32mfor\u001b[0m \u001b[0m_\u001b[0m \u001b[0;32min\u001b[0m \u001b[0mrange\u001b[0m\u001b[0;34m(\u001b[0m\u001b[0mn_iters\u001b[0m\u001b[0;34m)\u001b[0m\u001b[0;34m:\u001b[0m\u001b[0;34m\u001b[0m\u001b[0;34m\u001b[0m\u001b[0m\n\u001b[1;32m     66\u001b[0m             \u001b[0my_hat\u001b[0m \u001b[0;34m=\u001b[0m \u001b[0mself\u001b[0m\u001b[0;34m.\u001b[0m\u001b[0mforward\u001b[0m\u001b[0;34m(\u001b[0m\u001b[0mX_t\u001b[0m\u001b[0;34m)\u001b[0m\u001b[0;34m\u001b[0m\u001b[0;34m\u001b[0m\u001b[0m\n\u001b[0;32m---> 67\u001b[0;31m             \u001b[0mloss\u001b[0m \u001b[0;34m=\u001b[0m \u001b[0mself\u001b[0m\u001b[0;34m.\u001b[0m\u001b[0mupdate_network\u001b[0m\u001b[0;34m(\u001b[0m\u001b[0my_hat\u001b[0m\u001b[0;34m,\u001b[0m \u001b[0mY_t\u001b[0m\u001b[0;34m)\u001b[0m\u001b[0;34m\u001b[0m\u001b[0;34m\u001b[0m\u001b[0m\n\u001b[0m\u001b[1;32m     68\u001b[0m             \u001b[0my_hat_class\u001b[0m \u001b[0;34m=\u001b[0m \u001b[0mtorch\u001b[0m\u001b[0;34m.\u001b[0m\u001b[0margmax\u001b[0m\u001b[0;34m(\u001b[0m\u001b[0my_hat\u001b[0m\u001b[0;34m,\u001b[0m\u001b[0mdim\u001b[0m\u001b[0;34m=\u001b[0m\u001b[0;36m1\u001b[0m\u001b[0;34m)\u001b[0m \u001b[0;31m# max probabilty -> text category\u001b[0m\u001b[0;34m\u001b[0m\u001b[0;34m\u001b[0m\u001b[0m\n\u001b[1;32m     69\u001b[0m             \u001b[0maccuracy\u001b[0m \u001b[0;34m=\u001b[0m \u001b[0mself\u001b[0m\u001b[0;34m.\u001b[0m\u001b[0mcalculate_accuracy\u001b[0m\u001b[0;34m(\u001b[0m\u001b[0my_hat_class\u001b[0m\u001b[0;34m,\u001b[0m \u001b[0mY_t\u001b[0m\u001b[0;34m)\u001b[0m\u001b[0;34m\u001b[0m\u001b[0;34m\u001b[0m\u001b[0m\n",
      "\u001b[0;32m/tmp/ipykernel_32667/3464648344.py\u001b[0m in \u001b[0;36mupdate_network\u001b[0;34m(self, y_hat, Y_t)\u001b[0m\n\u001b[1;32m     42\u001b[0m         \u001b[0mself\u001b[0m\u001b[0;34m.\u001b[0m\u001b[0moptimizer\u001b[0m\u001b[0;34m.\u001b[0m\u001b[0mzero_grad\u001b[0m\u001b[0;34m(\u001b[0m\u001b[0;34m)\u001b[0m \u001b[0;31m#restart losses from last step, so error won't accumulate\u001b[0m\u001b[0;34m\u001b[0m\u001b[0;34m\u001b[0m\u001b[0m\n\u001b[1;32m     43\u001b[0m         \u001b[0mloss\u001b[0m \u001b[0;34m=\u001b[0m \u001b[0mself\u001b[0m\u001b[0;34m.\u001b[0m\u001b[0mloss_func\u001b[0m\u001b[0;34m(\u001b[0m\u001b[0my_hat\u001b[0m\u001b[0;34m,\u001b[0m \u001b[0mY_t\u001b[0m\u001b[0;34m)\u001b[0m \u001b[0;31m#compute loss by calling loss_func method\u001b[0m\u001b[0;34m\u001b[0m\u001b[0;34m\u001b[0m\u001b[0m\n\u001b[0;32m---> 44\u001b[0;31m         \u001b[0mloss\u001b[0m\u001b[0;34m.\u001b[0m\u001b[0mbackward\u001b[0m\u001b[0;34m(\u001b[0m\u001b[0;34m)\u001b[0m\u001b[0;34m\u001b[0m\u001b[0;34m\u001b[0m\u001b[0m\n\u001b[0m\u001b[1;32m     45\u001b[0m         \u001b[0mself\u001b[0m\u001b[0;34m.\u001b[0m\u001b[0moptimizer\u001b[0m\u001b[0;34m.\u001b[0m\u001b[0mstep\u001b[0m\u001b[0;34m(\u001b[0m\u001b[0;34m)\u001b[0m\u001b[0;34m\u001b[0m\u001b[0;34m\u001b[0m\u001b[0m\n\u001b[1;32m     46\u001b[0m         \u001b[0mself\u001b[0m\u001b[0;34m.\u001b[0m\u001b[0mtraining_loss\u001b[0m\u001b[0;34m.\u001b[0m\u001b[0mappend\u001b[0m\u001b[0;34m(\u001b[0m\u001b[0mloss\u001b[0m\u001b[0;34m.\u001b[0m\u001b[0mitem\u001b[0m\u001b[0;34m(\u001b[0m\u001b[0;34m)\u001b[0m\u001b[0;34m)\u001b[0m\u001b[0;34m\u001b[0m\u001b[0;34m\u001b[0m\u001b[0m\n",
      "\u001b[0;32m~/.nlp_env/lib/python3.8/site-packages/torch/_tensor.py\u001b[0m in \u001b[0;36mbackward\u001b[0;34m(self, gradient, retain_graph, create_graph, inputs)\u001b[0m\n\u001b[1;32m    253\u001b[0m                 \u001b[0mcreate_graph\u001b[0m\u001b[0;34m=\u001b[0m\u001b[0mcreate_graph\u001b[0m\u001b[0;34m,\u001b[0m\u001b[0;34m\u001b[0m\u001b[0;34m\u001b[0m\u001b[0m\n\u001b[1;32m    254\u001b[0m                 inputs=inputs)\n\u001b[0;32m--> 255\u001b[0;31m         \u001b[0mtorch\u001b[0m\u001b[0;34m.\u001b[0m\u001b[0mautograd\u001b[0m\u001b[0;34m.\u001b[0m\u001b[0mbackward\u001b[0m\u001b[0;34m(\u001b[0m\u001b[0mself\u001b[0m\u001b[0;34m,\u001b[0m \u001b[0mgradient\u001b[0m\u001b[0;34m,\u001b[0m \u001b[0mretain_graph\u001b[0m\u001b[0;34m,\u001b[0m \u001b[0mcreate_graph\u001b[0m\u001b[0;34m,\u001b[0m \u001b[0minputs\u001b[0m\u001b[0;34m=\u001b[0m\u001b[0minputs\u001b[0m\u001b[0;34m)\u001b[0m\u001b[0;34m\u001b[0m\u001b[0;34m\u001b[0m\u001b[0m\n\u001b[0m\u001b[1;32m    256\u001b[0m \u001b[0;34m\u001b[0m\u001b[0m\n\u001b[1;32m    257\u001b[0m     \u001b[0;32mdef\u001b[0m \u001b[0mregister_hook\u001b[0m\u001b[0;34m(\u001b[0m\u001b[0mself\u001b[0m\u001b[0;34m,\u001b[0m \u001b[0mhook\u001b[0m\u001b[0;34m)\u001b[0m\u001b[0;34m:\u001b[0m\u001b[0;34m\u001b[0m\u001b[0;34m\u001b[0m\u001b[0m\n",
      "\u001b[0;32m~/.nlp_env/lib/python3.8/site-packages/torch/autograd/__init__.py\u001b[0m in \u001b[0;36mbackward\u001b[0;34m(tensors, grad_tensors, retain_graph, create_graph, grad_variables, inputs)\u001b[0m\n\u001b[1;32m    145\u001b[0m         \u001b[0mretain_graph\u001b[0m \u001b[0;34m=\u001b[0m \u001b[0mcreate_graph\u001b[0m\u001b[0;34m\u001b[0m\u001b[0;34m\u001b[0m\u001b[0m\n\u001b[1;32m    146\u001b[0m \u001b[0;34m\u001b[0m\u001b[0m\n\u001b[0;32m--> 147\u001b[0;31m     Variable._execution_engine.run_backward(\n\u001b[0m\u001b[1;32m    148\u001b[0m         \u001b[0mtensors\u001b[0m\u001b[0;34m,\u001b[0m \u001b[0mgrad_tensors_\u001b[0m\u001b[0;34m,\u001b[0m \u001b[0mretain_graph\u001b[0m\u001b[0;34m,\u001b[0m \u001b[0mcreate_graph\u001b[0m\u001b[0;34m,\u001b[0m \u001b[0minputs\u001b[0m\u001b[0;34m,\u001b[0m\u001b[0;34m\u001b[0m\u001b[0;34m\u001b[0m\u001b[0m\n\u001b[1;32m    149\u001b[0m         allow_unreachable=True, accumulate_grad=True)  # allow_unreachable flag\n",
      "\u001b[0;31mKeyboardInterrupt\u001b[0m: "
     ]
    }
   ],
   "source": [
    "mockdata_net = myBi_LSTM(embedding_dim=embedding_dim,hidden_dim=50,output_dim=n_topics)\n",
    "mockdata_net.train(mockX_train,mockY_train,n_iters=500)\n",
    "mockdata_net.plot_training_progress()"
   ]
  },
  {
   "cell_type": "code",
   "execution_count": 18,
   "metadata": {},
   "outputs": [
    {
     "name": "stderr",
     "output_type": "stream",
     "text": [
      "/tmp/ipykernel_32667/3464648344.py:36: UserWarning: Implicit dimension choice for softmax has been deprecated. Change the call to include dim=X as an argument.\n",
      "  out = self.softmax(linearout)\n"
     ]
    },
    {
     "name": "stdout",
     "output_type": "stream",
     "text": [
      "test accuracy 0.328\n"
     ]
    }
   ],
   "source": [
    "mockY_pred= mockdata_net.predict(mockX_test)\n",
    "mock_test_accuracy = np.sum(mockY_pred==mockY_test)/len(mockY_test)\n",
    "print(\"test accuracy\",mock_test_accuracy)"
   ]
  }
 ],
 "metadata": {
  "interpreter": {
   "hash": "b10cdd4904fdd44c62b07c72ba64e3113d365136411c6c9d777e955188ee8c1b"
  },
  "kernelspec": {
   "display_name": "Python 3.8.10 64-bit ('.nlp_env': venv)",
   "language": "python",
   "name": "python3"
  },
  "language_info": {
   "codemirror_mode": {
    "name": "ipython",
    "version": 3
   },
   "file_extension": ".py",
   "mimetype": "text/x-python",
   "name": "python",
   "nbconvert_exporter": "python",
   "pygments_lexer": "ipython3",
   "version": "3.8.10"
  },
  "orig_nbformat": 4
 },
 "nbformat": 4,
 "nbformat_minor": 2
}
