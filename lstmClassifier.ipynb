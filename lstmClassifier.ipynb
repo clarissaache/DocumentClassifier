{
 "cells": [
  {
   "cell_type": "markdown",
   "metadata": {},
   "source": [
    "# Neural Network Approach for Document Categorization\n",
    "\n",
    "use bi-directional LSTM with self attention"
   ]
  },
  {
   "cell_type": "code",
   "execution_count": null,
   "metadata": {},
   "outputs": [
    {
     "name": "stderr",
     "output_type": "stream",
     "text": [
      "[nltk_data] Downloading package stopwords to /home/sxia1/nltk_data...\n",
      "[nltk_data]   Package stopwords is already up-to-date!\n"
     ]
    }
   ],
   "source": [
    "import re \n",
    "import string\n",
    "import numpy as np\n",
    "import pandas as pd\n",
    "import matplotlib.pyplot as plt\n",
    "# nltk\n",
    "import nltk\n",
    "nltk.download('stopwords')\n",
    "from nltk.corpus import stopwords\n",
    "from nltk.stem import WordNetLemmatizer\n",
    "# Gensim\n",
    "import gensim\n",
    "\n",
    "import matplotlib.pyplot as plt\n",
    "import numpy as np\n",
    "from sklearn.model_selection import train_test_split\n",
    "import torch\n",
    "import torch.nn as nn"
   ]
  },
  {
   "cell_type": "markdown",
   "metadata": {},
   "source": [
    "## given a corpus clean each text in the collection"
   ]
  },
  {
   "cell_type": "code",
   "execution_count": 3,
   "metadata": {},
   "outputs": [],
   "source": [
    "#helper function for lemmatization\n",
    "def get_wordnet_pos(tag):\n",
    "\n",
    "    if tag.startswith('J'):\n",
    "        return 'a'\n",
    "    elif tag.startswith('V'):\n",
    "        return 'v'\n",
    "    elif tag.startswith('R'):\n",
    "        return 'r'\n",
    "    else:\n",
    "        return 'n' #if not belong to any, default is noun, inclunding N\n",
    "\n",
    "def lemmatize_with_pos(abstract_toekenized):\n",
    "    abstract_tagged = nltk.pos_tag(abstract_toekenized)\n",
    "    tags = list(map(lambda token: get_wordnet_pos(token[1]),abstract_tagged))\n",
    "    abstract_lemmatized = list(map(lemmatizer.lemmatize,abstract_toekenized,tags))\n",
    "    return abstract_lemmatized\n",
    "\n",
    "\n",
    "#import nltk lemmatizer\n",
    "lemmatizer = WordNetLemmatizer()\n",
    "\n",
    "def prepare_token(text_tokenized_list):\n",
    "    # remove stopwords and puntuation, \n",
    "    text_stopwords_removed = list(map(lambda abstract: list(filter(lambda word: word not in stop_words, abstract)),text_tokenized_list))\n",
    "    # lemmatize\n",
    "    abstract_lemmatized = list(map(lemmatize_with_pos,text_stopwords_removed))\n",
    "    return abstract_lemmatized\n",
    "\n",
    "def tokenize_prepare(df):\n",
    "    # remove puncutations and number, then tokenize each text\n",
    "    text_tokenized = list(map(lambda abstract_i:nltk.word_tokenize(re.sub(r'[^A-Za-z\\s]','',abstract_i.lower())), df.Abstract))\n",
    "    len(text_tokenized)\n",
    "    df['n_words']=list(map(lambda x:len(x),text_tokenized))\n",
    "    #come back to adjust the threshold value: (cnt(a, b) - min_count) * N / (cnt(a) * cnt(b)) > threshold\n",
    "    # bigram_freeze = bigram.freeze()\n",
    "    abstract_lemmatized = prepare_token(text_tokenized)\n",
    "    df['n_words_removed']=list(map(lambda x:len(x),abstract_lemmatized))\n",
    "    # plot data\n",
    "    fig,axs = plt.subplots(1,4,figsize=(25,5))\n",
    "    categories = df.Domain.value_counts().index\n",
    "    counts = df.Domain.value_counts().values\n",
    "    axs[0].bar(categories, counts, width=0.5)\n",
    "    axs[0].set_title(\"Domain Frquency\")\n",
    "    categories = df.area.value_counts().index\n",
    "    counts = df.area.value_counts().values\n",
    "    axs[1].bar(categories, counts, width=0.5)\n",
    "    axs[1].set_title(\"Area Frquency\")\n",
    "    axs[2].hist(df.n_words)\n",
    "    axs[2].set_title(\"abstract word count\")\n",
    "    axs[3].hist(df.n_words_removed,bins=30)\n",
    "    axs[3].set_title(\"abstract without stop words word count\")\n",
    "\n",
    "    plt.show()\n",
    "    return abstract_lemmatized,df\n",
    "\n"
   ]
  },
  {
   "cell_type": "code",
   "execution_count": 10,
   "metadata": {},
   "outputs": [
    {
     "name": "stdout",
     "output_type": "stream",
     "text": [
      "46985\n",
      "['CS ' 'Medical ' 'Civil ' 'ECE ' 'biochemistry ' 'MAE ' 'Psychology  ']\n"
     ]
    },
    {
     "name": "stderr",
     "output_type": "stream",
     "text": [
      "/tmp/ipykernel_27035/3351567712.py:8: SettingWithCopyWarning: \n",
      "A value is trying to be set on a copy of a slice from a DataFrame.\n",
      "Try using .loc[row_indexer,col_indexer] = value instead\n",
      "\n",
      "See the caveats in the documentation: https://pandas.pydata.org/pandas-docs/stable/user_guide/indexing.html#returning-a-view-versus-a-copy\n",
      "  df_paper['Domain_No'] = df_paper.Domain.map(topic2num)\n",
      "/tmp/ipykernel_27035/4293104228.py:34: SettingWithCopyWarning: \n",
      "A value is trying to be set on a copy of a slice from a DataFrame.\n",
      "Try using .loc[row_indexer,col_indexer] = value instead\n",
      "\n",
      "See the caveats in the documentation: https://pandas.pydata.org/pandas-docs/stable/user_guide/indexing.html#returning-a-view-versus-a-copy\n",
      "  df['n_words']=list(map(lambda x:len(x),text_tokenized))\n",
      "/tmp/ipykernel_27035/4293104228.py:38: SettingWithCopyWarning: \n",
      "A value is trying to be set on a copy of a slice from a DataFrame.\n",
      "Try using .loc[row_indexer,col_indexer] = value instead\n",
      "\n",
      "See the caveats in the documentation: https://pandas.pydata.org/pandas-docs/stable/user_guide/indexing.html#returning-a-view-versus-a-copy\n",
      "  df['n_words_removed']=list(map(lambda x:len(x),abstract_lemmatized))\n"
     ]
    },
    {
     "data": {
      "image/png": "[encoded data removed]",
      "text/plain": [
       "<Figure size 1800x360 with 4 Axes>"
      ]
     },
     "metadata": {
      "needs_background": "light"
     },
     "output_type": "display_data"
    }
   ],
   "source": [
    "stop_words = stopwords.words('english')\n",
    "# read-in pre-labled research apper abstracts\n",
    "df_paper_raw = pd.read_excel(\"data/WebOfScienceData.xlsx\",sheet_name=\"abstracts\")\n",
    "print(len(df_paper_raw))\n",
    "df_paper = df_paper_raw.head(2000) #use first 2000\n",
    "print(df_paper.Domain.unique())\n",
    "topic2num = {'CS ': 0, 'Medical ': 1, 'Civil ': 2, 'ECE ': 3, 'biochemistry ': 4, 'MAE ': 5, 'Psychology  ': 6}\n",
    "df_paper['Domain_No'] = df_paper.Domain.map(topic2num)\n",
    "\n",
    "abstract_lemmatized, df= tokenize_prepare(df_paper)\n",
    "\n"
   ]
  },
  {
   "cell_type": "code",
   "execution_count": 11,
   "metadata": {},
   "outputs": [
    {
     "name": "stdout",
     "output_type": "stream",
     "text": [
      "['use', 'model', 'system', 'result', 'study', 'method', 'propose', 'show', 'control', 'c', 'present', 'base', 'design', 'analysis', 'high', 'cell', 'data', 'also', 'patient', 'effect', 'increase', 'two', 'different', 'elsevier', 'time', 'process', 'develop', 'right', 'provide', 'new', 'paper', 'include', 'reserve', 'power', 'approach', 'compare', 'performance', 'test', 'algorithm', 'level', 'low', 'measure', 'structure', 'well', 'energy', 'condition', 'find', 'function', 'one', 'may', 'parameter', 'application', 'simulation', 'current', 'signal']\n"
     ]
    },
    {
     "data": {
      "image/png": "[encoded data removed]",
      "text/plain": [
       "<Figure size 3960x504 with 1 Axes>"
      ]
     },
     "metadata": {
      "needs_background": "light"
     },
     "output_type": "display_data"
    },
    {
     "name": "stdout",
     "output_type": "stream",
     "text": [
      "['low', 'measure', 'structure', 'well', 'condition', 'energy', 'find', 'function', 'one', 'may', 'parameter', 'application', 'simulation', 'current', 'signal', 'obtain', 'group', 'frequency', 'change', 'dynamic']\n"
     ]
    },
    {
     "data": {
      "image/png": "[encoded data removed]",
      "text/plain": [
       "<Figure size 1440x504 with 1 Axes>"
      ]
     },
     "metadata": {
      "needs_background": "light"
     },
     "output_type": "display_data"
    },
    {
     "name": "stderr",
     "output_type": "stream",
     "text": [
      "/tmp/ipykernel_27035/3453406941.py:22: SettingWithCopyWarning: \n",
      "A value is trying to be set on a copy of a slice from a DataFrame.\n",
      "Try using .loc[row_indexer,col_indexer] = value instead\n",
      "\n",
      "See the caveats in the documentation: https://pandas.pydata.org/pandas-docs/stable/user_guide/indexing.html#returning-a-view-versus-a-copy\n",
      "  df_paper['n_words_lemmatize_clean']=list(map(lambda x:len(x),abstract_lemmatized_cleaned))\n"
     ]
    },
    {
     "data": {
      "text/plain": [
       "Text(200, 150, 'median length: 92')"
      ]
     },
     "execution_count": 11,
     "metadata": {},
     "output_type": "execute_result"
    },
    {
     "data": {
      "image/png": "[encoded data removed]",
      "text/plain": [
       "<Figure size 432x288 with 1 Axes>"
      ]
     },
     "metadata": {
      "needs_background": "light"
     },
     "output_type": "display_data"
    }
   ],
   "source": [
    "# remove popular words??\n",
    "def check_frequent_words(corpus,top_n):\n",
    "    all_corpus_together=np.concatenate(corpus)\n",
    "    (word, counts) = np.unique(all_corpus_together, return_counts=True)\n",
    "    frequencies = np.asarray((word, counts)).T\n",
    "    count_df = pd.DataFrame(data=frequencies,columns = ['word','freq'])\n",
    "    count_df.freq = count_df.freq.astype(int)\n",
    "    count_df.sort_values(by=['freq'],axis=0,ascending=False,ignore_index=True,inplace=True)\n",
    "    print(list(count_df.head(top_n).word))\n",
    "    plt.figure(figsize=(top_n,7))\n",
    "    plt.bar(count_df[:top_n].word,height=count_df[:top_n].freq,width=0.6,align='center')\n",
    "    plt.title(\"most frequent words - should consider removeing them\",fontsize=20)\n",
    "    plt.show()\n",
    "    return count_df\n",
    "\n",
    "count_df =check_frequent_words(abstract_lemmatized,55)\n",
    "\n",
    "# remove top 50 most frequent words\n",
    "top_n = list(count_df[:40].word)\n",
    "abstract_lemmatized_cleaned = list(map(lambda abstract: list(filter(lambda word: word not in top_n, abstract)),abstract_lemmatized))\n",
    "check_frequent_words(abstract_lemmatized_cleaned,top_n=20)\n",
    "df_paper['n_words_lemmatize_clean']=list(map(lambda x:len(x),abstract_lemmatized_cleaned))\n",
    "median_count = np.median(df_paper.n_words_lemmatize_clean)\n",
    "plt.hist(df_paper.n_words_lemmatize_clean,bins=30)\n",
    "plt.title(\"abstract without stop words word count\")\n",
    "plt.text(200,150,\"median length: %d\"%median_count,fontsize=10)"
   ]
  },
  {
   "cell_type": "code",
   "execution_count": 6,
   "metadata": {},
   "outputs": [
    {
     "data": {
      "text/plain": [
       "[86, 126, 67, 76, 113, 107, 80, 78, 122, 111]"
      ]
     },
     "execution_count": 6,
     "metadata": {},
     "output_type": "execute_result"
    }
   ],
   "source": [
    "list(map(lambda x:len(x),abstract_lemmatized_cleaned))"
   ]
  },
  {
   "cell_type": "markdown",
   "metadata": {},
   "source": [
    "## Building our Nerual Network\n",
    "1. define and train word2vec from Gensim\n",
    "2. apply word2vec on our documents \n",
    "3. input to the nerual network: vectorized document using word2vec\n",
    "4. output: distribution of topics (a vector with length = # topics)\n",
    "\n",
    "5. cross entropy function:"
   ]
  },
  {
   "cell_type": "code",
   "execution_count": 5,
   "metadata": {},
   "outputs": [],
   "source": [
    "import gensim.downloader\n",
    "from gensim.models import Word2Vec\n",
    "\n",
    "glove_vectors = gensim.downloader.load('glove-wiki-gigaword-100')"
   ]
  },
  {
   "cell_type": "code",
   "execution_count": 6,
   "metadata": {},
   "outputs": [
    {
     "name": "stdout",
     "output_type": "stream",
     "text": [
      "(100,)\n",
      "(100,)\n"
     ]
    }
   ],
   "source": [
    "print(np.shape(glove_vectors['medicine']))\n",
    "print(np.shape(glove_vectors['water']))\n",
    "#word vector/input dim = 100\n",
    "global embedding_dim\n",
    "embedding_dim = np.shape(glove_vectors['water'])[0]"
   ]
  },
  {
   "cell_type": "code",
   "execution_count": 55,
   "metadata": {},
   "outputs": [
    {
     "name": "stdout",
     "output_type": "stream",
     "text": [
      "# unseen words: 8\n",
      "(170, 100)\n"
     ]
    }
   ],
   "source": [
    "# apply word2vec and vectorize corpus\n",
    "\n",
    "text_i = abstract_lemmatized_cleaned[0]\n",
    "def embed_w_word2vec(word):\n",
    "    try:\n",
    "        return glove_vectors[word]\n",
    "    except:\n",
    "        return np.zeros(embedding_dim) #unseen word -> zeros \n",
    "\n",
    "text_embedded = np.array(list(map(embed_w_word2vec, text_i)))\n",
    "print(\"# unseen words:\",np.sum(np.sum(text_embedded,axis=1)==0))\n",
    "\n",
    "n_document = 100\n",
    "n_topics = 7\n",
    "corpus_embedded = list(map(lambda text_i: np.asarray(list(map(embed_w_word2vec, text_i))),abstract_lemmatized_cleaned[:n_document]))\n",
    "print(np.shape(corpus_embedded[1]))\n",
    "# one-hot encoding for topic\n",
    "topic_vec = np.zeros((n_document,n_topics))\n",
    "for i in range(n_document):\n",
    "    topic_vec[i][df_paper.Domain_No[i]]= 1\n",
    "\n",
    "# split into training and testing data\n",
    "X = corpus_embedded\n",
    "Y = df_paper.Domain_No[:n_document]\n",
    "X_train, X_test, Y_train, Y_test = train_test_split(X, Y,test_size=0.25,)"
   ]
  },
  {
   "cell_type": "code",
   "execution_count": 7,
   "metadata": {},
   "outputs": [],
   "source": [
    "class myBi_LSTM():\n",
    "    def __init__(self, embedding_dim, hidden_dim,learning_rate=1e-2, device='cpu'):\n",
    "\n",
    "\n",
    "        self.loss_func = nn.CrossEntropyLoss() # loss function\n",
    "\n",
    "        \"\"\"Initialize.\"\"\"\n",
    "        self.device = device\n",
    "        self.learning_rate = learning_rate\n",
    "\n",
    "        self.embedding_dim = embedding_dim\n",
    "        self.hidden_dim = hidden_dim #how to choose hidden_dim? hidden_dim = # of topics\n",
    "        self.net = nn.Sequential(\n",
    "            nn.LSTM(embedding_dim, self.hidden_dim,bidirectional=True,batch_first=True), #batch_first = True means using all documents to train once\n",
    "            nn.Softmax() #just scaling, input dim = output dim\n",
    "        )\n",
    "\n",
    "        self.loss_func = nn.CrossEntropyLoss()\n",
    "\n",
    "        if self.device == 'cuda':\n",
    "            self.net.cuda() #net is for nueral network\n",
    "\n",
    "        #constructing optimizers, adam algorithm\n",
    "        self.optimizer = torch.optim.Adam(\n",
    "            self.net.parameters(), \n",
    "            lr=self.learning_rate,\n",
    "        )\n",
    "\n",
    "\n",
    "        super().__init__()  \n",
    "\n",
    "    def predict(self, X_t):\n",
    "        \"\"\"Predict.\"\"\"\n",
    "        return self.net(X_t) #model(x) gives the predicted value\n",
    "\n",
    "    def update_network(self, y_hat, Y_t):\n",
    "        \"\"\"Update weights.\"\"\"\n",
    "        self.optimizer.zero_grad() #restart losses from last step, so error won't accumulate\n",
    "        loss = self.loss_func(y_hat, Y_t) #compute loss by calling loss_func method\n",
    "        loss.backward()\n",
    "        self.optimizer.step()\n",
    "        self.training_loss.append(loss.item())\n",
    "\n",
    "    def calculate_accuracy(self, y_hat_class, Y):\n",
    "        \"\"\"Calculate accuracy.\"\"\"\n",
    "        return np.sum(Y.reshape(-1, 1) == y_hat_class) / len(Y)\n",
    "\n",
    "    def train(self, X, Y, n_iters=1000):\n",
    "        \"\"\"Train network.\"\"\"\n",
    "        print(\"here\")\n",
    "        self.training_loss = []\n",
    "        self.training_accuracy = []\n",
    "        print(np.shape(X))\n",
    "        print(np.shape(Y))\n",
    "\n",
    "        X_t = torch.FloatTensor(X).to(device=self.device) \n",
    "        #this is just writing our training np narray into tensor datatype. Tensor can run on both CPU and CPU(cuda)\n",
    "        Y = Y.reshape(-1, 1)\n",
    "        Y_t = torch.FloatTensor(Y).to(device=self.device)\n",
    "\n",
    "        for _ in range(n_iters):\n",
    "            y_hat = self.predict(X_t)\n",
    "            self.update_network(y_hat, Y_t)\n",
    "            y_hat_class = np.argmax(y_hat) # max probabilty -> text category\n",
    "            accuracy = self.calculate_accuracy(y_hat_class, Y)\n",
    "            self.training_accuracy.append(accuracy)\n",
    "\n",
    "    def plot_training_progress(self):\n",
    "        \"\"\"Plot training progress.\"\"\"\n",
    "        fig, ax = plt.subplots(2, 1, figsize=(12, 8))\n",
    "        ax[0].plot(self.training_loss)\n",
    "        ax[0].set_ylabel('Loss')\n",
    "        ax[0].set_title('Training Loss')\n",
    "\n",
    "        ax[1].plot(self.training_accuracy)\n",
    "        ax[1].set_ylabel('Classification Accuracy')\n",
    "        ax[1].set_title('Training Accuracy')\n",
    "\n",
    "        plt.tight_layout()\n",
    "        plt.show()"
   ]
  },
  {
   "cell_type": "code",
   "execution_count": 59,
   "metadata": {},
   "outputs": [
    {
     "name": "stderr",
     "output_type": "stream",
     "text": [
      "/tmp/ipykernel_27035/2889615265.py:1: VisibleDeprecationWarning: Creating an ndarray from ragged nested sequences (which is a list-or-tuple of lists-or-tuples-or ndarrays with different lengths or shapes) is deprecated. If you meant to do this, you must specify 'dtype=object' when creating the ndarray.\n",
      "  x = np.array([corpus_embedded[0],corpus_embedded[2]])\n"
     ]
    },
    {
     "data": {
      "text/plain": [
       "(2,)"
      ]
     },
     "execution_count": 59,
     "metadata": {},
     "output_type": "execute_result"
    }
   ],
   "source": [
    "x = np.array([corpus_embedded[0],corpus_embedded[2]])\n",
    "np.shape(x)\n"
   ]
  },
  {
   "cell_type": "code",
   "execution_count": 64,
   "metadata": {},
   "outputs": [],
   "source": [
    "x = np.random.rand(6,3,2)\n",
    "x_t = torch.FloatTensor(X_train[0]).to(device=\"cpu\")"
   ]
  },
  {
   "cell_type": "code",
   "execution_count": 62,
   "metadata": {},
   "outputs": [
    {
     "data": {
      "text/plain": [
       "numpy.ndarray"
      ]
     },
     "execution_count": 62,
     "metadata": {},
     "output_type": "execute_result"
    }
   ],
   "source": [
    "type(x[0])"
   ]
  },
  {
   "cell_type": "code",
   "execution_count": 91,
   "metadata": {},
   "outputs": [
    {
     "name": "stdout",
     "output_type": "stream",
     "text": [
      "here\n",
      "(75,)\n",
      "(75,)\n"
     ]
    },
    {
     "name": "stderr",
     "output_type": "stream",
     "text": [
      "/home/sxia1/.nlp_env/lib/python3.8/site-packages/numpy/core/fromnumeric.py:1970: VisibleDeprecationWarning: Creating an ndarray from ragged nested sequences (which is a list-or-tuple of lists-or-tuples-or ndarrays with different lengths or shapes) is deprecated. If you meant to do this, you must specify 'dtype=object' when creating the ndarray.\n",
      "  result = asarray(a).shape\n"
     ]
    },
    {
     "ename": "ValueError",
     "evalue": "expected sequence of length 66 at dim 1 (got 164)",
     "output_type": "error",
     "traceback": [
      "\u001b[0;31m---------------------------------------------------------------------------\u001b[0m",
      "\u001b[0;31mValueError\u001b[0m                                Traceback (most recent call last)",
      "\u001b[0;32m/tmp/ipykernel_22213/4267733694.py\u001b[0m in \u001b[0;36m<module>\u001b[0;34m\u001b[0m\n\u001b[1;32m      1\u001b[0m \u001b[0mnet\u001b[0m \u001b[0;34m=\u001b[0m \u001b[0mmyBi_LSTM\u001b[0m\u001b[0;34m(\u001b[0m\u001b[0membedding_dim\u001b[0m\u001b[0;34m=\u001b[0m\u001b[0membedding_dim\u001b[0m\u001b[0;34m,\u001b[0m\u001b[0mhidden_dim\u001b[0m\u001b[0;34m=\u001b[0m\u001b[0mn_topics\u001b[0m\u001b[0;34m)\u001b[0m\u001b[0;34m\u001b[0m\u001b[0;34m\u001b[0m\u001b[0m\n\u001b[0;32m----> 2\u001b[0;31m \u001b[0mnet\u001b[0m\u001b[0;34m.\u001b[0m\u001b[0mtrain\u001b[0m\u001b[0;34m(\u001b[0m\u001b[0mX_train\u001b[0m\u001b[0;34m,\u001b[0m\u001b[0mY_train\u001b[0m\u001b[0;34m)\u001b[0m\u001b[0;34m\u001b[0m\u001b[0;34m\u001b[0m\u001b[0m\n\u001b[0m",
      "\u001b[0;32m/tmp/ipykernel_22213/595698148.py\u001b[0m in \u001b[0;36mtrain\u001b[0;34m(self, X, Y, n_iters)\u001b[0m\n\u001b[1;32m     54\u001b[0m         \u001b[0mprint\u001b[0m\u001b[0;34m(\u001b[0m\u001b[0mnp\u001b[0m\u001b[0;34m.\u001b[0m\u001b[0mshape\u001b[0m\u001b[0;34m(\u001b[0m\u001b[0mY\u001b[0m\u001b[0;34m)\u001b[0m\u001b[0;34m)\u001b[0m\u001b[0;34m\u001b[0m\u001b[0;34m\u001b[0m\u001b[0m\n\u001b[1;32m     55\u001b[0m \u001b[0;34m\u001b[0m\u001b[0m\n\u001b[0;32m---> 56\u001b[0;31m         \u001b[0mX_t\u001b[0m \u001b[0;34m=\u001b[0m \u001b[0mtorch\u001b[0m\u001b[0;34m.\u001b[0m\u001b[0mFloatTensor\u001b[0m\u001b[0;34m(\u001b[0m\u001b[0mX\u001b[0m\u001b[0;34m)\u001b[0m\u001b[0;34m.\u001b[0m\u001b[0mto\u001b[0m\u001b[0;34m(\u001b[0m\u001b[0mdevice\u001b[0m\u001b[0;34m=\u001b[0m\u001b[0mself\u001b[0m\u001b[0;34m.\u001b[0m\u001b[0mdevice\u001b[0m\u001b[0;34m)\u001b[0m \u001b[0;31m#this is just writing our training np narray into tensor datatype\u001b[0m\u001b[0;34m\u001b[0m\u001b[0;34m\u001b[0m\u001b[0m\n\u001b[0m\u001b[1;32m     57\u001b[0m         \u001b[0mY\u001b[0m \u001b[0;34m=\u001b[0m \u001b[0mY\u001b[0m\u001b[0;34m.\u001b[0m\u001b[0mreshape\u001b[0m\u001b[0;34m(\u001b[0m\u001b[0;34m-\u001b[0m\u001b[0;36m1\u001b[0m\u001b[0;34m,\u001b[0m \u001b[0;36m1\u001b[0m\u001b[0;34m)\u001b[0m\u001b[0;34m\u001b[0m\u001b[0;34m\u001b[0m\u001b[0m\n\u001b[1;32m     58\u001b[0m         \u001b[0mY_t\u001b[0m \u001b[0;34m=\u001b[0m \u001b[0mtorch\u001b[0m\u001b[0;34m.\u001b[0m\u001b[0mFloatTensor\u001b[0m\u001b[0;34m(\u001b[0m\u001b[0mY\u001b[0m\u001b[0;34m)\u001b[0m\u001b[0;34m.\u001b[0m\u001b[0mto\u001b[0m\u001b[0;34m(\u001b[0m\u001b[0mdevice\u001b[0m\u001b[0;34m=\u001b[0m\u001b[0mself\u001b[0m\u001b[0;34m.\u001b[0m\u001b[0mdevice\u001b[0m\u001b[0;34m)\u001b[0m\u001b[0;34m\u001b[0m\u001b[0;34m\u001b[0m\u001b[0m\n",
      "\u001b[0;31mValueError\u001b[0m: expected sequence of length 66 at dim 1 (got 164)"
     ]
    }
   ],
   "source": [
    "net = myBi_LSTM(embedding_dim=embedding_dim,hidden_dim=n_topics)\n",
    "net.train(X_train,Y_train)"
   ]
  }
 ],
 "metadata": {
  "interpreter": {
   "hash": "b10cdd4904fdd44c62b07c72ba64e3113d365136411c6c9d777e955188ee8c1b"
  },
  "kernelspec": {
   "display_name": "Python 3.8.10 64-bit ('.nlp_env': venv)",
   "language": "python",
   "name": "python3"
  },
  "language_info": {
   "codemirror_mode": {
    "name": "ipython",
    "version": 3
   },
   "file_extension": ".py",
   "mimetype": "text/x-python",
   "name": "python",
   "nbconvert_exporter": "python",
   "pygments_lexer": "ipython3",
   "version": "3.8.10"
  },
  "orig_nbformat": 4
 },
 "nbformat": 4,
 "nbformat_minor": 2
}
