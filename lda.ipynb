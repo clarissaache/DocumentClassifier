{
 "cells": [
  {
   "cell_type": "code",
   "execution_count": 14,
   "metadata": {},
   "outputs": [
    {
     "name": "stderr",
     "output_type": "stream",
     "text": [
      "[nltk_data] Downloading package stopwords to /home/sxia1/nltk_data...\n",
      "[nltk_data]   Package stopwords is already up-to-date!\n"
     ]
    }
   ],
   "source": [
    "import re \n",
    "import nltk\n",
    "nltk.download('stopwords')\n",
    "from nltk.corpus import stopwords\n",
    "from nltk.stem import WordNetLemmatizer\n",
    "\n",
    "import numpy as np\n",
    "import pandas as pd\n",
    "import matplotlib.pyplot as plt\n",
    "\n",
    "# Gensim\n",
    "import gensim\n",
    "import gensim.corpora as corpora\n",
    "from gensim.utils import simple_preprocess\n",
    "from gensim.models import CoherenceModel\n",
    "from gensim.corpora.dictionary import Dictionary\n",
    "from gensim.models import LdaModel\n",
    "import sklearn\n",
    "\n",
    "%matplotlib inline\n",
    "\n",
    "stop_words = stopwords.words('english')"
   ]
  },
  {
   "cell_type": "markdown",
   "metadata": {},
   "source": [
    "# clean up data and tokenize text\n",
    "### personality data (ignore)"
   ]
  },
  {
   "cell_type": "code",
   "execution_count": 149,
   "metadata": {},
   "outputs": [
    {
     "name": "stdout",
     "output_type": "stream",
     "text": [
      "805\n",
      "641\n",
      "['Inventive and Curious' 'Consistent and Cautions'\n",
      " 'Efficient/Organised and Planned' 'Easygoing/Careless and Spontaneous'\n",
      " 'Outgoing and Energetic' 'Solidatory and Reserved'\n",
      " 'Friendly and Compassionate' 'Cold and Unkind' 'Sensitive and Nervous'\n",
      " 'Secure and Confident' 'Not_Well' 'Others']\n"
     ]
    },
    {
     "data": {
      "image/png": "[encoded data removed]",
      "text/plain": [
       "<Figure size 432x288 with 1 Axes>"
      ]
     },
     "metadata": {
      "needs_background": "light"
     },
     "output_type": "display_data"
    },
    {
     "name": "stdout",
     "output_type": "stream",
     "text": [
      "text             innovators are scientists looking for the best...\n",
      "personalities                                Inventive and Curious\n",
      "Name: 1, dtype: object\n",
      "['innovators', 'are', 'scientists', 'looking', 'for', 'the', 'best', 'possible', 'solutions']\n"
     ]
    },
    {
     "name": "stderr",
     "output_type": "stream",
     "text": [
      "/tmp/ipykernel_624/2654732793.py:15: SettingWithCopyWarning: \n",
      "A value is trying to be set on a copy of a slice from a DataFrame.\n",
      "Try using .loc[row_indexer,col_indexer] = value instead\n",
      "\n",
      "See the caveats in the documentation: https://pandas.pydata.org/pandas-docs/stable/user_guide/indexing.html#returning-a-view-versus-a-copy\n",
      "  df['n_words']=list(map(lambda x:len(x),text_tokenized))\n"
     ]
    },
    {
     "data": {
      "image/png": "[encoded data removed]",
      "text/plain": [
       "<Figure size 432x288 with 1 Axes>"
      ]
     },
     "metadata": {
      "needs_background": "light"
     },
     "output_type": "display_data"
    }
   ],
   "source": [
    "# read-in pre-labled tweets\n",
    "df_raw = pd.read_excel(\"data/corpus_new.xlsx\",sheet_name=\"Sheet1\",names=[\"text\",\"personalities\"])\n",
    "print(len(df_raw))\n",
    "#skip non-english text\n",
    "df = df_raw[df_raw['text'].apply(lambda x:x.isascii())]\n",
    "print(len(df))\n",
    "print(df.personalities.unique())\n",
    "plt.hist(df['personalities'])\n",
    "plt.show()\n",
    "# tokenize each text\n",
    "text_tokenized = list(map(lambda news:nltk.word_tokenize(news.lower()), df['text']))\n",
    "len(text_tokenized)\n",
    "print(df.iloc[0])\n",
    "print(text_tokenized[0])\n",
    "df['n_words']=list(map(lambda x:len(x),text_tokenized))\n",
    "plt.hist(df.n_words)\n",
    "plt.show()"
   ]
  },
  {
   "cell_type": "markdown",
   "metadata": {},
   "source": [
    "## Web of science paper data"
   ]
  },
  {
   "cell_type": "code",
   "execution_count": 4,
   "metadata": {},
   "outputs": [
    {
     "name": "stdout",
     "output_type": "stream",
     "text": [
      "46985\n",
      "['CS ' 'Medical ' 'Civil ' 'ECE ' 'biochemistry ' 'MAE ' 'Psychology  ']\n"
     ]
    },
    {
     "name": "stderr",
     "output_type": "stream",
     "text": [
      "/tmp/ipykernel_18036/4036168791.py:10: SettingWithCopyWarning: \n",
      "A value is trying to be set on a copy of a slice from a DataFrame.\n",
      "Try using .loc[row_indexer,col_indexer] = value instead\n",
      "\n",
      "See the caveats in the documentation: https://pandas.pydata.org/pandas-docs/stable/user_guide/indexing.html#returning-a-view-versus-a-copy\n",
      "  df_paper['n_words']=list(map(lambda x:len(x),text_tokenized))\n"
     ]
    },
    {
     "data": {
      "text/plain": [
       "Text(0.5, 1.0, 'abstract word count')"
      ]
     },
     "execution_count": 4,
     "metadata": {},
     "output_type": "execute_result"
    },
    {
     "data": {
      "image/png": "[encoded data removed]",
      "text/plain": [
       "<Figure size 1080x360 with 2 Axes>"
      ]
     },
     "metadata": {
      "needs_background": "light"
     },
     "output_type": "display_data"
    }
   ],
   "source": [
    "# read-in pre-labled research apper abstracts\n",
    "df_paper_raw = pd.read_excel(\"data/WebOfScienceData.xlsx\",sheet_name=\"abstracts\")\n",
    "print(len(df_paper_raw))\n",
    "df_paper = df_paper_raw.head(2000)\n",
    "print(df_paper.Domain.unique())\n",
    "\n",
    "# tokenize each text\n",
    "text_tokenized = list(map(lambda news:nltk.word_tokenize(news.lower()), df_paper['Abstract']))\n",
    "len(text_tokenized)\n",
    "df_paper['n_words']=list(map(lambda x:len(x),text_tokenized))\n",
    "\n",
    "fig,axs = plt.subplots(1,2,figsize=(15,5))\n",
    "axs[0].hist(df_paper.Domain,)\n",
    "axs[0].set_title(\"Domain Frquency\")\n",
    "axs[1].hist(df_paper.n_words)\n",
    "axs[1].set_title(\"abstract word count\")"
   ]
  },
  {
   "cell_type": "markdown",
   "metadata": {},
   "source": [
    "# remove stopwords, make biargam, lemmatize"
   ]
  },
  {
   "cell_type": "code",
   "execution_count": 5,
   "metadata": {},
   "outputs": [
    {
     "name": "stderr",
     "output_type": "stream",
     "text": [
      "/tmp/ipykernel_18036/3074456696.py:3: SettingWithCopyWarning: \n",
      "A value is trying to be set on a copy of a slice from a DataFrame.\n",
      "Try using .loc[row_indexer,col_indexer] = value instead\n",
      "\n",
      "See the caveats in the documentation: https://pandas.pydata.org/pandas-docs/stable/user_guide/indexing.html#returning-a-view-versus-a-copy\n",
      "  df_paper['n_words_removed']=list(map(lambda x:len(x),text_stopwords_removed))\n"
     ]
    },
    {
     "data": {
      "image/png": "[encoded data removed]",
      "text/plain": [
       "<Figure size 432x288 with 1 Axes>"
      ]
     },
     "metadata": {
      "needs_background": "light"
     },
     "output_type": "display_data"
    }
   ],
   "source": [
    "# remove stopwords\n",
    "text_stopwords_removed = list(map(lambda abstract: list(filter(lambda word: word not in stop_words, abstract)),text_tokenized))\n",
    "df_paper['n_words_removed']=list(map(lambda x:len(x),text_stopwords_removed))\n",
    "plt.hist(df_paper.n_words_removed,bins=30)\n",
    "plt.title(\"abstract without stop words word count\")\n",
    "\n",
    "# Creating Bigram: find words frequently occur together\n",
    "bigram = gensim.models.Phrases(text_tokenized, min_count=20, threshold=50)  \n",
    "#come back to adjust the threshold value: (cnt(a, b) - min_count) * N / (cnt(a) * cnt(b)) > threshold\n",
    "bigram_freeze = bigram.freeze()\n",
    "#apply biagra model\n",
    "word_and_bigram_list = list(map(lambda abstract_cleaned: bigram[abstract_cleaned],text_stopwords_removed))\n",
    "\n",
    "# lemmatize\n"
   ]
  },
  {
   "cell_type": "code",
   "execution_count": 15,
   "metadata": {},
   "outputs": [
    {
     "data": {
      "text/plain": [
       "'bat'"
      ]
     },
     "execution_count": 15,
     "metadata": {},
     "output_type": "execute_result"
    }
   ],
   "source": [
    "lemmatizer = WordNetLemmatizer()"
   ]
  },
  {
   "cell_type": "code",
   "execution_count": 24,
   "metadata": {},
   "outputs": [
    {
     "data": {
      "text/plain": [
       "[('(', '('),\n",
       " ('beta-amyloid', 'NN'),\n",
       " ('(', '('),\n",
       " ('beta', 'NN'),\n",
       " (')', ')'),\n",
       " ('tau', 'NN'),\n",
       " ('pathology', 'NN'),\n",
       " ('become', 'VBP'),\n",
       " ('increasingly', 'RB'),\n",
       " ('prevalent', 'JJ'),\n",
       " ('age', 'NN'),\n",
       " (',', ','),\n",
       " ('however', 'RB'),\n",
       " (',', ','),\n",
       " ('spatial', 'JJ'),\n",
       " ('relationship', 'NN'),\n",
       " ('two', 'CD'),\n",
       " ('pathologies', 'NNS'),\n",
       " ('remains', 'VBZ'),\n",
       " ('unknown', 'JJ'),\n",
       " ('.', '.'),\n",
       " ('examined', 'VBN'),\n",
       " ('local', 'JJ'),\n",
       " ('(', '('),\n",
       " ('region', 'NN'),\n",
       " (')', ')'),\n",
       " ('non-local', 'JJ'),\n",
       " ('(', '('),\n",
       " ('different', 'JJ'),\n",
       " ('region', 'NN'),\n",
       " (')', ')'),\n",
       " ('associations', 'VBZ'),\n",
       " ('2', 'CD'),\n",
       " ('aggregated', 'JJ'),\n",
       " ('proteins', 'NNS'),\n",
       " ('46', 'CD'),\n",
       " ('normal', 'JJ'),\n",
       " ('older', 'JJR'),\n",
       " ('adults', 'NNS'),\n",
       " ('using', 'VBG'),\n",
       " ('[', 'JJ'),\n",
       " ('f-18', 'JJ'),\n",
       " (']', 'NN'),\n",
       " ('av-1451', 'NN'),\n",
       " ('(', '('),\n",
       " ('tau', 'NN'),\n",
       " (')', ')'),\n",
       " ('[', 'VBZ'),\n",
       " ('c-11', 'JJ'),\n",
       " (']', 'NNP'),\n",
       " ('pib', 'NN'),\n",
       " ('(', '('),\n",
       " ('beta', 'NN'),\n",
       " (')', ')'),\n",
       " ('positron', 'NN'),\n",
       " ('emission', 'NN'),\n",
       " ('tomography', 'NN'),\n",
       " ('(', '('),\n",
       " ('pet', 'NN'),\n",
       " (')', ')'),\n",
       " ('1.5', 'CD'),\n",
       " ('magnetic_resonance', 'NN'),\n",
       " ('imaging', 'NN'),\n",
       " ('(', '('),\n",
       " ('mri', 'NN'),\n",
       " (')', ')'),\n",
       " ('images', 'NNS'),\n",
       " ('.', '.'),\n",
       " ('local', 'JJ'),\n",
       " ('voxelwise', 'NN'),\n",
       " ('analyses', 'NNS'),\n",
       " ('showed', 'VBD'),\n",
       " ('associations', 'NNS'),\n",
       " ('pib', 'VB'),\n",
       " ('av-1451', 'JJ'),\n",
       " ('tracer', 'NN'),\n",
       " ('largely', 'RB'),\n",
       " ('temporal', 'JJ'),\n",
       " ('lobes', 'NNS'),\n",
       " (',', ','),\n",
       " ('k-means', 'NNS'),\n",
       " ('clustering', 'VBG'),\n",
       " ('revealed', 'VBD'),\n",
       " ('associations', 'NNS'),\n",
       " ('driven', 'VBN'),\n",
       " ('regions', 'NNS'),\n",
       " ('low', 'JJ'),\n",
       " ('tracer', 'NN'),\n",
       " ('retention', 'NN'),\n",
       " ('.', '.'),\n",
       " ('followed', 'VBD'),\n",
       " ('whole-brain', 'JJ'),\n",
       " ('region-by-region', 'NN'),\n",
       " ('(', '('),\n",
       " ('local', 'JJ'),\n",
       " ('non-local', 'JJ'),\n",
       " (')', ')'),\n",
       " ('partial', 'JJ'),\n",
       " ('correlational', 'JJ'),\n",
       " ('analysis', 'NN'),\n",
       " ('.', '.'),\n",
       " ('calculated', 'VBD'),\n",
       " ('participant', 'NN'),\n",
       " (\"'s\", 'POS'),\n",
       " ('mean', 'JJ'),\n",
       " ('av-1451', 'JJ'),\n",
       " ('pib', 'NNS'),\n",
       " ('uptake', 'VBP'),\n",
       " ('values', 'NNS'),\n",
       " ('within', 'IN'),\n",
       " ('87', 'CD'),\n",
       " ('regions', 'NNS'),\n",
       " ('interest', 'NN'),\n",
       " ('(', '('),\n",
       " ('roi', 'NN'),\n",
       " (')', ')'),\n",
       " ('.', '.'),\n",
       " ('pairwise', 'NN'),\n",
       " ('roi', 'NN'),\n",
       " ('analysis', 'NN'),\n",
       " ('demonstrated', 'VBD'),\n",
       " ('many', 'JJ'),\n",
       " ('positive', 'JJ'),\n",
       " ('pib', 'NN'),\n",
       " ('av-1451', 'JJ'),\n",
       " ('associations', 'NNS'),\n",
       " ('.', '.'),\n",
       " ('importantly', 'RB'),\n",
       " (',', ','),\n",
       " ('strong', 'JJ'),\n",
       " ('positive', 'JJ'),\n",
       " ('partial', 'JJ'),\n",
       " ('correlations', 'NNS'),\n",
       " ('(', '('),\n",
       " ('controlling', 'VBG'),\n",
       " ('age', 'NN'),\n",
       " (',', ','),\n",
       " ('sex', 'NN'),\n",
       " (',', ','),\n",
       " ('global', 'JJ'),\n",
       " ('gray', 'JJ'),\n",
       " ('matter', 'NN'),\n",
       " ('fraction', 'NN'),\n",
       " (',', ','),\n",
       " ('p_<', 'VB'),\n",
       " ('.01', 'NNP'),\n",
       " (')', ')'),\n",
       " ('identified', 'VBD'),\n",
       " ('pib', 'JJ'),\n",
       " ('multiple', 'JJ'),\n",
       " ('regions', 'NNS'),\n",
       " ('association', 'NN'),\n",
       " ('cortex', 'VBZ'),\n",
       " ('av-1451', 'JJ'),\n",
       " ('temporal', 'JJ'),\n",
       " ('cortical', 'JJ'),\n",
       " ('rois', 'NN'),\n",
       " ('.', '.'),\n",
       " ('also', 'RB'),\n",
       " ('less', 'RBR'),\n",
       " ('frequent', 'JJ'),\n",
       " ('weaker', 'NN'),\n",
       " ('positive', 'JJ'),\n",
       " ('associations', 'NNS'),\n",
       " ('regional', 'JJ'),\n",
       " ('pib', 'JJ'),\n",
       " ('frontoparietal', 'JJ'),\n",
       " ('av-1451', 'JJ'),\n",
       " ('uptake', 'NN'),\n",
       " ('.', '.'),\n",
       " ('particularly', 'RB'),\n",
       " ('temporal', 'JJ'),\n",
       " ('lobe', 'NN'),\n",
       " ('rois', 'NN'),\n",
       " (',', ','),\n",
       " ('av-1451', 'JJ'),\n",
       " ('uptake', 'NN'),\n",
       " ('strongly', 'RB'),\n",
       " ('predicted', 'VBD'),\n",
       " ('nb', 'JJ'),\n",
       " ('across', 'IN'),\n",
       " ('multiple', 'JJ'),\n",
       " ('roi', 'NN'),\n",
       " ('locations', 'NNS'),\n",
       " ('.', '.'),\n",
       " ('data', 'NNS'),\n",
       " ('indicate', 'VBP'),\n",
       " ('beta', 'NN'),\n",
       " ('tau', 'NN'),\n",
       " ('pathology', 'NN'),\n",
       " ('show', 'NN'),\n",
       " ('significant', 'JJ'),\n",
       " ('local', 'JJ'),\n",
       " ('non-local', 'JJ'),\n",
       " ('regional', 'JJ'),\n",
       " ('associations', 'NNS'),\n",
       " ('among', 'IN'),\n",
       " ('cognitively', 'RB'),\n",
       " ('normal', 'JJ'),\n",
       " ('elderly', 'JJ'),\n",
       " (',', ','),\n",
       " ('increased', 'VBD'),\n",
       " ('pib', 'NN'),\n",
       " ('uptake', 'NN'),\n",
       " ('throughout', 'IN'),\n",
       " ('cortex', 'JJ'),\n",
       " ('correlating', 'VBG'),\n",
       " ('increased', 'JJ'),\n",
       " ('temporal', 'JJ'),\n",
       " ('lobe', 'NN'),\n",
       " ('av-1451', 'JJ'),\n",
       " ('uptake', 'NN'),\n",
       " ('.', '.'),\n",
       " ('spatial', 'JJ'),\n",
       " ('relationship', 'NN'),\n",
       " ('beta', 'NN'),\n",
       " ('tau', 'NN'),\n",
       " ('accumulation', 'NN'),\n",
       " ('appear', 'VBP'),\n",
       " ('specific', 'JJ'),\n",
       " ('beta', 'NN'),\n",
       " ('location', 'NN'),\n",
       " (',', ','),\n",
       " ('suggesting', 'VBG'),\n",
       " ('regional', 'JJ'),\n",
       " ('vulnerability', 'NN'),\n",
       " ('temporal', 'JJ'),\n",
       " ('brain', 'NN'),\n",
       " ('regions', 'NNS'),\n",
       " ('tau', 'VBP'),\n",
       " ('accumulation', 'NN'),\n",
       " ('regardless', 'RB'),\n",
       " ('ap', 'JJ'),\n",
       " ('accumulates', 'NNS'),\n",
       " ('.', '.')]"
      ]
     },
     "execution_count": 24,
     "metadata": {},
     "output_type": "execute_result"
    }
   ],
   "source": [
    "nltk.pos_tag(word_and_bigram_list[1])\n"
   ]
  }
 ],
 "metadata": {
  "interpreter": {
   "hash": "b10cdd4904fdd44c62b07c72ba64e3113d365136411c6c9d777e955188ee8c1b"
  },
  "kernelspec": {
   "display_name": "Python 3.8.10 64-bit ('.nlp_env': venv)",
   "language": "python",
   "name": "python3"
  },
  "language_info": {
   "codemirror_mode": {
    "name": "ipython",
    "version": 3
   },
   "file_extension": ".py",
   "mimetype": "text/x-python",
   "name": "python",
   "nbconvert_exporter": "python",
   "pygments_lexer": "ipython3",
   "version": "3.8.10"
  },
  "orig_nbformat": 4
 },
 "nbformat": 4,
 "nbformat_minor": 2
}
