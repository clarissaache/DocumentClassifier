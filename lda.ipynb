{
 "cells": [
  {
   "cell_type": "markdown",
   "metadata": {},
   "source": [
    "# Generative Probabilistic Approach with LDA for Document Categorization"
   ]
  },
  {
   "cell_type": "code",
   "execution_count": 1,
   "metadata": {},
   "outputs": [
    {
     "name": "stderr",
     "output_type": "stream",
     "text": [
      "[nltk_data] Downloading package stopwords to /home/sxia1/nltk_data...\n",
      "[nltk_data]   Package stopwords is already up-to-date!\n",
      "[nltk_data] Downloading package wordnet to /home/sxia1/nltk_data...\n",
      "[nltk_data]   Package wordnet is already up-to-date!\n"
     ]
    },
    {
     "data": {
      "text/plain": [
       "True"
      ]
     },
     "execution_count": 1,
     "metadata": {},
     "output_type": "execute_result"
    }
   ],
   "source": [
    "import re \n",
    "import string\n",
    "import nltk\n",
    "nltk.download('stopwords')\n",
    "from nltk.corpus import stopwords\n",
    "from nltk.stem import WordNetLemmatizer\n",
    "\n",
    "import numpy as np\n",
    "import pandas as pd\n",
    "import matplotlib.pyplot as plt\n",
    "from scipy.special import gamma,gammaln\n",
    "from scipy.stats import dirichlet\n",
    "\n",
    "# Gensim\n",
    "import gensim\n",
    "import gensim.corpora as corpora\n",
    "from gensim.utils import simple_preprocess\n",
    "from gensim.models import CoherenceModel\n",
    "from gensim.corpora.dictionary import Dictionary\n",
    "from gensim.models import LdaModel\n",
    "\n",
    "import pyLDAvis\n",
    "import pyLDAvis.gensim_models\n",
    "pyLDAvis.enable_notebook()\n",
    "\n",
    "%matplotlib inline\n",
    "\n",
    "stop_words = stopwords.words('english')\n",
    "nltk.download('wordnet')"
   ]
  },
  {
   "cell_type": "markdown",
   "metadata": {},
   "source": [
    "# Extract $\\bm{\\alpha}$ and $\\bm{\\beta}$ from data\n",
    "## clean up data and tokenize text\n"
   ]
  },
  {
   "cell_type": "markdown",
   "metadata": {},
   "source": [
    "### Web of science paper data"
   ]
  },
  {
   "cell_type": "code",
   "execution_count": 2,
   "metadata": {},
   "outputs": [
    {
     "name": "stdout",
     "output_type": "stream",
     "text": [
      "46985\n",
      "['CS ' 'Medical ' 'Civil ' 'ECE ' 'biochemistry ' 'MAE ' 'Psychology  ']\n"
     ]
    },
    {
     "name": "stderr",
     "output_type": "stream",
     "text": [
      "/tmp/ipykernel_24523/4099232812.py:10: SettingWithCopyWarning: \n",
      "A value is trying to be set on a copy of a slice from a DataFrame.\n",
      "Try using .loc[row_indexer,col_indexer] = value instead\n",
      "\n",
      "See the caveats in the documentation: https://pandas.pydata.org/pandas-docs/stable/user_guide/indexing.html#returning-a-view-versus-a-copy\n",
      "  df_paper['n_words']=list(map(lambda x:len(x),text_tokenized))\n"
     ]
    },
    {
     "data": {
      "text/plain": [
       "Text(0.5, 1.0, 'abstract word count')"
      ]
     },
     "execution_count": 2,
     "metadata": {},
     "output_type": "execute_result"
    },
    {
     "data": {
      "image/png": "[encoded data removed]",
      "text/plain": [
       "<Figure size 1440x360 with 3 Axes>"
      ]
     },
     "metadata": {
      "needs_background": "light"
     },
     "output_type": "display_data"
    }
   ],
   "source": [
    "# read-in pre-labled research apper abstracts\n",
    "df_paper_raw = pd.read_excel(\"data/WebOfScienceData.xlsx\",sheet_name=\"abstracts\")\n",
    "print(len(df_paper_raw))\n",
    "df_paper = df_paper_raw.head(2000) #use first 2000\n",
    "print(df_paper.Domain.unique())\n",
    "\n",
    "# remove puncutations and number, then tokenize each text\n",
    "text_tokenized = list(map(lambda abstract_i:nltk.word_tokenize(re.sub(r'[^A-Za-z\\s]','',abstract_i.lower())), df_paper['Abstract']))\n",
    "len(text_tokenized)\n",
    "df_paper['n_words']=list(map(lambda x:len(x),text_tokenized))\n",
    "\n",
    "fig,axs = plt.subplots(1,3,figsize=(20,5))\n",
    "categories = df_paper.Domain.value_counts().index\n",
    "counts = df_paper.Domain.value_counts().values\n",
    "axs[0].bar(categories, counts, width=0.5)\n",
    "axs[0].set_title(\"Domain Frquency\")\n",
    "\n",
    "categories = df_paper.area.value_counts().index\n",
    "counts = df_paper.area.value_counts().values\n",
    "axs[1].bar(categories, counts, width=0.5)\n",
    "axs[1].set_title(\"Area Frquency\")\n",
    "\n",
    "axs[2].hist(df_paper.n_words)\n",
    "axs[2].set_title(\"abstract word count\")"
   ]
  },
  {
   "cell_type": "markdown",
   "metadata": {},
   "source": [
    "## remove stopwords, make biargam, lemmatize"
   ]
  },
  {
   "cell_type": "code",
   "execution_count": 3,
   "metadata": {},
   "outputs": [
    {
     "name": "stderr",
     "output_type": "stream",
     "text": [
      "/tmp/ipykernel_24523/1049156276.py:39: SettingWithCopyWarning: \n",
      "A value is trying to be set on a copy of a slice from a DataFrame.\n",
      "Try using .loc[row_indexer,col_indexer] = value instead\n",
      "\n",
      "See the caveats in the documentation: https://pandas.pydata.org/pandas-docs/stable/user_guide/indexing.html#returning-a-view-versus-a-copy\n",
      "  df_paper['n_words_removed']=list(map(lambda x:len(x),abstract_lemmatized))\n"
     ]
    },
    {
     "data": {
      "text/plain": [
       "Text(0.5, 1.0, 'abstract without stop words word count')"
      ]
     },
     "execution_count": 3,
     "metadata": {},
     "output_type": "execute_result"
    },
    {
     "data": {
      "image/png": "[encoded data removed]",
      "text/plain": [
       "<Figure size 432x288 with 1 Axes>"
      ]
     },
     "metadata": {
      "needs_background": "light"
     },
     "output_type": "display_data"
    }
   ],
   "source": [
    "#helper function for lemmatization\n",
    "def get_wordnet_pos(tag):\n",
    "\n",
    "    if tag.startswith('J'):\n",
    "        return 'a'\n",
    "    elif tag.startswith('V'):\n",
    "        return 'v'\n",
    "    elif tag.startswith('R'):\n",
    "        return 'r'\n",
    "    else:\n",
    "        return 'n' #if not belong to any, default is noun, inclunding N\n",
    "\n",
    "def lemmatize_with_pos(abstract_toekenized):\n",
    "    abstract_tagged = nltk.pos_tag(abstract_toekenized)\n",
    "    tags = list(map(lambda token: get_wordnet_pos(token[1]),abstract_tagged))\n",
    "    abstract_lemmatized = list(map(lemmatizer.lemmatize,abstract_toekenized,tags))\n",
    "    return abstract_lemmatized\n",
    "\n",
    "\n",
    "# Creating Bigram: find words frequently occur together\n",
    "bigram = gensim.models.Phrases(text_tokenized, min_count=5, threshold=100)  \n",
    "#come back to adjust the threshold value: (cnt(a, b) - min_count) * N / (cnt(a) * cnt(b)) > threshold\n",
    "bigram_freeze = bigram.freeze()\n",
    "#import nltk lemmatizer\n",
    "lemmatizer = WordNetLemmatizer()\n",
    "\n",
    "def prepare_token(text_tokenized_list):\n",
    "    # remove stopwords and puntuation, \n",
    "    text_stopwords_removed = list(map(lambda abstract: list(filter(lambda word: word not in stop_words, abstract)),text_tokenized_list))\n",
    "\n",
    "    #apply biagram model\n",
    "    word_and_bigram_list = list(map(lambda abstract_cleaned: bigram[abstract_cleaned],text_stopwords_removed))\n",
    "\n",
    "    # lemmatize\n",
    "    abstract_lemmatized = list(map(lemmatize_with_pos,word_and_bigram_list))\n",
    "    return abstract_lemmatized\n",
    "\n",
    "abstract_lemmatized = prepare_token(text_tokenized)\n",
    "df_paper['n_words_removed']=list(map(lambda x:len(x),abstract_lemmatized))\n",
    "plt.hist(df_paper.n_words_removed,bins=30)\n",
    "plt.title(\"abstract without stop words word count\")"
   ]
  },
  {
   "cell_type": "code",
   "execution_count": 4,
   "metadata": {},
   "outputs": [
    {
     "name": "stdout",
     "output_type": "stream",
     "text": [
      "['use', 'model', 'system', 'study', 'result', 'method', 'propose', 'show', 'control', 'base', 'present', 'design', 'analysis', 'high', 'data', 'also', 'patient', 'cell', 'effect', 'increase', 'two', 'different', 'time', 'develop', 'provide', 'new', 'process', 'include', 'rights_reserved', 'approach', 'compare', 'performance', 'test', 'algorithm', 'paper', 'low', 'c_elsevier', 'level', 'power', 'measure', 'structure', 'well', 'find', 'parameter', 'one', 'application', 'may', 'function', 'current', 'energy', 'obtain', 'condition', 'simulation', 'group', 'dynamic']\n"
     ]
    },
    {
     "data": {
      "image/png": "[encoded data removed]",
      "text/plain": [
       "<Figure size 3960x504 with 1 Axes>"
      ]
     },
     "metadata": {
      "needs_background": "light"
     },
     "output_type": "display_data"
    }
   ],
   "source": [
    "def check_frequent_words(corpus,top_n):\n",
    "    all_corpus_together=np.concatenate(corpus)\n",
    "    (word, counts) = np.unique(all_corpus_together, return_counts=True)\n",
    "    frequencies = np.asarray((word, counts)).T\n",
    "    count_df = pd.DataFrame(data=frequencies,columns = ['word','freq'])\n",
    "    count_df.freq = count_df.freq.astype(int)\n",
    "    count_df.sort_values(by=['freq'],axis=0,ascending=False,ignore_index=True,inplace=True)\n",
    "    print(list(count_df.head(top_n).word))\n",
    "    plt.figure(figsize=(top_n,7))\n",
    "    plt.bar(count_df[:top_n].word,height=count_df[:top_n].freq,width=0.6,align='center')\n",
    "    plt.title(\"most frequent words - should consider removeing them\",fontsize=20)\n",
    "    plt.show()\n",
    "    return count_df\n",
    "\n",
    "count_df =check_frequent_words(abstract_lemmatized,55)"
   ]
  },
  {
   "cell_type": "code",
   "execution_count": 5,
   "metadata": {},
   "outputs": [
    {
     "name": "stdout",
     "output_type": "stream",
     "text": [
      "['obtain', 'condition', 'simulation', 'group', 'dynamic', 'change', 'frequency', 'improve', 'treatment', 'reduce', 'demonstrate', 'circuit', 'work', 'however', 'expression', 'gene', 'response', 'signal', 'human', 'sample']\n"
     ]
    },
    {
     "data": {
      "image/png": "[encoded data removed]",
      "text/plain": [
       "<Figure size 1440x504 with 1 Axes>"
      ]
     },
     "metadata": {
      "needs_background": "light"
     },
     "output_type": "display_data"
    },
    {
     "name": "stderr",
     "output_type": "stream",
     "text": [
      "/tmp/ipykernel_24523/1339668137.py:6: SettingWithCopyWarning: \n",
      "A value is trying to be set on a copy of a slice from a DataFrame.\n",
      "Try using .loc[row_indexer,col_indexer] = value instead\n",
      "\n",
      "See the caveats in the documentation: https://pandas.pydata.org/pandas-docs/stable/user_guide/indexing.html#returning-a-view-versus-a-copy\n",
      "  df_paper['n_words_lemmatize_clean']=list(map(lambda x:len(x),abstract_lemmatized_cleaned))\n"
     ]
    },
    {
     "data": {
      "text/plain": [
       "Text(200, 150, 'median length: 87')"
      ]
     },
     "execution_count": 5,
     "metadata": {},
     "output_type": "execute_result"
    },
    {
     "data": {
      "image/png": "[encoded data removed]",
      "text/plain": [
       "<Figure size 432x288 with 1 Axes>"
      ]
     },
     "metadata": {
      "needs_background": "light"
     },
     "output_type": "display_data"
    }
   ],
   "source": [
    "# remove top 50 most frequent words\n",
    "top_n = list(count_df[:50].word)\n",
    "abstract_lemmatized_cleaned = list(map(lambda abstract: list(filter(lambda word: word not in top_n, abstract)),abstract_lemmatized))\n",
    "check_frequent_words(abstract_lemmatized_cleaned,top_n=20)\n",
    "\n",
    "df_paper['n_words_lemmatize_clean']=list(map(lambda x:len(x),abstract_lemmatized_cleaned))\n",
    "median_count = np.median(df_paper.n_words_lemmatize_clean)\n",
    "plt.hist(df_paper.n_words_lemmatize_clean,bins=30)\n",
    "plt.title(\"abstract without stop words word count\")\n",
    "plt.text(200,150,\"median length: %d\"%median_count,fontsize=10)\n"
   ]
  },
  {
   "cell_type": "code",
   "execution_count": 6,
   "metadata": {},
   "outputs": [
    {
     "data": {
      "text/plain": [
       "87.0"
      ]
     },
     "execution_count": 6,
     "metadata": {},
     "output_type": "execute_result"
    }
   ],
   "source": [
    "np.median(df_paper.n_words_lemmatize_clean)"
   ]
  },
  {
   "cell_type": "markdown",
   "metadata": {},
   "source": [
    "## make dictionary and corpus for the inputs to Gensim LDA Model"
   ]
  },
  {
   "cell_type": "code",
   "execution_count": 7,
   "metadata": {},
   "outputs": [
    {
     "name": "stdout",
     "output_type": "stream",
     "text": [
      "total vocabulary size 22477\n",
      "[('p', 1), ('suggest', 1), ('accumulates', 1), ('accumulation', 2), ('across', 1), ('age', 2), ('aggregate', 1), ('among', 1), ('ap', 1), ('appear', 1)]\n"
     ]
    }
   ],
   "source": [
    "# define mapping between words to integer ids\n",
    "word2id = Dictionary(abstract_lemmatized_cleaned)\n",
    "dictionary = word2id.token2id\n",
    "vocab_size = len(dictionary)\n",
    "print(\"total vocabulary size\", vocab_size)\n",
    "# word2id.token2id gives the dictonary between words and their ids\n",
    "\n",
    "# define corpus from documents\n",
    "# documents: a list of lists of strings\n",
    "# corpus: bag of words: each text = [(word_id, frequency), (word_id, frequency)]\n",
    "corpus = list(map(word2id.doc2bow,abstract_lemmatized))\n",
    "print([(word2id[id], freq) for id, freq in corpus[1][:10]])"
   ]
  },
  {
   "cell_type": "markdown",
   "metadata": {},
   "source": [
    "## Use LDA to extract topic distribution and topic-term distribution"
   ]
  },
  {
   "cell_type": "code",
   "execution_count": 8,
   "metadata": {},
   "outputs": [
    {
     "name": "stdout",
     "output_type": "stream",
     "text": [
      "[0.07246257 0.92490155 0.28433117 0.884133   0.43683913 0.16651341\n",
      " 0.2041837 ]\n",
      "(7, 22477)\n",
      "[(0, '0.013*\"soil\" + 0.011*\"jak\" + 0.009*\"iron\" + 0.009*\"crop\" + 0.009*\"followup\" + 0.008*\"soft\" + 0.008*\"risk_factors\" + 0.007*\"successful\" + 0.007*\"fibrosis\" + 0.007*\"gi\" + 0.007*\"median\" + 0.006*\"wf\" + 0.006*\"initiate\" + 0.006*\"surgical\" + 0.005*\"cable\" + 0.005*\"pmf\" + 0.004*\"acs\" + 0.004*\"betacatenin\" + 0.004*\"geotextile\" + 0.004*\"thrombosis\"'), (1, '0.005*\"signal\" + 0.005*\"range\" + 0.005*\"reduce\" + 0.005*\"frequency\" + 0.004*\"stress\" + 0.004*\"measurement\" + 0.004*\"rate\" + 0.004*\"circuit\" + 0.004*\"obtain\" + 0.004*\"experimental\" + 0.004*\"controller\" + 0.004*\"surface\" + 0.004*\"load\" + 0.004*\"response\" + 0.004*\"sample\" + 0.003*\"characteristic\" + 0.003*\"material\" + 0.003*\"demonstrate\" + 0.003*\"active\" + 0.003*\"property\"'), (2, '0.011*\"joint\" + 0.009*\"engine\" + 0.007*\"protocol\" + 0.007*\"emerge\" + 0.007*\"procedure\" + 0.005*\"capture\" + 0.005*\"secure\" + 0.005*\"motor\" + 0.005*\"hybrid\" + 0.005*\"module\" + 0.005*\"device\" + 0.005*\"amplitude\" + 0.004*\"hdpp\" + 0.004*\"clear\" + 0.004*\"valve\" + 0.004*\"electricity\" + 0.004*\"water\" + 0.004*\"leave\" + 0.004*\"explicit\" + 0.004*\"trend\"'), (3, '0.005*\"work\" + 0.005*\"network\" + 0.005*\"problem\" + 0.005*\"research\" + 0.004*\"information\" + 0.004*\"dynamic\" + 0.004*\"set\" + 0.004*\"prediction\" + 0.004*\"estimate\" + 0.003*\"improve\" + 0.003*\"learn\" + 0.003*\"error\" + 0.003*\"however\" + 0.003*\"feature\" + 0.003*\"exist\" + 0.003*\"technology\" + 0.003*\"many\" + 0.003*\"accord\" + 0.003*\"strategy\" + 0.003*\"software\"'), (4, '0.008*\"adolescent\" + 0.007*\"group\" + 0.006*\"treatment\" + 0.006*\"associate\" + 0.005*\"report\" + 0.005*\"social\" + 0.004*\"support\" + 0.004*\"parent\" + 0.004*\"behavior\" + 0.004*\"health\" + 0.004*\"individual\" + 0.004*\"disease\" + 0.004*\"among\" + 0.004*\"year\" + 0.004*\"experience\" + 0.004*\"disorder\" + 0.004*\"risk\" + 0.004*\"examine\" + 0.004*\"age\" + 0.004*\"child\"'), (5, '0.014*\"flow\" + 0.012*\"water\" + 0.009*\"temperature\" + 0.009*\"heat\" + 0.008*\"wind\" + 0.007*\"fluid\" + 0.007*\"pressure\" + 0.006*\"combustion\" + 0.006*\"tank\" + 0.006*\"concentration\" + 0.006*\"velocity\" + 0.006*\"thermal\" + 0.005*\"wind_turbine\" + 0.005*\"solar\" + 0.005*\"variability\" + 0.004*\"equation\" + 0.004*\"roll\" + 0.004*\"leukemia\" + 0.004*\"gas\" + 0.004*\"co\"'), (6, '0.014*\"expression\" + 0.012*\"gene\" + 0.009*\"protein\" + 0.006*\"activity\" + 0.006*\"human\" + 0.006*\"cancer\" + 0.006*\"mouse\" + 0.005*\"role\" + 0.005*\"inhibitor\" + 0.005*\"rna\" + 0.005*\"receptor\" + 0.004*\"tumor\" + 0.004*\"tissue\" + 0.004*\"cd\" + 0.004*\"mechanism\" + 0.004*\"drug\" + 0.004*\"p\" + 0.004*\"pathway\" + 0.003*\"beta\" + 0.003*\"molecular\"')]\n"
     ]
    }
   ],
   "source": [
    "# Train the model on the corpus. #420\n",
    "lda_model = LdaModel(corpus, \n",
    "                num_topics=len(df_paper.Domain.unique()),\n",
    "                id2word = word2id,\n",
    "                random_state=420,\n",
    "                update_every=1,\n",
    "                chunksize=100,\n",
    "                passes=10,\n",
    "                alpha='auto',\n",
    "                per_word_topics=True)\n",
    "\n",
    "# alpha = parameter for Dirichlet Distribution . higer alpha more towards the center, i.e. a mixture of different topic for one document\n",
    "alpha = lda_model.alpha\n",
    "print(alpha)\n",
    "# alpha all parameters are equal => have no prior information to favor one component over any other\n",
    "\n",
    "#beta = #distribution over word weights in each topic\n",
    "topic_term_distribution = lda_model.get_topics()\n",
    "print(np.shape(topic_term_distribution))\n",
    "\n",
    "print(lda_model.print_topics(num_words=20)) \n",
    "#okay, i think i need remove \"model\", \"use\", \"method\", \"system\", \"purpose\", \"result\", \"study\", \"show\"\n",
    "\n"
   ]
  },
  {
   "cell_type": "code",
   "execution_count": 9,
   "metadata": {},
   "outputs": [],
   "source": [
    "#num2topic ={0:\"Civil\", 1:\"Medical\",2:\"MAE\",3:\"ECE\",4:\"biochemistry\",5:\"CS\", 6:\"Psychology\"}\n",
    "num2topic ={0:\"Medical\", 1:\"ECE\",2:\"Civil\",3:\"CS\",4:\"Psychology\",5:\"MAE\", 6:\"biochemistry\"}\n",
    "\n",
    "from gensim.test.utils import datapath\n",
    "# Save model to disk.\n",
    "temp_file = datapath(\"ldaWOS.model\")\n",
    "lda_model.save(temp_file)\n",
    "# Load a potentially pretrained model from disk.\n",
    "# lda = LdaModel.load(temp_file)"
   ]
  },
  {
   "cell_type": "code",
   "execution_count": 10,
   "metadata": {},
   "outputs": [
    {
     "name": "stderr",
     "output_type": "stream",
     "text": [
      "/home/sxia1/.nlp_env/lib/python3.8/site-packages/pyLDAvis/_prepare.py:246: FutureWarning: In a future version of pandas all arguments of DataFrame.drop except for the argument 'labels' will be keyword-only\n",
      "  default_term_info = default_term_info.sort_values(\n",
      "/home/sxia1/.nlp_env/lib/python3.8/site-packages/past/builtins/misc.py:45: DeprecationWarning: the imp module is deprecated in favour of importlib; see the module's documentation for alternative uses\n",
      "  from imp import reload\n",
      "/home/sxia1/.nlp_env/lib/python3.8/site-packages/past/builtins/misc.py:45: DeprecationWarning: the imp module is deprecated in favour of importlib; see the module's documentation for alternative uses\n",
      "  from imp import reload\n",
      "/home/sxia1/.nlp_env/lib/python3.8/site-packages/past/builtins/misc.py:45: DeprecationWarning: the imp module is deprecated in favour of importlib; see the module's documentation for alternative uses\n",
      "  from imp import reload\n",
      "/home/sxia1/.nlp_env/lib/python3.8/site-packages/past/builtins/misc.py:45: DeprecationWarning: the imp module is deprecated in favour of importlib; see the module's documentation for alternative uses\n",
      "  from imp import reload\n"
     ]
    },
    {
     "data": {
      "text/html": [
       "\n",
       "<link rel=\"stylesheet\" type=\"text/css\" href=\"https://cdn.jsdelivr.net/gh/bmabey/pyLDAvis@3.3.1/pyLDAvis/js/ldavis.v1.0.0.css\">\n",
       "\n",
       "\n",
       "<div id=\"ldavis_el245231402926185763848346707742\"></div>\n",
       "<script type=\"text/javascript\">\n",
       "\n",
       "var ldavis_el245231402926185763848346707742_data = {\"mdsDat\": {\"x\": [0.17707680556642205, 0.2241103824721026, 0.1646826536077612, -0.028273986053397683, -0.19733296506285286, -0.1663891085039735, -0.17387378202606202], \"y\": [-0.15468096366618347, -0.11012762769917166, 0.17272658370725327, 0.2626794357757397, -0.08137112585935292, -0.06924041805879756, -0.01998588419948753], \"topics\": [1, 2, 3, 4, 5, 6, 7], \"cluster\": [1, 1, 1, 1, 1, 1, 1], \"Freq\": [28.966027466848153, 27.364568004312495, 18.2339335740223, 12.600309739818227, 5.984799935849469, 5.229820555954651, 1.620540723194707]}, \"tinfo\": {\"Term\": [\"expression\", \"gene\", \"flow\", \"temperature\", \"adolescent\", \"protein\", \"water\", \"joint\", \"network\", \"group\", \"problem\", \"treatment\", \"signal\", \"frequency\", \"role\", \"cancer\", \"human\", \"engine\", \"activity\", \"mouse\", \"range\", \"device\", \"heat\", \"measurement\", \"set\", \"social\", \"prediction\", \"research\", \"pressure\", \"equation\", \"frequency\", \"circuit\", \"controller\", \"resistance\", \"symptom\", \"nonlinear\", \"filter\", \"gain\", \"strain\", \"structural\", \"feedback\", \"output\", \"voltage\", \"line\", \"transfer\", \"mm\", \"differential\", \"node\", \"digital\", \"mode\", \"light\", \"loop\", \"vehicle\", \"bias\", \"integrate\", \"converter\", \"spectrum\", \"screen\", \"k\", \"regulate\", \"measurement\", \"range\", \"active\", \"surface\", \"signal\", \"loss\", \"force\", \"property\", \"load\", \"stage\", \"reduce\", \"experimental\", \"rate\", \"without\", \"stress\", \"obtain\", \"characteristic\", \"response\", \"sample\", \"material\", \"demonstrate\", \"achieve\", \"value\", \"condition\", \"due\", \"technique\", \"change\", \"problem\", \"set\", \"prediction\", \"exist\", \"software\", \"framework\", \"resource\", \"theory\", \"tool\", \"help\", \"engineering\", \"project\", \"goal\", \"machine\", \"concept\", \"outcome\", \"cognitive\", \"strength\", \"effectiveness\", \"robust\", \"estimation\", \"sleep\", \"acquire\", \"build\", \"optimization\", \"identification\", \"create\", \"account\", \"verify\", \"attack\", \"key\", \"estimate\", \"cost\", \"learn\", \"network\", \"compute\", \"information\", \"domain\", \"work\", \"many\", \"dynamic\", \"research\", \"technology\", \"describe\", \"feature\", \"error\", \"accord\", \"strategy\", \"image\", \"improve\", \"however\", \"source\", \"number\", \"need\", \"require\", \"simulation\", \"development\", \"case\", \"adolescent\", \"social\", \"parent\", \"health\", \"experience\", \"disorder\", \"risk\", \"age\", \"child\", \"intervention\", \"association\", \"people\", \"woman\", \"student\", \"care\", \"participant\", \"acute\", \"injury\", \"female\", \"game\", \"course\", \"adult\", \"mental_health\", \"food\", \"pain\", \"secondary\", \"nurse\", \"population\", \"likely\", \"healthy\", \"evidence\", \"whether\", \"group\", \"finding\", \"diagnosis\", \"associate\", \"year\", \"individual\", \"treatment\", \"report\", \"among\", \"disease\", \"support\", \"examine\", \"clinical\", \"behavior\", \"significantly\", \"suggest\", \"role\", \"influence\", \"gene\", \"protein\", \"cancer\", \"mouse\", \"inhibitor\", \"rna\", \"receptor\", \"tumor\", \"cd\", \"pathway\", \"beta\", \"molecular\", \"enzyme\", \"assay\", \"compound\", \"acid\", \"inhibit\", \"metabolic\", \"dna\", \"kinase\", \"culture\", \"virus\", \"mutation\", \"bind\", \"mir\", \"inhibition\", \"metabolism\", \"liver\", \"vitro\", \"inflammatory\", \"expression\", \"tissue\", \"drug\", \"human\", \"activity\", \"rat\", \"role\", \"skin\", \"infection\", \"reaction\", \"mechanism\", \"p\", \"indicate\", \"potential\", \"c\", \"joint\", \"engine\", \"protocol\", \"emerge\", \"capture\", \"secure\", \"motor\", \"hybrid\", \"module\", \"hdpp\", \"clear\", \"electricity\", \"valve\", \"explicit\", \"involvement\", \"ass\", \"oxygen\", \"gap\", \"abstract\", \"et\", \"hip\", \"handover\", \"burst\", \"permanent_magnet\", \"run\", \"difficulty\", \"min\", \"exogenous\", \"board\", \"stem\", \"procedure\", \"amplitude\", \"trend\", \"leave\", \"device\", \"channel\", \"electrical\", \"water\", \"communication\", \"heat\", \"wind\", \"fluid\", \"combustion\", \"tank\", \"velocity\", \"wind_turbine\", \"solar\", \"variability\", \"roll\", \"co\", \"leukemia\", \"serious\", \"dependent\", \"vi\", \"allergy\", \"thermodynamic\", \"dry\", \"liquid\", \"diabetes\", \"atm\", \"foam\", \"precursor\", \"ft\", \"known\", \"mild\", \"biomass\", \"cool\", \"viscosity\", \"vrg\", \"flow\", \"water\", \"pressure\", \"pump\", \"temperature\", \"thermal\", \"concentration\", \"fuel\", \"gas\", \"equation\", \"ratio\", \"efficiency\", \"ltd\", \"soil\", \"jak\", \"iron\", \"followup\", \"soft\", \"risk_factors\", \"successful\", \"gi\", \"fibrosis\", \"median\", \"initiate\", \"wf\", \"surgical\", \"cable\", \"pmf\", \"acs\", \"geotextile\", \"betacatenin\", \"drainage\", \"rainfall\", \"thrombosis\", \"bioprosthetic\", \"excess\", \"stat\", \"gcl\", \"pathological\", \"emulsion\", \"smoke\", \"contactor\", \"smf\", \"crop\", \"suspension_bridge\"], \"Freq\": [375.0, 279.0, 173.0, 218.0, 265.0, 214.0, 183.0, 117.0, 281.0, 284.0, 245.0, 315.0, 304.0, 241.0, 229.0, 135.0, 238.0, 97.0, 272.0, 133.0, 255.0, 154.0, 90.0, 229.0, 206.0, 153.0, 204.0, 329.0, 101.0, 141.0, 240.99870209853634, 207.4121629625172, 202.02640194459053, 147.20420963909405, 146.2623862028257, 143.04870563957184, 138.86708734346144, 133.3052498449829, 132.21852859047138, 147.6219145613821, 125.97038905183341, 123.95574969773845, 119.85845494822146, 118.66678121486623, 115.85884426024272, 111.67732502263053, 111.76296109432509, 108.42768622452978, 107.57235323950297, 101.04382243055157, 100.09623502791916, 95.86213430123078, 94.53721450548323, 94.27306263771861, 86.42282524305506, 84.29153831617258, 83.3073859453918, 82.03355557009131, 81.31471281327288, 80.14882524523053, 226.1204128442756, 249.96572500191533, 165.04920185596959, 199.65563490715155, 288.008497355682, 131.98353706811463, 155.14186615841976, 163.2577289160087, 198.80109439011036, 131.86194276157318, 241.95216490834326, 202.52223925733446, 224.1789405734142, 150.7350507489622, 228.6697080600969, 204.37178524186555, 182.05887090445486, 193.19508918374657, 191.51124330208083, 181.09137893484024, 175.4450816843333, 158.5189437144558, 156.37150406121046, 161.5442645433809, 155.02229016877916, 151.4036832295051, 146.54902434968187, 245.186727650996, 206.2042225514394, 203.65053897759577, 154.76105503209925, 146.18866964185827, 134.0253633939028, 126.8418021128854, 126.57553849435074, 124.5091353569222, 123.24486862447385, 121.70682833398203, 119.23194063635533, 117.84046114353599, 114.38296453821614, 111.54703825336276, 110.01509247764366, 107.55743552907687, 103.03114117758905, 101.58289262490024, 97.42967381975835, 93.03666334796407, 92.01735867665859, 88.26247080633537, 87.69631845849028, 85.66266310245564, 85.2239223763081, 80.15464302151906, 78.49284664842082, 77.22297085679106, 76.95868415379687, 145.95927725281229, 180.5365243624037, 130.85035515181966, 163.99134387694116, 252.6497592821765, 98.85216398179548, 224.5400089098462, 144.8101512284404, 261.32701477786355, 151.23663574153042, 213.328160527665, 237.67917447811695, 151.47540970609987, 143.7022245918411, 158.38352465438572, 159.80238852164447, 148.93618452046945, 148.49560140261997, 146.0582166116369, 171.79861616211682, 158.88833998071308, 131.6619784118491, 139.97039293767338, 138.34419859089138, 135.5117348326651, 139.58487101183, 137.43509818767373, 134.96228098738825, 264.3218793730311, 152.9379760773628, 144.54442040703557, 142.0346097338913, 134.6471639353881, 132.99892028816774, 132.93620503050417, 131.2613974262719, 127.38426786373131, 116.06460035240588, 114.20253555825201, 111.97695454838163, 108.43122749765823, 98.08253964857573, 97.5802875552612, 93.32034237631116, 91.55502401244814, 89.92197201787332, 78.2135338246581, 78.02650267779792, 77.71627026787161, 76.9665945573542, 76.09385009177218, 72.8086493612261, 72.71808403947706, 71.63477656488146, 70.33597210686251, 69.25243858920548, 65.8728609832194, 63.653967730131924, 125.23882301643101, 99.63669482012415, 237.727351985764, 106.97165186084628, 94.04963523835849, 191.342364841131, 135.13565078572057, 140.581355508211, 207.66139556368807, 177.43733371202637, 139.77971327733033, 139.92154360649337, 149.9299197293031, 131.4206720441065, 112.34588020839576, 142.54367429740196, 115.44256102571157, 116.71768552439895, 111.33528844828479, 107.16632170426503, 278.7366118057537, 213.4492609236571, 134.95933608386528, 133.2211199880642, 114.1700544007198, 111.09342893199695, 104.46003934667233, 102.44026831030668, 88.39274405471913, 83.66947571380513, 80.3397729019076, 80.12989941889263, 79.70266004923695, 75.84412604540817, 75.38292578081334, 74.98618388731079, 72.46697493477646, 71.3128862319289, 66.14777075814352, 64.55591238435463, 64.19170400479855, 63.11389669673741, 61.479103779957235, 61.02510505644624, 60.857417414694325, 60.03549912104628, 59.35301171183836, 56.615047196074215, 55.22653944348088, 52.95065855262402, 329.14261631977, 93.01914439649184, 85.68485149398198, 145.89997978002842, 146.54815079563485, 72.72012768675829, 117.65031089611368, 73.37781098475371, 75.3227818707593, 79.2235071021945, 88.19764531156429, 85.3997792711977, 78.2988281497599, 79.91713885583209, 75.88294542206583, 116.87182950627707, 97.2553943221927, 79.68895117582551, 72.19458512155916, 59.128223586842296, 55.739429076480334, 54.19789155280925, 52.26829104039615, 50.94816974667461, 48.15333029810113, 46.35506087838127, 45.1579355252122, 45.19226366254337, 43.406919101207556, 41.53647053865537, 39.71948923963606, 38.72937652324509, 37.99562729838838, 38.49452887870405, 36.70150410658659, 36.708711019901685, 35.961034057704765, 34.16614679609728, 33.2281147095804, 31.835404934677076, 30.672625627391962, 27.867030813686554, 28.95235307179606, 26.65825210938144, 26.67588180041953, 71.63073689537309, 49.62467141157006, 42.7683589511519, 44.43373411735653, 50.643048940990894, 38.7293739648804, 42.240440398589236, 44.89009009297573, 41.43763579417948, 89.34547281411173, 75.83666187470331, 71.92349407813649, 61.95322669803782, 57.743940988230875, 56.59374598864285, 46.94100936981467, 46.93814776556756, 46.47619988620713, 40.744513889395236, 38.8533422400699, 40.42175175786049, 36.11104453377651, 35.14902460534779, 30.841997225475332, 29.029161992414767, 28.58691446979307, 27.460108613668577, 26.289388310492463, 26.916893409318398, 24.9914585203905, 23.71867284198174, 23.63506034288635, 24.78562645677517, 24.124618231974807, 22.15791811555218, 21.670298516215485, 21.33319706464871, 21.321750647660252, 20.88887935020449, 138.28516519906717, 118.15283141420696, 63.85055526775108, 29.15680742686264, 90.16388268627331, 56.00342386000287, 57.72065468366998, 35.70947203277356, 39.28051715657125, 41.39153155218119, 36.89367317470757, 35.188619818488924, 32.39784698337507, 37.39468883538316, 31.87531486951445, 28.131260852090023, 25.31628458624661, 22.91493744075609, 22.531136490897588, 21.577406751876065, 20.67761683048135, 20.743341608776344, 19.538936916929345, 18.465864015194928, 18.715279559456167, 17.43438761876745, 14.976069207972953, 13.940784105117444, 13.113297258896697, 12.213989487315354, 12.249618695937851, 11.151841158220087, 11.029804606894576, 11.219011000467223, 11.212827567659545, 10.716350423197166, 10.711112585928642, 10.102918004537251, 10.690279003331952, 9.595075702261434, 9.414537614169681, 9.207829736566882, 9.16096768423203, 27.422306658120036, 9.779265243896686], \"Total\": [375.0, 279.0, 173.0, 218.0, 265.0, 214.0, 183.0, 117.0, 281.0, 284.0, 245.0, 315.0, 304.0, 241.0, 229.0, 135.0, 238.0, 97.0, 272.0, 133.0, 255.0, 154.0, 90.0, 229.0, 206.0, 153.0, 204.0, 329.0, 101.0, 141.0, 241.71909615751656, 208.10491103204873, 202.71933706771696, 147.89917470867505, 146.96205709731274, 143.74168584054112, 139.55984643515836, 133.99971486962818, 132.91362325413115, 148.40436958847505, 126.66534799847169, 124.64860973278026, 120.55070365059018, 119.36262740132837, 116.55449853024649, 112.37115790161492, 112.45800973770811, 109.12559543270656, 108.26566972497417, 101.73692586768972, 100.79374592305324, 96.55667479608606, 95.23135022993799, 94.97033347834513, 87.1184302827812, 84.9836649402664, 84.00337758435091, 82.73223581518697, 82.01109558890697, 80.84848437525473, 229.55997334826534, 255.85804206140693, 167.92588900524098, 204.56205677401468, 304.98656281425383, 136.60318661112012, 163.2430677318863, 175.6685520219603, 224.32521219072987, 141.4601332070078, 305.7176834317554, 244.6331313668243, 281.2814795175346, 173.61440350146034, 331.58455019585597, 292.65033591188154, 246.22271026026309, 290.3443481449213, 290.0036043846019, 273.093302780718, 316.62073366604335, 269.6880589620343, 267.0635232660703, 326.4065350513328, 273.6175947731388, 255.7869673562137, 322.09329687100285, 245.8966767814281, 206.9163227701841, 204.36166064509158, 155.47176157874569, 146.8984625633049, 134.73514053278285, 127.55342616080857, 127.28725226772927, 125.22030115308556, 123.95875528088149, 122.41756932365558, 119.94159351696992, 118.55282137528496, 115.09272883162232, 112.25737896699114, 110.72996850296661, 108.2709817069109, 103.74286339422048, 102.29331460252402, 98.14036835702822, 93.74702920507156, 92.7309431366488, 88.97540023924664, 88.40697507687395, 86.37248803860436, 85.93458938258631, 80.86586476195491, 79.20378603423912, 77.93518899331329, 77.67050439837396, 147.38710142030948, 186.8581441196557, 134.58206436162507, 171.47280729291754, 281.8817124795845, 101.04036951824283, 261.4433736654955, 160.3859173560947, 342.902579023195, 173.0773882877192, 283.5434288159296, 329.9548633518679, 187.36601998047627, 182.45736612588223, 224.1777013484313, 230.3103863124339, 200.6945019314943, 205.62582034566, 201.51639812533617, 327.59270392395746, 314.0474350643691, 166.36202211369704, 235.5175710203841, 230.2195239821483, 217.67880421308925, 284.822923885872, 265.1461362851122, 242.85512633328378, 265.0721794865, 153.68705328509301, 145.29421669326567, 142.7847664080689, 135.3984764637981, 133.7487396530297, 133.6875654674773, 132.01165099409917, 128.13348436318043, 116.81461438637518, 114.9536357142949, 112.72725026537483, 109.18037090899337, 98.83201185495898, 98.33152898714732, 94.06983877140753, 92.31288075976751, 90.67417383096368, 78.96371902014607, 78.77685291630115, 78.46611204513079, 77.71648002954596, 76.84430428745732, 73.56049143392559, 73.46938627400924, 72.39049842295574, 71.086455445756, 70.00305883126714, 66.62377770190652, 64.40477431382429, 135.9008066745893, 105.76473620043026, 284.9093302963687, 116.28135597675166, 101.29478336388837, 256.6952618468927, 167.89930931856733, 179.56442996195736, 315.83219644525843, 259.3532233172983, 185.40444358620337, 193.56780220017933, 228.79743291899504, 191.55296465672973, 140.75683096519307, 280.1464749411501, 216.79742164206687, 238.52181646329078, 229.6326925393945, 189.62759751745142, 279.4816109018648, 214.1940943010145, 135.70456891495672, 133.96601187064329, 114.9160756822919, 111.83884870027147, 105.20528623559026, 103.18536053363721, 89.14005743260404, 84.41955015626009, 81.0869254739717, 80.87540698044663, 80.44759978113332, 76.58898988841825, 76.12840909043946, 75.732537438094, 73.21409208164276, 72.05942136129246, 66.89286103042707, 65.30212583172734, 64.94560749660651, 63.85899148554155, 62.227913987366534, 61.77051543471203, 61.602931929558146, 60.78042839392535, 60.0994059976133, 57.359818983824816, 55.97190409810841, 53.69632341829278, 375.89004787587595, 104.94851755254616, 106.38471986001014, 238.980288741909, 272.6273061560504, 87.35949827340085, 229.6326925393945, 89.71723555551078, 95.46565345452359, 126.29375086843513, 199.56008222303186, 202.81826965480136, 180.4569455393184, 264.7655391587669, 256.14439405134044, 117.59455154366506, 97.97660678529544, 80.41021547381024, 72.92701686366651, 59.849431249972945, 56.46227367384115, 54.91889305059659, 52.98755460469015, 51.66989292432539, 48.89968315691298, 47.084186282515674, 45.87676326390224, 45.9136321168769, 44.129381074669446, 42.28729594843691, 40.448318274449385, 39.45094486317526, 38.722818498737716, 39.232141546358726, 37.42177538977661, 37.43114372426228, 36.68153836457407, 34.887108780724795, 33.94888695717894, 32.556928865602586, 31.400601622807407, 28.589815102547888, 29.71650695334337, 27.380502309382123, 27.40677725071336, 78.96821016432669, 61.8569638965165, 51.26281657551344, 58.07708566087394, 154.68286520877612, 72.27256836683381, 118.63974782183547, 183.08172797644056, 124.22939190357107, 90.05881505439292, 76.54866019235608, 72.63722494272727, 62.666129097266776, 58.45620165655133, 57.306385692944154, 47.65389468453414, 47.65242403163528, 47.19924334458056, 41.45726645288962, 39.565163823062356, 41.181241761711924, 36.8546818522222, 35.879599967302504, 31.579187145112922, 29.745256440542036, 29.300925090823974, 28.177785779494904, 27.002272441411773, 27.659031406871005, 25.706087566396253, 24.435161889534314, 24.36034644389795, 25.54664702308141, 24.9003515422194, 22.874500377353026, 22.38421592400803, 22.044997607742516, 22.03369049925287, 21.617495860660725, 173.38538747053434, 183.08172797644056, 101.88504207218125, 34.994671073881, 218.93183967721365, 106.99875537680671, 121.91990144619861, 51.84106975446983, 73.79445741387158, 141.60120657219727, 127.02306373875628, 167.0738274771479, 174.7134655796445, 38.17470797398908, 32.65832389031755, 28.91201941348316, 26.101855514192334, 23.700500913860235, 23.32356801342143, 22.372523981613373, 21.46582054342054, 21.534472706679296, 20.326280365780214, 19.25656491781488, 19.525981207180774, 18.216752959848147, 15.7548215890584, 14.72834292805586, 13.903883555368452, 12.992122698005279, 13.044976071068348, 11.932188163798152, 11.809431979755914, 12.016654203966981, 12.016334945024514, 11.512096654448161, 11.508041557927674, 10.886344649850248, 11.524072455963193, 10.379842791188231, 10.199634188596217, 10.000240639061355, 9.959650849892885, 35.52441994862824, 19.689050259140853], \"Category\": [\"Default\", \"Default\", \"Default\", \"Default\", \"Default\", \"Default\", \"Default\", \"Default\", \"Default\", \"Default\", \"Default\", \"Default\", \"Default\", \"Default\", \"Default\", \"Default\", \"Default\", \"Default\", \"Default\", \"Default\", \"Default\", \"Default\", \"Default\", \"Default\", \"Default\", \"Default\", \"Default\", \"Default\", \"Default\", \"Default\", \"Topic1\", \"Topic1\", \"Topic1\", \"Topic1\", \"Topic1\", \"Topic1\", \"Topic1\", \"Topic1\", \"Topic1\", \"Topic1\", \"Topic1\", \"Topic1\", \"Topic1\", \"Topic1\", \"Topic1\", \"Topic1\", \"Topic1\", \"Topic1\", \"Topic1\", \"Topic1\", \"Topic1\", \"Topic1\", \"Topic1\", \"Topic1\", \"Topic1\", \"Topic1\", \"Topic1\", \"Topic1\", \"Topic1\", \"Topic1\", \"Topic1\", \"Topic1\", \"Topic1\", \"Topic1\", \"Topic1\", \"Topic1\", \"Topic1\", \"Topic1\", \"Topic1\", \"Topic1\", \"Topic1\", \"Topic1\", \"Topic1\", \"Topic1\", \"Topic1\", \"Topic1\", \"Topic1\", \"Topic1\", \"Topic1\", \"Topic1\", \"Topic1\", \"Topic1\", \"Topic1\", \"Topic1\", \"Topic1\", \"Topic1\", \"Topic1\", \"Topic2\", \"Topic2\", \"Topic2\", \"Topic2\", \"Topic2\", \"Topic2\", \"Topic2\", \"Topic2\", \"Topic2\", \"Topic2\", \"Topic2\", \"Topic2\", \"Topic2\", \"Topic2\", \"Topic2\", \"Topic2\", \"Topic2\", \"Topic2\", \"Topic2\", \"Topic2\", \"Topic2\", \"Topic2\", \"Topic2\", \"Topic2\", \"Topic2\", \"Topic2\", \"Topic2\", \"Topic2\", \"Topic2\", \"Topic2\", \"Topic2\", \"Topic2\", \"Topic2\", \"Topic2\", \"Topic2\", \"Topic2\", \"Topic2\", \"Topic2\", \"Topic2\", \"Topic2\", \"Topic2\", \"Topic2\", \"Topic2\", \"Topic2\", \"Topic2\", \"Topic2\", \"Topic2\", \"Topic2\", \"Topic2\", \"Topic2\", \"Topic2\", \"Topic2\", \"Topic2\", \"Topic2\", \"Topic2\", \"Topic2\", \"Topic2\", \"Topic2\", \"Topic3\", \"Topic3\", \"Topic3\", \"Topic3\", \"Topic3\", \"Topic3\", \"Topic3\", \"Topic3\", \"Topic3\", \"Topic3\", \"Topic3\", \"Topic3\", \"Topic3\", \"Topic3\", \"Topic3\", \"Topic3\", \"Topic3\", \"Topic3\", \"Topic3\", \"Topic3\", \"Topic3\", \"Topic3\", \"Topic3\", \"Topic3\", \"Topic3\", \"Topic3\", \"Topic3\", \"Topic3\", \"Topic3\", \"Topic3\", \"Topic3\", \"Topic3\", \"Topic3\", \"Topic3\", \"Topic3\", \"Topic3\", \"Topic3\", \"Topic3\", \"Topic3\", \"Topic3\", \"Topic3\", \"Topic3\", \"Topic3\", \"Topic3\", \"Topic3\", \"Topic3\", \"Topic3\", \"Topic3\", \"Topic3\", \"Topic3\", \"Topic4\", \"Topic4\", \"Topic4\", \"Topic4\", \"Topic4\", \"Topic4\", \"Topic4\", \"Topic4\", \"Topic4\", \"Topic4\", \"Topic4\", \"Topic4\", \"Topic4\", \"Topic4\", \"Topic4\", \"Topic4\", \"Topic4\", \"Topic4\", \"Topic4\", \"Topic4\", \"Topic4\", \"Topic4\", \"Topic4\", \"Topic4\", \"Topic4\", \"Topic4\", \"Topic4\", \"Topic4\", \"Topic4\", \"Topic4\", \"Topic4\", \"Topic4\", \"Topic4\", \"Topic4\", \"Topic4\", \"Topic4\", \"Topic4\", \"Topic4\", \"Topic4\", \"Topic4\", \"Topic4\", \"Topic4\", \"Topic4\", \"Topic4\", \"Topic4\", \"Topic5\", \"Topic5\", \"Topic5\", \"Topic5\", \"Topic5\", \"Topic5\", \"Topic5\", \"Topic5\", \"Topic5\", \"Topic5\", \"Topic5\", \"Topic5\", \"Topic5\", \"Topic5\", \"Topic5\", \"Topic5\", \"Topic5\", \"Topic5\", \"Topic5\", \"Topic5\", \"Topic5\", \"Topic5\", \"Topic5\", \"Topic5\", \"Topic5\", \"Topic5\", \"Topic5\", \"Topic5\", \"Topic5\", \"Topic5\", \"Topic5\", \"Topic5\", \"Topic5\", \"Topic5\", \"Topic5\", \"Topic5\", \"Topic5\", \"Topic5\", \"Topic5\", \"Topic6\", \"Topic6\", \"Topic6\", \"Topic6\", \"Topic6\", \"Topic6\", \"Topic6\", \"Topic6\", \"Topic6\", \"Topic6\", \"Topic6\", \"Topic6\", \"Topic6\", \"Topic6\", \"Topic6\", \"Topic6\", \"Topic6\", \"Topic6\", \"Topic6\", \"Topic6\", \"Topic6\", \"Topic6\", \"Topic6\", \"Topic6\", \"Topic6\", \"Topic6\", \"Topic6\", \"Topic6\", \"Topic6\", \"Topic6\", \"Topic6\", \"Topic6\", \"Topic6\", \"Topic6\", \"Topic6\", \"Topic6\", \"Topic6\", \"Topic6\", \"Topic6\", \"Topic6\", \"Topic6\", \"Topic6\", \"Topic6\", \"Topic7\", \"Topic7\", \"Topic7\", \"Topic7\", \"Topic7\", \"Topic7\", \"Topic7\", \"Topic7\", \"Topic7\", \"Topic7\", \"Topic7\", \"Topic7\", \"Topic7\", \"Topic7\", \"Topic7\", \"Topic7\", \"Topic7\", \"Topic7\", \"Topic7\", \"Topic7\", \"Topic7\", \"Topic7\", \"Topic7\", \"Topic7\", \"Topic7\", \"Topic7\", \"Topic7\", \"Topic7\", \"Topic7\", \"Topic7\", \"Topic7\", \"Topic7\"], \"logprob\": [30.0, 29.0, 28.0, 27.0, 26.0, 25.0, 24.0, 23.0, 22.0, 21.0, 20.0, 19.0, 18.0, 17.0, 16.0, 15.0, 14.0, 13.0, 12.0, 11.0, 10.0, 9.0, 8.0, 7.0, 6.0, 5.0, 4.0, 3.0, 2.0, 1.0, -5.3967, -5.5468, -5.5731, -5.8896, -5.8961, -5.9183, -5.948, -5.9888, -5.997, -5.8868, -6.0454, -6.0615, -6.0952, -6.1051, -6.1291, -6.1659, -6.1651, -6.1954, -6.2033, -6.2659, -6.2753, -6.3186, -6.3325, -6.3353, -6.4222, -6.4472, -6.4589, -6.4743, -6.4831, -6.4976, -5.4604, -5.3601, -5.7752, -5.5849, -5.2185, -5.9988, -5.8371, -5.7861, -5.5892, -5.9997, -5.3927, -5.5706, -5.469, -5.8659, -5.4492, -5.5615, -5.6771, -5.6178, -5.6265, -5.6825, -5.7141, -5.8156, -5.8292, -5.7967, -5.8379, -5.8615, -5.8941, -5.3226, -5.4957, -5.5082, -5.7827, -5.8397, -5.9266, -5.9817, -5.9838, -6.0002, -6.0104, -6.023, -6.0435, -6.0553, -6.085, -6.1101, -6.124, -6.1466, -6.1896, -6.2037, -6.2455, -6.2916, -6.3026, -6.3443, -6.3507, -6.3742, -6.3793, -6.4406, -6.4616, -6.4779, -6.4813, -5.8413, -5.6287, -5.9505, -5.7248, -5.2926, -6.231, -5.4105, -5.8492, -5.2588, -5.8057, -5.4618, -5.3537, -5.8042, -5.8569, -5.7596, -5.7507, -5.8211, -5.824, -5.8406, -5.6783, -5.7564, -5.9444, -5.8832, -5.8948, -5.9155, -5.8859, -5.9014, -5.9196, -4.8415, -5.3886, -5.445, -5.4626, -5.516, -5.5283, -5.5288, -5.5414, -5.5714, -5.6645, -5.6807, -5.7003, -5.7325, -5.8328, -5.838, -5.8826, -5.9017, -5.9197, -6.0592, -6.0616, -6.0656, -6.0753, -6.0867, -6.1308, -6.132, -6.147, -6.1653, -6.1809, -6.2309, -6.2652, -5.5884, -5.8171, -4.9475, -5.7461, -5.8748, -5.1646, -5.5123, -5.4728, -5.0827, -5.24, -5.4786, -5.4775, -5.4085, -5.5402, -5.697, -5.459, -5.6699, -5.6589, -5.7061, -5.7442, -4.4188, -4.6857, -5.1441, -5.1571, -5.3114, -5.3387, -5.4003, -5.4198, -5.5673, -5.6222, -5.6628, -5.6654, -5.6708, -5.7204, -5.7265, -5.7318, -5.7659, -5.782, -5.8572, -5.8815, -5.8872, -5.9041, -5.9304, -5.9378, -5.9405, -5.9541, -5.9656, -6.0128, -6.0376, -6.0797, -4.2526, -5.5163, -5.5984, -5.0661, -5.0617, -5.7624, -5.2813, -5.7534, -5.7273, -5.6768, -5.5695, -5.6017, -5.6885, -5.6681, -5.7199, -4.5435, -4.7272, -4.9264, -5.0252, -5.2249, -5.2839, -5.3119, -5.3482, -5.3738, -5.4302, -5.4682, -5.4944, -5.4936, -5.5339, -5.578, -5.6227, -5.648, -5.6671, -5.6541, -5.7017, -5.7016, -5.7221, -5.7733, -5.8012, -5.844, -5.8812, -5.9771, -5.9389, -6.0215, -6.0208, -5.033, -5.4001, -5.5488, -5.5106, -5.3798, -5.648, -5.5612, -5.5004, -5.5804, -4.6772, -4.8411, -4.8941, -5.0433, -5.1137, -5.1338, -5.3208, -5.3209, -5.3308, -5.4624, -5.5099, -5.4704, -5.5831, -5.6101, -5.7408, -5.8014, -5.8168, -5.857, -5.9006, -5.877, -5.9512, -6.0035, -6.007, -5.9595, -5.9865, -6.0715, -6.0938, -6.1095, -6.11, -6.1305, -4.2404, -4.3977, -5.0132, -5.797, -4.6681, -5.1443, -5.1141, -5.5943, -5.499, -5.4466, -5.5617, -5.609, -5.6916, -4.3766, -4.5363, -4.6612, -4.7667, -4.8663, -4.8832, -4.9265, -4.9691, -4.9659, -5.0257, -5.0822, -5.0688, -5.1397, -5.2917, -5.3633, -5.4245, -5.4955, -5.4926, -5.5865, -5.5975, -5.5805, -5.581, -5.6263, -5.6268, -5.6853, -5.6288, -5.7369, -5.7558, -5.7781, -5.7832, -4.6867, -5.7178], \"loglift\": [30.0, 29.0, 28.0, 27.0, 26.0, 25.0, 24.0, 23.0, 22.0, 21.0, 20.0, 19.0, 18.0, 17.0, 16.0, 15.0, 14.0, 13.0, 12.0, 11.0, 10.0, 9.0, 8.0, 7.0, 6.0, 5.0, 4.0, 3.0, 2.0, 1.0, 1.2361, 1.2357, 1.2356, 1.2343, 1.2343, 1.2342, 1.2341, 1.2339, 1.2338, 1.2338, 1.2335, 1.2335, 1.2333, 1.2332, 1.2331, 1.2329, 1.2328, 1.2326, 1.2326, 1.2322, 1.2321, 1.2318, 1.2317, 1.2317, 1.231, 1.2309, 1.2307, 1.2306, 1.2305, 1.2304, 1.2239, 1.2157, 1.2218, 1.2148, 1.1818, 1.2046, 1.1881, 1.1658, 1.1183, 1.1688, 1.0051, 1.0501, 1.0121, 1.0977, 0.8674, 0.88, 0.9371, 0.8317, 0.8241, 0.8282, 0.6487, 0.7077, 0.7038, 0.5357, 0.6709, 0.7147, 0.4516, 1.293, 1.2925, 1.2924, 1.2913, 1.2911, 1.2906, 1.2903, 1.2903, 1.2902, 1.2901, 1.2901, 1.29, 1.2899, 1.2897, 1.2896, 1.2894, 1.2893, 1.289, 1.289, 1.2887, 1.2883, 1.2882, 1.2879, 1.2879, 1.2877, 1.2876, 1.2871, 1.2869, 1.2867, 1.2867, 1.2862, 1.2615, 1.2678, 1.2513, 1.1864, 1.274, 1.1438, 1.1938, 1.0242, 1.161, 1.0114, 0.9679, 1.0833, 1.0571, 0.9485, 0.9304, 0.9977, 0.9704, 0.9741, 0.6505, 0.6146, 1.062, 0.7756, 0.7866, 0.822, 0.5827, 0.6388, 0.7085, 1.6991, 1.697, 1.6967, 1.6966, 1.6963, 1.6963, 1.6962, 1.6962, 1.696, 1.6954, 1.6953, 1.6952, 1.695, 1.6943, 1.6942, 1.6939, 1.6936, 1.6936, 1.6923, 1.6923, 1.6923, 1.6922, 1.6921, 1.6916, 1.6916, 1.6914, 1.6913, 1.6911, 1.6906, 1.6902, 1.6202, 1.6422, 1.5208, 1.6184, 1.6277, 1.4081, 1.4848, 1.4571, 1.2826, 1.3223, 1.4194, 1.3773, 1.2792, 1.3251, 1.4764, 1.0262, 1.0717, 0.9872, 0.978, 1.1312, 2.0688, 2.068, 2.0659, 2.0659, 2.0649, 2.0648, 2.0643, 2.0642, 2.063, 2.0625, 2.0622, 2.0622, 2.0621, 2.0617, 2.0616, 2.0615, 2.0612, 2.061, 2.0602, 2.06, 2.0598, 2.0597, 2.0593, 2.0593, 2.0593, 2.0591, 2.059, 2.0584, 2.058, 2.0575, 1.9386, 1.9508, 1.8551, 1.578, 1.4507, 1.888, 1.4027, 1.8704, 1.8345, 1.6051, 1.2549, 1.2065, 1.2365, 0.8736, 0.8549, 2.8098, 2.8086, 2.8069, 2.8059, 2.8038, 2.8031, 2.8027, 2.8023, 2.8019, 2.8006, 2.8003, 2.8002, 2.8001, 2.7994, 2.798, 2.7978, 2.7975, 2.797, 2.797, 2.7965, 2.7965, 2.7961, 2.7951, 2.7945, 2.7935, 2.7925, 2.7903, 2.7899, 2.7892, 2.7889, 2.7184, 2.5956, 2.6348, 2.5482, 1.6994, 2.1921, 1.7832, 1.4102, 1.718, 2.9428, 2.9414, 2.9409, 2.9394, 2.9385, 2.9383, 2.9357, 2.9357, 2.9354, 2.9335, 2.9326, 2.9322, 2.9304, 2.9302, 2.9272, 2.9264, 2.9261, 2.925, 2.924, 2.9236, 2.9226, 2.921, 2.9206, 2.9206, 2.9191, 2.919, 2.9184, 2.918, 2.9179, 2.9165, 2.7246, 2.5128, 2.4835, 2.7683, 2.0637, 2.3034, 2.203, 2.578, 2.3202, 1.7209, 1.7145, 1.3931, 1.2657, 4.1018, 4.0981, 4.095, 4.0919, 4.0887, 4.0878, 4.0862, 4.085, 4.085, 4.0829, 4.0805, 4.08, 4.0785, 4.0717, 4.0675, 4.0639, 4.0606, 4.0595, 4.0548, 4.0541, 4.0537, 4.0532, 4.0508, 4.0506, 4.0477, 4.0473, 4.0438, 4.0423, 4.0399, 4.0388, 3.8635, 3.4226]}, \"token.table\": {\"Topic\": [5, 1, 2, 3, 2, 1, 2, 4, 2, 7, 1, 2, 2, 3, 4, 5, 3, 3, 3, 3, 6, 2, 3, 4, 5, 6, 5, 4, 2, 3, 4, 3, 6, 2, 1, 2, 3, 4, 7, 1, 4, 6, 7, 5, 2, 5, 1, 2, 3, 4, 7, 4, 5, 3, 1, 2, 3, 4, 1, 2, 3, 4, 1, 5, 1, 2, 3, 1, 5, 3, 4, 6, 2, 6, 2, 3, 5, 4, 1, 2, 4, 5, 6, 2, 1, 2, 3, 6, 7, 1, 1, 6, 2, 5, 3, 2, 4, 7, 4, 1, 2, 4, 6, 1, 2, 2, 3, 4, 1, 5, 6, 3, 4, 1, 5, 1, 3, 4, 3, 4, 2, 4, 7, 3, 4, 6, 1, 2, 3, 1, 2, 2, 1, 2, 5, 6, 1, 5, 5, 5, 7, 5, 2, 4, 1, 2, 6, 1, 2, 1, 2, 2, 5, 3, 4, 1, 2, 3, 4, 7, 2, 5, 3, 1, 2, 5, 1, 3, 4, 1, 2, 1, 3, 7, 1, 3, 4, 2, 6, 6, 6, 7, 3, 1, 2, 2, 1, 6, 2, 6, 1, 3, 5, 5, 6, 7, 4, 7, 7, 2, 1, 3, 4, 5, 5, 5, 3, 3, 6, 2, 5, 2, 3, 4, 2, 3, 4, 5, 2, 1, 2, 3, 5, 1, 2, 3, 1, 3, 4, 6, 1, 2, 3, 3, 4, 4, 1, 2, 3, 6, 2, 3, 4, 4, 4, 7, 3, 1, 3, 5, 7, 7, 5, 1, 1, 2, 4, 6, 2, 3, 4, 5, 6, 1, 3, 1, 6, 4, 1, 2, 1, 1, 2, 1, 2, 3, 6, 2, 2, 3, 4, 1, 2, 1, 2, 1, 2, 3, 4, 7, 3, 4, 4, 6, 5, 4, 1, 1, 5, 4, 5, 4, 4, 1, 2, 3, 2, 5, 1, 1, 1, 2, 3, 3, 1, 2, 6, 2, 2, 1, 5, 1, 3, 4, 3, 3, 3, 7, 4, 3, 5, 7, 3, 1, 2, 3, 4, 6, 2, 1, 6, 2, 5, 7, 2, 1, 2, 4, 5, 5, 6, 7, 1, 5, 3, 4, 1, 3, 6, 1, 6, 1, 4, 6, 4, 1, 2, 3, 1, 1, 2, 3, 4, 1, 2, 3, 2, 3, 1, 2, 1, 3, 4, 3, 7, 4, 2, 3, 4, 6, 5, 1, 2, 3, 4, 1, 3, 5, 6, 2, 1, 4, 1, 2, 3, 4, 1, 2, 1, 4, 2, 7, 7, 3, 7, 2, 7, 6, 1, 2, 5, 1, 1, 2, 7, 5, 1, 1, 2, 3, 2, 1, 3, 1, 3, 7, 1, 2, 3, 4, 1, 2, 3, 1, 6, 7, 6, 7, 1, 6, 1, 2, 1, 2, 5, 1, 6, 2, 1, 6, 6, 7, 1, 4, 5, 2, 1, 1, 3, 4, 3, 5, 4, 1, 2, 4, 5, 6, 1, 6, 2, 6, 4, 6, 4, 1, 6, 2, 5, 6, 7, 3, 4, 6, 6, 1, 2, 3, 3, 1, 2, 2, 3], \"Freq\": [0.9685935690025291, 0.08470585808973898, 0.7424219326688887, 0.16941171617947795, 0.9848014079311975, 0.5895700410761733, 0.41158663244940397, 0.9903273089364951, 0.9890374166722051, 0.9349905692342013, 0.9825763077833123, 0.011910015851918938, 0.10637232348032136, 0.33745702621343326, 0.5391976397105945, 0.0183400557724692, 0.9966106489452784, 0.9959551413936498, 0.9907808481640757, 0.9923366537235082, 0.9749453684478487, 0.1995637174833781, 0.7551059580452144, 0.04314891188829797, 0.8083164263226273, 0.1939959423174306, 0.9889162691163706, 0.9923097316040289, 0.13245277593117197, 0.7440729471427602, 0.12076576629018622, 0.9917041709175248, 0.9725322819128932, 0.9913673227235023, 0.13921288857263925, 0.34981700205432426, 0.5104472580996773, 0.9865955520249612, 0.9198943665840877, 0.9897827727585439, 0.987526161481906, 0.9828354084274205, 0.9154205546304834, 0.9861031654904394, 0.9953965727645351, 0.974572017810346, 0.26937930949279315, 0.2888995493111115, 0.14444977465555575, 0.29670764523843884, 0.952089486714174, 0.9948080678448029, 0.9858071959543755, 0.9966284569093738, 0.16470724997217373, 0.5558869686560863, 0.275884643703391, 0.9872104925053924, 0.4563895039978834, 0.20490957322353948, 0.32599250285563103, 0.012418762013547848, 0.45660477752086975, 0.5396238279792097, 0.7391682099820192, 0.2599272826310397, 0.9911538785602076, 0.9946906056826378, 0.9769734518504724, 0.7956985052305974, 0.19892462630764934, 0.985715620296941, 0.9974971898966941, 0.9893701891777479, 0.50712636546512, 0.16099249697305396, 0.33003461879476065, 0.985177555870123, 0.01979406854444352, 0.9798063929499542, 0.4429137438552587, 0.07381895730920979, 0.47572216932601863, 0.9977072423268779, 0.49631359241788103, 0.3124937433742214, 0.11948290187837877, 0.07352793961746386, 0.89997834300563, 0.9964515616609545, 0.9884252468876484, 0.9525970641350626, 0.9733837909336865, 0.022291231853443203, 0.9940597025520687, 0.9892925801943285, 0.19704755236321042, 0.7600405591152402, 0.9854400084462075, 0.5527117506605924, 0.30004352178717875, 0.1421258787412952, 0.9754846774182517, 0.20826783158638157, 0.7892254670641827, 0.5166961959901373, 0.3469784673802382, 0.1320026778076993, 0.6658785371022218, 0.3297068484680904, 0.9761730120922713, 0.9279846096547459, 0.0691052368891832, 0.9959272822026963, 0.987242230973166, 0.99754613142237, 0.7232607820551589, 0.2738058674923101, 0.9944018937675818, 0.9866523719172223, 0.9040693995475032, 0.09352442064284516, 0.9218761763557853, 0.18799692311374852, 0.8083867693891186, 0.9582016206414634, 0.5664840381646993, 0.30699780132796606, 0.12426101482322437, 0.24687576182709747, 0.7512076752738823, 0.9971326121979356, 0.45488872283359383, 0.22145898348477594, 0.10773680277637748, 0.20948822762073402, 0.6405947534053364, 0.3540128900397912, 0.9808887288133487, 0.9872884302205928, 0.9634057279257937, 0.9900322452742667, 0.9965889755370686, 0.9944361325589444, 0.014124173433368827, 0.6920844982350726, 0.28954555538406096, 0.30393766047979953, 0.694714652525256, 0.03210991968408862, 0.9686492438033399, 0.9920314359675608, 0.9887291453870508, 0.919788506475234, 0.07358308051801872, 0.0626458589221235, 0.15139415906179846, 0.6838839598998483, 0.09918927662669555, 0.955516647417107, 0.9969656124433456, 0.975888587630157, 0.9970570092499923, 0.8298140111512698, 0.17168565747957307, 0.9744075025036388, 0.06384845817446363, 0.061188105750527653, 0.8752559474749391, 0.28994855246094636, 0.7047980198281466, 0.9947471979591473, 0.9877954200726007, 0.9751805993135129, 0.9959884848725563, 0.9201819079353762, 0.07739847823755501, 0.2018624551388335, 0.7959148231188292, 0.9912272950511296, 0.9821911599562312, 0.9577863147088059, 0.9923805371198609, 0.9495043321200942, 0.04900667520619841, 0.9945438099528016, 0.9970250751018531, 0.9786020050855396, 0.30863560639815796, 0.6944301143958553, 0.992539425396533, 0.9901385637082184, 0.9813335256378283, 0.46073920984760597, 0.5284949760016656, 0.9185819778485114, 0.998276770695894, 0.9236365972623086, 0.978299429901676, 0.9953369192831356, 0.01754944281676874, 0.835353478078192, 0.11231643402731994, 0.03509888563353748, 0.981420125900928, 0.9816014522215613, 0.9945038506010783, 0.9937151504971984, 0.9882430714444396, 0.9922655299441413, 0.9884816844647251, 0.5062929425531222, 0.33116016368254536, 0.16239584949817126, 0.2385133949752574, 0.1464555934058598, 0.6109290467787295, 0.981362517820312, 0.9891244097481463, 0.07939800506978374, 0.7245067962617766, 0.153833634822706, 0.04466137785175336, 0.2869416774978596, 0.5250422184003388, 0.1862068332698876, 0.20503505636439107, 0.3214063045712076, 0.4322360647681758, 0.03879041606893885, 0.1169496653900167, 0.09467353864906113, 0.7852334676186835, 0.1990244586661832, 0.7856228631559863, 0.9870321956148014, 0.28476867664280975, 0.03691445808332719, 0.5642638592737157, 0.11074337424998158, 0.8606070096382588, 0.1376971215421214, 0.9834172350278018, 0.9871598734239367, 0.9920283069461528, 0.934746154198437, 0.9925648748427476, 0.98716195552249, 0.9930264343151383, 0.9932060931777896, 0.9684553541404362, 0.9798420796937247, 0.9949440553506912, 0.9876712342196324, 0.006784854240048195, 0.9905887190470364, 0.9953734150629971, 0.9638418140124317, 0.9564198696522641, 0.04082279931442591, 0.22384043297058884, 0.7576137731312238, 0.971316023723933, 0.9921250478808558, 0.9906373111309077, 0.9969619686729153, 0.9628819224905439, 0.9937269853671211, 0.8871049226103154, 0.11144534203647179, 0.9942347352240363, 0.9663024946539175, 0.02928189377739144, 0.49223452648414345, 0.30335383608906513, 0.01717097185409803, 0.18315703311037895, 0.9905056657990884, 0.8724420994207611, 0.040444335734737276, 0.08088867146947455, 0.6627771467004269, 0.33321944944607096, 0.9844921860882755, 0.013068480346304541, 0.15534168784994715, 0.23050702068056672, 0.17538577660477903, 0.44096995260630156, 0.9839478566708391, 0.9890127928766331, 0.9852979479812817, 0.9817068741468599, 0.9617696403013537, 0.9793697475680658, 0.9902126098438369, 0.9966970358894061, 0.9927565545999679, 0.9870351400707081, 0.9891758568750291, 0.983268179681808, 0.9927891272035771, 0.9802674730890735, 0.03474944201787306, 0.5994278748083104, 0.36486914118766717, 0.8975396018935556, 0.1028800334186289, 0.9896853215027754, 0.9948401478930482, 0.2632499975750594, 0.5944354783952954, 0.14011693419317678, 0.984716421167109, 0.6970776211971457, 0.22552511274025303, 0.07517503758008434, 0.9956874226149666, 0.9934076699123503, 0.994796494448107, 0.9885694787605408, 0.06902731210471391, 0.5078437961989667, 0.4190943949214773, 0.9936111311416346, 0.9979750281878955, 0.9886271860845082, 0.9545236757261094, 0.9950301777789209, 0.9935485850700448, 0.9720495414657979, 0.9505482095566605, 0.985671214258153, 0.366361877411221, 0.11330779713749103, 0.21906174113248267, 0.30215412569997613, 0.9852076634161246, 0.9982302911223664, 0.3631543870177436, 0.6281589397063674, 0.9963534408306577, 0.9117592997254669, 0.08864326525108705, 0.9921495663901055, 0.9278837795601764, 0.06831046229890869, 0.9944251763574005, 0.9948984656813431, 0.1428788968881566, 0.8286976019513083, 0.9314588558413761, 0.9771043270158342, 0.019542086540316684, 0.1602573306474988, 0.8356275098048151, 0.796355310645457, 0.18842335475093402, 0.010665472910430226, 0.7085327447706641, 0.291285683961273, 0.2454594925468153, 0.6255258035870455, 0.1266887703467434, 0.9885434821888016, 0.7915799874037088, 0.10467173387156481, 0.10467173387156481, 0.989505253168179, 0.15808556175081628, 0.06940341735401691, 0.6824669373144996, 0.08868214439679938, 0.2388840759576039, 0.6247737371198872, 0.13781773612938686, 0.7213107804572466, 0.2788260159750701, 0.9939203534404691, 0.9956612207334137, 0.664727938508611, 0.19287442775379388, 0.13776744839556707, 0.9948569228179672, 0.9861269933813199, 0.992499487342546, 0.9883802315385689, 0.4833806492120344, 0.5138641135767573, 0.9889701735783946, 0.9828936916039707, 0.6620607368223265, 0.17585988321843046, 0.12068815514990326, 0.044827029055678355, 0.9911493288199936, 0.9946056674361574, 0.9918126982184332, 0.9768094090284308, 0.995571529795637, 0.944303897661881, 0.05246132764788228, 0.15682843339407465, 0.09686462062575199, 0.5304491129505466, 0.21217964518021865, 0.5090882363741944, 0.4915334696026705, 0.1783380852177541, 0.8136675138060031, 0.9921175919070327, 0.9036461353559191, 0.8823845868965107, 0.9955295304945531, 0.9704436241070932, 0.9938837851150573, 0.9692281084431743, 0.9863086916375513, 0.16830764404188306, 0.7934503219117345, 0.042076911010470765, 0.9880555090377957, 0.933125093321069, 0.06362216545370925, 0.9558533434754853, 0.985157786083631, 0.9931261880327775, 0.1313064670312931, 0.7197539674307917, 0.14589607447921454, 0.9928393783445362, 0.6906232508865003, 0.3076138497398386, 0.997275217774272, 0.9915815550109413, 0.98334904090752, 0.12577465845610433, 0.10481221538008693, 0.4905211679788069, 0.2767042486034295, 0.013112035225771698, 0.332171559052883, 0.6556017612885848, 0.9776984214670147, 0.019553968429340294, 0.9332069242784369, 0.4571068630302091, 0.5078965144780101, 0.993453704198794, 0.9921958381895618, 0.5903350024464483, 0.40658834605583194, 0.17078870546182512, 0.8059092038979873, 0.016011441137046105, 0.5846568511401505, 0.4110868484579183, 0.9977432754450141, 0.4672951551998904, 0.5233705738238772, 0.9897298433448365, 0.9153962337011113, 0.08575633281807753, 0.8861487724534678, 0.019056962848461673, 0.9982406913970265, 0.9952425814770024, 0.1171508174797911, 0.6585775685350419, 0.22163668171852371, 0.1560585339320067, 0.8388146198845361, 0.9885123187290624, 0.5841306895535118, 0.3931648871994791, 0.022466564982827376, 0.980101070754952, 0.9745918947084508, 0.9975706505328404, 0.9946535505731279, 0.9880004269522779, 0.9816592129983766, 0.9865486211799002, 0.9530859118091034, 0.9826358578688901, 0.995431767431351, 0.9714353658425148, 0.10924083042614527, 0.24579186845882686, 0.6445208995142571, 0.9730624954720667, 0.9454947234066206, 0.047274736170331025, 0.9928325304325722, 0.9862782530396963, 0.8697435060376766, 0.005759890768461434, 0.12671759690615156, 0.989188799239588, 0.2362186957903309, 0.7611491308799551, 0.19059042071033253, 0.8040533373717152], \"Term\": [\"abstract\", \"accord\", \"accord\", \"accord\", \"account\", \"achieve\", \"achieve\", \"acid\", \"acquire\", \"acs\", \"active\", \"active\", \"activity\", \"activity\", \"activity\", \"activity\", \"acute\", \"adolescent\", \"adult\", \"age\", \"allergy\", \"among\", \"among\", \"among\", \"amplitude\", \"amplitude\", \"ass\", \"assay\", \"associate\", \"associate\", \"associate\", \"association\", \"atm\", \"attack\", \"behavior\", \"behavior\", \"behavior\", \"beta\", \"betacatenin\", \"bias\", \"bind\", \"biomass\", \"bioprosthetic\", \"board\", \"build\", \"burst\", \"c\", \"c\", \"c\", \"c\", \"cable\", \"cancer\", \"capture\", \"care\", \"case\", \"case\", \"case\", \"cd\", \"change\", \"change\", \"change\", \"change\", \"channel\", \"channel\", \"characteristic\", \"characteristic\", \"child\", \"circuit\", \"clear\", \"clinical\", \"clinical\", \"co\", \"cognitive\", \"combustion\", \"communication\", \"communication\", \"communication\", \"compound\", \"compute\", \"compute\", \"concentration\", \"concentration\", \"concentration\", \"concept\", \"condition\", \"condition\", \"condition\", \"condition\", \"contactor\", \"controller\", \"converter\", \"cool\", \"cost\", \"cost\", \"course\", \"create\", \"crop\", \"crop\", \"culture\", \"demonstrate\", \"demonstrate\", \"demonstrate\", \"dependent\", \"describe\", \"describe\", \"development\", \"development\", \"development\", \"device\", \"device\", \"diabetes\", \"diagnosis\", \"diagnosis\", \"differential\", \"difficulty\", \"digital\", \"disease\", \"disease\", \"disorder\", \"dna\", \"domain\", \"domain\", \"drainage\", \"drug\", \"drug\", \"dry\", \"due\", \"due\", \"due\", \"dynamic\", \"dynamic\", \"effectiveness\", \"efficiency\", \"efficiency\", \"efficiency\", \"efficiency\", \"electrical\", \"electrical\", \"electricity\", \"emerge\", \"emulsion\", \"engine\", \"engineering\", \"enzyme\", \"equation\", \"equation\", \"equation\", \"error\", \"error\", \"estimate\", \"estimate\", \"estimation\", \"et\", \"evidence\", \"evidence\", \"examine\", \"examine\", \"examine\", \"examine\", \"excess\", \"exist\", \"exogenous\", \"experience\", \"experimental\", \"experimental\", \"explicit\", \"expression\", \"expression\", \"expression\", \"feature\", \"feature\", \"feedback\", \"female\", \"fibrosis\", \"filter\", \"finding\", \"finding\", \"flow\", \"flow\", \"fluid\", \"foam\", \"followup\", \"food\", \"force\", \"force\", \"framework\", \"frequency\", \"ft\", \"fuel\", \"fuel\", \"gain\", \"game\", \"gap\", \"gas\", \"gas\", \"gcl\", \"gene\", \"geotextile\", \"gi\", \"goal\", \"group\", \"group\", \"group\", \"group\", \"handover\", \"hdpp\", \"health\", \"healthy\", \"heat\", \"help\", \"hip\", \"however\", \"however\", \"however\", \"human\", \"human\", \"human\", \"hybrid\", \"identification\", \"image\", \"image\", \"image\", \"image\", \"improve\", \"improve\", \"improve\", \"indicate\", \"indicate\", \"indicate\", \"indicate\", \"individual\", \"individual\", \"individual\", \"infection\", \"infection\", \"inflammatory\", \"influence\", \"influence\", \"influence\", \"influence\", \"information\", \"information\", \"inhibit\", \"inhibition\", \"inhibitor\", \"initiate\", \"injury\", \"integrate\", \"intervention\", \"involvement\", \"iron\", \"jak\", \"joint\", \"k\", \"key\", \"key\", \"kinase\", \"known\", \"learn\", \"learn\", \"leave\", \"leave\", \"leukemia\", \"light\", \"likely\", \"line\", \"liquid\", \"liver\", \"load\", \"load\", \"loop\", \"loss\", \"loss\", \"ltd\", \"ltd\", \"ltd\", \"ltd\", \"machine\", \"many\", \"many\", \"many\", \"material\", \"material\", \"measurement\", \"measurement\", \"mechanism\", \"mechanism\", \"mechanism\", \"mechanism\", \"median\", \"mental_health\", \"metabolic\", \"metabolism\", \"mild\", \"min\", \"mir\", \"mm\", \"mode\", \"module\", \"molecular\", \"motor\", \"mouse\", \"mutation\", \"need\", \"need\", \"need\", \"network\", \"network\", \"node\", \"nonlinear\", \"number\", \"number\", \"number\", \"nurse\", \"obtain\", \"obtain\", \"obtain\", \"optimization\", \"outcome\", \"output\", \"oxygen\", \"p\", \"p\", \"p\", \"pain\", \"parent\", \"participant\", \"pathological\", \"pathway\", \"people\", \"permanent_magnet\", \"pmf\", \"population\", \"potential\", \"potential\", \"potential\", \"potential\", \"precursor\", \"prediction\", \"pressure\", \"pressure\", \"problem\", \"procedure\", \"procedure\", \"project\", \"property\", \"property\", \"protein\", \"protocol\", \"pump\", \"pump\", \"rainfall\", \"range\", \"range\", \"rat\", \"rat\", \"rate\", \"rate\", \"rate\", \"ratio\", \"ratio\", \"reaction\", \"reaction\", \"reaction\", \"receptor\", \"reduce\", \"reduce\", \"reduce\", \"regulate\", \"report\", \"report\", \"report\", \"report\", \"require\", \"require\", \"require\", \"research\", \"research\", \"resistance\", \"resource\", \"response\", \"response\", \"response\", \"risk\", \"risk_factors\", \"rna\", \"robust\", \"role\", \"role\", \"roll\", \"run\", \"sample\", \"sample\", \"sample\", \"sample\", \"screen\", \"secondary\", \"secure\", \"serious\", \"set\", \"signal\", \"signal\", \"significantly\", \"significantly\", \"significantly\", \"significantly\", \"simulation\", \"simulation\", \"skin\", \"skin\", \"sleep\", \"smf\", \"smoke\", \"social\", \"soft\", \"software\", \"soil\", \"solar\", \"source\", \"source\", \"source\", \"spectrum\", \"stage\", \"stage\", \"stat\", \"stem\", \"strain\", \"strategy\", \"strategy\", \"strategy\", \"strength\", \"stress\", \"stress\", \"structural\", \"student\", \"successful\", \"suggest\", \"suggest\", \"suggest\", \"suggest\", \"support\", \"support\", \"support\", \"surface\", \"surface\", \"surgical\", \"suspension_bridge\", \"suspension_bridge\", \"symptom\", \"tank\", \"technique\", \"technique\", \"technology\", \"technology\", \"technology\", \"temperature\", \"temperature\", \"theory\", \"thermal\", \"thermal\", \"thermodynamic\", \"thrombosis\", \"tissue\", \"tissue\", \"tissue\", \"tool\", \"transfer\", \"treatment\", \"treatment\", \"treatment\", \"trend\", \"trend\", \"tumor\", \"value\", \"value\", \"value\", \"valve\", \"variability\", \"vehicle\", \"velocity\", \"verify\", \"vi\", \"virus\", \"viscosity\", \"vitro\", \"voltage\", \"vrg\", \"water\", \"water\", \"water\", \"wf\", \"whether\", \"whether\", \"wind\", \"wind_turbine\", \"without\", \"without\", \"without\", \"woman\", \"work\", \"work\", \"year\", \"year\"]}, \"R\": 30, \"lambda.step\": 0.01, \"plot.opts\": {\"xlab\": \"PC1\", \"ylab\": \"PC2\"}, \"topic.order\": [2, 4, 5, 7, 3, 6, 1]};\n",
       "\n",
       "function LDAvis_load_lib(url, callback){\n",
       "  var s = document.createElement('script');\n",
       "  s.src = url;\n",
       "  s.async = true;\n",
       "  s.onreadystatechange = s.onload = callback;\n",
       "  s.onerror = function(){console.warn(\"failed to load library \" + url);};\n",
       "  document.getElementsByTagName(\"head\")[0].appendChild(s);\n",
       "}\n",
       "\n",
       "if(typeof(LDAvis) !== \"undefined\"){\n",
       "   // already loaded: just create the visualization\n",
       "   !function(LDAvis){\n",
       "       new LDAvis(\"#\" + \"ldavis_el245231402926185763848346707742\", ldavis_el245231402926185763848346707742_data);\n",
       "   }(LDAvis);\n",
       "}else if(typeof define === \"function\" && define.amd){\n",
       "   // require.js is available: use it to load d3/LDAvis\n",
       "   require.config({paths: {d3: \"https://d3js.org/d3.v5\"}});\n",
       "   require([\"d3\"], function(d3){\n",
       "      window.d3 = d3;\n",
       "      LDAvis_load_lib(\"https://cdn.jsdelivr.net/gh/bmabey/pyLDAvis@3.3.1/pyLDAvis/js/ldavis.v3.0.0.js\", function(){\n",
       "        new LDAvis(\"#\" + \"ldavis_el245231402926185763848346707742\", ldavis_el245231402926185763848346707742_data);\n",
       "      });\n",
       "    });\n",
       "}else{\n",
       "    // require.js not available: dynamically load d3 & LDAvis\n",
       "    LDAvis_load_lib(\"https://d3js.org/d3.v5.js\", function(){\n",
       "         LDAvis_load_lib(\"https://cdn.jsdelivr.net/gh/bmabey/pyLDAvis@3.3.1/pyLDAvis/js/ldavis.v3.0.0.js\", function(){\n",
       "                 new LDAvis(\"#\" + \"ldavis_el245231402926185763848346707742\", ldavis_el245231402926185763848346707742_data);\n",
       "            })\n",
       "         });\n",
       "}\n",
       "</script>"
      ],
      "text/plain": [
       "PreparedData(topic_coordinates=              x         y  topics  cluster       Freq\n",
       "topic                                                \n",
       "1      0.177077 -0.154681       1        1  28.966027\n",
       "3      0.224110 -0.110128       2        1  27.364568\n",
       "4      0.164683  0.172727       3        1  18.233934\n",
       "6     -0.028274  0.262679       4        1  12.600310\n",
       "2     -0.197333 -0.081371       5        1   5.984800\n",
       "5     -0.166389 -0.069240       6        1   5.229821\n",
       "0     -0.173874 -0.019986       7        1   1.620541, topic_info=                    Term        Freq       Total Category  logprob  loglift\n",
       "297           expression  375.000000  375.000000  Default  30.0000  30.0000\n",
       "300                 gene  279.000000  279.000000  Default  29.0000  29.0000\n",
       "2412                flow  173.000000  173.000000  Default  28.0000  28.0000\n",
       "1646         temperature  218.000000  218.000000  Default  27.0000  27.0000\n",
       "3794          adolescent  265.000000  265.000000  Default  26.0000  26.0000\n",
       "...                  ...         ...         ...      ...      ...      ...\n",
       "5064               smoke    9.414538   10.199634   Topic7  -5.7558   4.0423\n",
       "19904          contactor    9.207830   10.000241   Topic7  -5.7781   4.0399\n",
       "21518                smf    9.160968    9.959651   Topic7  -5.7832   4.0388\n",
       "9483                crop   27.422307   35.524420   Topic7  -4.6867   3.8635\n",
       "4435   suspension_bridge    9.779265   19.689050   Topic7  -5.7178   3.4226\n",
       "\n",
       "[354 rows x 6 columns], token_table=      Topic      Freq      Term\n",
       "term                           \n",
       "5374      5  0.968594  abstract\n",
       "509       1  0.084706    accord\n",
       "509       2  0.742422    accord\n",
       "509       3  0.169412    accord\n",
       "641       2  0.984801   account\n",
       "...     ...       ...       ...\n",
       "3670      3  0.989189     woman\n",
       "1278      1  0.236219      work\n",
       "1278      2  0.761149      work\n",
       "677       2  0.190590      year\n",
       "677       3  0.804053      year\n",
       "\n",
       "[503 rows x 3 columns], R=30, lambda_step=0.01, plot_opts={'xlab': 'PC1', 'ylab': 'PC2'}, topic_order=[2, 4, 5, 7, 3, 6, 1])"
      ]
     },
     "execution_count": 10,
     "metadata": {},
     "output_type": "execute_result"
    }
   ],
   "source": [
    "vis_ldamodel = pyLDAvis.gensim_models.prepare(lda_model,corpus,word2id)\n",
    "vis_ldamodel"
   ]
  },
  {
   "cell_type": "markdown",
   "metadata": {},
   "source": [
    "## evalute model perplexity and coherence \n",
    "how to interpret these scores?\n",
    "coherence score is not high"
   ]
  },
  {
   "cell_type": "code",
   "execution_count": 68,
   "metadata": {},
   "outputs": [
    {
     "name": "stdout",
     "output_type": "stream",
     "text": [
      "Perplexity:  -9.04655412127769\n",
      "UMass Coherence Score:  -7.4124212883426495\n",
      "C_v Coherence Score:  0.4682717360041694\n"
     ]
    }
   ],
   "source": [
    "# A lower perplexity score indicates better generalization performance.\n",
    "perplexity = lda_model.log_perplexity(corpus)\n",
    "print('Perplexity: ', perplexity )\n",
    "\n",
    "# get coherence value u_mass\n",
    "# probability = the number of documents in which the word occurs divided by the total number of documents\"\n",
    "cm = CoherenceModel(model=lda_model, corpus=corpus, dictionary = word2id,coherence='u_mass')\n",
    "coherence_umass = cm.get_coherence() \n",
    "print('UMass Coherence Score: ', coherence_umass)\n",
    "\n",
    "# Compute Coherence Score using c_v\n",
    "# CV measure is based on the Pointwise Mutual Information score\n",
    "coherence_model_lda = CoherenceModel(model=lda_model, texts=abstract_lemmatized_cleaned, dictionary=word2id, coherence=\"c_v\")\n",
    "coherence_cv = coherence_model_lda.get_coherence()\n",
    "print('C_v Coherence Score: ', coherence_cv)"
   ]
  },
  {
   "cell_type": "code",
   "execution_count": 69,
   "metadata": {},
   "outputs": [
    {
     "data": {
      "image/png": "[encoded data removed]",
      "text/plain": [
       "<Figure size 432x288 with 1 Axes>"
      ]
     },
     "metadata": {
      "needs_background": "light"
     },
     "output_type": "display_data"
    }
   ],
   "source": [
    "def compute_coherence_values(dictionary, corpus, texts, limit, start=5, step=3):\n",
    "    \"\"\"\n",
    "    Compute c_v coherence for various number of topics\n",
    "    \"\"\"\n",
    "    coherence_values = []\n",
    "    model_list = []\n",
    "    for num_topics in range(start, limit, step):\n",
    "        model = LdaModel(corpus,num_topics=num_topics,\n",
    "                id2word = dictionary,\n",
    "                random_state=121,\n",
    "                update_every=1,\n",
    "                chunksize=100,\n",
    "                passes=10,\n",
    "                alpha='auto',\n",
    "                per_word_topics=True)\n",
    "        model_list.append(model)\n",
    "        coherencemodel = CoherenceModel(model=model, texts=texts, dictionary=dictionary, coherence=\"c_v\")\n",
    "        coherence_values.append(coherencemodel.get_coherence())\n",
    "\n",
    "    return model_list, coherence_values\n",
    "\n",
    "model_list, coherence_values = compute_coherence_values(dictionary=word2id, corpus=corpus, texts=abstract_lemmatized_cleaned, start=5, limit=20, step=1)\n",
    "n = range(5, 20, 1)\n",
    "plt.plot(n, coherence_values)\n",
    "plt.xlabel(\"Num Topics\")\n",
    "plt.ylabel(\"Coherence score\")\n",
    "plt.legend((\"coherence_values\"), loc='best')\n",
    "plt.show()"
   ]
  },
  {
   "cell_type": "code",
   "execution_count": 71,
   "metadata": {},
   "outputs": [
    {
     "name": "stdout",
     "output_type": "stream",
     "text": [
      "[(0, '0.023*\"adolescent\" + 0.014*\"social\" + 0.013*\"parent\" + 0.012*\"health\" + 0.011*\"group\" + 0.010*\"people\" + 0.009*\"intervention\" + 0.009*\"student\" + 0.009*\"care\" + 0.009*\"age\" + 0.008*\"disorder\" + 0.008*\"participant\" + 0.007*\"mental_health\"'), (1, '0.024*\"gene\" + 0.015*\"controller\" + 0.011*\"symptom\" + 0.011*\"acute\" + 0.010*\"expression\" + 0.010*\"express\" + 0.009*\"sequence\" + 0.008*\"secondary\" + 0.008*\"plant\" + 0.007*\"rna\" + 0.006*\"platform\" + 0.006*\"protein\" + 0.006*\"processing\"'), (2, '0.009*\"network\" + 0.008*\"simulation\" + 0.008*\"dynamic\" + 0.006*\"obtain\" + 0.005*\"solution\" + 0.005*\"experimental\" + 0.005*\"flow\" + 0.005*\"efficiency\" + 0.005*\"load\" + 0.005*\"frequency\" + 0.005*\"program\" + 0.004*\"equation\" + 0.004*\"framework\"'), (3, '0.011*\"hdpp\" + 0.011*\"pregnancy\" + 0.010*\"regression\" + 0.010*\"involvement\" + 0.009*\"nmolminmg\" + 0.009*\"et\" + 0.008*\"putative\" + 0.008*\"improved\" + 0.007*\"pulse\" + 0.007*\"judgment\" + 0.006*\"downstream\" + 0.006*\"dea\" + 0.006*\"command\"'), (4, '0.023*\"inhibit\" + 0.019*\"event\" + 0.014*\"ph\" + 0.013*\"insulin\" + 0.009*\"ca\" + 0.009*\"cellular\" + 0.008*\"mitochondrial\" + 0.008*\"acetone\" + 0.007*\"equipment\" + 0.006*\"conjugate\" + 0.006*\"regulator\" + 0.006*\"boost\" + 0.006*\"type_diabetes\"'), (5, '0.006*\"research\" + 0.005*\"behavior\" + 0.005*\"stress\" + 0.004*\"improve\" + 0.004*\"information\" + 0.004*\"work\" + 0.004*\"need\" + 0.004*\"material\" + 0.004*\"however\" + 0.004*\"change\" + 0.003*\"type\" + 0.003*\"area\" + 0.003*\"development\"'), (6, '0.011*\"signal\" + 0.010*\"image\" + 0.009*\"circuit\" + 0.008*\"range\" + 0.007*\"input\" + 0.006*\"joint\" + 0.006*\"gain\" + 0.006*\"stage\" + 0.006*\"detection\" + 0.005*\"measurement\" + 0.005*\"voltage\" + 0.005*\"technique\" + 0.005*\"mm\"'), (7, '0.009*\"expression\" + 0.008*\"treatment\" + 0.007*\"activity\" + 0.006*\"p\" + 0.006*\"disease\" + 0.006*\"human\" + 0.006*\"role\" + 0.005*\"protein\" + 0.005*\"mechanism\" + 0.004*\"associate\" + 0.004*\"therapy\" + 0.004*\"group\" + 0.004*\"cancer\"')]\n"
     ]
    }
   ],
   "source": [
    "model8 = model_list[3]\n",
    "print(model8.print_topics(num_words=13)) "
   ]
  },
  {
   "cell_type": "markdown",
   "metadata": {},
   "source": [
    "# Using the LDA model, find the topic of any given document\n",
    "#### lda built in model"
   ]
  },
  {
   "cell_type": "code",
   "execution_count": 11,
   "metadata": {},
   "outputs": [
    {
     "name": "stderr",
     "output_type": "stream",
     "text": [
      "/tmp/ipykernel_24523/1624293086.py:31: FutureWarning: The default value of regex will change from True to False in a future version.\n",
      "  df_test.Domain = df_test.Domain.str.replace(r'\\s','')\n",
      "/home/sxia1/.nlp_env/lib/python3.8/site-packages/pandas/core/generic.py:5516: SettingWithCopyWarning: \n",
      "A value is trying to be set on a copy of a slice from a DataFrame.\n",
      "Try using .loc[row_indexer,col_indexer] = value instead\n",
      "\n",
      "See the caveats in the documentation: https://pandas.pydata.org/pandas-docs/stable/user_guide/indexing.html#returning-a-view-versus-a-copy\n",
      "  self[name] = value\n",
      "/tmp/ipykernel_24523/1624293086.py:32: SettingWithCopyWarning: \n",
      "A value is trying to be set on a copy of a slice from a DataFrame.\n",
      "Try using .loc[row_indexer,col_indexer] = value instead\n",
      "\n",
      "See the caveats in the documentation: https://pandas.pydata.org/pandas-docs/stable/user_guide/indexing.html#returning-a-view-versus-a-copy\n",
      "  df_test['Domain_No'] = df_test.Domain.map(topic2num)\n"
     ]
    },
    {
     "name": "stdout",
     "output_type": "stream",
     "text": [
      "accuracy: 0.35\n",
      "accuracy by domain Domain\n",
      "CS              0.772727\n",
      "Civil           0.055556\n",
      "ECE             0.368421\n",
      "MAE             0.000000\n",
      "Medical         0.000000\n",
      "Psychology      0.906977\n",
      "biochemistry    0.635294\n",
      "dtype: float64\n"
     ]
    },
    {
     "data": {
      "text/html": [
       "<div>\n",
       "<style scoped>\n",
       "    .dataframe tbody tr th:only-of-type {\n",
       "        vertical-align: middle;\n",
       "    }\n",
       "\n",
       "    .dataframe tbody tr th {\n",
       "        vertical-align: top;\n",
       "    }\n",
       "\n",
       "    .dataframe thead th {\n",
       "        text-align: right;\n",
       "    }\n",
       "</style>\n",
       "<table border=\"1\" class=\"dataframe\">\n",
       "  <thead>\n",
       "    <tr style=\"text-align: right;\">\n",
       "      <th></th>\n",
       "      <th>Domain</th>\n",
       "      <th>actual</th>\n",
       "      <th>predicted</th>\n",
       "      <th>correct</th>\n",
       "    </tr>\n",
       "  </thead>\n",
       "  <tbody>\n",
       "    <tr>\n",
       "      <th>2000</th>\n",
       "      <td>biochemistry</td>\n",
       "      <td>6</td>\n",
       "      <td>6</td>\n",
       "      <td>True</td>\n",
       "    </tr>\n",
       "    <tr>\n",
       "      <th>2001</th>\n",
       "      <td>Civil</td>\n",
       "      <td>5</td>\n",
       "      <td>1</td>\n",
       "      <td>False</td>\n",
       "    </tr>\n",
       "    <tr>\n",
       "      <th>2002</th>\n",
       "      <td>MAE</td>\n",
       "      <td>2</td>\n",
       "      <td>1</td>\n",
       "      <td>False</td>\n",
       "    </tr>\n",
       "    <tr>\n",
       "      <th>2003</th>\n",
       "      <td>Civil</td>\n",
       "      <td>5</td>\n",
       "      <td>5</td>\n",
       "      <td>True</td>\n",
       "    </tr>\n",
       "    <tr>\n",
       "      <th>2004</th>\n",
       "      <td>MAE</td>\n",
       "      <td>2</td>\n",
       "      <td>1</td>\n",
       "      <td>False</td>\n",
       "    </tr>\n",
       "  </tbody>\n",
       "</table>\n",
       "</div>"
      ],
      "text/plain": [
       "            Domain  actual  predicted  correct\n",
       "2000  biochemistry       6          6     True\n",
       "2001         Civil       5          1    False\n",
       "2002           MAE       2          1    False\n",
       "2003         Civil       5          5     True\n",
       "2004           MAE       2          1    False"
      ]
     },
     "execution_count": 11,
     "metadata": {},
     "output_type": "execute_result"
    }
   ],
   "source": [
    "# test on 2000-2500 rows from the real data\n",
    "# step1:  given an abstract/text, tokenize, find biargram, remove popular words, turn it into a bag of words\n",
    "def prepare_text(text_list,BOW=True):\n",
    "    tokenized = list(map(lambda text_i:nltk.word_tokenize(re.sub(r'[^A-Za-z\\s]','',text_i.lower())),text_list))\n",
    "    text_uncategorized = prepare_token(tokenized)\n",
    "    # map corpus to a bag of words, lda doc2idx ignore unknown words\n",
    "    corpus_uncategorized  = list(map(word2id.doc2bow,text_uncategorized))\n",
    "    if BOW:\n",
    "        corpus_uncategorized  = list(map(lambda document: np.array(word2id.doc2bow(document)),text_uncategorized))\n",
    "    else:\n",
    "        corpus_uncategorized  = list(map(lambda document: np.array(word2id.doc2idx(document)),text_uncategorized))\n",
    "        corpus_uncategorized = list(map(lambda document: document[document>=0],corpus_uncategorized))\n",
    "    return corpus_uncategorized\n",
    "\n",
    "#step2: infer topic distribution\n",
    "def get_weight_each_topic(i,t_predict):\n",
    "    find = t_predict[list(map(lambda topic: i in topic, t_predict))]\n",
    "    if len(find)==0:\n",
    "        return 0.0\n",
    "    else:\n",
    "        return find[0][1]\n",
    "\n",
    "def get_topic_dist(model,text):\n",
    "    t_predict = np.array(model[text][0])\n",
    "    topic_dist_d = list(map(lambda i:get_weight_each_topic(i,t_predict),range(7)))\n",
    "    return topic_dist_d\n",
    "\n",
    "### test3\n",
    "df_test = df_paper_raw[2000:2500]\n",
    "topic2num = {\"Medical\": 0, \"ECE\":1, \"MAE\":2, \"CS\":3, \"Psychology\":4, \"Civil\":5,\"biochemistry\":6}\n",
    "#topic2num = {\"MAE\":0,\"biochemistry\":1,\"Civil\":2,\"ECE\":3,\"Medical\":4,\"CS\":5,\"Psychology\":6}\n",
    "df_test.Domain = df_test.Domain.str.replace(r'\\s','')\n",
    "df_test['Domain_No'] = df_test.Domain.map(topic2num)\n",
    "corpus_uncategorized = prepare_text(df_test.Abstract,BOW=True)\n",
    "# corpus_uncategorized[1]\n",
    "topic_weight_matrix = list(map(lambda text_i:get_topic_dist(lda_model,text_i),corpus_uncategorized))\n",
    "dominant_topic = np.argmax(topic_weight_matrix,axis=1)\n",
    "predict_compare = pd.DataFrame({\"Domain\":df_test.Domain,\"actual\":df_test.Domain_No,\"predicted\":dominant_topic})\n",
    "predict_compare[\"correct\"] = np.equal(predict_compare.actual,predict_compare.predicted)\n",
    "accuracy = np.sum(predict_compare['correct'])/len(predict_compare)\n",
    "print(\"accuracy:\", accuracy)\n",
    "# compute accuracy by domain\n",
    "accuracy_by_domain = predict_compare.groupby('Domain').apply(lambda grp: np.sum(grp.correct)/len(grp))\n",
    "print(\"accuracy by domain\", accuracy_by_domain)\n",
    "predict_compare.head()\n"
   ]
  },
  {
   "cell_type": "code",
   "execution_count": 12,
   "metadata": {},
   "outputs": [
    {
     "name": "stderr",
     "output_type": "stream",
     "text": [
      "/tmp/ipykernel_24523/2974559897.py:6: FutureWarning: The default value of regex will change from True to False in a future version.\n",
      "  df_train.Domain = df_train.Domain.str.replace(r'\\s','')\n",
      "/home/sxia1/.nlp_env/lib/python3.8/site-packages/pandas/core/generic.py:5516: SettingWithCopyWarning: \n",
      "A value is trying to be set on a copy of a slice from a DataFrame.\n",
      "Try using .loc[row_indexer,col_indexer] = value instead\n",
      "\n",
      "See the caveats in the documentation: https://pandas.pydata.org/pandas-docs/stable/user_guide/indexing.html#returning-a-view-versus-a-copy\n",
      "  self[name] = value\n",
      "/tmp/ipykernel_24523/2974559897.py:7: SettingWithCopyWarning: \n",
      "A value is trying to be set on a copy of a slice from a DataFrame.\n",
      "Try using .loc[row_indexer,col_indexer] = value instead\n",
      "\n",
      "See the caveats in the documentation: https://pandas.pydata.org/pandas-docs/stable/user_guide/indexing.html#returning-a-view-versus-a-copy\n",
      "  df_train['Domain_No'] = df_train.Domain.map(topic2num)\n"
     ]
    },
    {
     "name": "stdout",
     "output_type": "stream",
     "text": [
      "accuracy: 0.438\n",
      "    Domain  actual  predicted  correct\n",
      "0       CS       3          1    False\n",
      "1  Medical       0          4    False\n",
      "2    Civil       5          3    False\n",
      "3      ECE       1          2    False\n",
      "4  Medical       0          1    False\n",
      "accuracy by domain\n"
     ]
    },
    {
     "data": {
      "text/plain": [
       "Domain\n",
       "CS              0.777778\n",
       "Civil           0.066964\n",
       "ECE             0.671937\n",
       "MAE             0.022523\n",
       "Medical         0.008108\n",
       "Psychology      0.801205\n",
       "biochemistry    0.705179\n",
       "dtype: float64"
      ]
     },
     "execution_count": 12,
     "metadata": {},
     "output_type": "execute_result"
    }
   ],
   "source": [
    "\n",
    "#training \n",
    "\n",
    "df_train = df_paper_raw[:2000]\n",
    "topic2num = {\"Medical\": 0, \"ECE\":1, \"MAE\":2, \"CS\":3, \"Psychology\":4, \"Civil\":5,\"biochemistry\":6}\n",
    "#topic2num = {\"MAE\":0,\"biochemistry\":1,\"Civil\":2,\"ECE\":3,\"Medical\":4,\"CS\":5,\"Psychology\":6}\n",
    "df_train.Domain = df_train.Domain.str.replace(r'\\s','')\n",
    "df_train['Domain_No'] = df_train.Domain.map(topic2num)\n",
    "\n",
    "# corpus_uncategorized[1]\n",
    "topic_weight_matrix_train = list(map(lambda text_i:get_topic_dist(lda_model,text_i),corpus))\n",
    "dominant_topic_train = np.argmax(topic_weight_matrix_train,axis=1)\n",
    "predict_compare_train = pd.DataFrame({\"Domain\":df_train.Domain,\"actual\":df_train.Domain_No,\"predicted\":dominant_topic_train})\n",
    "predict_compare_train[\"correct\"] = np.equal(predict_compare_train.actual,predict_compare_train.predicted)\n",
    "accuracy_train = np.sum(predict_compare_train['correct'])/len(predict_compare_train)\n",
    "print(\"accuracy:\", accuracy_train)\n",
    "# compute accuracy by domain\n",
    "accuracy_by_domain_train = predict_compare_train.groupby('Domain').apply(lambda grp: np.sum(grp.correct)/len(grp))\n",
    "print(predict_compare_train.head())\n",
    "print(\"accuracy by domain\")\n",
    "accuracy_by_domain_train"
   ]
  },
  {
   "cell_type": "markdown",
   "metadata": {},
   "source": [
    "# generate synthetic data using $\\alpha$ and $\\bm{\\beta}$ to "
   ]
  },
  {
   "cell_type": "code",
   "execution_count": 87,
   "metadata": {},
   "outputs": [],
   "source": [
    "num2topic = {0:\"Medical\", 1:\"ECE\",2:\"MAE\",3:\"CS\",4:\"Psychology\",5:\"Civil\", 6:\"biochemistry\"}\n",
    "\n",
    "# Possion distribution: draw sample length, lambda = median from the data\n",
    "# alpha: topic mixture of each synethic text\n",
    "# beta: topic-term distribution\n",
    "def lda_gen(vocabulary,beta,alpha,possion_lambda):\n",
    "    xi = np.random.poisson(possion_lambda) #length = sample from poisson dist\n",
    "    v = np.shape(beta)[0]\n",
    "    topic_proportion = np.random.dirichlet(alpha) # generate topic proportion based of a text dist\n",
    "    dominant_domain = num2topic[np.argmax(topic_proportion)]\n",
    "    topic_list = np.random.choice(range(v),xi,p=topic_proportion) #sample from topic proportion dist, \n",
    "\n",
    "    #pick a word for each topic in each document\n",
    "    # frequency of the topics = topics mixture in each document\n",
    "    word_bag = list(map(lambda topic_index: np.random.choice(vocabulary,p=beta[topic_index]),topic_list))\n",
    "    return (dominant_domain,word_bag)\n",
    "\n",
    "vocabulary = list(dictionary.keys())\n",
    "alpha = lda_model.alpha\n",
    "beta = lda_model.get_topics()\n",
    "possion_lambda = median_count\n",
    "\n",
    "synthetic_data_size = 2500\n",
    "synthetic_data = [ lda_gen(vocabulary,beta,alpha,possion_lambda) for _ in range(synthetic_data_size)]\n",
    "synthetic_df = pd.DataFrame(synthetic_data,columns=['Domain','Abstract'])\n",
    "synthetic_df.Abstract = synthetic_df.Abstract.map(lambda a: \" \".join(a))\n",
    "synthetic_df.to_csv(\"mockdata.csv\",index=False)\n",
    "synthetic_df.head()\n"
   ]
  },
  {
   "cell_type": "markdown",
   "metadata": {},
   "source": [
    "# Categorize the synthetic data with lda probabilistic classifier"
   ]
  },
  {
   "cell_type": "code",
   "execution_count": 91,
   "metadata": {},
   "outputs": [
    {
     "data": {
      "text/html": [
       "<div>\n",
       "<style scoped>\n",
       "    .dataframe tbody tr th:only-of-type {\n",
       "        vertical-align: middle;\n",
       "    }\n",
       "\n",
       "    .dataframe tbody tr th {\n",
       "        vertical-align: top;\n",
       "    }\n",
       "\n",
       "    .dataframe thead th {\n",
       "        text-align: right;\n",
       "    }\n",
       "</style>\n",
       "<table border=\"1\" class=\"dataframe\">\n",
       "  <thead>\n",
       "    <tr style=\"text-align: right;\">\n",
       "      <th></th>\n",
       "      <th>Domain</th>\n",
       "      <th>Abstract</th>\n",
       "    </tr>\n",
       "  </thead>\n",
       "  <tbody>\n",
       "    <tr>\n",
       "      <th>0</th>\n",
       "      <td>Psychology</td>\n",
       "      <td>fourier stability device nurse meet p arousal ...</td>\n",
       "    </tr>\n",
       "    <tr>\n",
       "      <th>1</th>\n",
       "      <td>Psychology</td>\n",
       "      <td>research manager intraspecific heuristic enhan...</td>\n",
       "    </tr>\n",
       "    <tr>\n",
       "      <th>2</th>\n",
       "      <td>CS</td>\n",
       "      <td>mobile amount ice associate construct zone asp...</td>\n",
       "    </tr>\n",
       "    <tr>\n",
       "      <th>3</th>\n",
       "      <td>CS</td>\n",
       "      <td>year proprietary carbon_dioxide combustion gap...</td>\n",
       "    </tr>\n",
       "    <tr>\n",
       "      <th>4</th>\n",
       "      <td>Psychology</td>\n",
       "      <td>antihistamine parental customized share thiame...</td>\n",
       "    </tr>\n",
       "  </tbody>\n",
       "</table>\n",
       "</div>"
      ],
      "text/plain": [
       "       Domain                                           Abstract\n",
       "0  Psychology  fourier stability device nurse meet p arousal ...\n",
       "1  Psychology  research manager intraspecific heuristic enhan...\n",
       "2          CS  mobile amount ice associate construct zone asp...\n",
       "3          CS  year proprietary carbon_dioxide combustion gap...\n",
       "4  Psychology  antihistamine parental customized share thiame..."
      ]
     },
     "execution_count": 91,
     "metadata": {},
     "output_type": "execute_result"
    }
   ],
   "source": [
    "\n",
    "# read data\n",
    "mock_data = pd.read_csv(\"mockdata.csv\", engine='python')\n",
    "#topic2num = {\"Medical\": 0, \"ECE\":1, \"MAE\":2, \"CS\":3, \"Psychology\":4, \"Civil\":5,\"biochemistry\":6}\n",
    "mock_data.head()"
   ]
  },
  {
   "cell_type": "code",
   "execution_count": 93,
   "metadata": {},
   "outputs": [
    {
     "name": "stdout",
     "output_type": "stream",
     "text": [
      "alpha [0.43784472 0.3480546  2.514889   0.45890188 0.8136236  2.8937771\n",
      " 2.1727703 ]\n",
      "beta [(0, '0.017*\"joint\" + 0.014*\"engine\" + 0.010*\"emerge\" + 0.009*\"procedure\" + 0.008*\"capture\" + 0.008*\"explicit\" + 0.008*\"protocol\" + 0.008*\"valve\" + 0.007*\"secure\" + 0.007*\"clear\"'), (1, '0.008*\"mitochondrial\" + 0.008*\"soil\" + 0.008*\"crop\" + 0.008*\"soft\" + 0.006*\"suspension_bridge\" + 0.006*\"gi\" + 0.005*\"wf\" + 0.005*\"acs\" + 0.005*\"bioprosthetic\" + 0.005*\"risk_factors\"'), (2, '0.006*\"problem\" + 0.006*\"work\" + 0.006*\"network\" + 0.005*\"information\" + 0.005*\"dynamic\" + 0.005*\"set\" + 0.004*\"strategy\" + 0.004*\"research\" + 0.004*\"case\" + 0.004*\"technology\"'), (3, '0.012*\"protein\" + 0.012*\"gene\" + 0.010*\"expression\" + 0.007*\"cancer\" + 0.006*\"inhibitor\" + 0.005*\"occlusion\" + 0.005*\"pathway\" + 0.005*\"mouse\" + 0.005*\"p\" + 0.005*\"metabolic\"'), (4, '0.010*\"flow\" + 0.009*\"water\" + 0.008*\"temperature\" + 0.007*\"heat\" + 0.006*\"wind\" + 0.005*\"expression\" + 0.005*\"combustion\" + 0.005*\"independent\" + 0.005*\"thermal\" + 0.004*\"consumption\"'), (5, '0.006*\"signal\" + 0.005*\"reduce\" + 0.005*\"response\" + 0.005*\"obtain\" + 0.005*\"frequency\" + 0.005*\"measurement\" + 0.005*\"experimental\" + 0.005*\"range\" + 0.004*\"characteristic\" + 0.004*\"sample\"'), (6, '0.006*\"group\" + 0.005*\"treatment\" + 0.005*\"adolescent\" + 0.005*\"report\" + 0.005*\"associate\" + 0.004*\"support\" + 0.004*\"examine\" + 0.004*\"individual\" + 0.004*\"year\" + 0.004*\"development\"')]\n"
     ]
    }
   ],
   "source": [
    "# extract alpha and beta from the mock data\n",
    "num_topics = 7\n",
    "documents = list(map(lambda abstract:abstract.split(\" \"),mock_data.Abstract[:2000]))\n",
    "mockdata_word2id = Dictionary(documents)\n",
    "mock_corpus = [mockdata_word2id .doc2bow(text) for text in documents]\n",
    "mockdata_lda_model = LdaModel(mock_corpus, \n",
    "                num_topics=len(mock_data.Domain.unique()),\n",
    "                id2word = mockdata_word2id,\n",
    "                random_state=121,\n",
    "                update_every=1,\n",
    "                chunksize=100,\n",
    "                passes=10,\n",
    "                alpha='auto',\n",
    "                per_word_topics=True)\n",
    "print(\"alpha\", mockdata_lda_model.alpha)\n",
    "print(\"beta\",mockdata_lda_model.show_topics(15))"
   ]
  },
  {
   "cell_type": "code",
   "execution_count": 106,
   "metadata": {},
   "outputs": [],
   "source": [
    "# num2topicMock = {0:\"Medicial\",1:\"CS\",2:\"MAE\",3:\"Civil\",4:\"biochemistry\",5:\"ECE\",6:\"Psychology\"}\n",
    "# topic2numMock = {\"Medical\":0,\"CS\":1,\"MAE\":2,\"Civil\":3,\"biochemistry\":4,\"ECE\":5,\"Psychology\":6}\n",
    "num2topicMock = {0:\"MAE\",1:\"Medical\",2:\"CS\",3:\"biochemistry\",4:\"Civil\",5:\"ECE\",6:\"Psychology\"}\n",
    "topic2numMock = {\"MAE\":0,\"Medical\":1,\"CS\":2,\"biochemistry\":3,\"Civil\":4,\"ECE\":5,\"Psychology\":6}"
   ]
  },
  {
   "cell_type": "code",
   "execution_count": 96,
   "metadata": {},
   "outputs": [
    {
     "name": "stderr",
     "output_type": "stream",
     "text": [
      "/home/sxia1/.nlp_env/lib/python3.8/site-packages/pyLDAvis/_prepare.py:246: FutureWarning: In a future version of pandas all arguments of DataFrame.drop except for the argument 'labels' will be keyword-only\n",
      "  default_term_info = default_term_info.sort_values(\n",
      "/home/sxia1/.nlp_env/lib/python3.8/site-packages/past/builtins/misc.py:45: DeprecationWarning: the imp module is deprecated in favour of importlib; see the module's documentation for alternative uses\n",
      "  from imp import reload\n",
      "/home/sxia1/.nlp_env/lib/python3.8/site-packages/past/builtins/misc.py:45: DeprecationWarning: the imp module is deprecated in favour of importlib; see the module's documentation for alternative uses\n",
      "  from imp import reload\n",
      "/home/sxia1/.nlp_env/lib/python3.8/site-packages/past/builtins/misc.py:45: DeprecationWarning: the imp module is deprecated in favour of importlib; see the module's documentation for alternative uses\n",
      "  from imp import reload\n",
      "/home/sxia1/.nlp_env/lib/python3.8/site-packages/past/builtins/misc.py:45: DeprecationWarning: the imp module is deprecated in favour of importlib; see the module's documentation for alternative uses\n",
      "  from imp import reload\n"
     ]
    },
    {
     "data": {
      "text/html": [
       "\n",
       "<link rel=\"stylesheet\" type=\"text/css\" href=\"https://cdn.jsdelivr.net/gh/bmabey/pyLDAvis@3.3.1/pyLDAvis/js/ldavis.v1.0.0.css\">\n",
       "\n",
       "\n",
       "<div id=\"ldavis_el57201399024174337605963963955\"></div>\n",
       "<script type=\"text/javascript\">\n",
       "\n",
       "var ldavis_el57201399024174337605963963955_data = {\"mdsDat\": {\"x\": [0.2438559553240994, 0.2574941534492544, 0.0969704323620405, -0.16645502704138435, -0.1541987062376278, -0.1455012101464226, -0.13216559770995978], \"y\": [-0.167614924133611, -0.03749652585858061, 0.326007053844301, -0.04652447847593515, -0.05844625084640388, -0.004101688009349429, -0.011823186520421082], \"topics\": [1, 2, 3, 4, 5, 6, 7], \"cluster\": [1, 1, 1, 1, 1, 1, 1], \"Freq\": [31.04397568301237, 27.168856528413627, 22.12316242358435, 7.43591588241196, 5.369535095638892, 4.33147670122013, 2.5270776857186728]}, \"tinfo\": {\"Term\": [\"joint\", \"engine\", \"temperature\", \"water\", \"flow\", \"signal\", \"expression\", \"group\", \"problem\", \"reduce\", \"protein\", \"gene\", \"frequency\", \"network\", \"work\", \"emerge\", \"adolescent\", \"report\", \"measurement\", \"range\", \"procedure\", \"information\", \"device\", \"set\", \"activity\", \"associate\", \"response\", \"treatment\", \"experimental\", \"strategy\", \"signal\", \"frequency\", \"measurement\", \"range\", \"controller\", \"circuit\", \"surface\", \"active\", \"output\", \"force\", \"filter\", \"strain\", \"property\", \"small\", \"without\", \"element\", \"loss\", \"symptom\", \"digital\", \"total\", \"characterize\", \"line\", \"resistance\", \"region\", \"structural\", \"input\", \"therapy\", \"linear\", \"mm\", \"produce\", \"reduce\", \"experimental\", \"response\", \"establish\", \"obtain\", \"characteristic\", \"rate\", \"load\", \"sample\", \"stress\", \"determine\", \"due\", \"demonstrate\", \"condition\", \"material\", \"achieve\", \"evaluate\", \"novel\", \"value\", \"set\", \"prediction\", \"learn\", \"theory\", \"help\", \"key\", \"framework\", \"estimate\", \"scale\", \"many\", \"software\", \"resource\", \"cost\", \"exist\", \"configuration\", \"goal\", \"domain\", \"cognitive\", \"strategy\", \"engineering\", \"complex\", \"ie\", \"machine\", \"environment\", \"concept\", \"project\", \"drive\", \"way\", \"implementation\", \"build\", \"source\", \"problem\", \"information\", \"network\", \"technology\", \"work\", \"program\", \"address\", \"accord\", \"case\", \"dynamic\", \"part\", \"image\", \"research\", \"error\", \"improve\", \"feature\", \"require\", \"accurate\", \"number\", \"describe\", \"simulation\", \"group\", \"adolescent\", \"report\", \"associate\", \"examine\", \"year\", \"health\", \"social\", \"clinical\", \"child\", \"experience\", \"parent\", \"evidence\", \"class\", \"disease\", \"disorder\", \"association\", \"risk\", \"people\", \"offer\", \"male\", \"diagnosis\", \"production\", \"family\", \"community\", \"age\", \"student\", \"primary\", \"understand\", \"woman\", \"individual\", \"among\", \"treatment\", \"practice\", \"significantly\", \"support\", \"significant\", \"suggest\", \"activity\", \"development\", \"behavior\", \"important\", \"research\", \"heat\", \"wind\", \"combustion\", \"independent\", \"consumption\", \"wind_turbine\", \"leukemia\", \"velocity\", \"compound\", \"film\", \"encode\", \"bind\", \"thermodynamic\", \"solar\", \"mir\", \"db\", \"typical\", \"iron\", \"variability\", \"receptor\", \"cytokine\", \"substrate\", \"electronic\", \"square\", \"sustainable\", \"similarly\", \"synthesize\", \"activate\", \"th\", \"mass_spectrometry\", \"column\", \"flow\", \"serious\", \"concentration\", \"water\", \"thermal\", \"temperature\", \"fuel\", \"emission\", \"wave\", \"skin\", \"expression\", \"isolate\", \"joint\", \"engine\", \"emerge\", \"capture\", \"explicit\", \"protocol\", \"valve\", \"secure\", \"clear\", \"module\", \"leave\", \"hdpp\", \"hip\", \"hybrid\", \"abstract\", \"electrode\", \"gap\", \"oa\", \"absorption\", \"run\", \"exogenous\", \"oil\", \"discovery\", \"spread\", \"permanent_magnet\", \"innovative\", \"vegetation\", \"pc\", \"basin\", \"systematically\", \"trend\", \"procedure\", \"amplitude\", \"electricity\", \"electrical\", \"water\", \"gas\", \"device\", \"communication\", \"inhibitor\", \"pathway\", \"kinase\", \"culture\", \"inhibition\", \"metabolite\", \"viscosity\", \"dna\", \"molecular\", \"inflammation\", \"metabolism\", \"induction\", \"accumulation\", \"survival\", \"ablation\", \"virus\", \"ca\", \"nmolminmg\", \"regional\", \"animal\", \"completely\", \"acetone\", \"substance_use\", \"mirnas\", \"viral\", \"academic\", \"geosynthetic\", \"pvat\", \"radical\", \"fusion\", \"metabolic\", \"cancer\", \"protein\", \"gene\", \"tumor\", \"occlusion\", \"mouse\", \"expression\", \"rna\", \"infection\", \"induce\", \"finding\", \"p\", \"activity\", \"human\", \"growth\", \"role\", \"involve\", \"mitochondrial\", \"soft\", \"suspension_bridge\", \"gi\", \"wf\", \"acs\", \"bioprosthetic\", \"risk_factors\", \"increased\", \"median\", \"satisfactory\", \"smoke\", \"fiber\", \"popular\", \"microfluidic\", \"betacatenin\", \"excess\", \"thrombosis\", \"hardness\", \"wireless_sensor\", \"outside\", \"clarify\", \"lie\", \"impair\", \"immunohistochemistry\", \"former\", \"tl\", \"attenuate\", \"edge\", \"allows\", \"crop\", \"soil\", \"successful\", \"fibrosis\"], \"Freq\": [156.0, 132.0, 221.0, 203.0, 174.0, 324.0, 174.0, 231.0, 294.0, 293.0, 106.0, 108.0, 259.0, 289.0, 316.0, 98.0, 195.0, 194.0, 251.0, 246.0, 99.0, 252.0, 170.0, 213.0, 141.0, 181.0, 283.0, 214.0, 252.0, 205.0, 323.88465356270643, 259.059519072763, 250.64889211640656, 245.75559225504773, 211.63067076837837, 210.86726887880786, 209.56978136448626, 192.02094761449868, 167.55468636961203, 154.09221032148338, 151.24317311921195, 150.81626547114462, 149.85697622040115, 147.68997385362215, 146.89772888451856, 143.1511982908682, 142.45840055124071, 135.75048006454, 131.13883249893445, 129.12390157276926, 128.7132949005805, 128.12870256271134, 124.58700544612735, 124.39295993234421, 124.05758082293418, 121.40080993492649, 121.43160762801611, 121.04931779324907, 118.44991982495551, 118.41720510703159, 288.76315481283035, 248.12603731617017, 271.1117414398465, 159.3514739825825, 268.1020625682903, 229.1493708927026, 203.7774469741366, 174.70501358751753, 221.0285780439739, 219.44930040858418, 177.59432084088334, 183.4285917156801, 174.49768672520918, 176.15219192337764, 171.10722156777558, 173.06604506120877, 154.65070355654305, 152.14222017777686, 151.08548842941013, 213.104018136084, 179.59638525041498, 175.53713681923307, 158.26147543738008, 154.12306671632808, 153.25159076714698, 152.8863941618229, 152.1444322982016, 148.3193641067297, 140.24601240483065, 140.2170194963369, 139.08255681326534, 139.0293190784933, 135.58489794925458, 135.704246971965, 132.4326099800699, 128.14513560165614, 128.18786834159573, 204.03136509381176, 118.2202182500217, 116.2702587395016, 115.13919537626103, 114.88418059565159, 113.15426673367335, 112.15904457709729, 111.51688016438442, 111.55154226111243, 111.25455136336448, 109.98054111845791, 109.136851867508, 156.31548545517873, 284.9272599452437, 242.143881105724, 269.50524766721605, 181.6291456126887, 277.2149050438453, 131.6327061616524, 130.1938508360397, 166.03135560275666, 191.78385698489637, 220.02755538793292, 152.70707455796557, 167.0470833337969, 197.8758109506128, 162.11712654178285, 178.09736196379419, 158.15548245194103, 151.9076751547488, 143.54635720097565, 146.5198299815037, 145.30887163668763, 145.4358965428873, 230.73462682755482, 195.12207069121783, 193.73458265144396, 181.00735549877996, 151.42961782912445, 139.18994463383075, 130.28688596136794, 128.16037459255153, 120.38194109608177, 111.47206061486432, 110.56550116322522, 105.15917307980881, 101.94826199107236, 100.47419769778382, 100.57723915462782, 98.07508185085237, 97.04943540528532, 93.60468985625157, 88.96886007028111, 86.96055171755663, 86.14198824141127, 84.11857190385317, 83.48312577579765, 81.75896718747066, 80.58189265987436, 79.91736455392102, 78.4098519679689, 78.4400590085671, 77.99202511081478, 76.34269212113188, 143.17179154439663, 126.03763129087449, 196.64749498968544, 112.93115085935499, 118.97779141345949, 166.55078196867055, 128.29145332621445, 123.28919240454518, 105.58787554306657, 135.06263425936143, 127.93512096761188, 104.05648662647313, 113.9009459780105, 85.57721254948925, 72.50226567990237, 59.58249832300726, 58.11776770820001, 56.33688577196048, 52.614468216845154, 46.3178642619886, 44.94932777824539, 44.98503293166074, 44.92309738059471, 44.145044962958096, 39.30520646554439, 38.96106905050883, 38.06103628022756, 37.96514827050911, 37.796181292507576, 36.486897296272076, 34.76036990601098, 32.91562565494206, 32.29805885332061, 32.030022604558326, 31.60063039477873, 29.89764433623067, 29.75271988861582, 29.69923868882919, 29.019916407521464, 28.73205129865871, 28.550377283625945, 28.49137089367056, 28.376161224904614, 28.404402419629204, 131.01333329100015, 32.49720579456874, 53.689902515764466, 120.73466685856248, 58.08943647778555, 98.59454858231382, 40.45945500619191, 34.93039330277373, 40.181403787525696, 40.1627874080489, 60.497795143912256, 39.41466285372723, 156.0761944157438, 131.57691462093, 97.43934686162135, 76.96287952070493, 76.06415724697878, 76.04388107939342, 70.15883829845879, 66.58450710497735, 62.95473069222441, 60.72988290978751, 58.884686644018, 58.35087037132745, 53.91185035172147, 45.92378149979809, 44.678981714132284, 41.798799353228155, 40.74219343682039, 38.6046571378892, 37.72697821466048, 37.50010879102787, 35.00124234361728, 34.716218721503935, 33.87781999680929, 31.62801709789682, 31.47878268403448, 31.136194337316333, 30.98026115966537, 30.751049010812608, 30.04347664445763, 30.206704561323253, 57.928993453929714, 84.2006564877352, 60.30605986172585, 40.56540762080834, 46.7403198458658, 45.267597385450834, 37.52562520799561, 38.39906078619096, 35.25925635942275, 46.78578757390774, 40.83611387290771, 30.205411465372322, 27.66514601373135, 26.28965533504402, 23.936912214638923, 23.60682640913256, 23.334071581396667, 24.324495078384384, 22.924242675932316, 22.77717055399244, 22.450392372134967, 22.009459217219735, 21.288664738726784, 20.62785677728689, 20.08142581226808, 19.887445573125753, 19.019084227717954, 18.92322782587211, 18.794298683968275, 18.576481527039146, 17.9222346182178, 17.69068872528722, 17.545002938206526, 17.233406259397132, 17.28093499308762, 17.13569500094903, 16.916912829086396, 16.641705255061183, 16.455111226234163, 35.869356831713404, 52.230548678830566, 89.60676933634716, 87.32141118081864, 35.015762662289845, 41.28314305512933, 39.20956372033372, 73.91896211268369, 31.698579771267784, 30.958888831875857, 31.11767224917721, 30.443451978733997, 36.13424993452907, 35.675637076674505, 34.89447497015837, 24.899414962527047, 24.468944877135392, 22.253408698833656, 36.29898849275017, 33.07085652279077, 28.281856958780306, 27.02334242671179, 23.049362039496003, 21.894875972559888, 21.54596233413859, 20.524960799093932, 19.853244163145792, 19.449938795911223, 19.122366526633506, 18.842364581235376, 18.408234378488608, 17.560132203723125, 17.13154847227261, 16.89742985856503, 16.73418123594771, 16.228700647116106, 15.87244747073088, 15.722670306900042, 15.655760769661082, 15.51133934705434, 15.3384226476777, 14.791113016122553, 14.381621670879202, 13.928371543358702, 13.818312132147831, 12.917703090458645, 12.822288076980689, 12.836965113014722, 34.86311947229987, 35.34966678664226, 14.935377366905167, 14.183530641871426], \"Total\": [156.0, 132.0, 221.0, 203.0, 174.0, 324.0, 174.0, 231.0, 294.0, 293.0, 106.0, 108.0, 259.0, 289.0, 316.0, 98.0, 195.0, 194.0, 251.0, 246.0, 99.0, 252.0, 170.0, 213.0, 141.0, 181.0, 283.0, 214.0, 252.0, 205.0, 324.614342265754, 259.7889104694694, 251.37841807847545, 246.4849993532216, 212.35981504847996, 211.5963594052984, 210.29967444839988, 192.7504809397236, 168.28473092803597, 154.82203551318324, 151.97208543928633, 151.54532283782828, 150.58605975394195, 148.4198956644338, 147.6268518055206, 143.8805766620996, 143.18804051790787, 136.47976522953292, 131.86846630028836, 129.85429325676847, 129.44357410438698, 128.8581718175368, 125.3163752972699, 125.12278283137593, 124.78650651909875, 122.13040843358165, 122.16164918147776, 121.77873745014396, 119.17925870651719, 119.14680163848672, 293.2480516679336, 252.3135088645149, 283.3940303598107, 165.08199066454006, 301.2681960812157, 258.3143149205484, 227.96149224959686, 198.6919326394489, 286.23710611879017, 289.4643684044224, 227.6353797853869, 296.15966723902386, 263.01807858305216, 273.6111985854254, 255.05200241839756, 295.64097270090207, 217.456993933589, 201.99558448396607, 221.70816171528298, 213.8352349644392, 180.32745257012658, 176.26853402887033, 158.99315283689688, 154.85476547956202, 153.9824679841463, 153.61783812145447, 152.87589305321035, 149.0507683278914, 140.97712042425175, 140.94838156498773, 139.81383242245425, 139.7608007258422, 136.31588444175404, 136.43748703672813, 133.1647581441889, 128.87642938515796, 128.91943541426662, 205.26883361958494, 118.951066871682, 117.00175055436192, 115.8706655523722, 115.61578204497971, 113.88604373125901, 112.89073132305, 112.24795225822515, 112.28424955391203, 111.98572718742493, 110.7127370218829, 109.86768235875067, 157.62426280404466, 294.90108101234136, 252.94846155595903, 289.8571193588411, 194.97926625550426, 316.5688303931526, 136.76615678303224, 134.9471341826743, 184.32286120298144, 236.11656783039166, 297.2010571785588, 173.78130865520174, 207.1686552572596, 312.37234638217484, 223.6464943453994, 287.0608249177927, 217.8236769721858, 206.65619108575163, 171.10874500876747, 210.01423682345342, 201.95391332685782, 297.09263353114306, 231.47066112102098, 195.8576667582624, 194.47055727376474, 181.74311868840422, 152.1658691855042, 139.92604708043982, 131.02241903668875, 128.8957602737483, 121.11811012397972, 112.20796040232898, 111.3014591269041, 105.89470060801607, 102.68428336052959, 101.21162015620217, 101.32287972466871, 98.81085218163713, 97.78481850042255, 94.33998570274983, 89.70428009104651, 87.69724415814505, 86.89390484276807, 84.8538878528436, 84.21955828060227, 82.49459504536026, 81.31770969586908, 80.65275378904745, 79.14545214627164, 79.17680213917784, 78.72956413470648, 77.07812623848666, 145.63598646186875, 131.66905092306038, 214.98618912487396, 120.53637863839688, 132.57812253096398, 201.91092328842868, 180.14156093669607, 176.031501227916, 141.88842216530068, 258.31463645592237, 268.90034254575687, 192.18440213977502, 312.37234638217484, 86.32574440439498, 73.2500036011492, 60.3303208617247, 58.87069489184739, 57.08723728398295, 53.36175505266508, 47.0658190914061, 45.69668422437565, 45.7333332102787, 45.67499814242427, 44.896564957421376, 40.05500795121065, 39.708225170408305, 38.80969309166004, 38.714763613692746, 38.54521911011785, 37.23539675252884, 35.50934494703751, 33.663046361961904, 33.0458471640368, 32.78352233602377, 32.34983285237146, 30.64841438490679, 30.505568016098724, 30.45302954761429, 29.769287725112104, 29.481860143519235, 29.2991940105651, 29.24174815445047, 29.124542433669315, 29.15563259478401, 174.28314337307472, 34.681084382140824, 67.94161618418639, 203.77245877288033, 87.69013371953771, 221.17339344565582, 51.27018949668263, 42.90122750438086, 59.29289933861694, 59.822817993045255, 174.74015515571, 67.70815367785528, 156.82800843569052, 132.32846902348902, 98.19095447296274, 77.71529116285402, 76.81640258807315, 76.79643317287994, 70.91055849996252, 67.33613267257057, 63.706284429839535, 61.48100312405773, 59.635785927159034, 59.10222502649776, 54.66476083582138, 46.67516710190815, 45.430143546428916, 42.551927361478356, 41.4944864746077, 39.35625164326115, 38.478975940597664, 38.253657880799466, 35.75337385627434, 35.46814386721597, 34.631500814924706, 32.38111948573722, 32.22958258653542, 31.88811814606317, 31.731930828932196, 31.50218071588012, 30.796489970162185, 30.966995255948394, 64.83581129140804, 99.69369534647885, 75.31422148738407, 47.75131702966594, 139.260965863197, 203.77245877288033, 81.44716208220467, 170.05854700064475, 105.55402450159555, 47.54609437951918, 41.59672514756748, 30.96662882432918, 28.426340843049243, 27.050479896648213, 24.696866925323295, 24.372455190970765, 24.094183267149614, 25.125798976119704, 23.685988880983437, 23.53656591257522, 23.21316199872802, 22.76916869279963, 22.049184319552772, 21.396126271379185, 20.84089660545741, 20.64776018085067, 19.779737409504268, 19.689474540588233, 19.55925523982286, 19.345605873040995, 18.683583415610816, 18.453602168022694, 18.305122886027487, 17.994828161964673, 18.047749551374213, 17.8996297339257, 17.67951532770399, 17.40154793157732, 17.21663988051877, 38.10565369457557, 58.54711073150221, 106.26292893218202, 108.81916720263321, 39.94276960384097, 50.86115310202464, 60.867450514020724, 174.74015515571, 49.03506441945321, 49.509246779873585, 59.64350235636894, 75.57726770539162, 129.13864578470793, 141.88842216530068, 175.99802693593756, 58.679238751074806, 113.1899581639361, 92.18482114192115, 37.079193107389216, 33.84471661152247, 29.059925402246815, 27.797685454233164, 23.822536564740332, 22.669755893417634, 22.320719207117225, 21.299871039217322, 20.63282398526473, 20.225697677560877, 19.89843668297091, 19.618599184517933, 19.187323398200448, 18.33868178620904, 17.914094109671808, 17.67073902336964, 17.508013052475796, 17.002621270988982, 16.647947912163797, 16.501705952902938, 16.43445784519976, 16.295220592870248, 16.12180426257634, 15.56784748040429, 15.161350350844664, 14.706366954807063, 14.599420130002263, 13.695869169535106, 13.598797087457974, 13.616592562529506, 38.77427298414182, 40.96833418036245, 18.424640758713313, 19.825238032775374], \"Category\": [\"Default\", \"Default\", \"Default\", \"Default\", \"Default\", \"Default\", \"Default\", \"Default\", \"Default\", \"Default\", \"Default\", \"Default\", \"Default\", \"Default\", \"Default\", \"Default\", \"Default\", \"Default\", \"Default\", \"Default\", \"Default\", \"Default\", \"Default\", \"Default\", \"Default\", \"Default\", \"Default\", \"Default\", \"Default\", \"Default\", \"Topic1\", \"Topic1\", \"Topic1\", \"Topic1\", \"Topic1\", \"Topic1\", \"Topic1\", \"Topic1\", \"Topic1\", \"Topic1\", \"Topic1\", \"Topic1\", \"Topic1\", \"Topic1\", \"Topic1\", \"Topic1\", \"Topic1\", \"Topic1\", \"Topic1\", \"Topic1\", \"Topic1\", \"Topic1\", \"Topic1\", \"Topic1\", \"Topic1\", \"Topic1\", \"Topic1\", \"Topic1\", \"Topic1\", \"Topic1\", \"Topic1\", \"Topic1\", \"Topic1\", \"Topic1\", \"Topic1\", \"Topic1\", \"Topic1\", \"Topic1\", \"Topic1\", \"Topic1\", \"Topic1\", \"Topic1\", \"Topic1\", \"Topic1\", \"Topic1\", \"Topic1\", \"Topic1\", \"Topic1\", \"Topic1\", \"Topic2\", \"Topic2\", \"Topic2\", \"Topic2\", \"Topic2\", \"Topic2\", \"Topic2\", \"Topic2\", \"Topic2\", \"Topic2\", \"Topic2\", \"Topic2\", \"Topic2\", \"Topic2\", \"Topic2\", \"Topic2\", \"Topic2\", \"Topic2\", \"Topic2\", \"Topic2\", \"Topic2\", \"Topic2\", \"Topic2\", \"Topic2\", \"Topic2\", \"Topic2\", \"Topic2\", \"Topic2\", \"Topic2\", \"Topic2\", \"Topic2\", \"Topic2\", \"Topic2\", \"Topic2\", \"Topic2\", \"Topic2\", \"Topic2\", \"Topic2\", \"Topic2\", \"Topic2\", \"Topic2\", \"Topic2\", \"Topic2\", \"Topic2\", \"Topic2\", \"Topic2\", \"Topic2\", \"Topic2\", \"Topic2\", \"Topic2\", \"Topic2\", \"Topic2\", \"Topic3\", \"Topic3\", \"Topic3\", \"Topic3\", \"Topic3\", \"Topic3\", \"Topic3\", \"Topic3\", \"Topic3\", \"Topic3\", \"Topic3\", \"Topic3\", \"Topic3\", \"Topic3\", \"Topic3\", \"Topic3\", \"Topic3\", \"Topic3\", \"Topic3\", \"Topic3\", \"Topic3\", \"Topic3\", \"Topic3\", \"Topic3\", \"Topic3\", \"Topic3\", \"Topic3\", \"Topic3\", \"Topic3\", \"Topic3\", \"Topic3\", \"Topic3\", \"Topic3\", \"Topic3\", \"Topic3\", \"Topic3\", \"Topic3\", \"Topic3\", \"Topic3\", \"Topic3\", \"Topic3\", \"Topic3\", \"Topic3\", \"Topic4\", \"Topic4\", \"Topic4\", \"Topic4\", \"Topic4\", \"Topic4\", \"Topic4\", \"Topic4\", \"Topic4\", \"Topic4\", \"Topic4\", \"Topic4\", \"Topic4\", \"Topic4\", \"Topic4\", \"Topic4\", \"Topic4\", \"Topic4\", \"Topic4\", \"Topic4\", \"Topic4\", \"Topic4\", \"Topic4\", \"Topic4\", \"Topic4\", \"Topic4\", \"Topic4\", \"Topic4\", \"Topic4\", \"Topic4\", \"Topic4\", \"Topic4\", \"Topic4\", \"Topic4\", \"Topic4\", \"Topic4\", \"Topic4\", \"Topic4\", \"Topic4\", \"Topic4\", \"Topic4\", \"Topic4\", \"Topic4\", \"Topic5\", \"Topic5\", \"Topic5\", \"Topic5\", \"Topic5\", \"Topic5\", \"Topic5\", \"Topic5\", \"Topic5\", \"Topic5\", \"Topic5\", \"Topic5\", \"Topic5\", \"Topic5\", \"Topic5\", \"Topic5\", \"Topic5\", \"Topic5\", \"Topic5\", \"Topic5\", \"Topic5\", \"Topic5\", \"Topic5\", \"Topic5\", \"Topic5\", \"Topic5\", \"Topic5\", \"Topic5\", \"Topic5\", \"Topic5\", \"Topic5\", \"Topic5\", \"Topic5\", \"Topic5\", \"Topic5\", \"Topic5\", \"Topic5\", \"Topic5\", \"Topic5\", \"Topic6\", \"Topic6\", \"Topic6\", \"Topic6\", \"Topic6\", \"Topic6\", \"Topic6\", \"Topic6\", \"Topic6\", \"Topic6\", \"Topic6\", \"Topic6\", \"Topic6\", \"Topic6\", \"Topic6\", \"Topic6\", \"Topic6\", \"Topic6\", \"Topic6\", \"Topic6\", \"Topic6\", \"Topic6\", \"Topic6\", \"Topic6\", \"Topic6\", \"Topic6\", \"Topic6\", \"Topic6\", \"Topic6\", \"Topic6\", \"Topic6\", \"Topic6\", \"Topic6\", \"Topic6\", \"Topic6\", \"Topic6\", \"Topic6\", \"Topic6\", \"Topic6\", \"Topic6\", \"Topic6\", \"Topic6\", \"Topic6\", \"Topic6\", \"Topic6\", \"Topic6\", \"Topic6\", \"Topic6\", \"Topic7\", \"Topic7\", \"Topic7\", \"Topic7\", \"Topic7\", \"Topic7\", \"Topic7\", \"Topic7\", \"Topic7\", \"Topic7\", \"Topic7\", \"Topic7\", \"Topic7\", \"Topic7\", \"Topic7\", \"Topic7\", \"Topic7\", \"Topic7\", \"Topic7\", \"Topic7\", \"Topic7\", \"Topic7\", \"Topic7\", \"Topic7\", \"Topic7\", \"Topic7\", \"Topic7\", \"Topic7\", \"Topic7\", \"Topic7\", \"Topic7\", \"Topic7\", \"Topic7\", \"Topic7\"], \"logprob\": [30.0, 29.0, 28.0, 27.0, 26.0, 25.0, 24.0, 23.0, 22.0, 21.0, 20.0, 19.0, 18.0, 17.0, 16.0, 15.0, 14.0, 13.0, 12.0, 11.0, 10.0, 9.0, 8.0, 7.0, 6.0, 5.0, 4.0, 3.0, 2.0, 1.0, -5.1129, -5.3362, -5.3692, -5.389, -5.5384, -5.5421, -5.5482, -5.6357, -5.772, -5.8557, -5.8744, -5.8772, -5.8836, -5.8982, -5.9036, -5.9294, -5.9342, -5.9825, -6.017, -6.0325, -6.0357, -6.0403, -6.0683, -6.0698, -6.0725, -6.0942, -6.0939, -6.0971, -6.1188, -6.1191, -5.2277, -5.3794, -5.2908, -5.8222, -5.3019, -5.4589, -5.5763, -5.7302, -5.495, -5.5022, -5.7138, -5.6815, -5.7314, -5.7219, -5.751, -5.7396, -5.8521, -5.8685, -5.8754, -5.3982, -5.5692, -5.5921, -5.6957, -5.7222, -5.7279, -5.7303, -5.7351, -5.7606, -5.8166, -5.8168, -5.8249, -5.8253, -5.8504, -5.8495, -5.8739, -5.9068, -5.9065, -5.4417, -5.9874, -6.004, -6.0138, -6.016, -6.0312, -6.04, -6.0458, -6.0455, -6.0481, -6.0597, -6.0674, -5.7081, -5.1077, -5.2704, -5.1634, -5.558, -5.1352, -5.8799, -5.8909, -5.6478, -5.5036, -5.3662, -5.7314, -5.6417, -5.4723, -5.6716, -5.5776, -5.6964, -5.7367, -5.7933, -5.7728, -5.7811, -5.7802, -5.1132, -5.2809, -5.288, -5.356, -5.5344, -5.6187, -5.6848, -5.7012, -5.7638, -5.8407, -5.8489, -5.899, -5.93, -5.9446, -5.9436, -5.9688, -5.9793, -6.0154, -6.0662, -6.0891, -6.0985, -6.1223, -6.1299, -6.1507, -6.1652, -6.1735, -6.1926, -6.1922, -6.1979, -6.2193, -5.5905, -5.7179, -5.2731, -5.8277, -5.7756, -5.4392, -5.7002, -5.74, -5.895, -5.6488, -5.703, -5.9096, -5.8192, -5.0148, -5.1806, -5.3768, -5.4017, -5.4329, -5.5012, -5.6287, -5.6587, -5.6579, -5.6593, -5.6767, -5.7929, -5.8016, -5.825, -5.8275, -5.832, -5.8673, -5.9157, -5.9703, -5.9892, -5.9975, -6.011, -6.0664, -6.0713, -6.0731, -6.0962, -6.1062, -6.1125, -6.1146, -6.1187, -6.1177, -4.5889, -5.9831, -5.481, -4.6706, -5.4022, -4.8732, -5.7639, -5.9109, -5.7708, -5.7713, -5.3616, -5.7901, -4.0883, -4.259, -4.5594, -4.7953, -4.8071, -4.8073, -4.8879, -4.9402, -4.9962, -5.0322, -5.063, -5.0722, -5.1513, -5.3116, -5.3391, -5.4058, -5.4314, -5.4853, -5.5083, -5.5143, -5.5832, -5.5914, -5.6159, -5.6846, -5.6893, -5.7003, -5.7053, -5.7127, -5.736, -5.7306, -5.0794, -4.7054, -5.0392, -5.4357, -5.294, -5.326, -5.5136, -5.4906, -5.5759, -5.0782, -5.2142, -5.5158, -5.6036, -5.6546, -5.7484, -5.7623, -5.7739, -5.7323, -5.7916, -5.798, -5.8125, -5.8323, -5.8656, -5.8972, -5.924, -5.9337, -5.9784, -5.9834, -5.9902, -6.0019, -6.0378, -6.0508, -6.059, -6.0769, -6.0742, -6.0826, -6.0955, -6.1119, -6.1232, -5.3439, -4.9681, -4.4284, -4.4542, -5.368, -5.2033, -5.2549, -4.6208, -5.4675, -5.4911, -5.486, -5.5079, -5.3366, -5.3493, -5.3715, -5.709, -5.7264, -5.8213, -4.7932, -4.8863, -5.0427, -5.0882, -5.2473, -5.2987, -5.3148, -5.3633, -5.3966, -5.4171, -5.4341, -5.4488, -5.4722, -5.5193, -5.544, -5.5578, -5.5675, -5.5982, -5.6204, -5.6298, -5.6341, -5.6434, -5.6546, -5.6909, -5.719, -5.751, -5.759, -5.8264, -5.8338, -5.8326, -4.8335, -4.8197, -5.6812, -5.7329], \"loglift\": [30.0, 29.0, 28.0, 27.0, 26.0, 25.0, 24.0, 23.0, 22.0, 21.0, 20.0, 19.0, 18.0, 17.0, 16.0, 15.0, 14.0, 13.0, 12.0, 11.0, 10.0, 9.0, 8.0, 7.0, 6.0, 5.0, 4.0, 3.0, 2.0, 1.0, 1.1675, 1.167, 1.1669, 1.1668, 1.1663, 1.1663, 1.1663, 1.166, 1.1654, 1.165, 1.165, 1.1649, 1.1649, 1.1648, 1.1648, 1.1647, 1.1647, 1.1644, 1.1642, 1.1641, 1.1641, 1.1641, 1.1639, 1.1639, 1.1639, 1.1638, 1.1638, 1.1638, 1.1636, 1.1636, 1.1544, 1.153, 1.1255, 1.1344, 1.0531, 1.05, 1.0576, 1.0411, 0.9112, 0.8929, 0.9215, 0.6907, 0.7595, 0.7294, 0.7706, 0.6343, 0.8289, 0.8863, 0.7862, 1.2997, 1.299, 1.2989, 1.2985, 1.2984, 1.2983, 1.2983, 1.2983, 1.2982, 1.2979, 1.2979, 1.2979, 1.2979, 1.2977, 1.2977, 1.2976, 1.2974, 1.2974, 1.2971, 1.2969, 1.2968, 1.2968, 1.2968, 1.2967, 1.2966, 1.2966, 1.2966, 1.2965, 1.2965, 1.2964, 1.2948, 1.2687, 1.2594, 1.2303, 1.2322, 1.1704, 1.2648, 1.2672, 1.1986, 1.0951, 1.0024, 1.1738, 1.0878, 0.8465, 0.9814, 0.8257, 0.983, 0.9953, 1.1275, 0.9431, 0.9739, 0.5888, 1.5054, 1.5048, 1.5048, 1.5045, 1.5037, 1.5033, 1.5029, 1.5028, 1.5024, 1.502, 1.5019, 1.5016, 1.5014, 1.5012, 1.5012, 1.5011, 1.501, 1.5007, 1.5003, 1.5001, 1.4999, 1.4998, 1.4998, 1.4996, 1.4995, 1.4994, 1.4992, 1.4992, 1.4991, 1.499, 1.4915, 1.4648, 1.4194, 1.4434, 1.4003, 1.316, 1.1691, 1.1524, 1.213, 0.8601, 0.7657, 0.895, 0.4997, 2.5901, 2.5886, 2.5864, 2.586, 2.5856, 2.5847, 2.5828, 2.5824, 2.5824, 2.5822, 2.582, 2.58, 2.5799, 2.5794, 2.5793, 2.5792, 2.5785, 2.5775, 2.5764, 2.576, 2.5756, 2.5754, 2.574, 2.5739, 2.5738, 2.5734, 2.5731, 2.573, 2.5729, 2.5728, 2.5727, 2.3135, 2.5338, 2.3634, 2.0754, 2.187, 1.7909, 2.362, 2.3933, 2.2098, 2.2004, 1.5382, 2.0578, 2.9196, 2.9187, 2.9167, 2.9147, 2.9146, 2.9146, 2.9138, 2.9132, 2.9126, 2.9121, 2.9118, 2.9116, 2.9106, 2.9082, 2.9078, 2.9066, 2.9061, 2.9051, 2.9047, 2.9045, 2.9032, 2.903, 2.9024, 2.9009, 2.9009, 2.9006, 2.9005, 2.9003, 2.8997, 2.8996, 2.8118, 2.7555, 2.7022, 2.7613, 1.8327, 1.42, 2.1495, 1.4363, 1.8279, 3.1231, 3.1208, 3.1144, 3.1121, 3.1107, 3.108, 3.1073, 3.1072, 3.1069, 3.1066, 3.1065, 3.1059, 3.1053, 3.1042, 3.1027, 3.1021, 3.1017, 3.1, 3.0996, 3.0994, 3.0987, 3.0977, 3.097, 3.0968, 3.096, 3.0958, 3.0956, 3.0952, 3.0946, 3.094, 3.0788, 3.0251, 2.9688, 2.9192, 3.0076, 2.9306, 2.6995, 2.2789, 2.703, 2.6698, 2.4887, 2.23, 1.8656, 1.7587, 1.5211, 2.282, 1.6076, 1.718, 3.6568, 3.655, 3.651, 3.6499, 3.6451, 3.6433, 3.6428, 3.641, 3.6396, 3.639, 3.6383, 3.6377, 3.6367, 3.6347, 3.6334, 3.6334, 3.6329, 3.6315, 3.6304, 3.6297, 3.6296, 3.6288, 3.6283, 3.6269, 3.6253, 3.6238, 3.6231, 3.6196, 3.6193, 3.6191, 3.5718, 3.5306, 3.4682, 3.3432]}, \"token.table\": {\"Topic\": [6, 5, 5, 6, 1, 2, 6, 1, 2, 6, 1, 2, 7, 4, 1, 3, 6, 2, 3, 3, 3, 7, 2, 3, 3, 5, 6, 3, 3, 7, 5, 1, 2, 3, 7, 4, 7, 2, 6, 1, 6, 5, 1, 2, 3, 1, 2, 1, 3, 1, 7, 3, 5, 3, 2, 4, 4, 2, 3, 5, 3, 6, 2, 4, 3, 4, 2, 1, 2, 3, 2, 4, 1, 2, 3, 4, 7, 6, 4, 4, 1, 2, 1, 2, 1, 2, 2, 3, 1, 3, 5, 3, 1, 5, 3, 3, 6, 2, 2, 1, 2, 3, 1, 2, 3, 7, 1, 3, 5, 3, 5, 5, 4, 1, 5, 3, 4, 4, 5, 2, 2, 1, 2, 1, 3, 2, 1, 2, 3, 3, 3, 7, 2, 5, 3, 1, 2, 5, 3, 4, 6, 3, 1, 2, 7, 3, 7, 4, 1, 1, 6, 2, 3, 4, 1, 7, 2, 1, 3, 4, 6, 5, 3, 4, 5, 4, 6, 6, 7, 2, 3, 1, 2, 6, 7, 5, 3, 4, 2, 5, 2, 3, 4, 6, 5, 2, 1, 2, 3, 7, 7, 2, 1, 2, 3, 1, 2, 3, 7, 4, 1, 3, 1, 6, 6, 3, 6, 6, 2, 3, 6, 6, 5, 1, 2, 3, 6, 4, 2, 4, 5, 2, 6, 2, 5, 4, 7, 1, 1, 1, 2, 1, 2, 3, 2, 4, 1, 2, 3, 1, 7, 4, 6, 6, 6, 7, 4, 6, 7, 1, 5, 6, 4, 6, 1, 2, 3, 6, 1, 2, 1, 2, 3, 5, 1, 2, 3, 5, 6, 3, 5, 1, 7, 2, 3, 4, 6, 3, 1, 2, 6, 5, 3, 5, 7, 2, 3, 2, 3, 2, 3, 1, 5, 1, 3, 2, 3, 2, 1, 4, 6, 5, 6, 6, 1, 1, 3, 4, 1, 2, 1, 6, 3, 1, 2, 2, 3, 1, 2, 1, 3, 3, 7, 4, 6, 3, 6, 5, 1, 2, 3, 7, 2, 5, 3, 4, 2, 1, 1, 3, 1, 3, 6, 4, 1, 2, 3, 4, 1, 7, 3, 7, 2, 3, 7, 4, 1, 2, 5, 4, 1, 1, 2, 1, 3, 1, 3, 6, 4, 2, 7, 1, 2, 3, 6, 2, 3, 1, 6, 7, 4, 1, 4, 5, 1, 2, 1, 4, 4, 2, 1, 1, 4, 4, 7, 7, 1, 1, 3, 2, 5, 4, 6, 4, 3, 1, 2, 3, 5, 4, 5, 4, 6, 6, 6, 1, 3, 4, 5, 2, 4, 2, 7, 4, 4, 7, 1, 3, 1, 2, 3], \"Freq\": [0.9814860752663874, 0.987552269027713, 0.9905317590293476, 0.9419456953127746, 0.09765473410364382, 0.9005936589558264, 0.9662188504474093, 0.15779438975264848, 0.8415700786807919, 0.9634126173547812, 0.5851692288099151, 0.41266269314918863, 0.9704559724168842, 0.989788319417346, 0.9961064639835671, 0.7470658872822583, 0.2537204900203896, 0.9633402056839718, 0.029641237097968363, 0.9956209691841117, 0.9919066149836028, 0.9547175580309084, 0.037973995900689714, 0.9569446966973808, 0.18588786717187467, 0.7966622878794629, 0.9714071301301794, 0.9959111591472232, 0.9919740250842808, 0.9491913101007866, 0.9741369886329942, 0.1190031953735975, 0.4016357843858916, 0.47601278149439, 0.962042389824071, 0.9736610225493973, 0.9856313228914703, 0.992102478726024, 0.9686280654571229, 0.10248157295952785, 0.8881736323159081, 0.9907960048511546, 0.06776313982123099, 0.8131576778547718, 0.11858549468715422, 0.8865168779764885, 0.11226632952540683, 0.9965732242217812, 0.9892346282919878, 0.9971816178360796, 0.9818829950053319, 0.9880288433844626, 0.9889134261060638, 0.9907684315513576, 0.9928681396151625, 0.9603633160410056, 0.9945247952106573, 0.6347460489200697, 0.028421464877018045, 0.33158375689854386, 0.9960929827333145, 0.9821351745037558, 0.9914381575522113, 0.9839650172248131, 0.20605927245013847, 0.7948000508791055, 0.992109792251225, 0.6432485253159337, 0.3508628319905093, 0.007309642333135611, 0.9967934982809353, 0.9809548099415909, 0.998305634950766, 0.9945564083642123, 0.051580593163357946, 0.051580593163357946, 0.9026603803587641, 0.9850019091305771, 0.976100117370158, 0.9858550781989268, 0.6615514832188872, 0.334577761627943, 0.2772909872232348, 0.7179855919173044, 0.7819522614095278, 0.21525652139925203, 0.4761634945954298, 0.5226184696779107, 0.7644426128109111, 0.005880327790853162, 0.22345245605242017, 0.9899369625311165, 0.993414147258597, 0.981765132897372, 0.9968133581916928, 0.9917938954706453, 0.9545872439410951, 0.9931994594408052, 0.9974684824003249, 0.617909932524015, 0.2431121045996125, 0.13843883734144602, 0.23889551630142117, 0.7402396279762345, 0.016823627908550787, 0.9559669076899281, 0.6103648604843065, 0.05026534145164877, 0.33749586403249887, 0.14659281534897114, 0.858615061329688, 0.9870293216852497, 0.9788434606513898, 0.9938798086404143, 0.987871036804203, 0.1631654944904594, 0.8158274724522969, 0.9800304331016938, 0.9975177750795959, 0.9920045536648447, 0.9922199094618667, 0.27275187200471684, 0.7243574305699038, 0.9631577579113451, 0.030287979808532865, 0.9942705613310433, 0.7127846163795345, 0.225331910984498, 0.06438054599557086, 0.9933360458082272, 0.9923381689222115, 0.9709839688288353, 0.9976827026208452, 0.9789285940033845, 0.9972915078628, 0.9829041699593218, 0.01585329306386003, 0.9893720278408363, 0.2289113224396317, 0.3433669836594475, 0.4234859465133186, 0.9940045157493251, 0.27086128018825884, 0.7253573266058456, 0.9381193836388975, 0.25220378144937916, 0.7061705880582616, 0.9852217149452424, 0.9936035263550115, 0.5954171322442467, 0.3969447548294978, 0.15492031803789047, 0.0918046329113425, 0.7516504319616167, 0.994690448872743, 0.9519686298473483, 0.9959780834764386, 0.9969632634894087, 0.19504511487415188, 0.7801804594966075, 0.9293334884761434, 0.9880830800277455, 0.2823916685615895, 0.24555797266225174, 0.4665601480582783, 0.19298070863651898, 0.7994915072084358, 0.9497403160122019, 0.9713038894714275, 0.9912532552875009, 0.9979666489103131, 0.4090032609627268, 0.15337622286102254, 0.42604506350284044, 0.9610794125749051, 0.9813505324714324, 0.9921966099831934, 0.9962265670960331, 0.9944802119785275, 0.9878393168531752, 0.5568244241492067, 0.22727527516294152, 0.017045645637220615, 0.1988658657675738, 0.9855347684040632, 0.9924858846005448, 0.16411749141190882, 0.8061065019349639, 0.02896191024916038, 0.9234005992889701, 0.9635243420055948, 0.9935622852342452, 0.26016679524093317, 0.19772676438310918, 0.5411469341011409, 0.17069553121375033, 0.6200776440009707, 0.2055313539104341, 0.9693292597408542, 0.9852100456186739, 0.013732869523451551, 0.9819001709267858, 0.4694559992922693, 0.5197548563592982, 0.9477381841045828, 0.3635684477291892, 0.6261456599780482, 0.9710381996533743, 0.9567166311721689, 0.03953374508975904, 0.9611659423174087, 0.9885144219173885, 0.972148932025554, 0.9907442507719411, 0.4447586868653716, 0.30373763981049773, 0.2386510027082482, 0.9856560308899754, 0.41353955881324994, 0.5760015283470268, 0.9947202770477694, 0.9936196113946723, 0.968784822209328, 0.9984765628740842, 0.9893388522130722, 0.9773547106587865, 0.9304169530714131, 0.9933401831996191, 0.993605308558378, 0.8807604701171192, 0.11575709035824995, 0.9917029347310659, 0.9946738928363591, 0.9897126864722495, 0.9930689432348225, 0.9613884943864631, 0.6704515094121266, 0.31758229393205994, 0.007841538121779257, 0.9984946278150365, 0.9393989914661529, 0.05248564992560945, 0.9447416986609701, 0.9772028802091073, 0.9717831849914228, 0.9489734672556907, 0.9815376991365654, 0.9833312844755393, 0.9708949139140206, 0.9901051683043175, 0.992176394339449, 0.9551935054009747, 0.34501198625302504, 0.6407365458984751, 0.058649585829058486, 0.9314934219909289, 0.010349926911010322, 0.9605789807336067, 0.7524916962334164, 0.24257955996998293, 0.2856949171995347, 0.6999525471388601, 0.014284745859976735, 0.9909480291342188, 0.8895728241017273, 0.09957904747407395, 0.009957904747407395, 0.1769523388891027, 0.8061162104948011, 0.9920494176887964, 0.9868010046150544, 0.9983080406257551, 0.9735642118960037, 0.007743615351729326, 0.68918176630391, 0.02323084605518798, 0.27877015266225574, 0.9915510351048828, 0.11508717568517025, 0.8804168939915524, 0.9856545161800465, 0.9840588586419043, 0.9921488685898633, 0.9618492550055828, 0.9815318358125537, 0.05807375399089806, 0.9374763144244972, 0.9981841224646634, 0.9851370337348402, 0.966425755448733, 0.030518708066802094, 0.15046086864237995, 0.8425808643973278, 0.9903748852447897, 0.9855192985394324, 0.9651510512897329, 0.036558751942792914, 0.9977910308986774, 0.9961081407209965, 0.1505699133346056, 0.8469557625071564, 0.989629294747491, 0.9615648214835856, 0.976924585493417, 0.998032337243669, 0.8948879829959999, 0.105280939176, 0.9683516310280894, 0.9855137940601085, 0.013640329329551676, 0.991026551632175, 0.9649825829954508, 0.9975803161138561, 0.2613035676128996, 0.7355211532807544, 0.6338589260323162, 0.36494907862466686, 0.9974753874222789, 0.9941791709135387, 0.9562657324006626, 0.04234387006940204, 0.996396165420026, 0.9859214622161233, 0.34669068351943994, 0.6525942278012986, 0.7774541260325161, 0.21203294346341348, 0.9933690555399989, 0.772087179739316, 0.12227625018495954, 0.10480821444425104, 0.9548488809806956, 0.9929502656062809, 0.9950081381387753, 0.05766832368799601, 0.9226931790079361, 0.9960940255492595, 0.9981074703555426, 0.2831106810377979, 0.7105522975066301, 0.08296994851040314, 0.8975839884307248, 0.015085445183709661, 0.9741583429131505, 0.5082589837562271, 0.4880632625473705, 0.3176045635665117, 0.668641186455814, 0.9971708936827233, 0.9684687383283663, 0.9930505063017908, 0.9750414039148761, 0.9932714263586598, 0.12204547975974758, 0.8543183583182331, 0.9791368334259248, 0.006344200963802, 0.9896953503531121, 0.9882301942678328, 0.9834270249997665, 0.9964015858251736, 0.004871660165679379, 0.9938186737985932, 0.7565698023807416, 0.23837130759941172, 0.9936971829644228, 0.9855272524799696, 0.9754193157578351, 0.9891859455976812, 0.16282542706192255, 0.8141271353096128, 0.13633923378819626, 0.14770083660387928, 0.6987385731645059, 0.011361602815683023, 0.1733437667956314, 0.8270974015677269, 0.9985750123047699, 0.9524161844562034, 0.9635262173740864, 0.9851236624288574, 0.996484715307606, 0.9836557075715876, 0.9687733586046697, 0.06667375588009739, 0.9334325823213634, 0.551603418925597, 0.44761261043962386, 0.9575350916815321, 0.9937534867434467, 0.9904908849114171, 0.33070995298914324, 0.6614199059782865, 0.9821642703150557, 0.941031370692252, 0.9589421960143173, 0.9934211396840055, 0.08372630852833418, 0.9163379322267685, 0.09254145017223087, 0.8945673516648983, 0.10014328099109462, 0.876253708672078, 0.9668219796141976, 0.9907332887877013, 0.68107551310589, 0.24356342852793417, 0.07216694178605457, 0.987159056151518, 0.9803034355586093, 0.9769339334288211, 0.9847541624474359, 0.9447158843079467, 0.9596516108986783, 0.9847181915792895, 0.17666764300137683, 0.009814869055632046, 0.5937995778657388, 0.22083455375172104, 0.3035776661418336, 0.6746170358707413, 0.9911977426750539, 0.9654723348831893, 0.9965869817220694, 0.993220705497635, 0.9695967220398398, 0.9957538090269215, 0.9860125525735948, 0.12319595694738862, 0.8750071813955551, 0.9933818820744114], \"Term\": [\"ablation\", \"absorption\", \"abstract\", \"academic\", \"accord\", \"accord\", \"accumulation\", \"accurate\", \"accurate\", \"acetone\", \"achieve\", \"achieve\", \"acs\", \"activate\", \"active\", \"activity\", \"activity\", \"address\", \"address\", \"adolescent\", \"age\", \"allows\", \"among\", \"among\", \"amplitude\", \"amplitude\", \"animal\", \"associate\", \"association\", \"attenuate\", \"basin\", \"behavior\", \"behavior\", \"behavior\", \"betacatenin\", \"bind\", \"bioprosthetic\", \"build\", \"ca\", \"cancer\", \"cancer\", \"capture\", \"case\", \"case\", \"case\", \"characteristic\", \"characteristic\", \"characterize\", \"child\", \"circuit\", \"clarify\", \"class\", \"clear\", \"clinical\", \"cognitive\", \"column\", \"combustion\", \"communication\", \"communication\", \"communication\", \"community\", \"completely\", \"complex\", \"compound\", \"concentration\", \"concentration\", \"concept\", \"condition\", \"condition\", \"condition\", \"configuration\", \"consumption\", \"controller\", \"cost\", \"crop\", \"crop\", \"crop\", \"culture\", \"cytokine\", \"db\", \"demonstrate\", \"demonstrate\", \"describe\", \"describe\", \"determine\", \"determine\", \"development\", \"development\", \"device\", \"device\", \"device\", \"diagnosis\", \"digital\", \"discovery\", \"disease\", \"disorder\", \"dna\", \"domain\", \"drive\", \"due\", \"due\", \"due\", \"dynamic\", \"dynamic\", \"dynamic\", \"edge\", \"electrical\", \"electrical\", \"electrical\", \"electricity\", \"electricity\", \"electrode\", \"electronic\", \"element\", \"emerge\", \"emission\", \"emission\", \"encode\", \"engine\", \"engineering\", \"environment\", \"error\", \"error\", \"establish\", \"establish\", \"estimate\", \"evaluate\", \"evaluate\", \"evaluate\", \"evidence\", \"examine\", \"excess\", \"exist\", \"exogenous\", \"experience\", \"experimental\", \"experimental\", \"explicit\", \"expression\", \"expression\", \"expression\", \"family\", \"feature\", \"feature\", \"fiber\", \"fibrosis\", \"fibrosis\", \"film\", \"filter\", \"finding\", \"finding\", \"flow\", \"flow\", \"flow\", \"force\", \"former\", \"framework\", \"frequency\", \"fuel\", \"fuel\", \"fusion\", \"gap\", \"gas\", \"gas\", \"gas\", \"gene\", \"gene\", \"geosynthetic\", \"gi\", \"goal\", \"group\", \"growth\", \"growth\", \"growth\", \"hardness\", \"hdpp\", \"health\", \"heat\", \"help\", \"hip\", \"human\", \"human\", \"human\", \"human\", \"hybrid\", \"ie\", \"image\", \"image\", \"image\", \"immunohistochemistry\", \"impair\", \"implementation\", \"important\", \"important\", \"important\", \"improve\", \"improve\", \"improve\", \"increased\", \"independent\", \"individual\", \"individual\", \"induce\", \"induce\", \"induction\", \"infection\", \"infection\", \"inflammation\", \"information\", \"information\", \"inhibition\", \"inhibitor\", \"innovative\", \"input\", \"involve\", \"involve\", \"involve\", \"iron\", \"isolate\", \"isolate\", \"joint\", \"key\", \"kinase\", \"learn\", \"leave\", \"leukemia\", \"lie\", \"line\", \"linear\", \"load\", \"load\", \"loss\", \"machine\", \"male\", \"many\", \"mass_spectrometry\", \"material\", \"material\", \"material\", \"measurement\", \"median\", \"metabolic\", \"metabolic\", \"metabolism\", \"metabolite\", \"microfluidic\", \"mir\", \"mirnas\", \"mitochondrial\", \"mm\", \"module\", \"molecular\", \"mouse\", \"mouse\", \"network\", \"network\", \"network\", \"nmolminmg\", \"novel\", \"novel\", \"number\", \"number\", \"number\", \"oa\", \"obtain\", \"obtain\", \"obtain\", \"occlusion\", \"occlusion\", \"offer\", \"oil\", \"output\", \"outside\", \"p\", \"p\", \"p\", \"p\", \"parent\", \"part\", \"part\", \"pathway\", \"pc\", \"people\", \"permanent_magnet\", \"popular\", \"practice\", \"practice\", \"prediction\", \"primary\", \"problem\", \"problem\", \"procedure\", \"procedure\", \"produce\", \"production\", \"program\", \"program\", \"project\", \"property\", \"protein\", \"protein\", \"protocol\", \"pvat\", \"radical\", \"range\", \"rate\", \"rate\", \"receptor\", \"reduce\", \"reduce\", \"region\", \"regional\", \"report\", \"require\", \"require\", \"research\", \"research\", \"resistance\", \"resource\", \"response\", \"response\", \"risk\", \"risk_factors\", \"rna\", \"rna\", \"role\", \"role\", \"run\", \"sample\", \"sample\", \"sample\", \"satisfactory\", \"scale\", \"secure\", \"serious\", \"serious\", \"set\", \"signal\", \"significant\", \"significant\", \"significantly\", \"significantly\", \"significantly\", \"similarly\", \"simulation\", \"simulation\", \"skin\", \"skin\", \"small\", \"smoke\", \"social\", \"soft\", \"software\", \"soil\", \"soil\", \"solar\", \"source\", \"source\", \"spread\", \"square\", \"strain\", \"strategy\", \"strategy\", \"stress\", \"stress\", \"structural\", \"student\", \"substance_use\", \"substrate\", \"successful\", \"successful\", \"suggest\", \"suggest\", \"suggest\", \"suggest\", \"support\", \"support\", \"surface\", \"survival\", \"suspension_bridge\", \"sustainable\", \"symptom\", \"synthesize\", \"systematically\", \"technology\", \"technology\", \"temperature\", \"temperature\", \"th\", \"theory\", \"therapy\", \"thermal\", \"thermal\", \"thermodynamic\", \"thrombosis\", \"tl\", \"total\", \"treatment\", \"treatment\", \"trend\", \"trend\", \"tumor\", \"tumor\", \"typical\", \"understand\", \"value\", \"value\", \"value\", \"valve\", \"variability\", \"vegetation\", \"velocity\", \"viral\", \"virus\", \"viscosity\", \"water\", \"water\", \"water\", \"water\", \"wave\", \"wave\", \"way\", \"wf\", \"wind\", \"wind_turbine\", \"wireless_sensor\", \"without\", \"woman\", \"work\", \"work\", \"year\"]}, \"R\": 30, \"lambda.step\": 0.01, \"plot.opts\": {\"xlab\": \"PC1\", \"ylab\": \"PC2\"}, \"topic.order\": [6, 3, 7, 5, 1, 4, 2]};\n",
       "\n",
       "function LDAvis_load_lib(url, callback){\n",
       "  var s = document.createElement('script');\n",
       "  s.src = url;\n",
       "  s.async = true;\n",
       "  s.onreadystatechange = s.onload = callback;\n",
       "  s.onerror = function(){console.warn(\"failed to load library \" + url);};\n",
       "  document.getElementsByTagName(\"head\")[0].appendChild(s);\n",
       "}\n",
       "\n",
       "if(typeof(LDAvis) !== \"undefined\"){\n",
       "   // already loaded: just create the visualization\n",
       "   !function(LDAvis){\n",
       "       new LDAvis(\"#\" + \"ldavis_el57201399024174337605963963955\", ldavis_el57201399024174337605963963955_data);\n",
       "   }(LDAvis);\n",
       "}else if(typeof define === \"function\" && define.amd){\n",
       "   // require.js is available: use it to load d3/LDAvis\n",
       "   require.config({paths: {d3: \"https://d3js.org/d3.v5\"}});\n",
       "   require([\"d3\"], function(d3){\n",
       "      window.d3 = d3;\n",
       "      LDAvis_load_lib(\"https://cdn.jsdelivr.net/gh/bmabey/pyLDAvis@3.3.1/pyLDAvis/js/ldavis.v3.0.0.js\", function(){\n",
       "        new LDAvis(\"#\" + \"ldavis_el57201399024174337605963963955\", ldavis_el57201399024174337605963963955_data);\n",
       "      });\n",
       "    });\n",
       "}else{\n",
       "    // require.js not available: dynamically load d3 & LDAvis\n",
       "    LDAvis_load_lib(\"https://d3js.org/d3.v5.js\", function(){\n",
       "         LDAvis_load_lib(\"https://cdn.jsdelivr.net/gh/bmabey/pyLDAvis@3.3.1/pyLDAvis/js/ldavis.v3.0.0.js\", function(){\n",
       "                 new LDAvis(\"#\" + \"ldavis_el57201399024174337605963963955\", ldavis_el57201399024174337605963963955_data);\n",
       "            })\n",
       "         });\n",
       "}\n",
       "</script>"
      ],
      "text/plain": [
       "PreparedData(topic_coordinates=              x         y  topics  cluster       Freq\n",
       "topic                                                \n",
       "5      0.243856 -0.167615       1        1  31.043976\n",
       "2      0.257494 -0.037497       2        1  27.168857\n",
       "6      0.096970  0.326007       3        1  22.123162\n",
       "4     -0.166455 -0.046524       4        1   7.435916\n",
       "0     -0.154199 -0.058446       5        1   5.369535\n",
       "3     -0.145501 -0.004102       6        1   4.331477\n",
       "1     -0.132166 -0.011823       7        1   2.527078, topic_info=             Term        Freq       Total Category  logprob  loglift\n",
       "704         joint  156.000000  156.000000  Default  30.0000  30.0000\n",
       "896        engine  132.000000  132.000000  Default  29.0000  29.0000\n",
       "1286  temperature  221.000000  221.000000  Default  28.0000  28.0000\n",
       "243         water  203.000000  203.000000  Default  27.0000  27.0000\n",
       "412          flow  174.000000  174.000000  Default  26.0000  26.0000\n",
       "...           ...         ...         ...      ...      ...      ...\n",
       "1921       allows   12.836965   13.616593   Topic7  -5.8326   3.6191\n",
       "887          crop   34.863119   38.774273   Topic7  -4.8335   3.5718\n",
       "4288         soil   35.349667   40.968334   Topic7  -4.8197   3.5306\n",
       "2945   successful   14.935377   18.424641   Topic7  -5.6812   3.4682\n",
       "897      fibrosis   14.183531   19.825238   Topic7  -5.7329   3.3432\n",
       "\n",
       "[338 rows x 6 columns], token_table=      Topic      Freq        Term\n",
       "term                             \n",
       "2678      6  0.981486    ablation\n",
       "664       5  0.987552  absorption\n",
       "153       5  0.990532    abstract\n",
       "4965      6  0.941946    academic\n",
       "389       1  0.097655      accord\n",
       "...     ...       ...         ...\n",
       "607       1  0.995754     without\n",
       "76        3  0.986013       woman\n",
       "460       1  0.123196        work\n",
       "460       2  0.875007        work\n",
       "331       3  0.993382        year\n",
       "\n",
       "[431 rows x 3 columns], R=30, lambda_step=0.01, plot_opts={'xlab': 'PC1', 'ylab': 'PC2'}, topic_order=[6, 3, 7, 5, 1, 4, 2])"
      ]
     },
     "execution_count": 96,
     "metadata": {},
     "output_type": "execute_result"
    }
   ],
   "source": [
    "vis_ldamodel_mock = pyLDAvis.gensim_models.prepare(mockdata_lda_model,mock_corpus,mockdata_word2id)\n",
    "vis_ldamodel_mock"
   ]
  },
  {
   "cell_type": "code",
   "execution_count": 103,
   "metadata": {},
   "outputs": [
    {
     "name": "stdout",
     "output_type": "stream",
     "text": [
      "Perplexity:  -8.990820876485346\n",
      "UMass Coherence Score:  -4.134717354256426\n",
      "C_v Coherence Score:  0.5186172903544527\n"
     ]
    }
   ],
   "source": [
    "# A lower perplexity score indicates better generalization performance.\n",
    "mock_perplexity = mockdata_lda_model.log_perplexity(mock_corpus)\n",
    "print('Perplexity: ', mock_perplexity )\n",
    "\n",
    "# get coherence value u_mass\n",
    "# probability = the number of documents in which the word occurs divided by the total number of documents\"\n",
    "mock_cm = CoherenceModel(model=mockdata_lda_model, corpus=mock_corpus, dictionary = mockdata_word2id,coherence='u_mass')\n",
    "mock_coherence_umass = mock_cm.get_coherence() \n",
    "print('UMass Coherence Score: ', mock_coherence_umass)\n",
    "\n",
    "# Compute Coherence Score using c_v\n",
    "# CV measure is based on the Pointwise Mutual Information score\n",
    "mock_coherence_model_lda = CoherenceModel(model=mockdata_lda_model, texts=documents, dictionary=mockdata_word2id, coherence=\"c_v\")\n",
    "mock_coherence_cv = mock_coherence_model_lda.get_coherence()\n",
    "print('C_v Coherence Score: ', mock_coherence_cv)"
   ]
  },
  {
   "cell_type": "code",
   "execution_count": 107,
   "metadata": {},
   "outputs": [
    {
     "name": "stdout",
     "output_type": "stream",
     "text": [
      "overall accuracy: 0.7485\n",
      "accuracy by domain Domain\n",
      "CS              0.789625\n",
      "Civil           0.384615\n",
      "ECE             0.890671\n",
      "MAE             0.421769\n",
      "Medical         0.125000\n",
      "Psychology      0.887029\n",
      "biochemistry    0.233010\n",
      "dtype: float64\n"
     ]
    },
    {
     "data": {
      "text/html": [
       "<div>\n",
       "<style scoped>\n",
       "    .dataframe tbody tr th:only-of-type {\n",
       "        vertical-align: middle;\n",
       "    }\n",
       "\n",
       "    .dataframe tbody tr th {\n",
       "        vertical-align: top;\n",
       "    }\n",
       "\n",
       "    .dataframe thead th {\n",
       "        text-align: right;\n",
       "    }\n",
       "</style>\n",
       "<table border=\"1\" class=\"dataframe\">\n",
       "  <thead>\n",
       "    <tr style=\"text-align: right;\">\n",
       "      <th></th>\n",
       "      <th>Domain</th>\n",
       "      <th>actual</th>\n",
       "      <th>predicted</th>\n",
       "      <th>correct</th>\n",
       "    </tr>\n",
       "  </thead>\n",
       "  <tbody>\n",
       "    <tr>\n",
       "      <th>0</th>\n",
       "      <td>Psychology</td>\n",
       "      <td>6</td>\n",
       "      <td>6</td>\n",
       "      <td>True</td>\n",
       "    </tr>\n",
       "    <tr>\n",
       "      <th>1</th>\n",
       "      <td>Psychology</td>\n",
       "      <td>6</td>\n",
       "      <td>6</td>\n",
       "      <td>True</td>\n",
       "    </tr>\n",
       "    <tr>\n",
       "      <th>2</th>\n",
       "      <td>CS</td>\n",
       "      <td>2</td>\n",
       "      <td>2</td>\n",
       "      <td>True</td>\n",
       "    </tr>\n",
       "    <tr>\n",
       "      <th>3</th>\n",
       "      <td>CS</td>\n",
       "      <td>2</td>\n",
       "      <td>4</td>\n",
       "      <td>False</td>\n",
       "    </tr>\n",
       "    <tr>\n",
       "      <th>4</th>\n",
       "      <td>Psychology</td>\n",
       "      <td>6</td>\n",
       "      <td>6</td>\n",
       "      <td>True</td>\n",
       "    </tr>\n",
       "  </tbody>\n",
       "</table>\n",
       "</div>"
      ],
      "text/plain": [
       "       Domain  actual  predicted  correct\n",
       "0  Psychology       6          6     True\n",
       "1  Psychology       6          6     True\n",
       "2          CS       2          2     True\n",
       "3          CS       2          4    False\n",
       "4  Psychology       6          6     True"
      ]
     },
     "execution_count": 107,
     "metadata": {},
     "output_type": "execute_result"
    }
   ],
   "source": [
    "def get_weight_each_topic(i,t_predict):\n",
    "    find = t_predict[list(map(lambda topic: i in topic, t_predict))]\n",
    "    if len(find)==0:\n",
    "        return 0.0\n",
    "    else:\n",
    "        return find[0][1]\n",
    "\n",
    "def get_topic_dist(model,text):\n",
    "    t_predict = np.array(model[text][0])\n",
    "    topic_dist_d = list(map(lambda i:get_weight_each_topic(i,t_predict),range(7)))\n",
    "    return topic_dist_d\n",
    "\n",
    "# accuracy on the training dataset\n",
    "topic_weight_matrix = list(map(lambda text_i:get_topic_dist(mockdata_lda_model,text_i),mock_corpus))\n",
    "dominant_topic = np.argmax(topic_weight_matrix,axis=1)\n",
    "mock_data['Domain_No'] = mock_data.Domain.map(topic2numMock)\n",
    "predict_compare = pd.DataFrame({\"Domain\": mock_data.Domain[:2000],\"actual\": mock_data.Domain_No[:2000],\"predicted\":dominant_topic})\n",
    "predict_compare[\"correct\"] = np.equal(predict_compare.actual,predict_compare.predicted)\n",
    "accuracy = np.sum(predict_compare['correct'])/len(predict_compare)\n",
    "print(\"overall accuracy:\",accuracy)\n",
    "# compute accuracy by domain\n",
    "accuracy_by_domain = predict_compare.groupby('Domain').apply(lambda grp: np.sum(grp.correct)/len(grp))\n",
    "print(\"accuracy by domain\", accuracy_by_domain)\n",
    "predict_compare.head()"
   ]
  },
  {
   "cell_type": "code",
   "execution_count": 108,
   "metadata": {},
   "outputs": [
    {
     "name": "stdout",
     "output_type": "stream",
     "text": [
      "0.732\n",
      "accuracy by domain Domain\n",
      "CS              0.783439\n",
      "Civil           0.166667\n",
      "ECE             0.937824\n",
      "MAE             0.243902\n",
      "Medical         0.000000\n",
      "Psychology      0.959184\n",
      "biochemistry    0.062500\n",
      "dtype: float64\n"
     ]
    },
    {
     "name": "stderr",
     "output_type": "stream",
     "text": [
      "/tmp/ipykernel_5720/1188854384.py:8: SettingWithCopyWarning: \n",
      "A value is trying to be set on a copy of a slice from a DataFrame.\n",
      "Try using .loc[row_indexer,col_indexer] = value instead\n",
      "\n",
      "See the caveats in the documentation: https://pandas.pydata.org/pandas-docs/stable/user_guide/indexing.html#returning-a-view-versus-a-copy\n",
      "  mock_test['Domain_No'] = mock_test.Domain.map(topic2numMock)\n"
     ]
    },
    {
     "data": {
      "text/html": [
       "<div>\n",
       "<style scoped>\n",
       "    .dataframe tbody tr th:only-of-type {\n",
       "        vertical-align: middle;\n",
       "    }\n",
       "\n",
       "    .dataframe tbody tr th {\n",
       "        vertical-align: top;\n",
       "    }\n",
       "\n",
       "    .dataframe thead th {\n",
       "        text-align: right;\n",
       "    }\n",
       "</style>\n",
       "<table border=\"1\" class=\"dataframe\">\n",
       "  <thead>\n",
       "    <tr style=\"text-align: right;\">\n",
       "      <th></th>\n",
       "      <th>Domain</th>\n",
       "      <th>actual</th>\n",
       "      <th>predicted</th>\n",
       "      <th>correct</th>\n",
       "    </tr>\n",
       "  </thead>\n",
       "  <tbody>\n",
       "    <tr>\n",
       "      <th>2000</th>\n",
       "      <td>ECE</td>\n",
       "      <td>5</td>\n",
       "      <td>5</td>\n",
       "      <td>True</td>\n",
       "    </tr>\n",
       "    <tr>\n",
       "      <th>2001</th>\n",
       "      <td>ECE</td>\n",
       "      <td>5</td>\n",
       "      <td>5</td>\n",
       "      <td>True</td>\n",
       "    </tr>\n",
       "    <tr>\n",
       "      <th>2002</th>\n",
       "      <td>CS</td>\n",
       "      <td>2</td>\n",
       "      <td>2</td>\n",
       "      <td>True</td>\n",
       "    </tr>\n",
       "    <tr>\n",
       "      <th>2003</th>\n",
       "      <td>CS</td>\n",
       "      <td>2</td>\n",
       "      <td>2</td>\n",
       "      <td>True</td>\n",
       "    </tr>\n",
       "    <tr>\n",
       "      <th>2004</th>\n",
       "      <td>MAE</td>\n",
       "      <td>0</td>\n",
       "      <td>5</td>\n",
       "      <td>False</td>\n",
       "    </tr>\n",
       "  </tbody>\n",
       "</table>\n",
       "</div>"
      ],
      "text/plain": [
       "     Domain  actual  predicted  correct\n",
       "2000    ECE       5          5     True\n",
       "2001    ECE       5          5     True\n",
       "2002     CS       2          2     True\n",
       "2003     CS       2          2     True\n",
       "2004    MAE       0          5    False"
      ]
     },
     "execution_count": 108,
     "metadata": {},
     "output_type": "execute_result"
    }
   ],
   "source": [
    "#test on 2000-2500 in te mock data\n",
    "mock_test = mock_data[2000:2500]\n",
    "documents = list(map(lambda abstract:abstract.split(\" \"),mock_test.Abstract))\n",
    "mock_corpus_test = [mockdata_word2id .doc2bow(text) for text in documents]\n",
    "\n",
    "topic_weight_matrix_test = list(map(lambda text_i:get_topic_dist(mockdata_lda_model,text_i),mock_corpus_test))\n",
    "dominant_topic_test = np.argmax(topic_weight_matrix_test,axis=1)\n",
    "mock_test['Domain_No'] = mock_test.Domain.map(topic2numMock)\n",
    "predict_compare_test = pd.DataFrame({\"Domain\":mock_test.Domain,\"actual\": mock_test.Domain_No,\"predicted\":dominant_topic_test})\n",
    "predict_compare_test[\"correct\"] = np.equal(predict_compare_test.actual,predict_compare_test.predicted)\n",
    "test_accuracy = np.sum(predict_compare_test['correct'])/len(predict_compare_test)\n",
    "print(test_accuracy)\n",
    "# compute accuracy by domain\n",
    "accuracy_by_domain = predict_compare_test.groupby('Domain').apply(lambda grp: np.sum(grp.correct)/len(grp))\n",
    "print(\"accuracy by domain\", accuracy_by_domain)\n",
    "predict_compare_test.head()"
   ]
  }
 ],
 "metadata": {
  "interpreter": {
   "hash": "b10cdd4904fdd44c62b07c72ba64e3113d365136411c6c9d777e955188ee8c1b"
  },
  "kernelspec": {
   "display_name": "Python 3.8.10 64-bit ('.nlp_env': venv)",
   "language": "python",
   "name": "python3"
  },
  "language_info": {
   "codemirror_mode": {
    "name": "ipython",
    "version": 3
   },
   "file_extension": ".py",
   "mimetype": "text/x-python",
   "name": "python",
   "nbconvert_exporter": "python",
   "pygments_lexer": "ipython3",
   "version": "3.8.10"
  },
  "orig_nbformat": 4
 },
 "nbformat": 4,
 "nbformat_minor": 2
}
