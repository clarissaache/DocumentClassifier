{
 "cells": [
  {
   "cell_type": "code",
   "execution_count": null,
   "metadata": {},
   "outputs": [],
   "source": [
    "import re \n",
    "import nltk\n",
    "nltk.downlaod('stopwords')\n",
    "import numpy\n",
    "import pandas\n",
    "import matplotlib.pyplot as plt"
   ]
  }
 ],
 "metadata": {
  "interpreter": {
   "hash": "b10cdd4904fdd44c62b07c72ba64e3113d365136411c6c9d777e955188ee8c1b"
  },
  "kernelspec": {
   "display_name": "Python 3.8.10 64-bit ('.nlp_env': venv)",
   "language": "python",
   "name": "python3"
  },
  "language_info": {
   "name": "python",
   "version": "3.8.10"
  },
  "orig_nbformat": 4
 },
 "nbformat": 4,
 "nbformat_minor": 2
}
