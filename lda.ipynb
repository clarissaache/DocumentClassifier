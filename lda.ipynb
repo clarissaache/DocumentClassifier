{
 "cells": [
  {
   "cell_type": "markdown",
   "metadata": {},
   "source": [
    "# Generative Probabilistic Approach with LDA for Document Categorization"
   ]
  },
  {
   "cell_type": "code",
   "execution_count": 9,
   "metadata": {},
   "outputs": [
    {
     "name": "stderr",
     "output_type": "stream",
     "text": [
      "[nltk_data] Downloading package stopwords to /home/sxia1/nltk_data...\n",
      "[nltk_data]   Package stopwords is already up-to-date!\n"
     ]
    }
   ],
   "source": [
    "import re \n",
    "import string\n",
    "import nltk\n",
    "nltk.download('stopwords')\n",
    "from nltk.corpus import stopwords\n",
    "from nltk.stem import WordNetLemmatizer\n",
    "\n",
    "import numpy as np\n",
    "import pandas as pd\n",
    "import matplotlib.pyplot as plt\n",
    "from scipy.special import gamma,gammaln\n",
    "from scipy.stats import dirichlet\n",
    "\n",
    "# Gensim\n",
    "import gensim\n",
    "import gensim.corpora as corpora\n",
    "from gensim.utils import simple_preprocess\n",
    "from gensim.models import CoherenceModel\n",
    "from gensim.corpora.dictionary import Dictionary\n",
    "from gensim.models import LdaModel\n",
    "\n",
    "import pyLDAvis\n",
    "import pyLDAvis.gensim_models\n",
    "pyLDAvis.enable_notebook()\n",
    "\n",
    "%matplotlib inline\n",
    "\n",
    "stop_words = stopwords.words('english')\n",
    "nltk.download('wordnet')"
   ]
  },
  {
   "cell_type": "markdown",
   "metadata": {},
   "source": [
    "# Extract $\\bm{\\alpha}$ and $\\bm{\\beta}$ from data\n",
    "## clean up data and tokenize text\n"
   ]
  },
  {
   "cell_type": "markdown",
   "metadata": {},
   "source": [
    "### Web of science paper data"
   ]
  },
  {
   "cell_type": "code",
   "execution_count": 10,
   "metadata": {},
   "outputs": [
    {
     "name": "stdout",
     "output_type": "stream",
     "text": [
      "46985\n",
      "['CS ' 'Medical ' 'Civil ' 'ECE ' 'biochemistry ' 'MAE ' 'Psychology  ']\n"
     ]
    },
    {
     "name": "stderr",
     "output_type": "stream",
     "text": [
      "/tmp/ipykernel_5720/4099232812.py:10: SettingWithCopyWarning: \n",
      "A value is trying to be set on a copy of a slice from a DataFrame.\n",
      "Try using .loc[row_indexer,col_indexer] = value instead\n",
      "\n",
      "See the caveats in the documentation: https://pandas.pydata.org/pandas-docs/stable/user_guide/indexing.html#returning-a-view-versus-a-copy\n",
      "  df_paper['n_words']=list(map(lambda x:len(x),text_tokenized))\n"
     ]
    },
    {
     "data": {
      "text/plain": [
       "Text(0.5, 1.0, 'abstract word count')"
      ]
     },
     "execution_count": 10,
     "metadata": {},
     "output_type": "execute_result"
    },
    {
     "data": {
      "image/png": "[encoded data removed]",
      "text/plain": [
       "<Figure size 1440x360 with 3 Axes>"
      ]
     },
     "metadata": {
      "needs_background": "light"
     },
     "output_type": "display_data"
    }
   ],
   "source": [
    "# read-in pre-labled research apper abstracts\n",
    "df_paper_raw = pd.read_excel(\"data/WebOfScienceData.xlsx\",sheet_name=\"abstracts\")\n",
    "print(len(df_paper_raw))\n",
    "df_paper = df_paper_raw.head(2000) #use first 2000\n",
    "print(df_paper.Domain.unique())\n",
    "\n",
    "# remove puncutations and number, then tokenize each text\n",
    "text_tokenized = list(map(lambda abstract_i:nltk.word_tokenize(re.sub(r'[^A-Za-z\\s]','',abstract_i.lower())), df_paper['Abstract']))\n",
    "len(text_tokenized)\n",
    "df_paper['n_words']=list(map(lambda x:len(x),text_tokenized))\n",
    "\n",
    "fig,axs = plt.subplots(1,3,figsize=(20,5))\n",
    "categories = df_paper.Domain.value_counts().index\n",
    "counts = df_paper.Domain.value_counts().values\n",
    "axs[0].bar(categories, counts, width=0.5)\n",
    "axs[0].set_title(\"Domain Frquency\")\n",
    "\n",
    "categories = df_paper.area.value_counts().index\n",
    "counts = df_paper.area.value_counts().values\n",
    "axs[1].bar(categories, counts, width=0.5)\n",
    "axs[1].set_title(\"Area Frquency\")\n",
    "\n",
    "axs[2].hist(df_paper.n_words)\n",
    "axs[2].set_title(\"abstract word count\")"
   ]
  },
  {
   "cell_type": "markdown",
   "metadata": {},
   "source": [
    "## remove stopwords, make biargam, lemmatize"
   ]
  },
  {
   "cell_type": "code",
   "execution_count": 11,
   "metadata": {},
   "outputs": [
    {
     "name": "stderr",
     "output_type": "stream",
     "text": [
      "/tmp/ipykernel_5720/1049156276.py:39: SettingWithCopyWarning: \n",
      "A value is trying to be set on a copy of a slice from a DataFrame.\n",
      "Try using .loc[row_indexer,col_indexer] = value instead\n",
      "\n",
      "See the caveats in the documentation: https://pandas.pydata.org/pandas-docs/stable/user_guide/indexing.html#returning-a-view-versus-a-copy\n",
      "  df_paper['n_words_removed']=list(map(lambda x:len(x),abstract_lemmatized))\n"
     ]
    },
    {
     "data": {
      "text/plain": [
       "Text(0.5, 1.0, 'abstract without stop words word count')"
      ]
     },
     "execution_count": 11,
     "metadata": {},
     "output_type": "execute_result"
    },
    {
     "data": {
      "image/png": "[encoded data removed]",
      "text/plain": [
       "<Figure size 432x288 with 1 Axes>"
      ]
     },
     "metadata": {
      "needs_background": "light"
     },
     "output_type": "display_data"
    }
   ],
   "source": [
    "#helper function for lemmatization\n",
    "def get_wordnet_pos(tag):\n",
    "\n",
    "    if tag.startswith('J'):\n",
    "        return 'a'\n",
    "    elif tag.startswith('V'):\n",
    "        return 'v'\n",
    "    elif tag.startswith('R'):\n",
    "        return 'r'\n",
    "    else:\n",
    "        return 'n' #if not belong to any, default is noun, inclunding N\n",
    "\n",
    "def lemmatize_with_pos(abstract_toekenized):\n",
    "    abstract_tagged = nltk.pos_tag(abstract_toekenized)\n",
    "    tags = list(map(lambda token: get_wordnet_pos(token[1]),abstract_tagged))\n",
    "    abstract_lemmatized = list(map(lemmatizer.lemmatize,abstract_toekenized,tags))\n",
    "    return abstract_lemmatized\n",
    "\n",
    "\n",
    "# Creating Bigram: find words frequently occur together\n",
    "bigram = gensim.models.Phrases(text_tokenized, min_count=5, threshold=100)  \n",
    "#come back to adjust the threshold value: (cnt(a, b) - min_count) * N / (cnt(a) * cnt(b)) > threshold\n",
    "bigram_freeze = bigram.freeze()\n",
    "#import nltk lemmatizer\n",
    "lemmatizer = WordNetLemmatizer()\n",
    "\n",
    "def prepare_token(text_tokenized_list):\n",
    "    # remove stopwords and puntuation, \n",
    "    text_stopwords_removed = list(map(lambda abstract: list(filter(lambda word: word not in stop_words, abstract)),text_tokenized_list))\n",
    "\n",
    "    #apply biagram model\n",
    "    word_and_bigram_list = list(map(lambda abstract_cleaned: bigram[abstract_cleaned],text_stopwords_removed))\n",
    "\n",
    "    # lemmatize\n",
    "    abstract_lemmatized = list(map(lemmatize_with_pos,word_and_bigram_list))\n",
    "    return abstract_lemmatized\n",
    "\n",
    "abstract_lemmatized = prepare_token(text_tokenized)\n",
    "df_paper['n_words_removed']=list(map(lambda x:len(x),abstract_lemmatized))\n",
    "plt.hist(df_paper.n_words_removed,bins=30)\n",
    "plt.title(\"abstract without stop words word count\")"
   ]
  },
  {
   "cell_type": "code",
   "execution_count": 12,
   "metadata": {},
   "outputs": [
    {
     "name": "stdout",
     "output_type": "stream",
     "text": [
      "['use', 'model', 'system', 'study', 'result', 'method', 'propose', 'show', 'control', 'base', 'present', 'design', 'analysis', 'high', 'data', 'also', 'patient', 'cell', 'effect', 'increase', 'two', 'different', 'time', 'develop', 'provide', 'new', 'process', 'include', 'rights_reserved', 'approach', 'compare', 'performance', 'test', 'algorithm', 'paper', 'low', 'c_elsevier', 'level', 'power', 'measure', 'structure', 'well', 'find', 'parameter', 'one', 'application', 'may', 'function', 'current', 'energy', 'obtain', 'condition', 'simulation', 'group', 'dynamic']\n"
     ]
    },
    {
     "data": {
      "image/png": "[encoded data removed]",
      "text/plain": [
       "<Figure size 3960x504 with 1 Axes>"
      ]
     },
     "metadata": {
      "needs_background": "light"
     },
     "output_type": "display_data"
    }
   ],
   "source": [
    "def check_frequent_words(corpus,top_n):\n",
    "    all_corpus_together=np.concatenate(corpus)\n",
    "    (word, counts) = np.unique(all_corpus_together, return_counts=True)\n",
    "    frequencies = np.asarray((word, counts)).T\n",
    "    count_df = pd.DataFrame(data=frequencies,columns = ['word','freq'])\n",
    "    count_df.freq = count_df.freq.astype(int)\n",
    "    count_df.sort_values(by=['freq'],axis=0,ascending=False,ignore_index=True,inplace=True)\n",
    "    print(list(count_df.head(top_n).word))\n",
    "    plt.figure(figsize=(top_n,7))\n",
    "    plt.bar(count_df[:top_n].word,height=count_df[:top_n].freq,width=0.6,align='center')\n",
    "    plt.title(\"most frequent words - should consider removeing them\",fontsize=20)\n",
    "    plt.show()\n",
    "    return count_df\n",
    "\n",
    "count_df =check_frequent_words(abstract_lemmatized,55)"
   ]
  },
  {
   "cell_type": "code",
   "execution_count": 54,
   "metadata": {},
   "outputs": [
    {
     "name": "stdout",
     "output_type": "stream",
     "text": [
      "['obtain', 'condition', 'simulation', 'group', 'dynamic', 'change', 'frequency', 'improve', 'treatment', 'reduce', 'demonstrate', 'circuit', 'work', 'however', 'expression', 'gene', 'response', 'signal', 'human', 'sample']\n"
     ]
    },
    {
     "data": {
      "image/png": "[encoded data removed]",
      "text/plain": [
       "<Figure size 1440x504 with 1 Axes>"
      ]
     },
     "metadata": {
      "needs_background": "light"
     },
     "output_type": "display_data"
    },
    {
     "name": "stderr",
     "output_type": "stream",
     "text": [
      "/tmp/ipykernel_5720/1339668137.py:6: SettingWithCopyWarning: \n",
      "A value is trying to be set on a copy of a slice from a DataFrame.\n",
      "Try using .loc[row_indexer,col_indexer] = value instead\n",
      "\n",
      "See the caveats in the documentation: https://pandas.pydata.org/pandas-docs/stable/user_guide/indexing.html#returning-a-view-versus-a-copy\n",
      "  df_paper['n_words_lemmatize_clean']=list(map(lambda x:len(x),abstract_lemmatized_cleaned))\n"
     ]
    },
    {
     "data": {
      "text/plain": [
       "Text(200, 150, 'median length: 87')"
      ]
     },
     "execution_count": 54,
     "metadata": {},
     "output_type": "execute_result"
    },
    {
     "data": {
      "image/png": "[encoded data removed]",
      "text/plain": [
       "<Figure size 432x288 with 1 Axes>"
      ]
     },
     "metadata": {
      "needs_background": "light"
     },
     "output_type": "display_data"
    }
   ],
   "source": [
    "# remove top 50 most frequent words\n",
    "top_n = list(count_df[:50].word)\n",
    "abstract_lemmatized_cleaned = list(map(lambda abstract: list(filter(lambda word: word not in top_n, abstract)),abstract_lemmatized))\n",
    "check_frequent_words(abstract_lemmatized_cleaned,top_n=20)\n",
    "\n",
    "df_paper['n_words_lemmatize_clean']=list(map(lambda x:len(x),abstract_lemmatized_cleaned))\n",
    "median_count = np.median(df_paper.n_words_lemmatize_clean)\n",
    "plt.hist(df_paper.n_words_lemmatize_clean,bins=30)\n",
    "plt.title(\"abstract without stop words word count\")\n",
    "plt.text(200,150,\"median length: %d\"%median_count,fontsize=10)\n"
   ]
  },
  {
   "cell_type": "code",
   "execution_count": 14,
   "metadata": {},
   "outputs": [
    {
     "data": {
      "text/plain": [
       "87.0"
      ]
     },
     "execution_count": 14,
     "metadata": {},
     "output_type": "execute_result"
    }
   ],
   "source": [
    "np.median(df_paper.n_words_lemmatize_clean)"
   ]
  },
  {
   "cell_type": "markdown",
   "metadata": {},
   "source": [
    "## make dictionary and corpus for the inputs to Gensim LDA Model"
   ]
  },
  {
   "cell_type": "code",
   "execution_count": 55,
   "metadata": {},
   "outputs": [
    {
     "name": "stdout",
     "output_type": "stream",
     "text": [
      "total vocabulary size 22477\n",
      "[('p', 1), ('suggest', 1), ('accumulates', 1), ('accumulation', 2), ('across', 1), ('age', 2), ('aggregate', 1), ('among', 1), ('ap', 1), ('appear', 1)]\n"
     ]
    }
   ],
   "source": [
    "# define mapping between words to integer ids\n",
    "word2id = Dictionary(abstract_lemmatized_cleaned)\n",
    "dictionary = word2id.token2id\n",
    "vocab_size = len(dictionary)\n",
    "print(\"total vocabulary size\", vocab_size)\n",
    "# word2id.token2id gives the dictonary between words and their ids\n",
    "\n",
    "# define corpus from documents\n",
    "# documents: a list of lists of strings\n",
    "# corpus: bag of words: each text = [(word_id, frequency), (word_id, frequency)]\n",
    "corpus = list(map(word2id.doc2bow,abstract_lemmatized))\n",
    "print([(word2id[id], freq) for id, freq in corpus[1][:10]])"
   ]
  },
  {
   "cell_type": "markdown",
   "metadata": {},
   "source": [
    "## Use LDA to extract topic distribution and topic-term distribution"
   ]
  },
  {
   "cell_type": "code",
   "execution_count": 83,
   "metadata": {},
   "outputs": [
    {
     "name": "stdout",
     "output_type": "stream",
     "text": [
      "[0.07246257 0.92490155 0.28433117 0.884133   0.43683913 0.16651341\n",
      " 0.2041837 ]\n",
      "(7, 22477)\n",
      "[(0, '0.013*\"soil\" + 0.011*\"jak\" + 0.009*\"iron\" + 0.009*\"crop\" + 0.009*\"followup\" + 0.008*\"soft\" + 0.008*\"risk_factors\" + 0.007*\"successful\" + 0.007*\"fibrosis\" + 0.007*\"gi\" + 0.007*\"median\" + 0.006*\"wf\" + 0.006*\"initiate\" + 0.006*\"surgical\" + 0.005*\"cable\"'), (1, '0.005*\"signal\" + 0.005*\"range\" + 0.005*\"reduce\" + 0.005*\"frequency\" + 0.004*\"stress\" + 0.004*\"measurement\" + 0.004*\"rate\" + 0.004*\"circuit\" + 0.004*\"obtain\" + 0.004*\"experimental\" + 0.004*\"controller\" + 0.004*\"surface\" + 0.004*\"load\" + 0.004*\"response\" + 0.004*\"sample\"'), (2, '0.011*\"joint\" + 0.009*\"engine\" + 0.007*\"protocol\" + 0.007*\"emerge\" + 0.007*\"procedure\" + 0.005*\"capture\" + 0.005*\"secure\" + 0.005*\"motor\" + 0.005*\"hybrid\" + 0.005*\"module\" + 0.005*\"device\" + 0.005*\"amplitude\" + 0.004*\"hdpp\" + 0.004*\"clear\" + 0.004*\"valve\"'), (3, '0.005*\"work\" + 0.005*\"network\" + 0.005*\"problem\" + 0.005*\"research\" + 0.004*\"information\" + 0.004*\"dynamic\" + 0.004*\"set\" + 0.004*\"prediction\" + 0.004*\"estimate\" + 0.003*\"improve\" + 0.003*\"learn\" + 0.003*\"error\" + 0.003*\"however\" + 0.003*\"feature\" + 0.003*\"exist\"'), (4, '0.008*\"adolescent\" + 0.007*\"group\" + 0.006*\"treatment\" + 0.006*\"associate\" + 0.005*\"report\" + 0.005*\"social\" + 0.004*\"support\" + 0.004*\"parent\" + 0.004*\"behavior\" + 0.004*\"health\" + 0.004*\"individual\" + 0.004*\"disease\" + 0.004*\"among\" + 0.004*\"year\" + 0.004*\"experience\"'), (5, '0.014*\"flow\" + 0.012*\"water\" + 0.009*\"temperature\" + 0.009*\"heat\" + 0.008*\"wind\" + 0.007*\"fluid\" + 0.007*\"pressure\" + 0.006*\"combustion\" + 0.006*\"tank\" + 0.006*\"concentration\" + 0.006*\"velocity\" + 0.006*\"thermal\" + 0.005*\"wind_turbine\" + 0.005*\"solar\" + 0.005*\"variability\"'), (6, '0.014*\"expression\" + 0.012*\"gene\" + 0.009*\"protein\" + 0.006*\"activity\" + 0.006*\"human\" + 0.006*\"cancer\" + 0.006*\"mouse\" + 0.005*\"role\" + 0.005*\"inhibitor\" + 0.005*\"rna\" + 0.005*\"receptor\" + 0.004*\"tumor\" + 0.004*\"tissue\" + 0.004*\"cd\" + 0.004*\"mechanism\"')]\n"
     ]
    }
   ],
   "source": [
    "# Train the model on the corpus. #420\n",
    "lda_model = LdaModel(corpus, \n",
    "                num_topics=len(df_paper.Domain.unique()),\n",
    "                id2word = word2id,\n",
    "                random_state=420,\n",
    "                update_every=1,\n",
    "                chunksize=100,\n",
    "                passes=10,\n",
    "                alpha='auto',\n",
    "                per_word_topics=True)\n",
    "\n",
    "# alpha = parameter for Dirichlet Distribution . higer alpha more towards the center, i.e. a mixture of different topic for one document\n",
    "alpha = lda_model.alpha\n",
    "print(alpha)\n",
    "# alpha all parameters are equal => have no prior information to favor one component over any other\n",
    "\n",
    "#beta = #distribution over word weights in each topic\n",
    "topic_term_distribution = lda_model.get_topics()\n",
    "print(np.shape(topic_term_distribution))\n",
    "\n",
    "print(lda_model.print_topics(num_words=15)) \n",
    "#okay, i think i need remove \"model\", \"use\", \"method\", \"system\", \"purpose\", \"result\", \"study\", \"show\"\n",
    "\n"
   ]
  },
  {
   "cell_type": "code",
   "execution_count": 72,
   "metadata": {},
   "outputs": [],
   "source": [
    "#num2topic ={0:\"Civil\", 1:\"Medical\",2:\"MAE\",3:\"ECE\",4:\"biochemistry\",5:\"CS\", 6:\"Psychology\"}\n",
    "num2topic ={0:\"Medical\", 1:\"ECE\",2:\"Civil\",3:\"CS\",4:\"Psychology\",5:\"MAE\", 6:\"biochemistry\"}\n",
    "\n",
    "from gensim.test.utils import datapath\n",
    "# Save model to disk.\n",
    "temp_file = datapath(\"ldaWOS.model\")\n",
    "lda_model.save(temp_file)\n",
    "# Load a potentially pretrained model from disk.\n",
    "# lda = LdaModel.load(temp_file)"
   ]
  },
  {
   "cell_type": "code",
   "execution_count": 81,
   "metadata": {},
   "outputs": [
    {
     "name": "stderr",
     "output_type": "stream",
     "text": [
      "/home/sxia1/.nlp_env/lib/python3.8/site-packages/pyLDAvis/_prepare.py:246: FutureWarning: In a future version of pandas all arguments of DataFrame.drop except for the argument 'labels' will be keyword-only\n",
      "  default_term_info = default_term_info.sort_values(\n",
      "/home/sxia1/.nlp_env/lib/python3.8/site-packages/past/builtins/misc.py:45: DeprecationWarning: the imp module is deprecated in favour of importlib; see the module's documentation for alternative uses\n",
      "  from imp import reload\n",
      "/home/sxia1/.nlp_env/lib/python3.8/site-packages/past/builtins/misc.py:45: DeprecationWarning: the imp module is deprecated in favour of importlib; see the module's documentation for alternative uses\n",
      "  from imp import reload\n",
      "/home/sxia1/.nlp_env/lib/python3.8/site-packages/past/builtins/misc.py:45: DeprecationWarning: the imp module is deprecated in favour of importlib; see the module's documentation for alternative uses\n",
      "  from imp import reload\n",
      "/home/sxia1/.nlp_env/lib/python3.8/site-packages/past/builtins/misc.py:45: DeprecationWarning: the imp module is deprecated in favour of importlib; see the module's documentation for alternative uses\n",
      "  from imp import reload\n"
     ]
    },
    {
     "data": {
      "text/html": [
       "\n",
       "<link rel=\"stylesheet\" type=\"text/css\" href=\"https://cdn.jsdelivr.net/gh/bmabey/pyLDAvis@3.3.1/pyLDAvis/js/ldavis.v1.0.0.css\">\n",
       "\n",
       "\n",
       "<div id=\"ldavis_el57201399016917878562339397386\"></div>\n",
       "<script type=\"text/javascript\">\n",
       "\n",
       "var ldavis_el57201399016917878562339397386_data = {\"mdsDat\": {\"x\": [0.13684903606020832, 0.22997533834724293, 0.13964784621551718, 0.01254309727508376, -0.1411481790766695, -0.16341414788025646, -0.21445299094112638], \"y\": [0.20538053222269056, 0.041193155821741705, -0.20589852940708497, -0.134970191653288, 0.2017031592970045, -0.033254430858990484, -0.07415369542207349], \"topics\": [1, 2, 3, 4, 5, 6, 7], \"cluster\": [1, 1, 1, 1, 1, 1, 1], \"Freq\": [29.37227303980085, 22.460208310390612, 16.594761823819518, 12.532881041878632, 10.137411456318715, 5.819496049449482, 3.08296827834219]}, \"tinfo\": {\"Term\": [\"gene\", \"expression\", \"protein\", \"group\", \"treatment\", \"circuit\", \"water\", \"research\", \"adolescent\", \"technology\", \"temperature\", \"disease\", \"student\", \"information\", \"behavior\", \"cancer\", \"signal\", \"dynamic\", \"joint\", \"p\", \"therapy\", \"obtain\", \"frequency\", \"associate\", \"technique\", \"concentration\", \"fracture\", \"simulation\", \"electrical\", \"error\", \"solution\", \"accuracy\", \"force\", \"equation\", \"scheme\", \"nonlinear\", \"linear\", \"derive\", \"speed\", \"conventional\", \"engine\", \"calculate\", \"compute\", \"pressure\", \"robust\", \"node\", \"strength\", \"couple\", \"estimation\", \"light\", \"numerical\", \"validate\", \"motion\", \"optimization\", \"vehicle\", \"selection\", \"simulate\", \"wind\", \"modify\", \"platform\", \"flow\", \"error\", \"accurate\", \"dynamic\", \"obtain\", \"surface\", \"experimental\", \"simulation\", \"weight\", \"characteristic\", \"generate\", \"prediction\", \"load\", \"order\", \"apply\", \"efficiency\", \"measurement\", \"estimate\", \"technique\", \"network\", \"material\", \"value\", \"demonstrate\", \"temperature\", \"achieve\", \"problem\", \"due\", \"condition\", \"frequency\", \"research\", \"information\", \"service\", \"controller\", \"knowledge\", \"intervention\", \"management\", \"people\", \"practice\", \"task\", \"available\", \"communication\", \"future\", \"resource\", \"game\", \"article\", \"cognitive\", \"address\", \"mental_health\", \"security\", \"especially\", \"regard\", \"sleep\", \"configuration\", \"access\", \"community\", \"event\", \"assessment\", \"view\", \"relevant\", \"learn\", \"social\", \"help\", \"focus\", \"challenge\", \"support\", \"need\", \"experience\", \"literature\", \"relationship\", \"quality\", \"development\", \"many\", \"review\", \"however\", \"life\", \"change\", \"aim\", \"work\", \"improve\", \"require\", \"examine\", \"identify\", \"individual\", \"target\", \"disease\", \"parent\", \"clinical\", \"disorder\", \"age\", \"mouse\", \"brain\", \"drug\", \"male\", \"care\", \"symptom\", \"acute\", \"rat\", \"skin\", \"outcome\", \"female\", \"adult\", \"food\", \"pain\", \"nurse\", \"healthy\", \"kinase\", \"bone\", \"might\", \"sex\", \"metabolism\", \"online\", \"week\", \"perspective\", \"score\", \"month\", \"group\", \"treatment\", \"p\", \"adolescent\", \"receptor\", \"associate\", \"role\", \"significantly\", \"n\", \"behavior\", \"human\", \"stress\", \"risk\", \"evidence\", \"health\", \"report\", \"child\", \"suggest\", \"among\", \"expression\", \"cause\", \"gene\", \"cancer\", \"rna\", \"tumor\", \"dna\", \"virus\", \"assay\", \"bind\", \"mir\", \"gas\", \"soil\", \"bond\", \"survival\", \"amplitude\", \"antibody\", \"genome\", \"activate\", \"peak\", \"nuclear\", \"respond\", \"radical\", \"illustrate\", \"mirnas\", \"hdpp\", \"selective\", \"unit\", \"polymerase_chain\", \"ca\", \"molecule\", \"differentiation\", \"protein\", \"strain\", \"acrylamide\", \"expression\", \"plant\", \"specie\", \"molecular\", \"sequence\", \"enzyme\", \"formation\", \"marker\", \"c\", \"tissue\", \"novel\", \"production\", \"target\", \"activity\", \"reaction\", \"mechanism\", \"potential\", \"identify\", \"circuit\", \"student\", \"joint\", \"fracture\", \"electrical\", \"voltage\", \"sensor\", \"digital\", \"loop\", \"bias\", \"emerge\", \"architecture\", \"converter\", \"object\", \"building\", \"module\", \"amplifier\", \"smart\", \"v\", \"electricity\", \"optical\", \"fabricate\", \"array\", \"conflict\", \"radar\", \"db\", \"complicate\", \"roll\", \"university\", \"gi\", \"create\", \"technology\", \"gain\", \"filter\", \"implement\", \"stage\", \"engineering\", \"implementation\", \"signal\", \"transfer\", \"feedback\", \"device\", \"frequency\", \"input\", \"achieve\", \"material\", \"behavior\", \"technique\", \"inhibition\", \"fluid\", \"degrees_c\", \"fast\", \"ph\", \"trend\", \"chemical\", \"regression\", \"film\", \"ht\", \"co\", \"acetone\", \"skin_care\", \"wf\", \"ic\", \"vi\", \"abi\", \"ache\", \"separation\", \"glaze\", \"dry\", \"acat\", \"diabetes\", \"aceclofenac\", \"cl\", \"river\", \"farmer\", \"atm\", \"adduct\", \"spd\", \"compound\", \"water\", \"solar\", \"heat\", \"concentration\", \"mg\", \"potent\", \"ass\", \"fold\", \"inhibitor\", \"temperature\", \"sample\", \"sensitive\", \"mu\", \"acid\", \"reaction\", \"respectively\", \"value\", \"range\", \"activity\", \"transfer\", \"cd\", \"inflammatory\", \"ad\", \"duration\", \"stimulation\", \"syndrome\", \"crc\", \"mi\", \"onset\", \"aggressive\", \"osteoporosis\", \"bmd\", \"leukemia\", \"hiv\", \"hip\", \"diagnostic\", \"dbt\", \"mirp\", \"stem_cell\", \"burst\", \"ck_alpha\", \"aml\", \"vaccine\", \"nfkappa_b\", \"cmv\", \"upregulated\", \"trauma\", \"suffer\", \"angioedema\", \"adjuvant\", \"diagnosis\", \"infection\", \"injury\", \"therapy\", \"incidence\", \"neural\", \"woman\", \"beta\", \"case\"], \"Freq\": [328.0, 410.0, 249.0, 289.0, 312.0, 201.0, 170.0, 307.0, 275.0, 201.0, 220.0, 196.0, 148.0, 231.0, 270.0, 159.0, 294.0, 314.0, 135.0, 202.0, 133.0, 309.0, 243.0, 258.0, 271.0, 124.0, 126.0, 309.0, 122.0, 257.0, 197.54201786969614, 182.17654549533952, 168.78557520693604, 163.37411408291737, 153.12398276596755, 147.74757791849146, 143.8674934822379, 137.32761451109928, 128.1904320825658, 125.98797630727503, 119.71783730353056, 117.76854761130863, 115.6541343185095, 113.66980090571796, 112.49323090224387, 112.00803043862095, 118.89091347945525, 110.2976055762508, 107.43108950232669, 103.36511388619739, 102.15479342736997, 101.91814472674804, 101.57202049776836, 98.91641337987006, 97.64964126655286, 93.97023894633803, 93.45961263744336, 89.21603906158748, 89.36336457047446, 89.48048668637318, 200.5372954464656, 252.6003109266406, 209.54300428199144, 301.5770682498786, 296.3896182396838, 199.43931327783395, 237.80495506112806, 276.77764046978194, 122.96289085066597, 216.37183385917393, 149.08471370435333, 195.4235364416535, 197.52346014164098, 198.79743938344512, 188.85037158616163, 154.4141843248537, 184.85457130298238, 165.91408696771433, 196.9077403389564, 204.79592991190344, 195.51883627652396, 181.2903198109094, 188.47415696795048, 161.91649118039985, 173.9390738662099, 164.83820331151637, 167.10294926872967, 171.75533904662294, 155.59609061684162, 306.26235398636777, 230.48333135210407, 153.79336380110735, 151.40067160835147, 144.2470781509093, 135.76349436166615, 134.58986956153655, 130.98197926936723, 122.96597508176934, 122.82522114008312, 115.69266396410302, 112.26812824385608, 111.81658268604548, 106.28609532341507, 91.2704341004115, 90.61208778202929, 90.14380729104276, 123.97276901622773, 89.00215456634393, 88.5410173859041, 86.23130857091046, 84.22925177184123, 77.13219512105793, 77.00826732417423, 73.70711213105136, 70.73921541786909, 67.7813375817775, 116.82133583415248, 66.1238831086313, 65.2869012198505, 143.9342030692088, 175.4966230818436, 102.26083983035213, 120.13229867744127, 117.23199938079665, 211.46877959673816, 201.0953101067014, 143.69966437292564, 105.4077177579917, 128.64979398933352, 119.23864556486764, 192.62824042248553, 130.97422148049392, 114.63557881910218, 182.8439980403126, 114.8432532910444, 175.67353523256057, 128.59375164570307, 151.14615276523006, 137.5702430651159, 125.08447552372878, 122.39608483874561, 124.47195584679734, 117.83682847742176, 117.95221598568814, 196.1669791662381, 148.74800908723878, 142.89680659064734, 136.86895229370805, 135.0810107725582, 131.38596473362193, 115.71219288682327, 105.03683274957815, 103.2487138814277, 100.40977147150036, 96.4801521018235, 94.23606700127571, 86.031554933413, 82.65973444387238, 81.12540622744649, 80.49329186018296, 79.20641946062055, 74.93005123538978, 74.8338936916698, 72.2937526022168, 65.50825063711622, 63.652193679979696, 62.446971839489, 61.36565880137064, 60.71912257601912, 58.54185473141368, 57.42332010481146, 55.782012630689565, 53.19394528779708, 51.04944407502068, 64.96337680638301, 274.12449267318254, 286.1226840878298, 188.2638151217782, 251.05190327608236, 96.05181653211811, 190.2758239373537, 178.00755432244776, 164.507886449764, 124.84855703458696, 189.01339704835263, 163.92285416421714, 176.8952623102663, 107.62826259160182, 106.17142792055382, 106.65914635993684, 135.1527440873569, 100.12495928243258, 124.2992211533189, 108.12976443987071, 120.88645478828201, 103.95697395686463, 327.9794582642464, 158.79670723839826, 130.7164492045854, 120.53137667594335, 77.83334726668805, 74.25945338404948, 89.03042301993153, 71.8001377878895, 71.59557699124305, 66.87741880844884, 64.44491223817587, 62.77583607594146, 61.50393423926848, 56.81798010415751, 54.986892562461875, 54.33740051444324, 54.57990861931467, 52.10444546040017, 51.392409733683444, 58.140440849163014, 47.16557891820502, 46.38080951134393, 44.218552280163635, 45.12101566797725, 44.16816749120388, 43.23568860228473, 41.288723278632524, 41.312355295656445, 41.13837253962757, 40.57695810663348, 235.38669753050888, 99.46187178228003, 42.41211200537313, 289.29956286902996, 91.80610548013136, 67.0050081272937, 72.7977507160216, 79.9337894417763, 73.45456113521563, 66.53663237206825, 63.474558367540425, 103.46262064663794, 71.44873274852968, 89.0473367079262, 65.75610612038354, 82.2686820129162, 84.47153852430672, 68.58121169485352, 68.44777732260282, 69.8433092714599, 68.34120019391162, 200.91088929232626, 148.2634471750101, 134.88533578662978, 125.57938988748052, 122.07108349761052, 116.10441106363578, 116.2755327405669, 104.20342018778436, 92.86586372722948, 91.32469392415557, 83.35592213774758, 80.41235021643283, 81.61639020846204, 61.21117894405491, 60.89771010231845, 58.8200126528921, 54.960089525164676, 53.62024596973222, 53.59840940849701, 52.12736447819709, 50.54500898788773, 47.91323317311657, 47.64689559551866, 47.10540174571801, 46.528442443020175, 45.91089114407503, 46.421318054503736, 44.91941852686412, 44.424340911909745, 43.825289370835826, 80.84798939639968, 161.58706899780765, 101.76046410830602, 102.32564926199095, 93.10054934148904, 87.04766604241941, 84.48092755866988, 74.50453552699005, 125.1984829497047, 70.9359326669818, 74.57498974658958, 81.76137214787167, 87.6937405098603, 75.12334354408527, 85.05174627647581, 78.83717102011146, 77.31083049120838, 74.424183568581, 70.5800597240079, 64.43420417733718, 61.878280391513364, 54.76183334553772, 51.70967290074838, 49.565130290336604, 47.41155234963264, 41.037599491703695, 39.833825820150096, 36.61948965479978, 34.8100030632212, 30.655196483141303, 30.742609323396422, 31.944723698335245, 29.428035933813256, 27.724286588583464, 26.519706901882653, 26.2282005780095, 26.0131064802527, 25.729267251082327, 24.621568594915278, 25.6448545783196, 24.21239898575592, 23.721966133390524, 23.757505430899908, 22.24485133118885, 22.345563421372933, 22.34213536929622, 23.447102529686614, 22.47200580374094, 82.3079731726803, 148.07743099860917, 39.84076899384103, 68.65607669060729, 89.35193358483065, 32.94869517061939, 30.45499625170038, 29.850397821755497, 36.73282434022134, 54.37976226415169, 58.31732039734674, 58.43108296735262, 34.845865761869895, 38.04834803161387, 35.38084090192292, 37.271113098101786, 38.81477887937184, 40.11330908474403, 37.827330717605506, 36.337884381191735, 33.63595493177257, 65.87047720979812, 39.39472695708219, 37.666313983614984, 32.878824653657084, 31.928754462038253, 29.050983999587206, 27.189990465101857, 27.445438677250426, 26.18500345461994, 25.034794603385436, 23.120713492767553, 22.763325853235752, 23.107173406446474, 22.39349461870263, 21.811398743023734, 21.714023197179326, 21.902847700568948, 21.27688162891419, 20.589075819042193, 20.29280043790972, 20.043094308309424, 20.072267303326296, 19.0726019658602, 19.06756891255475, 18.071083663495582, 18.549790423748306, 17.69177542285628, 17.56836479765886, 17.135460272173773, 18.226618057826375, 53.487131243538016, 44.723234593073116, 39.188423169589356, 40.958916633248506, 21.384150636702564, 21.611499940884258, 22.99317521034241, 21.918452933402108, 21.263099049320477], \"Total\": [328.0, 410.0, 249.0, 289.0, 312.0, 201.0, 170.0, 307.0, 275.0, 201.0, 220.0, 196.0, 148.0, 231.0, 270.0, 159.0, 294.0, 314.0, 135.0, 202.0, 133.0, 309.0, 243.0, 258.0, 271.0, 124.0, 126.0, 309.0, 122.0, 257.0, 198.24708202721325, 182.88171160047202, 169.4906788411289, 164.07847489915054, 153.82802924396123, 148.45136690532712, 144.57308334286262, 138.03454589047925, 128.89467425769416, 126.69493884814368, 120.42185475461075, 118.47395204513786, 116.36203368511697, 114.37537498791515, 113.19957927779754, 112.71471816788626, 119.64933221526529, 111.00213930880084, 108.1362069208557, 104.07425711359116, 102.85851994659114, 102.62297596393317, 102.2761156164571, 99.62054366420685, 98.35367745262403, 94.67871595042598, 94.16447694963549, 89.91983225971437, 90.07016882726272, 90.18835865744242, 202.66121704614952, 257.0608089427501, 213.84362001542416, 314.28710183223035, 309.51136463765476, 209.0719817303538, 252.4293007804635, 309.0658369848574, 127.67363125440511, 249.8564229498745, 160.9570334343257, 224.96180096707803, 232.43564927193597, 242.31510223364447, 239.43497312665326, 179.4599969850589, 234.19348208799494, 201.70416713761747, 271.8838398747569, 294.06167132471535, 284.848716910106, 263.269087302787, 308.7078966755689, 220.81400571538413, 279.00313573505235, 251.37174767731892, 269.59828086089004, 316.47785887916245, 243.8416263262578, 307.0127624658027, 231.23348145969044, 154.54325975986754, 152.15162119501716, 144.99745252732342, 136.51309474965564, 135.34146432095557, 131.7320121115288, 123.71553433345375, 123.57503395064597, 116.44401099886487, 113.01736828892551, 112.56722438241634, 107.03735750449258, 92.02004283940346, 91.36287588455113, 90.89441925816551, 125.00925516298608, 89.75258796751604, 89.2904530001594, 86.98547203926678, 84.98289614298106, 77.88202608069207, 77.76180049427919, 74.45648998987818, 71.48946288729292, 68.53235689340268, 118.12927603356522, 66.87563982273839, 66.0374623985658, 146.49325101387547, 179.23204654971258, 104.42482494138747, 125.0486076877792, 123.09436763628862, 238.15798231211767, 225.5660184290643, 156.59234146025088, 110.32240025484796, 144.96020099729225, 132.73728001371893, 257.1150811702244, 155.21559077279616, 128.60038244991648, 305.98212386020805, 130.07663172505286, 305.9718671287946, 175.3514719876157, 325.9619065563056, 319.9007386908722, 210.27628510649848, 199.4061161661319, 253.6836389513352, 186.2351019211922, 229.01967409952556, 196.93106325109702, 149.51223495738446, 143.66160940513112, 137.63319631675944, 135.84536558056672, 132.14980719799306, 116.47564809827416, 105.80271589364072, 104.01208864586536, 101.1763685871879, 97.24351063674375, 95.00622426078333, 86.79604099274907, 83.42546946778994, 81.89045691841693, 81.25661198475966, 79.97017361529541, 75.69519974305116, 75.59883633422398, 73.07256348299116, 66.27259847082148, 64.42008884483153, 63.21171084895869, 62.13369203679676, 61.48577372627059, 59.306178702112035, 58.19143900232903, 56.54682656397922, 53.967208766768486, 51.81323973510415, 66.21505559934785, 289.4211912287054, 312.3681151914914, 202.27102715082995, 275.6295980152587, 105.1278569003785, 258.9372150198303, 240.52794266718362, 219.07169763411898, 154.11048875721423, 270.5492410121692, 232.62829590674733, 297.8826816359671, 136.83294808049138, 143.8639084988883, 152.33050552442506, 264.0699032160966, 136.0823470003125, 241.27772129864164, 189.40391019956434, 410.8257802275304, 216.85768783905843, 328.7229259214622, 159.54110870454602, 131.46062735492026, 121.27565492951167, 78.57659437283448, 75.00324961208591, 89.9473946909677, 72.54465689104218, 72.34129693574066, 67.62332624280779, 65.18897930399993, 63.53874723705669, 62.25846610954898, 57.569257643324015, 55.73286453034092, 55.08056288060321, 55.32893876684463, 52.85358625840479, 52.13866435554828, 58.992966153965575, 47.91050532336245, 47.13419207247464, 44.96334044966445, 45.88643961654042, 44.92044731663467, 43.986180114393505, 42.03398463571281, 42.05922562313616, 41.884606783374764, 41.323910112041226, 249.34495610115596, 104.02413068011731, 43.25920096223812, 410.8257802275304, 115.56709263419968, 77.50188503457002, 91.54890643301344, 105.88984305340884, 94.52011556427213, 85.79717234972078, 84.73519700271805, 254.98565894145227, 111.70562815957972, 249.9095247608849, 103.17539692723011, 229.01967409952556, 294.06128899796335, 133.13709968281682, 202.91363882266324, 261.01162966735205, 253.6836389513352, 201.62565497842542, 148.9802282287974, 135.6070462562628, 126.30527568269382, 122.78613818590276, 116.81822411464333, 116.99147076426455, 104.9183039665965, 93.58094786676288, 92.04335178052308, 84.08298368920072, 81.12728301263401, 82.36761268578218, 61.928847919611876, 61.61477684175272, 59.537060048152746, 55.67350327255987, 54.33584442088497, 54.315063865601466, 52.84231372778483, 51.25967356383305, 48.62845069511336, 48.36278934880836, 47.831011020055925, 47.24705173611027, 46.624294754735054, 47.143512114407116, 45.63795938918543, 45.14051006003159, 44.55722506093104, 86.38591579012774, 201.9154988587876, 123.64685274926352, 137.36291784507657, 137.87784473994336, 133.88019502012287, 135.64881325558989, 110.191574616661, 294.93394809860746, 105.16704446590192, 125.86831830320348, 164.34812076593323, 243.8416263262578, 161.80313007088017, 279.00313573505235, 284.848716910106, 270.5492410121692, 271.8838398747569, 71.33119110658735, 65.1791176087255, 62.622313679645224, 55.513229039476734, 52.456176322351034, 50.32254291247443, 48.155852056990966, 41.79209394971613, 40.585663358311585, 37.37561414689385, 35.55262020189564, 31.399747412279737, 31.490404780739475, 32.74168322167756, 30.175511304979782, 28.472604617273145, 27.269409440693632, 26.97357345167749, 26.758442807775257, 26.501157054305537, 25.366426431930126, 26.421218854878774, 24.970776833961168, 24.48118502905519, 24.530997879650712, 22.98786421642649, 23.093846304014647, 23.09480039843692, 24.24613603937284, 23.24624779740471, 88.39565790938043, 170.93290507538643, 43.30024274342383, 83.41625085907778, 124.91446650768724, 38.18508941886405, 36.066936702694996, 35.26096894057519, 50.66544028873793, 122.12786564995416, 220.81400571538413, 264.26725193573657, 60.641873503413, 99.65586276350957, 86.18087617418468, 133.13709968281682, 185.62538340849392, 263.269087302787, 240.34981953156756, 294.06128899796335, 105.16704446590192, 66.6617354939373, 40.20337373796758, 38.45931517015397, 33.672291513973974, 32.730639756445214, 29.841319288984288, 27.97948211722041, 28.26688998905663, 26.977045651598335, 25.825898074525398, 23.918564301150766, 23.552436727695575, 23.909293752445457, 23.182466033554523, 22.600252782381762, 22.503990984154896, 22.707509380646197, 22.072658831916954, 21.379562431800487, 21.083361292012814, 20.856233295853354, 20.887856574670618, 19.862006453366185, 19.86774078560419, 18.862534101374955, 19.377003547769856, 18.48215412818118, 18.367833554015096, 17.925186114247083, 19.070080170668806, 86.67974659793894, 87.33888689046518, 80.66123341266156, 133.5647764711935, 32.33376324178104, 47.53451469884702, 104.93355112111492, 76.69815107223926, 236.5139344389302], \"Category\": [\"Default\", \"Default\", \"Default\", \"Default\", \"Default\", \"Default\", \"Default\", \"Default\", \"Default\", \"Default\", \"Default\", \"Default\", \"Default\", \"Default\", \"Default\", \"Default\", \"Default\", \"Default\", \"Default\", \"Default\", \"Default\", \"Default\", \"Default\", \"Default\", \"Default\", \"Default\", \"Default\", \"Default\", \"Default\", \"Default\", \"Topic1\", \"Topic1\", \"Topic1\", \"Topic1\", \"Topic1\", \"Topic1\", \"Topic1\", \"Topic1\", \"Topic1\", \"Topic1\", \"Topic1\", \"Topic1\", \"Topic1\", \"Topic1\", \"Topic1\", \"Topic1\", \"Topic1\", \"Topic1\", \"Topic1\", \"Topic1\", \"Topic1\", \"Topic1\", \"Topic1\", \"Topic1\", \"Topic1\", \"Topic1\", \"Topic1\", \"Topic1\", \"Topic1\", \"Topic1\", \"Topic1\", \"Topic1\", \"Topic1\", \"Topic1\", \"Topic1\", \"Topic1\", \"Topic1\", \"Topic1\", \"Topic1\", \"Topic1\", \"Topic1\", \"Topic1\", \"Topic1\", \"Topic1\", \"Topic1\", \"Topic1\", \"Topic1\", \"Topic1\", \"Topic1\", \"Topic1\", \"Topic1\", \"Topic1\", \"Topic1\", \"Topic1\", \"Topic1\", \"Topic1\", \"Topic1\", \"Topic1\", \"Topic1\", \"Topic2\", \"Topic2\", \"Topic2\", \"Topic2\", \"Topic2\", \"Topic2\", \"Topic2\", \"Topic2\", \"Topic2\", \"Topic2\", \"Topic2\", \"Topic2\", \"Topic2\", \"Topic2\", \"Topic2\", \"Topic2\", \"Topic2\", \"Topic2\", \"Topic2\", \"Topic2\", \"Topic2\", \"Topic2\", \"Topic2\", \"Topic2\", \"Topic2\", \"Topic2\", \"Topic2\", \"Topic2\", \"Topic2\", \"Topic2\", \"Topic2\", \"Topic2\", \"Topic2\", \"Topic2\", \"Topic2\", \"Topic2\", \"Topic2\", \"Topic2\", \"Topic2\", \"Topic2\", \"Topic2\", \"Topic2\", \"Topic2\", \"Topic2\", \"Topic2\", \"Topic2\", \"Topic2\", \"Topic2\", \"Topic2\", \"Topic2\", \"Topic2\", \"Topic2\", \"Topic2\", \"Topic2\", \"Topic2\", \"Topic3\", \"Topic3\", \"Topic3\", \"Topic3\", \"Topic3\", \"Topic3\", \"Topic3\", \"Topic3\", \"Topic3\", \"Topic3\", \"Topic3\", \"Topic3\", \"Topic3\", \"Topic3\", \"Topic3\", \"Topic3\", \"Topic3\", \"Topic3\", \"Topic3\", \"Topic3\", \"Topic3\", \"Topic3\", \"Topic3\", \"Topic3\", \"Topic3\", \"Topic3\", \"Topic3\", \"Topic3\", \"Topic3\", \"Topic3\", \"Topic3\", \"Topic3\", \"Topic3\", \"Topic3\", \"Topic3\", \"Topic3\", \"Topic3\", \"Topic3\", \"Topic3\", \"Topic3\", \"Topic3\", \"Topic3\", \"Topic3\", \"Topic3\", \"Topic3\", \"Topic3\", \"Topic3\", \"Topic3\", \"Topic3\", \"Topic3\", \"Topic3\", \"Topic3\", \"Topic4\", \"Topic4\", \"Topic4\", \"Topic4\", \"Topic4\", \"Topic4\", \"Topic4\", \"Topic4\", \"Topic4\", \"Topic4\", \"Topic4\", \"Topic4\", \"Topic4\", \"Topic4\", \"Topic4\", \"Topic4\", \"Topic4\", \"Topic4\", \"Topic4\", \"Topic4\", \"Topic4\", \"Topic4\", \"Topic4\", \"Topic4\", \"Topic4\", \"Topic4\", \"Topic4\", \"Topic4\", \"Topic4\", \"Topic4\", \"Topic4\", \"Topic4\", \"Topic4\", \"Topic4\", \"Topic4\", \"Topic4\", \"Topic4\", \"Topic4\", \"Topic4\", \"Topic4\", \"Topic4\", \"Topic4\", \"Topic4\", \"Topic4\", \"Topic4\", \"Topic4\", \"Topic4\", \"Topic4\", \"Topic4\", \"Topic4\", \"Topic4\", \"Topic5\", \"Topic5\", \"Topic5\", \"Topic5\", \"Topic5\", \"Topic5\", \"Topic5\", \"Topic5\", \"Topic5\", \"Topic5\", \"Topic5\", \"Topic5\", \"Topic5\", \"Topic5\", \"Topic5\", \"Topic5\", \"Topic5\", \"Topic5\", \"Topic5\", \"Topic5\", \"Topic5\", \"Topic5\", \"Topic5\", \"Topic5\", \"Topic5\", \"Topic5\", \"Topic5\", \"Topic5\", \"Topic5\", \"Topic5\", \"Topic5\", \"Topic5\", \"Topic5\", \"Topic5\", \"Topic5\", \"Topic5\", \"Topic5\", \"Topic5\", \"Topic5\", \"Topic5\", \"Topic5\", \"Topic5\", \"Topic5\", \"Topic5\", \"Topic5\", \"Topic5\", \"Topic5\", \"Topic5\", \"Topic6\", \"Topic6\", \"Topic6\", \"Topic6\", \"Topic6\", \"Topic6\", \"Topic6\", \"Topic6\", \"Topic6\", \"Topic6\", \"Topic6\", \"Topic6\", \"Topic6\", \"Topic6\", \"Topic6\", \"Topic6\", \"Topic6\", \"Topic6\", \"Topic6\", \"Topic6\", \"Topic6\", \"Topic6\", \"Topic6\", \"Topic6\", \"Topic6\", \"Topic6\", \"Topic6\", \"Topic6\", \"Topic6\", \"Topic6\", \"Topic6\", \"Topic6\", \"Topic6\", \"Topic6\", \"Topic6\", \"Topic6\", \"Topic6\", \"Topic6\", \"Topic6\", \"Topic6\", \"Topic6\", \"Topic6\", \"Topic6\", \"Topic6\", \"Topic6\", \"Topic6\", \"Topic6\", \"Topic6\", \"Topic6\", \"Topic6\", \"Topic6\", \"Topic7\", \"Topic7\", \"Topic7\", \"Topic7\", \"Topic7\", \"Topic7\", \"Topic7\", \"Topic7\", \"Topic7\", \"Topic7\", \"Topic7\", \"Topic7\", \"Topic7\", \"Topic7\", \"Topic7\", \"Topic7\", \"Topic7\", \"Topic7\", \"Topic7\", \"Topic7\", \"Topic7\", \"Topic7\", \"Topic7\", \"Topic7\", \"Topic7\", \"Topic7\", \"Topic7\", \"Topic7\", \"Topic7\", \"Topic7\", \"Topic7\", \"Topic7\", \"Topic7\", \"Topic7\", \"Topic7\", \"Topic7\", \"Topic7\", \"Topic7\", \"Topic7\"], \"logprob\": [30.0, 29.0, 28.0, 27.0, 26.0, 25.0, 24.0, 23.0, 22.0, 21.0, 20.0, 19.0, 18.0, 17.0, 16.0, 15.0, 14.0, 13.0, 12.0, 11.0, 10.0, 9.0, 8.0, 7.0, 6.0, 5.0, 4.0, 3.0, 2.0, 1.0, -5.6094, -5.6904, -5.7668, -5.7994, -5.8641, -5.8999, -5.9265, -5.973, -6.0419, -6.0592, -6.1103, -6.1267, -6.1448, -6.1621, -6.1725, -6.1768, -6.1172, -6.1922, -6.2185, -6.2571, -6.2689, -6.2712, -6.2746, -6.3011, -6.314, -6.3524, -6.3579, -6.4043, -6.4027, -6.4014, -5.5944, -5.3636, -5.5505, -5.1864, -5.2037, -5.5999, -5.4239, -5.2722, -6.0835, -5.5184, -5.8909, -5.6202, -5.6095, -5.6031, -5.6544, -5.8558, -5.6758, -5.7839, -5.6127, -5.5734, -5.6197, -5.6953, -5.6564, -5.8083, -5.7367, -5.7904, -5.7768, -5.7493, -5.8481, -4.9026, -5.1869, -5.5915, -5.6072, -5.6556, -5.7162, -5.7249, -5.752, -5.8152, -5.8163, -5.8762, -5.9062, -5.9102, -5.961, -6.1133, -6.1205, -6.1257, -5.807, -6.1384, -6.1436, -6.1701, -6.1935, -6.2816, -6.2832, -6.327, -6.3681, -6.4108, -5.8664, -6.4356, -6.4483, -5.6577, -5.4595, -5.9996, -5.8385, -5.8629, -5.273, -5.3233, -5.6594, -5.9693, -5.77, -5.846, -5.3663, -5.7521, -5.8853, -5.4185, -5.8835, -5.4585, -5.7704, -5.6088, -5.703, -5.7981, -5.8198, -5.803, -5.8578, -5.8568, -5.0455, -5.3222, -5.3623, -5.4054, -5.4186, -5.4463, -5.5733, -5.6701, -5.6873, -5.7152, -5.7551, -5.7786, -5.8697, -5.9097, -5.9284, -5.9363, -5.9524, -6.0079, -6.0092, -6.0437, -6.1423, -6.171, -6.1901, -6.2076, -6.2182, -6.2547, -6.274, -6.303, -6.3505, -6.3916, -6.1506, -4.7108, -4.668, -5.0866, -4.7988, -5.7595, -5.076, -5.1426, -5.2215, -5.4973, -5.0826, -5.225, -5.1489, -5.6457, -5.6594, -5.6548, -5.418, -5.718, -5.5017, -5.6411, -5.5296, -5.6805, -4.2507, -4.9761, -5.1707, -5.2518, -5.6891, -5.7361, -5.5547, -5.7698, -5.7727, -5.8408, -5.8779, -5.9041, -5.9246, -6.0038, -6.0366, -6.0485, -6.044, -6.0904, -6.1042, -5.9808, -6.19, -6.2068, -6.2546, -6.2344, -6.2557, -6.277, -6.3231, -6.3225, -6.3268, -6.3405, -4.5825, -5.4439, -6.2963, -4.3762, -5.524, -5.8389, -5.756, -5.6625, -5.747, -5.8459, -5.8931, -5.4045, -5.7747, -5.5545, -5.8577, -5.6337, -5.6073, -5.8157, -5.8176, -5.7974, -5.8192, -4.5287, -4.8326, -4.9272, -4.9986, -5.027, -5.0771, -5.0756, -5.1852, -5.3004, -5.3172, -5.4085, -5.4444, -5.4295, -5.7172, -5.7224, -5.7571, -5.825, -5.8497, -5.8501, -5.8779, -5.9087, -5.9622, -5.9678, -5.9792, -5.9915, -6.0049, -5.9938, -6.0267, -6.0378, -6.0514, -5.439, -4.7465, -5.209, -5.2034, -5.2979, -5.3651, -5.3951, -5.5207, -5.0017, -5.5698, -5.5198, -5.4278, -5.3577, -5.5124, -5.3883, -5.4642, -5.4837, -5.5218, -5.0198, -5.1109, -5.1514, -5.2736, -5.3309, -5.3733, -5.4177, -5.5621, -5.5918, -5.676, -5.7267, -5.8538, -5.8509, -5.8126, -5.8946, -5.9542, -5.9987, -6.0097, -6.018, -6.0289, -6.0729, -6.0322, -6.0897, -6.1102, -6.1087, -6.1744, -6.1699, -6.1701, -6.1218, -6.1643, -4.8661, -4.2788, -5.5917, -5.0474, -4.784, -5.7816, -5.8603, -5.8804, -5.6729, -5.2806, -5.2107, -5.2087, -5.7256, -5.6377, -5.7104, -5.6583, -5.6178, -5.5849, -5.6435, -5.6837, -5.761, -4.4535, -4.9676, -5.0125, -5.1484, -5.1777, -5.2722, -5.3384, -5.329, -5.3761, -5.421, -5.5005, -5.5161, -5.5011, -5.5325, -5.5588, -5.5633, -5.5546, -5.5836, -5.6165, -5.631, -5.6434, -5.6419, -5.693, -5.6932, -5.7469, -5.7208, -5.7681, -5.7751, -5.8001, -5.7384, -4.6618, -4.8407, -4.9729, -4.9287, -5.5786, -5.568, -5.506, -5.5539, -5.5843], \"loglift\": [30.0, 29.0, 28.0, 27.0, 26.0, 25.0, 24.0, 23.0, 22.0, 21.0, 20.0, 19.0, 18.0, 17.0, 16.0, 15.0, 14.0, 13.0, 12.0, 11.0, 10.0, 9.0, 8.0, 7.0, 6.0, 5.0, 4.0, 3.0, 2.0, 1.0, 1.2216, 1.2213, 1.221, 1.2208, 1.2205, 1.2204, 1.2202, 1.22, 1.2196, 1.2195, 1.2193, 1.2191, 1.219, 1.2189, 1.2189, 1.2188, 1.2188, 1.2188, 1.2186, 1.2183, 1.2183, 1.2182, 1.2182, 1.218, 1.2179, 1.2176, 1.2176, 1.2173, 1.2172, 1.2172, 1.2146, 1.2076, 1.2048, 1.1838, 1.1818, 1.178, 1.1654, 1.1148, 1.1875, 1.0812, 1.1485, 1.0844, 1.0624, 1.0272, 0.9878, 1.0748, 0.9885, 1.0298, 0.9025, 0.8633, 0.8488, 0.852, 0.7317, 0.9149, 0.7526, 0.8032, 0.7468, 0.6139, 0.7759, 1.491, 1.4902, 1.4886, 1.4885, 1.4882, 1.4879, 1.4879, 1.4877, 1.4873, 1.4873, 1.487, 1.4868, 1.4867, 1.4864, 1.4852, 1.4852, 1.4851, 1.4851, 1.485, 1.485, 1.4847, 1.4845, 1.4838, 1.4837, 1.4833, 1.4829, 1.4824, 1.4823, 1.4821, 1.482, 1.4758, 1.4724, 1.4725, 1.4533, 1.4446, 1.3746, 1.3786, 1.4075, 1.4479, 1.3741, 1.3862, 1.2047, 1.3236, 1.3785, 0.9785, 1.3689, 0.9386, 1.1833, 0.7249, 0.6495, 0.974, 1.0053, 0.7814, 1.0357, 0.8299, 1.7922, 1.791, 1.7907, 1.7905, 1.7904, 1.7903, 1.7895, 1.7888, 1.7887, 1.7885, 1.7882, 1.7879, 1.7872, 1.7869, 1.7867, 1.7866, 1.7865, 1.7859, 1.7859, 1.7854, 1.7845, 1.7841, 1.7839, 1.7836, 1.7835, 1.7831, 1.7828, 1.7825, 1.7817, 1.7812, 1.777, 1.7418, 1.7083, 1.7243, 1.7027, 1.7058, 1.488, 1.4951, 1.5096, 1.5855, 1.4374, 1.446, 1.2749, 1.556, 1.4923, 1.4397, 1.1263, 1.4892, 1.1328, 1.2355, 0.5728, 1.0608, 2.0746, 2.0721, 2.0711, 2.0707, 2.0673, 2.0668, 2.0666, 2.0665, 2.0665, 2.0657, 2.0653, 2.0647, 2.0646, 2.0637, 2.0633, 2.0632, 2.0632, 2.0625, 2.0624, 2.0623, 2.0611, 2.0607, 2.0601, 2.06, 2.0599, 2.0596, 2.0589, 2.0589, 2.0588, 2.0586, 2.0192, 2.032, 2.057, 1.7261, 1.8466, 1.9313, 1.8476, 1.7956, 1.8247, 1.8226, 1.7879, 1.1748, 1.6299, 1.0449, 1.6263, 1.053, 0.8294, 1.4135, 0.9901, 0.7585, 0.7652, 2.2854, 2.2841, 2.2836, 2.2832, 2.2831, 2.2828, 2.2828, 2.2821, 2.2813, 2.2811, 2.2803, 2.2801, 2.2798, 2.2773, 2.2772, 2.2768, 2.276, 2.2757, 2.2757, 2.2753, 2.2749, 2.2741, 2.274, 2.2737, 2.2736, 2.2735, 2.2735, 2.2731, 2.2729, 2.2724, 2.2227, 2.0661, 2.0941, 1.9945, 1.8962, 1.8584, 1.8154, 1.8976, 1.4321, 1.8952, 1.7655, 1.5908, 1.2663, 1.5217, 1.101, 1.0044, 1.0363, 0.9933, 2.8334, 2.8325, 2.832, 2.8303, 2.8296, 2.8288, 2.8284, 2.8257, 2.8253, 2.8235, 2.8228, 2.82, 2.8199, 2.8193, 2.8189, 2.8173, 2.8161, 2.8159, 2.8157, 2.8144, 2.8142, 2.8141, 2.8131, 2.8125, 2.8119, 2.8111, 2.811, 2.8108, 2.8104, 2.8101, 2.7726, 2.7004, 2.7607, 2.6492, 2.5089, 2.6965, 2.6748, 2.6774, 2.5224, 2.0349, 1.5125, 1.3348, 2.2899, 1.8811, 1.9537, 1.5708, 1.279, 0.9625, 0.9949, 0.753, 1.704, 3.4673, 3.459, 3.4584, 3.4554, 3.4545, 3.4524, 3.4507, 3.4498, 3.4495, 3.4482, 3.4454, 3.4452, 3.4452, 3.4447, 3.4437, 3.4435, 3.4432, 3.4426, 3.4416, 3.4411, 3.4395, 3.4394, 3.4387, 3.4382, 3.4364, 3.4356, 3.4356, 3.4348, 3.4342, 3.434, 2.9965, 2.81, 2.7574, 2.2973, 3.0658, 2.691, 1.9611, 2.2267, 1.0702]}, \"token.table\": {\"Topic\": [6, 6, 2, 1, 1, 4, 6, 6, 6, 1, 2, 5, 3, 4, 6, 4, 4, 2, 3, 4, 6, 3, 7, 2, 6, 7, 2, 3, 3, 3, 7, 1, 2, 3, 7, 2, 3, 5, 4, 7, 4, 1, 2, 5, 5, 2, 6, 7, 4, 2, 3, 2, 3, 7, 6, 2, 3, 5, 6, 3, 4, 7, 5, 4, 7, 4, 3, 3, 5, 7, 1, 2, 3, 4, 4, 1, 4, 3, 1, 2, 3, 7, 1, 2, 3, 7, 7, 2, 4, 1, 2, 3, 4, 1, 2, 4, 6, 2, 3, 5, 7, 6, 3, 7, 6, 2, 2, 2, 5, 3, 6, 1, 4, 6, 1, 2, 3, 4, 6, 2, 5, 2, 1, 5, 1, 7, 4, 5, 5, 7, 6, 1, 2, 3, 4, 5, 1, 2, 3, 4, 1, 5, 6, 3, 7, 7, 4, 5, 3, 3, 4, 3, 6, 1, 2, 3, 4, 7, 1, 2, 1, 4, 5, 5, 5, 5, 1, 1, 5, 4, 6, 1, 1, 5, 2, 1, 2, 1, 2, 2, 3, 2, 3, 4, 2, 3, 1, 2, 3, 4, 5, 6, 6, 1, 5, 3, 6, 1, 5, 1, 6, 6, 2, 3, 4, 6, 3, 1, 3, 4, 6, 5, 1, 5, 2, 2, 5, 2, 4, 4, 1, 4, 5, 4, 5, 6, 2, 3, 4, 2, 3, 3, 5, 6, 1, 2, 7, 7, 1, 2, 3, 4, 6, 2, 3, 4, 6, 1, 2, 3, 4, 4, 1, 5, 1, 2, 5, 1, 2, 3, 5, 1, 3, 7, 2, 3, 4, 7, 7, 2, 6, 3, 6, 3, 7, 1, 5, 2, 5, 3, 2, 2, 5, 7, 2, 3, 1, 1, 1, 2, 1, 5, 5, 3, 2, 1, 2, 4, 3, 4, 1, 4, 5, 6, 1, 5, 1, 2, 3, 4, 2, 3, 4, 6, 7, 3, 4, 4, 7, 1, 5, 3, 4, 4, 2, 3, 1, 3, 4, 5, 6, 2, 3, 5, 2, 5, 1, 2, 5, 7, 7, 1, 1, 1, 3, 4, 4, 1, 3, 5, 1, 4, 3, 7, 5, 1, 1, 2, 5, 7, 3, 3, 4, 3, 3, 4, 2, 3, 6, 1, 4, 6, 1, 4, 3, 6, 1, 2, 3, 4, 6, 2, 1, 2, 1, 1, 2, 1, 4, 3, 4, 2, 3, 6, 5, 4, 1, 3, 4, 5, 6, 3, 1, 3, 4, 6, 3, 4, 2, 6, 2, 3, 2, 1, 2, 3, 4, 5, 1, 2, 5, 2, 2, 1, 4, 5, 6, 4, 2, 3, 2, 3, 7, 6, 4, 1, 2, 3, 4, 5, 1, 2, 3, 4, 6, 1, 3, 2, 1, 4, 1, 3, 6, 5, 6, 1, 4, 2, 3, 1, 4, 5, 1, 2, 3, 4, 1, 1, 5, 3, 6, 2, 5, 2, 3, 4, 5, 6, 1, 6, 3, 4, 1, 1, 4, 5, 7, 7, 3, 4, 1, 1, 2, 3, 4, 5, 7, 1, 2, 3, 4, 2, 3, 4, 1, 4, 4, 3, 7, 1, 2, 3, 4, 2, 1, 5, 1, 5, 1, 6, 2, 4, 7, 3, 4, 5, 6, 7, 3, 4, 6, 4, 4, 5, 7, 5, 7, 1, 1, 2, 6, 1, 6, 2, 4, 5, 1, 6, 3, 1, 2, 6, 1, 3, 7, 1, 2, 5], \"Freq\": [0.9901204519562643, 0.9840575539988385, 0.9938690369376768, 0.995178787464554, 0.9820260243670261, 0.018705257606990974, 0.9803447002878292, 0.9872690882817928, 0.9639063969992103, 0.6236489046676318, 0.07168378214570481, 0.30465607411924545, 0.17405253538711668, 0.4177260849290801, 0.40612258256993894, 0.9708917193515132, 0.9940548513277876, 0.2788534331717764, 0.30945929778819087, 0.2856547364198685, 0.12242345846565793, 0.9894088595919639, 0.9880571152106624, 0.9919265564643976, 0.9486047575849091, 0.9438869600393883, 0.08707337736156831, 0.9106424049064019, 0.9878683067519332, 0.9937770009528566, 0.9680205477407943, 0.011405664163122914, 0.735665338521428, 0.2509246115887041, 0.9574941271979401, 0.4276574856065792, 0.5702099808087723, 0.9879026245346443, 0.9901117772466183, 0.9483862477995842, 0.986850406191809, 0.7893583695478988, 0.20882496548886215, 0.9861047606825628, 0.992498585096244, 0.9960281910892377, 0.8507990818561615, 0.14179984697602693, 0.9894672358857901, 0.9904403373026315, 0.008465302028227619, 0.24330222287736908, 0.7337686086777798, 0.019309700228362627, 0.9525953730039157, 0.9961869142512688, 0.6985789325925289, 0.2846062317969562, 0.014784739314127595, 0.40418184228198933, 0.2998768507253469, 0.28683872678076666, 0.9886645612057788, 0.9924921156928177, 0.9765443918146287, 0.9915209653875189, 0.9808309119831606, 0.9959163300995514, 0.990022249965594, 0.9486153428285066, 0.21569840526846512, 0.16471514584137337, 0.21177661608176576, 0.4039442862300347, 0.9748158553220369, 0.9959995253221797, 0.9966083430851161, 0.9883730894514744, 0.40589574659833827, 0.44817655353566516, 0.050736968324792284, 0.08878969456838649, 0.428852677194549, 0.0737811057539009, 0.4795771874003559, 0.018445276438475225, 0.9900732333319242, 0.950490280316514, 0.04061924274856897, 0.20263300865468772, 0.5752162826326619, 0.12746269899246487, 0.09477995566106362, 0.8644964874220316, 0.1160666580335135, 0.016009194211519105, 0.9759976823663498, 0.25719721015628594, 0.7348491718751027, 0.9968969475710203, 0.958945928360727, 0.9783540040949091, 0.995394668012765, 0.954272628654276, 0.9844562735810347, 0.9901598000684166, 0.9909981244092976, 0.9931533562076892, 0.9757440194181533, 0.056563864314758454, 0.9276473747620387, 0.996888730166949, 0.2801917262148824, 0.7124875323749866, 0.543481937754366, 0.21486495213544704, 0.11691181219134618, 0.037917344494490655, 0.08531402511260397, 0.990203409779134, 0.9826261038114483, 0.9924310948120554, 0.9945148649625489, 0.995536926787176, 0.9909718919379297, 0.964992843215723, 0.0578798054551782, 0.9376528483738868, 0.9866100976321652, 0.9688424930807598, 0.9900624291394156, 0.6089899287467053, 0.03239308131631412, 0.21379433668767317, 0.11985440087036223, 0.02267515692141988, 0.9925051668493183, 0.7506366375771762, 0.1827975231405559, 0.06611825305083936, 0.49894090433066457, 0.49894090433066457, 0.9611234828449199, 0.38071177287895613, 0.611446180684384, 0.9776043731749734, 0.9921616780415258, 0.9912474379409635, 0.9952721361692448, 0.9953993924888429, 0.9926620086116404, 0.9924130880113923, 0.985554668770021, 0.6194401517202934, 0.22626257038884967, 0.10014900656555642, 0.0519291145154737, 0.9800342808954664, 0.9609048485903525, 0.03818164961286169, 0.8581299598083767, 0.10587317685947505, 0.03343363479772896, 0.9935975005198672, 0.9840598628568012, 0.9871200611386034, 0.996496858851158, 0.375970852792539, 0.619246110481829, 0.7723223735413357, 0.21159517083324267, 0.9934270787206341, 0.9842029247497837, 0.015560520549403694, 0.988670843347014, 0.8229874590877567, 0.1735214522172981, 0.9894928169462492, 0.9922320358216963, 0.25718750717999517, 0.7368074530021483, 0.6118167403569393, 0.34602750069367877, 0.040119130515209135, 0.9195852022977299, 0.0766321001914775, 0.9428382492212638, 0.05546107348360375, 0.29452874143629876, 0.7034612088850442, 0.9870764812341325, 0.9526347283334742, 0.9907548336071071, 0.4051853610782849, 0.5958608251151248, 0.9845352648348746, 0.9855696985129689, 0.2475194945869348, 0.7425584837608045, 0.9918029849501435, 0.009868686417414363, 0.9819095800620711, 0.9596268380661659, 0.0319875612688722, 0.2565851579679192, 0.7302808342163853, 0.9908158014588635, 0.9971049803771874, 0.16317554083174352, 0.7809115168376297, 0.05827697886847983, 0.9975830330044112, 0.6397595125586698, 0.3608899814433522, 0.9949610165345345, 0.16983853234489288, 0.8249300142466226, 0.9889149927784355, 0.9907823782496341, 0.9978008046763525, 0.925712886357312, 0.06212838163471892, 0.006212838163471892, 0.9803821380158093, 0.9874941704702426, 0.9810892387348003, 0.051827580200050904, 0.9467171316542632, 0.9806818828405921, 0.29541029779346845, 0.702420041420025, 0.9958867091812992, 0.1678330044304125, 0.827176950407033, 0.019152533902954384, 0.9767792290506736, 0.9734404394427971, 0.9489930867646691, 0.06536329556669547, 0.5980741544352636, 0.29086666527179483, 0.045754306896686824, 0.9899502882971337, 0.1461559087963634, 0.7049873247824587, 0.1461559087963634, 0.9610441959674171, 0.0946060222851186, 0.4887977818064461, 0.1419090334276779, 0.2680503964745027, 0.9759369573847647, 0.3191230620335709, 0.6745101083891385, 0.2722531201170801, 0.045375520019513345, 0.6806328002927002, 0.41262799373387754, 0.43138381163087197, 0.12191281633046382, 0.0343856661444898, 0.247419390690118, 0.09278227150879424, 0.6494759005615598, 0.6336077290624472, 0.3597603207388472, 0.48088545086077983, 0.5152344116365498, 0.9700678419226512, 0.9946656450791471, 0.9953569945847046, 0.548605346072591, 0.4421595326555211, 0.5082986989579575, 0.48350364047220346, 0.5315101133230641, 0.4635262616189512, 0.9962414246736068, 0.995523490312475, 0.9934789154693128, 0.9931208961955007, 0.9829804376882911, 0.013652506079004043, 0.9619690250218096, 0.884094233336847, 0.11531663913089309, 0.9896779747135868, 0.9960360301543578, 0.03625736922655674, 0.9517559421971145, 0.8518486756235559, 0.14627704530909547, 0.9937920283988786, 0.9902695094479713, 0.997477016207348, 0.07731182119176122, 0.8439873813433934, 0.07731182119176122, 0.24783089840844275, 0.7434926952253282, 0.6880845458112232, 0.028085083502498907, 0.2773401995871767, 0.007021270875624727, 0.7899451272110504, 0.20922870936941335, 0.13798973870095865, 0.19712819814422664, 0.33018973189157963, 0.3351179368451853, 0.9916148605342899, 0.9948373220326682, 0.13094116253476465, 0.8642116727294468, 0.9551811327830158, 0.9817539888644414, 0.9952821286015396, 0.9785749804167043, 0.9514032795013397, 0.9881184987083227, 0.9909793992562216, 0.19661622078654367, 0.797388006523205, 0.978879907170911, 0.015102305524755144, 0.9816498591090843, 0.9973002923038986, 0.9912992139574569, 0.15051798844585856, 0.4615884979006329, 0.381312237396175, 0.019466553017855923, 0.8111063757439968, 0.16871012615475134, 0.8910916697463905, 0.1063990053428526, 0.6971326765453575, 0.3026576010367649, 0.5259336328220974, 0.4628215968834457, 0.9563241339330871, 0.9936590519898058, 0.9969594964685305, 0.5962157710578027, 0.04401592940695187, 0.35612888338351967, 0.9781608453223235, 0.9916533900445298, 0.9853219398380514, 0.9850013693001751, 0.9563461436917752, 0.042001688743219856, 0.9795255277622308, 0.9637823331651423, 0.9949341549452188, 0.9937709267448035, 0.8212447270749171, 0.13618631152498625, 0.041268579249995836, 0.9615961773630964, 0.9891262431310641, 0.9294460143311167, 0.06427020311864105, 0.9920787625410462, 0.9965739595991561, 0.9838499841007657, 0.9944431721660104, 0.9820778434002674, 0.9913036680457271, 0.1644066625448475, 0.7960743660066301, 0.0432649111960125, 0.9868235914797374, 0.9754012224947544, 0.13863112471169167, 0.8317867482701501, 0.14558738263283266, 0.22221232086063933, 0.252862296151762, 0.2681872837973233, 0.10727491351892933, 0.9942162935535229, 0.8668138286665709, 0.1289107745196439, 0.996718043652711, 0.6563983483609596, 0.3421227755093486, 0.35861262570277486, 0.6396873863887336, 0.05213660706545863, 0.9424694354140599, 0.8965077481450643, 0.015067357111681752, 0.08287046411424964, 0.9947710655579075, 0.9809957061146156, 0.45350564528168463, 0.037445420252616164, 0.04576662475319753, 0.3078845665215107, 0.15810288551104604, 0.9908286025071631, 0.10515476177078606, 0.09764370735858706, 0.5182627544417313, 0.2779090132513632, 0.9131737565141439, 0.07609781304284532, 0.9884341886710077, 0.9810467991704562, 0.8898994283431604, 0.1103751228952757, 0.9842897900542538, 0.01893438040119379, 0.39004823626459206, 0.5112282708322323, 0.05680314120358137, 0.02272125648143255, 0.33765100978477286, 0.5944560031422057, 0.06657907235192703, 0.9967012365946333, 0.9903084537148721, 0.4471371235761825, 0.31245726707733235, 0.03232316555972404, 0.21010057613820624, 0.9831680585211797, 0.8942430637388411, 0.10108834633569508, 0.13885544575728453, 0.7892835864098279, 0.06577363220081898, 0.9570267073475842, 0.9964960812663958, 0.989402970528241, 0.0748353800410892, 0.7400387581841043, 0.18293092898932914, 0.986021298986111, 0.28380360960592343, 0.35570052403942404, 0.04162452940886877, 0.09838525133005346, 0.2194747914285808, 0.9946171757641904, 0.9843044029043185, 0.9967470990413848, 0.9928313777430045, 0.9795093911210048, 0.14841230127056462, 0.26384409114767043, 0.577158949385529, 0.9915252731007858, 0.97165594376236, 0.2360944098046351, 0.7555021113748324, 0.9964847398669365, 0.9920994126473351, 0.3560119161490849, 0.2169977393670613, 0.4238237097012916, 0.18258862478349766, 0.009129431239174883, 0.7531780772319279, 0.05934130305463674, 0.9876335855371626, 0.8962491704108064, 0.10353781030016537, 0.9949000051122971, 0.9844268505230704, 0.9886748441831981, 0.9938190999980875, 0.97638789138895, 0.016738078138096288, 0.981761038189365, 0.0692836762550395, 0.9237823500671933, 0.998753666259868, 0.9463892922304715, 0.12902911968579164, 0.864495101894804, 0.9930588733565091, 0.16432602295427856, 0.17926475231375844, 0.6498347271373743, 0.9822464826859171, 0.9776771929335314, 0.03845261646358119, 0.9517022574736345, 0.994573039370608, 0.36927289426791005, 0.023499184180685185, 0.5941936571401826, 0.010071078934579366, 0.9934204139673354, 0.9799740370613991, 0.024867608860469535, 0.26939909598842, 0.5139305831163704, 0.19065166793026644, 0.88596652504166, 0.1007734436066343, 0.008397786967219526, 0.9518252917153485, 0.04304737500220169, 0.9958484985946459, 0.9872124049347732, 0.9718069003304806, 0.1047944902304344, 0.5152395769663024, 0.02183218546467383, 0.35804784162065084, 0.9953466818315775, 0.7245741419966258, 0.2721750584149762, 0.19810267278181826, 0.802315824766364, 0.7336491155765191, 0.26266449816937104, 0.5315772756548046, 0.15722708153170278, 0.3069671591809435, 0.35808401652651783, 0.6355991293345692, 0.6751164336753818, 0.3232951935910279, 0.9739124495533775, 0.9155864062011356, 0.08323512783646687, 0.9935904886000012, 0.9977270382116519, 0.977579773650979, 0.9747342230179756, 0.9805437643214321, 0.9941993280836221, 0.956600232942725, 0.9939294689314787, 0.6875095054051334, 0.15573419735696395, 0.151935802299477, 0.996404024111916, 0.9834014266124977, 0.9869064456794825, 0.9866239180665547, 0.9929957494145748, 0.12870547066579927, 0.8658368026608315, 0.9903296683968549, 0.9633939192573576, 0.031329883553084796, 0.97734743150937, 0.9897705296306867, 0.7719170764221, 0.21918633034207777, 0.3988196086267038, 0.46324431463563287, 0.13498509830442282], \"Term\": [\"abi\", \"acat\", \"access\", \"accuracy\", \"accurate\", \"accurate\", \"aceclofenac\", \"acetone\", \"ache\", \"achieve\", \"achieve\", \"achieve\", \"acid\", \"acid\", \"acid\", \"acrylamide\", \"activate\", \"activity\", \"activity\", \"activity\", \"activity\", \"acute\", \"ad\", \"address\", \"adduct\", \"adjuvant\", \"adolescent\", \"adolescent\", \"adult\", \"age\", \"aggressive\", \"aim\", \"aim\", \"aim\", \"aml\", \"among\", \"among\", \"amplifier\", \"amplitude\", \"angioedema\", \"antibody\", \"apply\", \"apply\", \"architecture\", \"array\", \"article\", \"ass\", \"ass\", \"assay\", \"assessment\", \"assessment\", \"associate\", \"associate\", \"associate\", \"atm\", \"available\", \"behavior\", \"behavior\", \"behavior\", \"beta\", \"beta\", \"beta\", \"bias\", \"bind\", \"bmd\", \"bond\", \"bone\", \"brain\", \"building\", \"burst\", \"c\", \"c\", \"c\", \"c\", \"ca\", \"calculate\", \"cancer\", \"care\", \"case\", \"case\", \"case\", \"case\", \"cause\", \"cause\", \"cause\", \"cause\", \"cd\", \"challenge\", \"challenge\", \"change\", \"change\", \"change\", \"change\", \"characteristic\", \"characteristic\", \"characteristic\", \"chemical\", \"child\", \"child\", \"circuit\", \"ck_alpha\", \"cl\", \"clinical\", \"cmv\", \"co\", \"cognitive\", \"communication\", \"community\", \"complicate\", \"compound\", \"compound\", \"compute\", \"concentration\", \"concentration\", \"condition\", \"condition\", \"condition\", \"condition\", \"condition\", \"configuration\", \"conflict\", \"controller\", \"conventional\", \"converter\", \"couple\", \"crc\", \"create\", \"create\", \"db\", \"dbt\", \"degrees_c\", \"demonstrate\", \"demonstrate\", \"demonstrate\", \"demonstrate\", \"demonstrate\", \"derive\", \"development\", \"development\", \"development\", \"device\", \"device\", \"diabetes\", \"diagnosis\", \"diagnosis\", \"diagnostic\", \"differentiation\", \"digital\", \"disease\", \"disorder\", \"dna\", \"drug\", \"dry\", \"due\", \"due\", \"due\", \"due\", \"duration\", \"dynamic\", \"dynamic\", \"efficiency\", \"efficiency\", \"efficiency\", \"electrical\", \"electricity\", \"emerge\", \"engine\", \"engineering\", \"engineering\", \"enzyme\", \"enzyme\", \"equation\", \"error\", \"error\", \"especially\", \"estimate\", \"estimate\", \"estimation\", \"event\", \"evidence\", \"evidence\", \"examine\", \"examine\", \"examine\", \"experience\", \"experience\", \"experimental\", \"experimental\", \"expression\", \"expression\", \"fabricate\", \"farmer\", \"fast\", \"feedback\", \"feedback\", \"female\", \"film\", \"filter\", \"filter\", \"flow\", \"flow\", \"fluid\", \"focus\", \"focus\", \"fold\", \"fold\", \"food\", \"force\", \"formation\", \"formation\", \"formation\", \"fracture\", \"frequency\", \"frequency\", \"future\", \"gain\", \"gain\", \"game\", \"gas\", \"gene\", \"generate\", \"generate\", \"generate\", \"genome\", \"gi\", \"glaze\", \"group\", \"group\", \"hdpp\", \"health\", \"health\", \"healthy\", \"heat\", \"heat\", \"help\", \"help\", \"hip\", \"hiv\", \"however\", \"however\", \"however\", \"however\", \"ht\", \"human\", \"human\", \"human\", \"ic\", \"identify\", \"identify\", \"identify\", \"identify\", \"illustrate\", \"implement\", \"implement\", \"implementation\", \"implementation\", \"implementation\", \"improve\", \"improve\", \"improve\", \"improve\", \"incidence\", \"incidence\", \"incidence\", \"individual\", \"individual\", \"infection\", \"infection\", \"inflammatory\", \"information\", \"inhibition\", \"inhibitor\", \"inhibitor\", \"injury\", \"injury\", \"input\", \"input\", \"intervention\", \"joint\", \"kinase\", \"knowledge\", \"learn\", \"learn\", \"leukemia\", \"life\", \"life\", \"light\", \"linear\", \"literature\", \"literature\", \"load\", \"load\", \"loop\", \"male\", \"management\", \"many\", \"many\", \"many\", \"marker\", \"marker\", \"material\", \"material\", \"material\", \"material\", \"measurement\", \"measurement\", \"mechanism\", \"mechanism\", \"mechanism\", \"mechanism\", \"mental_health\", \"metabolism\", \"mg\", \"mg\", \"mi\", \"might\", \"mir\", \"mirnas\", \"mirp\", \"modify\", \"module\", \"molecular\", \"molecular\", \"molecule\", \"month\", \"month\", \"motion\", \"mouse\", \"mu\", \"mu\", \"mu\", \"n\", \"n\", \"n\", \"need\", \"need\", \"network\", \"network\", \"neural\", \"neural\", \"nfkappa_b\", \"node\", \"nonlinear\", \"novel\", \"novel\", \"novel\", \"nuclear\", \"numerical\", \"nurse\", \"object\", \"obtain\", \"obtain\", \"online\", \"onset\", \"optical\", \"optimization\", \"order\", \"order\", \"order\", \"osteoporosis\", \"outcome\", \"p\", \"p\", \"pain\", \"parent\", \"peak\", \"people\", \"perspective\", \"ph\", \"plant\", \"plant\", \"plant\", \"platform\", \"polymerase_chain\", \"potent\", \"potent\", \"potential\", \"potential\", \"potential\", \"potential\", \"potential\", \"practice\", \"prediction\", \"prediction\", \"pressure\", \"problem\", \"problem\", \"production\", \"production\", \"protein\", \"protein\", \"quality\", \"quality\", \"quality\", \"radar\", \"radical\", \"range\", \"range\", \"range\", \"range\", \"range\", \"rat\", \"reaction\", \"reaction\", \"reaction\", \"reaction\", \"receptor\", \"receptor\", \"regard\", \"regression\", \"relationship\", \"relationship\", \"relevant\", \"report\", \"report\", \"report\", \"report\", \"report\", \"require\", \"require\", \"require\", \"research\", \"resource\", \"respectively\", \"respectively\", \"respectively\", \"respectively\", \"respond\", \"review\", \"review\", \"risk\", \"risk\", \"risk\", \"river\", \"rna\", \"robust\", \"role\", \"role\", \"role\", \"roll\", \"sample\", \"sample\", \"sample\", \"sample\", \"sample\", \"scheme\", \"score\", \"security\", \"selection\", \"selective\", \"sensitive\", \"sensitive\", \"sensitive\", \"sensor\", \"separation\", \"sequence\", \"sequence\", \"service\", \"sex\", \"signal\", \"signal\", \"signal\", \"significantly\", \"significantly\", \"significantly\", \"significantly\", \"simulate\", \"simulation\", \"simulation\", \"skin\", \"skin_care\", \"sleep\", \"smart\", \"social\", \"social\", \"soil\", \"solar\", \"solar\", \"solution\", \"spd\", \"specie\", \"specie\", \"speed\", \"stage\", \"stage\", \"stage\", \"stem_cell\", \"stimulation\", \"strain\", \"strain\", \"strength\", \"stress\", \"stress\", \"stress\", \"stress\", \"student\", \"suffer\", \"suggest\", \"suggest\", \"suggest\", \"suggest\", \"support\", \"support\", \"support\", \"surface\", \"surface\", \"survival\", \"symptom\", \"syndrome\", \"target\", \"target\", \"target\", \"target\", \"task\", \"technique\", \"technique\", \"technology\", \"technology\", \"temperature\", \"temperature\", \"therapy\", \"therapy\", \"therapy\", \"tissue\", \"tissue\", \"transfer\", \"transfer\", \"trauma\", \"treatment\", \"treatment\", \"trend\", \"tumor\", \"unit\", \"university\", \"upregulated\", \"v\", \"vaccine\", \"validate\", \"value\", \"value\", \"value\", \"vehicle\", \"vi\", \"view\", \"virus\", \"voltage\", \"water\", \"water\", \"week\", \"weight\", \"weight\", \"wf\", \"wind\", \"woman\", \"woman\", \"work\", \"work\", \"work\"]}, \"R\": 30, \"lambda.step\": 0.01, \"plot.opts\": {\"xlab\": \"PC1\", \"ylab\": \"PC2\"}, \"topic.order\": [1, 6, 7, 2, 4, 3, 5]};\n",
       "\n",
       "function LDAvis_load_lib(url, callback){\n",
       "  var s = document.createElement('script');\n",
       "  s.src = url;\n",
       "  s.async = true;\n",
       "  s.onreadystatechange = s.onload = callback;\n",
       "  s.onerror = function(){console.warn(\"failed to load library \" + url);};\n",
       "  document.getElementsByTagName(\"head\")[0].appendChild(s);\n",
       "}\n",
       "\n",
       "if(typeof(LDAvis) !== \"undefined\"){\n",
       "   // already loaded: just create the visualization\n",
       "   !function(LDAvis){\n",
       "       new LDAvis(\"#\" + \"ldavis_el57201399016917878562339397386\", ldavis_el57201399016917878562339397386_data);\n",
       "   }(LDAvis);\n",
       "}else if(typeof define === \"function\" && define.amd){\n",
       "   // require.js is available: use it to load d3/LDAvis\n",
       "   require.config({paths: {d3: \"https://d3js.org/d3.v5\"}});\n",
       "   require([\"d3\"], function(d3){\n",
       "      window.d3 = d3;\n",
       "      LDAvis_load_lib(\"https://cdn.jsdelivr.net/gh/bmabey/pyLDAvis@3.3.1/pyLDAvis/js/ldavis.v3.0.0.js\", function(){\n",
       "        new LDAvis(\"#\" + \"ldavis_el57201399016917878562339397386\", ldavis_el57201399016917878562339397386_data);\n",
       "      });\n",
       "    });\n",
       "}else{\n",
       "    // require.js not available: dynamically load d3 & LDAvis\n",
       "    LDAvis_load_lib(\"https://d3js.org/d3.v5.js\", function(){\n",
       "         LDAvis_load_lib(\"https://cdn.jsdelivr.net/gh/bmabey/pyLDAvis@3.3.1/pyLDAvis/js/ldavis.v3.0.0.js\", function(){\n",
       "                 new LDAvis(\"#\" + \"ldavis_el57201399016917878562339397386\", ldavis_el57201399016917878562339397386_data);\n",
       "            })\n",
       "         });\n",
       "}\n",
       "</script>"
      ],
      "text/plain": [
       "PreparedData(topic_coordinates=              x         y  topics  cluster       Freq\n",
       "topic                                                \n",
       "0      0.136849  0.205381       1        1  29.372273\n",
       "5      0.229975  0.041193       2        1  22.460208\n",
       "6      0.139648 -0.205899       3        1  16.594762\n",
       "1      0.012543 -0.134970       4        1  12.532881\n",
       "3     -0.141148  0.201703       5        1  10.137411\n",
       "2     -0.163414 -0.033254       6        1   5.819496\n",
       "4     -0.214453 -0.074154       7        1   3.082968, topic_info=            Term        Freq       Total Category  logprob  loglift\n",
       "300         gene  328.000000  328.000000  Default  30.0000  30.0000\n",
       "297   expression  410.000000  410.000000  Default  29.0000  29.0000\n",
       "136      protein  249.000000  249.000000  Default  28.0000  28.0000\n",
       "1256       group  289.000000  289.000000  Default  27.0000  27.0000\n",
       "344    treatment  312.000000  312.000000  Default  26.0000  26.0000\n",
       "...          ...         ...         ...      ...      ...      ...\n",
       "4700   incidence   21.384151   32.333763   Topic7  -5.5786   3.0658\n",
       "3387      neural   21.611500   47.534515   Topic7  -5.5680   2.6910\n",
       "3670       woman   22.993175  104.933551   Topic7  -5.5060   1.9611\n",
       "79          beta   21.918453   76.698151   Topic7  -5.5539   2.2267\n",
       "518         case   21.263099  236.513934   Topic7  -5.5843   1.0702\n",
       "\n",
       "[385 rows x 6 columns], token_table=       Topic      Freq      Term\n",
       "term                            \n",
       "19609      6  0.990120       abi\n",
       "21858      6  0.984058      acat\n",
       "2626       2  0.993869    access\n",
       "347        1  0.995179  accuracy\n",
       "510        1  0.982026  accurate\n",
       "...      ...       ...       ...\n",
       "3670       3  0.771917     woman\n",
       "3670       7  0.219186     woman\n",
       "1278       1  0.398820      work\n",
       "1278       2  0.463244      work\n",
       "1278       5  0.134985      work\n",
       "\n",
       "[558 rows x 3 columns], R=30, lambda_step=0.01, plot_opts={'xlab': 'PC1', 'ylab': 'PC2'}, topic_order=[1, 6, 7, 2, 4, 3, 5])"
      ]
     },
     "execution_count": 81,
     "metadata": {},
     "output_type": "execute_result"
    }
   ],
   "source": [
    "vis_ldamodel = pyLDAvis.gensim_models.prepare(lda_model,corpus,word2id)\n",
    "vis_ldamodel"
   ]
  },
  {
   "cell_type": "markdown",
   "metadata": {},
   "source": [
    "## evalute model perplexity and coherence \n",
    "how to interpret these scores?\n",
    "coherence score is not high"
   ]
  },
  {
   "cell_type": "code",
   "execution_count": 68,
   "metadata": {},
   "outputs": [
    {
     "name": "stdout",
     "output_type": "stream",
     "text": [
      "Perplexity:  -9.04655412127769\n",
      "UMass Coherence Score:  -7.4124212883426495\n",
      "C_v Coherence Score:  0.4682717360041694\n"
     ]
    }
   ],
   "source": [
    "# A lower perplexity score indicates better generalization performance.\n",
    "perplexity = lda_model.log_perplexity(corpus)\n",
    "print('Perplexity: ', perplexity )\n",
    "\n",
    "# get coherence value u_mass\n",
    "# probability = the number of documents in which the word occurs divided by the total number of documents\"\n",
    "cm = CoherenceModel(model=lda_model, corpus=corpus, dictionary = word2id,coherence='u_mass')\n",
    "coherence_umass = cm.get_coherence() \n",
    "print('UMass Coherence Score: ', coherence_umass)\n",
    "\n",
    "# Compute Coherence Score using c_v\n",
    "# CV measure is based on the Pointwise Mutual Information score\n",
    "coherence_model_lda = CoherenceModel(model=lda_model, texts=abstract_lemmatized_cleaned, dictionary=word2id, coherence=\"c_v\")\n",
    "coherence_cv = coherence_model_lda.get_coherence()\n",
    "print('C_v Coherence Score: ', coherence_cv)"
   ]
  },
  {
   "cell_type": "code",
   "execution_count": 69,
   "metadata": {},
   "outputs": [
    {
     "data": {
      "image/png": "[encoded data removed]",
      "text/plain": [
       "<Figure size 432x288 with 1 Axes>"
      ]
     },
     "metadata": {
      "needs_background": "light"
     },
     "output_type": "display_data"
    }
   ],
   "source": [
    "def compute_coherence_values(dictionary, corpus, texts, limit, start=5, step=3):\n",
    "    \"\"\"\n",
    "    Compute c_v coherence for various number of topics\n",
    "    \"\"\"\n",
    "    coherence_values = []\n",
    "    model_list = []\n",
    "    for num_topics in range(start, limit, step):\n",
    "        model = LdaModel(corpus,num_topics=num_topics,\n",
    "                id2word = dictionary,\n",
    "                random_state=121,\n",
    "                update_every=1,\n",
    "                chunksize=100,\n",
    "                passes=10,\n",
    "                alpha='auto',\n",
    "                per_word_topics=True)\n",
    "        model_list.append(model)\n",
    "        coherencemodel = CoherenceModel(model=model, texts=texts, dictionary=dictionary, coherence=\"c_v\")\n",
    "        coherence_values.append(coherencemodel.get_coherence())\n",
    "\n",
    "    return model_list, coherence_values\n",
    "\n",
    "model_list, coherence_values = compute_coherence_values(dictionary=word2id, corpus=corpus, texts=abstract_lemmatized_cleaned, start=5, limit=20, step=1)\n",
    "n = range(5, 20, 1)\n",
    "plt.plot(n, coherence_values)\n",
    "plt.xlabel(\"Num Topics\")\n",
    "plt.ylabel(\"Coherence score\")\n",
    "plt.legend((\"coherence_values\"), loc='best')\n",
    "plt.show()"
   ]
  },
  {
   "cell_type": "code",
   "execution_count": 71,
   "metadata": {},
   "outputs": [
    {
     "name": "stdout",
     "output_type": "stream",
     "text": [
      "[(0, '0.023*\"adolescent\" + 0.014*\"social\" + 0.013*\"parent\" + 0.012*\"health\" + 0.011*\"group\" + 0.010*\"people\" + 0.009*\"intervention\" + 0.009*\"student\" + 0.009*\"care\" + 0.009*\"age\" + 0.008*\"disorder\" + 0.008*\"participant\" + 0.007*\"mental_health\"'), (1, '0.024*\"gene\" + 0.015*\"controller\" + 0.011*\"symptom\" + 0.011*\"acute\" + 0.010*\"expression\" + 0.010*\"express\" + 0.009*\"sequence\" + 0.008*\"secondary\" + 0.008*\"plant\" + 0.007*\"rna\" + 0.006*\"platform\" + 0.006*\"protein\" + 0.006*\"processing\"'), (2, '0.009*\"network\" + 0.008*\"simulation\" + 0.008*\"dynamic\" + 0.006*\"obtain\" + 0.005*\"solution\" + 0.005*\"experimental\" + 0.005*\"flow\" + 0.005*\"efficiency\" + 0.005*\"load\" + 0.005*\"frequency\" + 0.005*\"program\" + 0.004*\"equation\" + 0.004*\"framework\"'), (3, '0.011*\"hdpp\" + 0.011*\"pregnancy\" + 0.010*\"regression\" + 0.010*\"involvement\" + 0.009*\"nmolminmg\" + 0.009*\"et\" + 0.008*\"putative\" + 0.008*\"improved\" + 0.007*\"pulse\" + 0.007*\"judgment\" + 0.006*\"downstream\" + 0.006*\"dea\" + 0.006*\"command\"'), (4, '0.023*\"inhibit\" + 0.019*\"event\" + 0.014*\"ph\" + 0.013*\"insulin\" + 0.009*\"ca\" + 0.009*\"cellular\" + 0.008*\"mitochondrial\" + 0.008*\"acetone\" + 0.007*\"equipment\" + 0.006*\"conjugate\" + 0.006*\"regulator\" + 0.006*\"boost\" + 0.006*\"type_diabetes\"'), (5, '0.006*\"research\" + 0.005*\"behavior\" + 0.005*\"stress\" + 0.004*\"improve\" + 0.004*\"information\" + 0.004*\"work\" + 0.004*\"need\" + 0.004*\"material\" + 0.004*\"however\" + 0.004*\"change\" + 0.003*\"type\" + 0.003*\"area\" + 0.003*\"development\"'), (6, '0.011*\"signal\" + 0.010*\"image\" + 0.009*\"circuit\" + 0.008*\"range\" + 0.007*\"input\" + 0.006*\"joint\" + 0.006*\"gain\" + 0.006*\"stage\" + 0.006*\"detection\" + 0.005*\"measurement\" + 0.005*\"voltage\" + 0.005*\"technique\" + 0.005*\"mm\"'), (7, '0.009*\"expression\" + 0.008*\"treatment\" + 0.007*\"activity\" + 0.006*\"p\" + 0.006*\"disease\" + 0.006*\"human\" + 0.006*\"role\" + 0.005*\"protein\" + 0.005*\"mechanism\" + 0.004*\"associate\" + 0.004*\"therapy\" + 0.004*\"group\" + 0.004*\"cancer\"')]\n"
     ]
    }
   ],
   "source": [
    "model8 = model_list[3]\n",
    "print(model8.print_topics(num_words=13)) "
   ]
  },
  {
   "cell_type": "markdown",
   "metadata": {},
   "source": [
    "# Using the LDA model, find the topic of any given document\n",
    "#### lda built in model"
   ]
  },
  {
   "cell_type": "code",
   "execution_count": 84,
   "metadata": {},
   "outputs": [
    {
     "name": "stderr",
     "output_type": "stream",
     "text": [
      "/tmp/ipykernel_5720/4237278954.py:31: FutureWarning: The default value of regex will change from True to False in a future version.\n",
      "  df_test.Domain = df_test.Domain.str.replace(r'\\s','')\n",
      "/home/sxia1/.nlp_env/lib/python3.8/site-packages/pandas/core/generic.py:5516: SettingWithCopyWarning: \n",
      "A value is trying to be set on a copy of a slice from a DataFrame.\n",
      "Try using .loc[row_indexer,col_indexer] = value instead\n",
      "\n",
      "See the caveats in the documentation: https://pandas.pydata.org/pandas-docs/stable/user_guide/indexing.html#returning-a-view-versus-a-copy\n",
      "  self[name] = value\n",
      "/tmp/ipykernel_5720/4237278954.py:32: SettingWithCopyWarning: \n",
      "A value is trying to be set on a copy of a slice from a DataFrame.\n",
      "Try using .loc[row_indexer,col_indexer] = value instead\n",
      "\n",
      "See the caveats in the documentation: https://pandas.pydata.org/pandas-docs/stable/user_guide/indexing.html#returning-a-view-versus-a-copy\n",
      "  df_test['Domain_No'] = df_test.Domain.map(topic2num)\n"
     ]
    },
    {
     "name": "stdout",
     "output_type": "stream",
     "text": [
      "accuracy: 0.35\n",
      "accuracy by domain Domain\n",
      "CS              0.772727\n",
      "Civil           0.055556\n",
      "ECE             0.368421\n",
      "MAE             0.000000\n",
      "Medical         0.000000\n",
      "Psychology      0.906977\n",
      "biochemistry    0.635294\n",
      "dtype: float64\n"
     ]
    },
    {
     "data": {
      "text/html": [
       "<div>\n",
       "<style scoped>\n",
       "    .dataframe tbody tr th:only-of-type {\n",
       "        vertical-align: middle;\n",
       "    }\n",
       "\n",
       "    .dataframe tbody tr th {\n",
       "        vertical-align: top;\n",
       "    }\n",
       "\n",
       "    .dataframe thead th {\n",
       "        text-align: right;\n",
       "    }\n",
       "</style>\n",
       "<table border=\"1\" class=\"dataframe\">\n",
       "  <thead>\n",
       "    <tr style=\"text-align: right;\">\n",
       "      <th></th>\n",
       "      <th>Domain</th>\n",
       "      <th>actual</th>\n",
       "      <th>predicted</th>\n",
       "      <th>correct</th>\n",
       "    </tr>\n",
       "  </thead>\n",
       "  <tbody>\n",
       "    <tr>\n",
       "      <th>2000</th>\n",
       "      <td>biochemistry</td>\n",
       "      <td>6</td>\n",
       "      <td>6</td>\n",
       "      <td>True</td>\n",
       "    </tr>\n",
       "    <tr>\n",
       "      <th>2001</th>\n",
       "      <td>Civil</td>\n",
       "      <td>5</td>\n",
       "      <td>1</td>\n",
       "      <td>False</td>\n",
       "    </tr>\n",
       "    <tr>\n",
       "      <th>2002</th>\n",
       "      <td>MAE</td>\n",
       "      <td>2</td>\n",
       "      <td>1</td>\n",
       "      <td>False</td>\n",
       "    </tr>\n",
       "    <tr>\n",
       "      <th>2003</th>\n",
       "      <td>Civil</td>\n",
       "      <td>5</td>\n",
       "      <td>5</td>\n",
       "      <td>True</td>\n",
       "    </tr>\n",
       "    <tr>\n",
       "      <th>2004</th>\n",
       "      <td>MAE</td>\n",
       "      <td>2</td>\n",
       "      <td>1</td>\n",
       "      <td>False</td>\n",
       "    </tr>\n",
       "  </tbody>\n",
       "</table>\n",
       "</div>"
      ],
      "text/plain": [
       "            Domain  actual  predicted  correct\n",
       "2000  biochemistry       6          6     True\n",
       "2001         Civil       5          1    False\n",
       "2002           MAE       2          1    False\n",
       "2003         Civil       5          5     True\n",
       "2004           MAE       2          1    False"
      ]
     },
     "execution_count": 84,
     "metadata": {},
     "output_type": "execute_result"
    }
   ],
   "source": [
    "# test on 2000-2500 rows from the real data\n",
    "# step1:  given an abstract/text, tokenize, find biargram, remove popular words, turn it into a bag of words\n",
    "def prepare_text(text_list,BOW=True):\n",
    "    tokenized = list(map(lambda text_i:nltk.word_tokenize(re.sub(r'[^A-Za-z\\s]','',text_i.lower())),text_list))\n",
    "    text_uncategorized = prepare_token(tokenized)\n",
    "    # map corpus to a bag of words, lda doc2idx ignore unknown words\n",
    "    corpus_uncategorized  = list(map(word2id.doc2bow,text_uncategorized))\n",
    "    if BOW:\n",
    "        corpus_uncategorized  = list(map(lambda document: np.array(word2id.doc2bow(document)),text_uncategorized))\n",
    "    else:\n",
    "        corpus_uncategorized  = list(map(lambda document: np.array(word2id.doc2idx(document)),text_uncategorized))\n",
    "        corpus_uncategorized = list(map(lambda document: document[document>=0],corpus_uncategorized))\n",
    "    return corpus_uncategorized\n",
    "\n",
    "#step2: infer topic distribution\n",
    "def get_weight_each_topic(i,t_predict):\n",
    "    find = t_predict[list(map(lambda topic: i in topic, t_predict))]\n",
    "    if len(find)==0:\n",
    "        return 0.0\n",
    "    else:\n",
    "        return find[0][1]\n",
    "\n",
    "def get_topic_dist(model,text):\n",
    "    t_predict = np.array(model[text][0])\n",
    "    topic_dist_d = list(map(lambda i:get_weight_each_topic(i,t_predict),range(7)))\n",
    "    return topic_dist_d\n",
    "\n",
    "df_test = df_paper_raw[2000:2500]\n",
    "topic2num = {\"Medical\": 0, \"ECE\":1, \"MAE\":2, \"CS\":3, \"Psychology\":4, \"Civil\":5,\"biochemistry\":6}\n",
    "#topic2num = {\"MAE\":0,\"biochemistry\":1,\"Civil\":2,\"ECE\":3,\"Medical\":4,\"CS\":5,\"Psychology\":6}\n",
    "df_test.Domain = df_test.Domain.str.replace(r'\\s','')\n",
    "df_test['Domain_No'] = df_test.Domain.map(topic2num)\n",
    "corpus_uncategorized = prepare_text(df_test.Abstract,BOW=True)\n",
    "# corpus_uncategorized[1]\n",
    "topic_weight_matrix = list(map(lambda text_i:get_topic_dist(lda_model,text_i),corpus_uncategorized))\n",
    "dominant_topic = np.argmax(topic_weight_matrix,axis=1)\n",
    "predict_compare = pd.DataFrame({\"Domain\":df_test.Domain,\"actual\":df_test.Domain_No,\"predicted\":dominant_topic})\n",
    "predict_compare[\"correct\"] = np.equal(predict_compare.actual,predict_compare.predicted)\n",
    "accuracy = np.sum(predict_compare['correct'])/len(predict_compare)\n",
    "print(\"accuracy:\", accuracy)\n",
    "# compute accuracy by domain\n",
    "accuracy_by_domain = predict_compare.groupby('Domain').apply(lambda grp: np.sum(grp.correct)/len(grp))\n",
    "print(\"accuracy by domain\", accuracy_by_domain)\n",
    "predict_compare.head()\n"
   ]
  },
  {
   "cell_type": "markdown",
   "metadata": {},
   "source": [
    "# generate synthetic data using $\\alpha$ and $\\bm{\\beta}$ to "
   ]
  },
  {
   "cell_type": "code",
   "execution_count": 87,
   "metadata": {},
   "outputs": [],
   "source": [
    "num2topic = {0:\"Medical\", 1:\"ECE\",2:\"MAE\",3:\"CS\",4:\"Psychology\",5:\"Civil\", 6:\"biochemistry\"}\n",
    "\n",
    "# Possion distribution: draw sample length, lambda = median from the data\n",
    "# alpha: topic mixture of each synethic text\n",
    "# beta: topic-term distribution\n",
    "def lda_gen(vocabulary,beta,alpha,possion_lambda):\n",
    "    xi = np.random.poisson(possion_lambda) #length = sample from poisson dist\n",
    "    v = np.shape(beta)[0]\n",
    "    topic_proportion = np.random.dirichlet(alpha) # generate topic proportion based of a text dist\n",
    "    dominant_domain = num2topic[np.argmax(topic_proportion)]\n",
    "    topic_list = np.random.choice(range(v),xi,p=topic_proportion) #sample from topic proportion dist, \n",
    "\n",
    "    #pick a word for each topic in each document\n",
    "    # frequency of the topics = topics mixture in each document\n",
    "    word_bag = list(map(lambda topic_index: np.random.choice(vocabulary,p=beta[topic_index]),topic_list))\n",
    "    return (dominant_domain,word_bag)\n",
    "\n",
    "vocabulary = list(dictionary.keys())\n",
    "alpha = lda_model.alpha\n",
    "beta = lda_model.get_topics()\n",
    "possion_lambda = median_count\n",
    "\n",
    "synthetic_data_size = 2500\n",
    "synthetic_data = [ lda_gen(vocabulary,beta,alpha,possion_lambda) for _ in range(synthetic_data_size)]\n",
    "synthetic_df = pd.DataFrame(synthetic_data,columns=['Domain','Abstract'])\n",
    "synthetic_df.Abstract = synthetic_df.Abstract.map(lambda a: \" \".join(a))\n",
    "#synthetic_df.to_csv(\"mockdata.csv\",index=False)\n",
    "\n"
   ]
  },
  {
   "cell_type": "code",
   "execution_count": 89,
   "metadata": {},
   "outputs": [],
   "source": [
    "synthetic_df.head()\n",
    "synthetic_df.to_csv(\"mockdata.csv\",index=False)"
   ]
  },
  {
   "cell_type": "markdown",
   "metadata": {},
   "source": [
    "# Categorize the synthetic data with lda probabilistic classifier"
   ]
  },
  {
   "cell_type": "code",
   "execution_count": 91,
   "metadata": {},
   "outputs": [
    {
     "data": {
      "text/html": [
       "<div>\n",
       "<style scoped>\n",
       "    .dataframe tbody tr th:only-of-type {\n",
       "        vertical-align: middle;\n",
       "    }\n",
       "\n",
       "    .dataframe tbody tr th {\n",
       "        vertical-align: top;\n",
       "    }\n",
       "\n",
       "    .dataframe thead th {\n",
       "        text-align: right;\n",
       "    }\n",
       "</style>\n",
       "<table border=\"1\" class=\"dataframe\">\n",
       "  <thead>\n",
       "    <tr style=\"text-align: right;\">\n",
       "      <th></th>\n",
       "      <th>Domain</th>\n",
       "      <th>Abstract</th>\n",
       "    </tr>\n",
       "  </thead>\n",
       "  <tbody>\n",
       "    <tr>\n",
       "      <th>0</th>\n",
       "      <td>Psychology</td>\n",
       "      <td>fourier stability device nurse meet p arousal ...</td>\n",
       "    </tr>\n",
       "    <tr>\n",
       "      <th>1</th>\n",
       "      <td>Psychology</td>\n",
       "      <td>research manager intraspecific heuristic enhan...</td>\n",
       "    </tr>\n",
       "    <tr>\n",
       "      <th>2</th>\n",
       "      <td>CS</td>\n",
       "      <td>mobile amount ice associate construct zone asp...</td>\n",
       "    </tr>\n",
       "    <tr>\n",
       "      <th>3</th>\n",
       "      <td>CS</td>\n",
       "      <td>year proprietary carbon_dioxide combustion gap...</td>\n",
       "    </tr>\n",
       "    <tr>\n",
       "      <th>4</th>\n",
       "      <td>Psychology</td>\n",
       "      <td>antihistamine parental customized share thiame...</td>\n",
       "    </tr>\n",
       "  </tbody>\n",
       "</table>\n",
       "</div>"
      ],
      "text/plain": [
       "       Domain                                           Abstract\n",
       "0  Psychology  fourier stability device nurse meet p arousal ...\n",
       "1  Psychology  research manager intraspecific heuristic enhan...\n",
       "2          CS  mobile amount ice associate construct zone asp...\n",
       "3          CS  year proprietary carbon_dioxide combustion gap...\n",
       "4  Psychology  antihistamine parental customized share thiame..."
      ]
     },
     "execution_count": 91,
     "metadata": {},
     "output_type": "execute_result"
    }
   ],
   "source": [
    "\n",
    "# read data\n",
    "mock_data = pd.read_csv(\"mockdata.csv\", engine='python')\n",
    "#topic2num = {\"Medical\": 0, \"ECE\":1, \"MAE\":2, \"CS\":3, \"Psychology\":4, \"Civil\":5,\"biochemistry\":6}\n",
    "mock_data.head()"
   ]
  },
  {
   "cell_type": "code",
   "execution_count": 93,
   "metadata": {},
   "outputs": [
    {
     "name": "stdout",
     "output_type": "stream",
     "text": [
      "alpha [0.43784472 0.3480546  2.514889   0.45890188 0.8136236  2.8937771\n",
      " 2.1727703 ]\n",
      "beta [(0, '0.017*\"joint\" + 0.014*\"engine\" + 0.010*\"emerge\" + 0.009*\"procedure\" + 0.008*\"capture\" + 0.008*\"explicit\" + 0.008*\"protocol\" + 0.008*\"valve\" + 0.007*\"secure\" + 0.007*\"clear\"'), (1, '0.008*\"mitochondrial\" + 0.008*\"soil\" + 0.008*\"crop\" + 0.008*\"soft\" + 0.006*\"suspension_bridge\" + 0.006*\"gi\" + 0.005*\"wf\" + 0.005*\"acs\" + 0.005*\"bioprosthetic\" + 0.005*\"risk_factors\"'), (2, '0.006*\"problem\" + 0.006*\"work\" + 0.006*\"network\" + 0.005*\"information\" + 0.005*\"dynamic\" + 0.005*\"set\" + 0.004*\"strategy\" + 0.004*\"research\" + 0.004*\"case\" + 0.004*\"technology\"'), (3, '0.012*\"protein\" + 0.012*\"gene\" + 0.010*\"expression\" + 0.007*\"cancer\" + 0.006*\"inhibitor\" + 0.005*\"occlusion\" + 0.005*\"pathway\" + 0.005*\"mouse\" + 0.005*\"p\" + 0.005*\"metabolic\"'), (4, '0.010*\"flow\" + 0.009*\"water\" + 0.008*\"temperature\" + 0.007*\"heat\" + 0.006*\"wind\" + 0.005*\"expression\" + 0.005*\"combustion\" + 0.005*\"independent\" + 0.005*\"thermal\" + 0.004*\"consumption\"'), (5, '0.006*\"signal\" + 0.005*\"reduce\" + 0.005*\"response\" + 0.005*\"obtain\" + 0.005*\"frequency\" + 0.005*\"measurement\" + 0.005*\"experimental\" + 0.005*\"range\" + 0.004*\"characteristic\" + 0.004*\"sample\"'), (6, '0.006*\"group\" + 0.005*\"treatment\" + 0.005*\"adolescent\" + 0.005*\"report\" + 0.005*\"associate\" + 0.004*\"support\" + 0.004*\"examine\" + 0.004*\"individual\" + 0.004*\"year\" + 0.004*\"development\"')]\n"
     ]
    }
   ],
   "source": [
    "# extract alpha and beta from the mock data\n",
    "num_topics = 7\n",
    "documents = list(map(lambda abstract:abstract.split(\" \"),mock_data.Abstract[:2000]))\n",
    "mockdata_word2id = Dictionary(documents)\n",
    "mock_corpus = [mockdata_word2id .doc2bow(text) for text in documents]\n",
    "mockdata_lda_model = LdaModel(mock_corpus, \n",
    "                num_topics=len(mock_data.Domain.unique()),\n",
    "                id2word = mockdata_word2id,\n",
    "                random_state=121,\n",
    "                update_every=1,\n",
    "                chunksize=100,\n",
    "                passes=10,\n",
    "                alpha='auto',\n",
    "                per_word_topics=True)\n",
    "print(\"alpha\", mockdata_lda_model.alpha)\n",
    "print(\"beta\",mockdata_lda_model.show_topics(15))"
   ]
  },
  {
   "cell_type": "code",
   "execution_count": 106,
   "metadata": {},
   "outputs": [],
   "source": [
    "# num2topicMock = {0:\"Medicial\",1:\"CS\",2:\"MAE\",3:\"Civil\",4:\"biochemistry\",5:\"ECE\",6:\"Psychology\"}\n",
    "# topic2numMock = {\"Medical\":0,\"CS\":1,\"MAE\":2,\"Civil\":3,\"biochemistry\":4,\"ECE\":5,\"Psychology\":6}\n",
    "num2topicMock = {0:\"MAE\",1:\"Medical\",2:\"CS\",3:\"biochemistry\",4:\"Civil\",5:\"ECE\",6:\"Psychology\"}\n",
    "topic2numMock = {\"MAE\":0,\"Medical\":1,\"CS\":2,\"biochemistry\":3,\"Civil\":4,\"ECE\":5,\"Psychology\":6}"
   ]
  },
  {
   "cell_type": "code",
   "execution_count": 96,
   "metadata": {},
   "outputs": [
    {
     "name": "stderr",
     "output_type": "stream",
     "text": [
      "/home/sxia1/.nlp_env/lib/python3.8/site-packages/pyLDAvis/_prepare.py:246: FutureWarning: In a future version of pandas all arguments of DataFrame.drop except for the argument 'labels' will be keyword-only\n",
      "  default_term_info = default_term_info.sort_values(\n",
      "/home/sxia1/.nlp_env/lib/python3.8/site-packages/past/builtins/misc.py:45: DeprecationWarning: the imp module is deprecated in favour of importlib; see the module's documentation for alternative uses\n",
      "  from imp import reload\n",
      "/home/sxia1/.nlp_env/lib/python3.8/site-packages/past/builtins/misc.py:45: DeprecationWarning: the imp module is deprecated in favour of importlib; see the module's documentation for alternative uses\n",
      "  from imp import reload\n",
      "/home/sxia1/.nlp_env/lib/python3.8/site-packages/past/builtins/misc.py:45: DeprecationWarning: the imp module is deprecated in favour of importlib; see the module's documentation for alternative uses\n",
      "  from imp import reload\n",
      "/home/sxia1/.nlp_env/lib/python3.8/site-packages/past/builtins/misc.py:45: DeprecationWarning: the imp module is deprecated in favour of importlib; see the module's documentation for alternative uses\n",
      "  from imp import reload\n"
     ]
    },
    {
     "data": {
      "text/html": [
       "\n",
       "<link rel=\"stylesheet\" type=\"text/css\" href=\"https://cdn.jsdelivr.net/gh/bmabey/pyLDAvis@3.3.1/pyLDAvis/js/ldavis.v1.0.0.css\">\n",
       "\n",
       "\n",
       "<div id=\"ldavis_el57201399024174337605963963955\"></div>\n",
       "<script type=\"text/javascript\">\n",
       "\n",
       "var ldavis_el57201399024174337605963963955_data = {\"mdsDat\": {\"x\": [0.2438559553240994, 0.2574941534492544, 0.0969704323620405, -0.16645502704138435, -0.1541987062376278, -0.1455012101464226, -0.13216559770995978], \"y\": [-0.167614924133611, -0.03749652585858061, 0.326007053844301, -0.04652447847593515, -0.05844625084640388, -0.004101688009349429, -0.011823186520421082], \"topics\": [1, 2, 3, 4, 5, 6, 7], \"cluster\": [1, 1, 1, 1, 1, 1, 1], \"Freq\": [31.04397568301237, 27.168856528413627, 22.12316242358435, 7.43591588241196, 5.369535095638892, 4.33147670122013, 2.5270776857186728]}, \"tinfo\": {\"Term\": [\"joint\", \"engine\", \"temperature\", \"water\", \"flow\", \"signal\", \"expression\", \"group\", \"problem\", \"reduce\", \"protein\", \"gene\", \"frequency\", \"network\", \"work\", \"emerge\", \"adolescent\", \"report\", \"measurement\", \"range\", \"procedure\", \"information\", \"device\", \"set\", \"activity\", \"associate\", \"response\", \"treatment\", \"experimental\", \"strategy\", \"signal\", \"frequency\", \"measurement\", \"range\", \"controller\", \"circuit\", \"surface\", \"active\", \"output\", \"force\", \"filter\", \"strain\", \"property\", \"small\", \"without\", \"element\", \"loss\", \"symptom\", \"digital\", \"total\", \"characterize\", \"line\", \"resistance\", \"region\", \"structural\", \"input\", \"therapy\", \"linear\", \"mm\", \"produce\", \"reduce\", \"experimental\", \"response\", \"establish\", \"obtain\", \"characteristic\", \"rate\", \"load\", \"sample\", \"stress\", \"determine\", \"due\", \"demonstrate\", \"condition\", \"material\", \"achieve\", \"evaluate\", \"novel\", \"value\", \"set\", \"prediction\", \"learn\", \"theory\", \"help\", \"key\", \"framework\", \"estimate\", \"scale\", \"many\", \"software\", \"resource\", \"cost\", \"exist\", \"configuration\", \"goal\", \"domain\", \"cognitive\", \"strategy\", \"engineering\", \"complex\", \"ie\", \"machine\", \"environment\", \"concept\", \"project\", \"drive\", \"way\", \"implementation\", \"build\", \"source\", \"problem\", \"information\", \"network\", \"technology\", \"work\", \"program\", \"address\", \"accord\", \"case\", \"dynamic\", \"part\", \"image\", \"research\", \"error\", \"improve\", \"feature\", \"require\", \"accurate\", \"number\", \"describe\", \"simulation\", \"group\", \"adolescent\", \"report\", \"associate\", \"examine\", \"year\", \"health\", \"social\", \"clinical\", \"child\", \"experience\", \"parent\", \"evidence\", \"class\", \"disease\", \"disorder\", \"association\", \"risk\", \"people\", \"offer\", \"male\", \"diagnosis\", \"production\", \"family\", \"community\", \"age\", \"student\", \"primary\", \"understand\", \"woman\", \"individual\", \"among\", \"treatment\", \"practice\", \"significantly\", \"support\", \"significant\", \"suggest\", \"activity\", \"development\", \"behavior\", \"important\", \"research\", \"heat\", \"wind\", \"combustion\", \"independent\", \"consumption\", \"wind_turbine\", \"leukemia\", \"velocity\", \"compound\", \"film\", \"encode\", \"bind\", \"thermodynamic\", \"solar\", \"mir\", \"db\", \"typical\", \"iron\", \"variability\", \"receptor\", \"cytokine\", \"substrate\", \"electronic\", \"square\", \"sustainable\", \"similarly\", \"synthesize\", \"activate\", \"th\", \"mass_spectrometry\", \"column\", \"flow\", \"serious\", \"concentration\", \"water\", \"thermal\", \"temperature\", \"fuel\", \"emission\", \"wave\", \"skin\", \"expression\", \"isolate\", \"joint\", \"engine\", \"emerge\", \"capture\", \"explicit\", \"protocol\", \"valve\", \"secure\", \"clear\", \"module\", \"leave\", \"hdpp\", \"hip\", \"hybrid\", \"abstract\", \"electrode\", \"gap\", \"oa\", \"absorption\", \"run\", \"exogenous\", \"oil\", \"discovery\", \"spread\", \"permanent_magnet\", \"innovative\", \"vegetation\", \"pc\", \"basin\", \"systematically\", \"trend\", \"procedure\", \"amplitude\", \"electricity\", \"electrical\", \"water\", \"gas\", \"device\", \"communication\", \"inhibitor\", \"pathway\", \"kinase\", \"culture\", \"inhibition\", \"metabolite\", \"viscosity\", \"dna\", \"molecular\", \"inflammation\", \"metabolism\", \"induction\", \"accumulation\", \"survival\", \"ablation\", \"virus\", \"ca\", \"nmolminmg\", \"regional\", \"animal\", \"completely\", \"acetone\", \"substance_use\", \"mirnas\", \"viral\", \"academic\", \"geosynthetic\", \"pvat\", \"radical\", \"fusion\", \"metabolic\", \"cancer\", \"protein\", \"gene\", \"tumor\", \"occlusion\", \"mouse\", \"expression\", \"rna\", \"infection\", \"induce\", \"finding\", \"p\", \"activity\", \"human\", \"growth\", \"role\", \"involve\", \"mitochondrial\", \"soft\", \"suspension_bridge\", \"gi\", \"wf\", \"acs\", \"bioprosthetic\", \"risk_factors\", \"increased\", \"median\", \"satisfactory\", \"smoke\", \"fiber\", \"popular\", \"microfluidic\", \"betacatenin\", \"excess\", \"thrombosis\", \"hardness\", \"wireless_sensor\", \"outside\", \"clarify\", \"lie\", \"impair\", \"immunohistochemistry\", \"former\", \"tl\", \"attenuate\", \"edge\", \"allows\", \"crop\", \"soil\", \"successful\", \"fibrosis\"], \"Freq\": [156.0, 132.0, 221.0, 203.0, 174.0, 324.0, 174.0, 231.0, 294.0, 293.0, 106.0, 108.0, 259.0, 289.0, 316.0, 98.0, 195.0, 194.0, 251.0, 246.0, 99.0, 252.0, 170.0, 213.0, 141.0, 181.0, 283.0, 214.0, 252.0, 205.0, 323.88465356270643, 259.059519072763, 250.64889211640656, 245.75559225504773, 211.63067076837837, 210.86726887880786, 209.56978136448626, 192.02094761449868, 167.55468636961203, 154.09221032148338, 151.24317311921195, 150.81626547114462, 149.85697622040115, 147.68997385362215, 146.89772888451856, 143.1511982908682, 142.45840055124071, 135.75048006454, 131.13883249893445, 129.12390157276926, 128.7132949005805, 128.12870256271134, 124.58700544612735, 124.39295993234421, 124.05758082293418, 121.40080993492649, 121.43160762801611, 121.04931779324907, 118.44991982495551, 118.41720510703159, 288.76315481283035, 248.12603731617017, 271.1117414398465, 159.3514739825825, 268.1020625682903, 229.1493708927026, 203.7774469741366, 174.70501358751753, 221.0285780439739, 219.44930040858418, 177.59432084088334, 183.4285917156801, 174.49768672520918, 176.15219192337764, 171.10722156777558, 173.06604506120877, 154.65070355654305, 152.14222017777686, 151.08548842941013, 213.104018136084, 179.59638525041498, 175.53713681923307, 158.26147543738008, 154.12306671632808, 153.25159076714698, 152.8863941618229, 152.1444322982016, 148.3193641067297, 140.24601240483065, 140.2170194963369, 139.08255681326534, 139.0293190784933, 135.58489794925458, 135.704246971965, 132.4326099800699, 128.14513560165614, 128.18786834159573, 204.03136509381176, 118.2202182500217, 116.2702587395016, 115.13919537626103, 114.88418059565159, 113.15426673367335, 112.15904457709729, 111.51688016438442, 111.55154226111243, 111.25455136336448, 109.98054111845791, 109.136851867508, 156.31548545517873, 284.9272599452437, 242.143881105724, 269.50524766721605, 181.6291456126887, 277.2149050438453, 131.6327061616524, 130.1938508360397, 166.03135560275666, 191.78385698489637, 220.02755538793292, 152.70707455796557, 167.0470833337969, 197.8758109506128, 162.11712654178285, 178.09736196379419, 158.15548245194103, 151.9076751547488, 143.54635720097565, 146.5198299815037, 145.30887163668763, 145.4358965428873, 230.73462682755482, 195.12207069121783, 193.73458265144396, 181.00735549877996, 151.42961782912445, 139.18994463383075, 130.28688596136794, 128.16037459255153, 120.38194109608177, 111.47206061486432, 110.56550116322522, 105.15917307980881, 101.94826199107236, 100.47419769778382, 100.57723915462782, 98.07508185085237, 97.04943540528532, 93.60468985625157, 88.96886007028111, 86.96055171755663, 86.14198824141127, 84.11857190385317, 83.48312577579765, 81.75896718747066, 80.58189265987436, 79.91736455392102, 78.4098519679689, 78.4400590085671, 77.99202511081478, 76.34269212113188, 143.17179154439663, 126.03763129087449, 196.64749498968544, 112.93115085935499, 118.97779141345949, 166.55078196867055, 128.29145332621445, 123.28919240454518, 105.58787554306657, 135.06263425936143, 127.93512096761188, 104.05648662647313, 113.9009459780105, 85.57721254948925, 72.50226567990237, 59.58249832300726, 58.11776770820001, 56.33688577196048, 52.614468216845154, 46.3178642619886, 44.94932777824539, 44.98503293166074, 44.92309738059471, 44.145044962958096, 39.30520646554439, 38.96106905050883, 38.06103628022756, 37.96514827050911, 37.796181292507576, 36.486897296272076, 34.76036990601098, 32.91562565494206, 32.29805885332061, 32.030022604558326, 31.60063039477873, 29.89764433623067, 29.75271988861582, 29.69923868882919, 29.019916407521464, 28.73205129865871, 28.550377283625945, 28.49137089367056, 28.376161224904614, 28.404402419629204, 131.01333329100015, 32.49720579456874, 53.689902515764466, 120.73466685856248, 58.08943647778555, 98.59454858231382, 40.45945500619191, 34.93039330277373, 40.181403787525696, 40.1627874080489, 60.497795143912256, 39.41466285372723, 156.0761944157438, 131.57691462093, 97.43934686162135, 76.96287952070493, 76.06415724697878, 76.04388107939342, 70.15883829845879, 66.58450710497735, 62.95473069222441, 60.72988290978751, 58.884686644018, 58.35087037132745, 53.91185035172147, 45.92378149979809, 44.678981714132284, 41.798799353228155, 40.74219343682039, 38.6046571378892, 37.72697821466048, 37.50010879102787, 35.00124234361728, 34.716218721503935, 33.87781999680929, 31.62801709789682, 31.47878268403448, 31.136194337316333, 30.98026115966537, 30.751049010812608, 30.04347664445763, 30.206704561323253, 57.928993453929714, 84.2006564877352, 60.30605986172585, 40.56540762080834, 46.7403198458658, 45.267597385450834, 37.52562520799561, 38.39906078619096, 35.25925635942275, 46.78578757390774, 40.83611387290771, 30.205411465372322, 27.66514601373135, 26.28965533504402, 23.936912214638923, 23.60682640913256, 23.334071581396667, 24.324495078384384, 22.924242675932316, 22.77717055399244, 22.450392372134967, 22.009459217219735, 21.288664738726784, 20.62785677728689, 20.08142581226808, 19.887445573125753, 19.019084227717954, 18.92322782587211, 18.794298683968275, 18.576481527039146, 17.9222346182178, 17.69068872528722, 17.545002938206526, 17.233406259397132, 17.28093499308762, 17.13569500094903, 16.916912829086396, 16.641705255061183, 16.455111226234163, 35.869356831713404, 52.230548678830566, 89.60676933634716, 87.32141118081864, 35.015762662289845, 41.28314305512933, 39.20956372033372, 73.91896211268369, 31.698579771267784, 30.958888831875857, 31.11767224917721, 30.443451978733997, 36.13424993452907, 35.675637076674505, 34.89447497015837, 24.899414962527047, 24.468944877135392, 22.253408698833656, 36.29898849275017, 33.07085652279077, 28.281856958780306, 27.02334242671179, 23.049362039496003, 21.894875972559888, 21.54596233413859, 20.524960799093932, 19.853244163145792, 19.449938795911223, 19.122366526633506, 18.842364581235376, 18.408234378488608, 17.560132203723125, 17.13154847227261, 16.89742985856503, 16.73418123594771, 16.228700647116106, 15.87244747073088, 15.722670306900042, 15.655760769661082, 15.51133934705434, 15.3384226476777, 14.791113016122553, 14.381621670879202, 13.928371543358702, 13.818312132147831, 12.917703090458645, 12.822288076980689, 12.836965113014722, 34.86311947229987, 35.34966678664226, 14.935377366905167, 14.183530641871426], \"Total\": [156.0, 132.0, 221.0, 203.0, 174.0, 324.0, 174.0, 231.0, 294.0, 293.0, 106.0, 108.0, 259.0, 289.0, 316.0, 98.0, 195.0, 194.0, 251.0, 246.0, 99.0, 252.0, 170.0, 213.0, 141.0, 181.0, 283.0, 214.0, 252.0, 205.0, 324.614342265754, 259.7889104694694, 251.37841807847545, 246.4849993532216, 212.35981504847996, 211.5963594052984, 210.29967444839988, 192.7504809397236, 168.28473092803597, 154.82203551318324, 151.97208543928633, 151.54532283782828, 150.58605975394195, 148.4198956644338, 147.6268518055206, 143.8805766620996, 143.18804051790787, 136.47976522953292, 131.86846630028836, 129.85429325676847, 129.44357410438698, 128.8581718175368, 125.3163752972699, 125.12278283137593, 124.78650651909875, 122.13040843358165, 122.16164918147776, 121.77873745014396, 119.17925870651719, 119.14680163848672, 293.2480516679336, 252.3135088645149, 283.3940303598107, 165.08199066454006, 301.2681960812157, 258.3143149205484, 227.96149224959686, 198.6919326394489, 286.23710611879017, 289.4643684044224, 227.6353797853869, 296.15966723902386, 263.01807858305216, 273.6111985854254, 255.05200241839756, 295.64097270090207, 217.456993933589, 201.99558448396607, 221.70816171528298, 213.8352349644392, 180.32745257012658, 176.26853402887033, 158.99315283689688, 154.85476547956202, 153.9824679841463, 153.61783812145447, 152.87589305321035, 149.0507683278914, 140.97712042425175, 140.94838156498773, 139.81383242245425, 139.7608007258422, 136.31588444175404, 136.43748703672813, 133.1647581441889, 128.87642938515796, 128.91943541426662, 205.26883361958494, 118.951066871682, 117.00175055436192, 115.8706655523722, 115.61578204497971, 113.88604373125901, 112.89073132305, 112.24795225822515, 112.28424955391203, 111.98572718742493, 110.7127370218829, 109.86768235875067, 157.62426280404466, 294.90108101234136, 252.94846155595903, 289.8571193588411, 194.97926625550426, 316.5688303931526, 136.76615678303224, 134.9471341826743, 184.32286120298144, 236.11656783039166, 297.2010571785588, 173.78130865520174, 207.1686552572596, 312.37234638217484, 223.6464943453994, 287.0608249177927, 217.8236769721858, 206.65619108575163, 171.10874500876747, 210.01423682345342, 201.95391332685782, 297.09263353114306, 231.47066112102098, 195.8576667582624, 194.47055727376474, 181.74311868840422, 152.1658691855042, 139.92604708043982, 131.02241903668875, 128.8957602737483, 121.11811012397972, 112.20796040232898, 111.3014591269041, 105.89470060801607, 102.68428336052959, 101.21162015620217, 101.32287972466871, 98.81085218163713, 97.78481850042255, 94.33998570274983, 89.70428009104651, 87.69724415814505, 86.89390484276807, 84.8538878528436, 84.21955828060227, 82.49459504536026, 81.31770969586908, 80.65275378904745, 79.14545214627164, 79.17680213917784, 78.72956413470648, 77.07812623848666, 145.63598646186875, 131.66905092306038, 214.98618912487396, 120.53637863839688, 132.57812253096398, 201.91092328842868, 180.14156093669607, 176.031501227916, 141.88842216530068, 258.31463645592237, 268.90034254575687, 192.18440213977502, 312.37234638217484, 86.32574440439498, 73.2500036011492, 60.3303208617247, 58.87069489184739, 57.08723728398295, 53.36175505266508, 47.0658190914061, 45.69668422437565, 45.7333332102787, 45.67499814242427, 44.896564957421376, 40.05500795121065, 39.708225170408305, 38.80969309166004, 38.714763613692746, 38.54521911011785, 37.23539675252884, 35.50934494703751, 33.663046361961904, 33.0458471640368, 32.78352233602377, 32.34983285237146, 30.64841438490679, 30.505568016098724, 30.45302954761429, 29.769287725112104, 29.481860143519235, 29.2991940105651, 29.24174815445047, 29.124542433669315, 29.15563259478401, 174.28314337307472, 34.681084382140824, 67.94161618418639, 203.77245877288033, 87.69013371953771, 221.17339344565582, 51.27018949668263, 42.90122750438086, 59.29289933861694, 59.822817993045255, 174.74015515571, 67.70815367785528, 156.82800843569052, 132.32846902348902, 98.19095447296274, 77.71529116285402, 76.81640258807315, 76.79643317287994, 70.91055849996252, 67.33613267257057, 63.706284429839535, 61.48100312405773, 59.635785927159034, 59.10222502649776, 54.66476083582138, 46.67516710190815, 45.430143546428916, 42.551927361478356, 41.4944864746077, 39.35625164326115, 38.478975940597664, 38.253657880799466, 35.75337385627434, 35.46814386721597, 34.631500814924706, 32.38111948573722, 32.22958258653542, 31.88811814606317, 31.731930828932196, 31.50218071588012, 30.796489970162185, 30.966995255948394, 64.83581129140804, 99.69369534647885, 75.31422148738407, 47.75131702966594, 139.260965863197, 203.77245877288033, 81.44716208220467, 170.05854700064475, 105.55402450159555, 47.54609437951918, 41.59672514756748, 30.96662882432918, 28.426340843049243, 27.050479896648213, 24.696866925323295, 24.372455190970765, 24.094183267149614, 25.125798976119704, 23.685988880983437, 23.53656591257522, 23.21316199872802, 22.76916869279963, 22.049184319552772, 21.396126271379185, 20.84089660545741, 20.64776018085067, 19.779737409504268, 19.689474540588233, 19.55925523982286, 19.345605873040995, 18.683583415610816, 18.453602168022694, 18.305122886027487, 17.994828161964673, 18.047749551374213, 17.8996297339257, 17.67951532770399, 17.40154793157732, 17.21663988051877, 38.10565369457557, 58.54711073150221, 106.26292893218202, 108.81916720263321, 39.94276960384097, 50.86115310202464, 60.867450514020724, 174.74015515571, 49.03506441945321, 49.509246779873585, 59.64350235636894, 75.57726770539162, 129.13864578470793, 141.88842216530068, 175.99802693593756, 58.679238751074806, 113.1899581639361, 92.18482114192115, 37.079193107389216, 33.84471661152247, 29.059925402246815, 27.797685454233164, 23.822536564740332, 22.669755893417634, 22.320719207117225, 21.299871039217322, 20.63282398526473, 20.225697677560877, 19.89843668297091, 19.618599184517933, 19.187323398200448, 18.33868178620904, 17.914094109671808, 17.67073902336964, 17.508013052475796, 17.002621270988982, 16.647947912163797, 16.501705952902938, 16.43445784519976, 16.295220592870248, 16.12180426257634, 15.56784748040429, 15.161350350844664, 14.706366954807063, 14.599420130002263, 13.695869169535106, 13.598797087457974, 13.616592562529506, 38.77427298414182, 40.96833418036245, 18.424640758713313, 19.825238032775374], \"Category\": [\"Default\", \"Default\", \"Default\", \"Default\", \"Default\", \"Default\", \"Default\", \"Default\", \"Default\", \"Default\", \"Default\", \"Default\", \"Default\", \"Default\", \"Default\", \"Default\", \"Default\", \"Default\", \"Default\", \"Default\", \"Default\", \"Default\", \"Default\", \"Default\", \"Default\", \"Default\", \"Default\", \"Default\", \"Default\", \"Default\", \"Topic1\", \"Topic1\", \"Topic1\", \"Topic1\", \"Topic1\", \"Topic1\", \"Topic1\", \"Topic1\", \"Topic1\", \"Topic1\", \"Topic1\", \"Topic1\", \"Topic1\", \"Topic1\", \"Topic1\", \"Topic1\", \"Topic1\", \"Topic1\", \"Topic1\", \"Topic1\", \"Topic1\", \"Topic1\", \"Topic1\", \"Topic1\", \"Topic1\", \"Topic1\", \"Topic1\", \"Topic1\", \"Topic1\", \"Topic1\", \"Topic1\", \"Topic1\", \"Topic1\", \"Topic1\", \"Topic1\", \"Topic1\", \"Topic1\", \"Topic1\", \"Topic1\", \"Topic1\", \"Topic1\", \"Topic1\", \"Topic1\", \"Topic1\", \"Topic1\", \"Topic1\", \"Topic1\", \"Topic1\", \"Topic1\", \"Topic2\", \"Topic2\", \"Topic2\", \"Topic2\", \"Topic2\", \"Topic2\", \"Topic2\", \"Topic2\", \"Topic2\", \"Topic2\", \"Topic2\", \"Topic2\", \"Topic2\", \"Topic2\", \"Topic2\", \"Topic2\", \"Topic2\", \"Topic2\", \"Topic2\", \"Topic2\", \"Topic2\", \"Topic2\", \"Topic2\", \"Topic2\", \"Topic2\", \"Topic2\", \"Topic2\", \"Topic2\", \"Topic2\", \"Topic2\", \"Topic2\", \"Topic2\", \"Topic2\", \"Topic2\", \"Topic2\", \"Topic2\", \"Topic2\", \"Topic2\", \"Topic2\", \"Topic2\", \"Topic2\", \"Topic2\", \"Topic2\", \"Topic2\", \"Topic2\", \"Topic2\", \"Topic2\", \"Topic2\", \"Topic2\", \"Topic2\", \"Topic2\", \"Topic2\", \"Topic3\", \"Topic3\", \"Topic3\", \"Topic3\", \"Topic3\", \"Topic3\", \"Topic3\", \"Topic3\", \"Topic3\", \"Topic3\", \"Topic3\", \"Topic3\", \"Topic3\", \"Topic3\", \"Topic3\", \"Topic3\", \"Topic3\", \"Topic3\", \"Topic3\", \"Topic3\", \"Topic3\", \"Topic3\", \"Topic3\", \"Topic3\", \"Topic3\", \"Topic3\", \"Topic3\", \"Topic3\", \"Topic3\", \"Topic3\", \"Topic3\", \"Topic3\", \"Topic3\", \"Topic3\", \"Topic3\", \"Topic3\", \"Topic3\", \"Topic3\", \"Topic3\", \"Topic3\", \"Topic3\", \"Topic3\", \"Topic3\", \"Topic4\", \"Topic4\", \"Topic4\", \"Topic4\", \"Topic4\", \"Topic4\", \"Topic4\", \"Topic4\", \"Topic4\", \"Topic4\", \"Topic4\", \"Topic4\", \"Topic4\", \"Topic4\", \"Topic4\", \"Topic4\", \"Topic4\", \"Topic4\", \"Topic4\", \"Topic4\", \"Topic4\", \"Topic4\", \"Topic4\", \"Topic4\", \"Topic4\", \"Topic4\", \"Topic4\", \"Topic4\", \"Topic4\", \"Topic4\", \"Topic4\", \"Topic4\", \"Topic4\", \"Topic4\", \"Topic4\", \"Topic4\", \"Topic4\", \"Topic4\", \"Topic4\", \"Topic4\", \"Topic4\", \"Topic4\", \"Topic4\", \"Topic5\", \"Topic5\", \"Topic5\", \"Topic5\", \"Topic5\", \"Topic5\", \"Topic5\", \"Topic5\", \"Topic5\", \"Topic5\", \"Topic5\", \"Topic5\", \"Topic5\", \"Topic5\", \"Topic5\", \"Topic5\", \"Topic5\", \"Topic5\", \"Topic5\", \"Topic5\", \"Topic5\", \"Topic5\", \"Topic5\", \"Topic5\", \"Topic5\", \"Topic5\", \"Topic5\", \"Topic5\", \"Topic5\", \"Topic5\", \"Topic5\", \"Topic5\", \"Topic5\", \"Topic5\", \"Topic5\", \"Topic5\", \"Topic5\", \"Topic5\", \"Topic5\", \"Topic6\", \"Topic6\", \"Topic6\", \"Topic6\", \"Topic6\", \"Topic6\", \"Topic6\", \"Topic6\", \"Topic6\", \"Topic6\", \"Topic6\", \"Topic6\", \"Topic6\", \"Topic6\", \"Topic6\", \"Topic6\", \"Topic6\", \"Topic6\", \"Topic6\", \"Topic6\", \"Topic6\", \"Topic6\", \"Topic6\", \"Topic6\", \"Topic6\", \"Topic6\", \"Topic6\", \"Topic6\", \"Topic6\", \"Topic6\", \"Topic6\", \"Topic6\", \"Topic6\", \"Topic6\", \"Topic6\", \"Topic6\", \"Topic6\", \"Topic6\", \"Topic6\", \"Topic6\", \"Topic6\", \"Topic6\", \"Topic6\", \"Topic6\", \"Topic6\", \"Topic6\", \"Topic6\", \"Topic6\", \"Topic7\", \"Topic7\", \"Topic7\", \"Topic7\", \"Topic7\", \"Topic7\", \"Topic7\", \"Topic7\", \"Topic7\", \"Topic7\", \"Topic7\", \"Topic7\", \"Topic7\", \"Topic7\", \"Topic7\", \"Topic7\", \"Topic7\", \"Topic7\", \"Topic7\", \"Topic7\", \"Topic7\", \"Topic7\", \"Topic7\", \"Topic7\", \"Topic7\", \"Topic7\", \"Topic7\", \"Topic7\", \"Topic7\", \"Topic7\", \"Topic7\", \"Topic7\", \"Topic7\", \"Topic7\"], \"logprob\": [30.0, 29.0, 28.0, 27.0, 26.0, 25.0, 24.0, 23.0, 22.0, 21.0, 20.0, 19.0, 18.0, 17.0, 16.0, 15.0, 14.0, 13.0, 12.0, 11.0, 10.0, 9.0, 8.0, 7.0, 6.0, 5.0, 4.0, 3.0, 2.0, 1.0, -5.1129, -5.3362, -5.3692, -5.389, -5.5384, -5.5421, -5.5482, -5.6357, -5.772, -5.8557, -5.8744, -5.8772, -5.8836, -5.8982, -5.9036, -5.9294, -5.9342, -5.9825, -6.017, -6.0325, -6.0357, -6.0403, -6.0683, -6.0698, -6.0725, -6.0942, -6.0939, -6.0971, -6.1188, -6.1191, -5.2277, -5.3794, -5.2908, -5.8222, -5.3019, -5.4589, -5.5763, -5.7302, -5.495, -5.5022, -5.7138, -5.6815, -5.7314, -5.7219, -5.751, -5.7396, -5.8521, -5.8685, -5.8754, -5.3982, -5.5692, -5.5921, -5.6957, -5.7222, -5.7279, -5.7303, -5.7351, -5.7606, -5.8166, -5.8168, -5.8249, -5.8253, -5.8504, -5.8495, -5.8739, -5.9068, -5.9065, -5.4417, -5.9874, -6.004, -6.0138, -6.016, -6.0312, -6.04, -6.0458, -6.0455, -6.0481, -6.0597, -6.0674, -5.7081, -5.1077, -5.2704, -5.1634, -5.558, -5.1352, -5.8799, -5.8909, -5.6478, -5.5036, -5.3662, -5.7314, -5.6417, -5.4723, -5.6716, -5.5776, -5.6964, -5.7367, -5.7933, -5.7728, -5.7811, -5.7802, -5.1132, -5.2809, -5.288, -5.356, -5.5344, -5.6187, -5.6848, -5.7012, -5.7638, -5.8407, -5.8489, -5.899, -5.93, -5.9446, -5.9436, -5.9688, -5.9793, -6.0154, -6.0662, -6.0891, -6.0985, -6.1223, -6.1299, -6.1507, -6.1652, -6.1735, -6.1926, -6.1922, -6.1979, -6.2193, -5.5905, -5.7179, -5.2731, -5.8277, -5.7756, -5.4392, -5.7002, -5.74, -5.895, -5.6488, -5.703, -5.9096, -5.8192, -5.0148, -5.1806, -5.3768, -5.4017, -5.4329, -5.5012, -5.6287, -5.6587, -5.6579, -5.6593, -5.6767, -5.7929, -5.8016, -5.825, -5.8275, -5.832, -5.8673, -5.9157, -5.9703, -5.9892, -5.9975, -6.011, -6.0664, -6.0713, -6.0731, -6.0962, -6.1062, -6.1125, -6.1146, -6.1187, -6.1177, -4.5889, -5.9831, -5.481, -4.6706, -5.4022, -4.8732, -5.7639, -5.9109, -5.7708, -5.7713, -5.3616, -5.7901, -4.0883, -4.259, -4.5594, -4.7953, -4.8071, -4.8073, -4.8879, -4.9402, -4.9962, -5.0322, -5.063, -5.0722, -5.1513, -5.3116, -5.3391, -5.4058, -5.4314, -5.4853, -5.5083, -5.5143, -5.5832, -5.5914, -5.6159, -5.6846, -5.6893, -5.7003, -5.7053, -5.7127, -5.736, -5.7306, -5.0794, -4.7054, -5.0392, -5.4357, -5.294, -5.326, -5.5136, -5.4906, -5.5759, -5.0782, -5.2142, -5.5158, -5.6036, -5.6546, -5.7484, -5.7623, -5.7739, -5.7323, -5.7916, -5.798, -5.8125, -5.8323, -5.8656, -5.8972, -5.924, -5.9337, -5.9784, -5.9834, -5.9902, -6.0019, -6.0378, -6.0508, -6.059, -6.0769, -6.0742, -6.0826, -6.0955, -6.1119, -6.1232, -5.3439, -4.9681, -4.4284, -4.4542, -5.368, -5.2033, -5.2549, -4.6208, -5.4675, -5.4911, -5.486, -5.5079, -5.3366, -5.3493, -5.3715, -5.709, -5.7264, -5.8213, -4.7932, -4.8863, -5.0427, -5.0882, -5.2473, -5.2987, -5.3148, -5.3633, -5.3966, -5.4171, -5.4341, -5.4488, -5.4722, -5.5193, -5.544, -5.5578, -5.5675, -5.5982, -5.6204, -5.6298, -5.6341, -5.6434, -5.6546, -5.6909, -5.719, -5.751, -5.759, -5.8264, -5.8338, -5.8326, -4.8335, -4.8197, -5.6812, -5.7329], \"loglift\": [30.0, 29.0, 28.0, 27.0, 26.0, 25.0, 24.0, 23.0, 22.0, 21.0, 20.0, 19.0, 18.0, 17.0, 16.0, 15.0, 14.0, 13.0, 12.0, 11.0, 10.0, 9.0, 8.0, 7.0, 6.0, 5.0, 4.0, 3.0, 2.0, 1.0, 1.1675, 1.167, 1.1669, 1.1668, 1.1663, 1.1663, 1.1663, 1.166, 1.1654, 1.165, 1.165, 1.1649, 1.1649, 1.1648, 1.1648, 1.1647, 1.1647, 1.1644, 1.1642, 1.1641, 1.1641, 1.1641, 1.1639, 1.1639, 1.1639, 1.1638, 1.1638, 1.1638, 1.1636, 1.1636, 1.1544, 1.153, 1.1255, 1.1344, 1.0531, 1.05, 1.0576, 1.0411, 0.9112, 0.8929, 0.9215, 0.6907, 0.7595, 0.7294, 0.7706, 0.6343, 0.8289, 0.8863, 0.7862, 1.2997, 1.299, 1.2989, 1.2985, 1.2984, 1.2983, 1.2983, 1.2983, 1.2982, 1.2979, 1.2979, 1.2979, 1.2979, 1.2977, 1.2977, 1.2976, 1.2974, 1.2974, 1.2971, 1.2969, 1.2968, 1.2968, 1.2968, 1.2967, 1.2966, 1.2966, 1.2966, 1.2965, 1.2965, 1.2964, 1.2948, 1.2687, 1.2594, 1.2303, 1.2322, 1.1704, 1.2648, 1.2672, 1.1986, 1.0951, 1.0024, 1.1738, 1.0878, 0.8465, 0.9814, 0.8257, 0.983, 0.9953, 1.1275, 0.9431, 0.9739, 0.5888, 1.5054, 1.5048, 1.5048, 1.5045, 1.5037, 1.5033, 1.5029, 1.5028, 1.5024, 1.502, 1.5019, 1.5016, 1.5014, 1.5012, 1.5012, 1.5011, 1.501, 1.5007, 1.5003, 1.5001, 1.4999, 1.4998, 1.4998, 1.4996, 1.4995, 1.4994, 1.4992, 1.4992, 1.4991, 1.499, 1.4915, 1.4648, 1.4194, 1.4434, 1.4003, 1.316, 1.1691, 1.1524, 1.213, 0.8601, 0.7657, 0.895, 0.4997, 2.5901, 2.5886, 2.5864, 2.586, 2.5856, 2.5847, 2.5828, 2.5824, 2.5824, 2.5822, 2.582, 2.58, 2.5799, 2.5794, 2.5793, 2.5792, 2.5785, 2.5775, 2.5764, 2.576, 2.5756, 2.5754, 2.574, 2.5739, 2.5738, 2.5734, 2.5731, 2.573, 2.5729, 2.5728, 2.5727, 2.3135, 2.5338, 2.3634, 2.0754, 2.187, 1.7909, 2.362, 2.3933, 2.2098, 2.2004, 1.5382, 2.0578, 2.9196, 2.9187, 2.9167, 2.9147, 2.9146, 2.9146, 2.9138, 2.9132, 2.9126, 2.9121, 2.9118, 2.9116, 2.9106, 2.9082, 2.9078, 2.9066, 2.9061, 2.9051, 2.9047, 2.9045, 2.9032, 2.903, 2.9024, 2.9009, 2.9009, 2.9006, 2.9005, 2.9003, 2.8997, 2.8996, 2.8118, 2.7555, 2.7022, 2.7613, 1.8327, 1.42, 2.1495, 1.4363, 1.8279, 3.1231, 3.1208, 3.1144, 3.1121, 3.1107, 3.108, 3.1073, 3.1072, 3.1069, 3.1066, 3.1065, 3.1059, 3.1053, 3.1042, 3.1027, 3.1021, 3.1017, 3.1, 3.0996, 3.0994, 3.0987, 3.0977, 3.097, 3.0968, 3.096, 3.0958, 3.0956, 3.0952, 3.0946, 3.094, 3.0788, 3.0251, 2.9688, 2.9192, 3.0076, 2.9306, 2.6995, 2.2789, 2.703, 2.6698, 2.4887, 2.23, 1.8656, 1.7587, 1.5211, 2.282, 1.6076, 1.718, 3.6568, 3.655, 3.651, 3.6499, 3.6451, 3.6433, 3.6428, 3.641, 3.6396, 3.639, 3.6383, 3.6377, 3.6367, 3.6347, 3.6334, 3.6334, 3.6329, 3.6315, 3.6304, 3.6297, 3.6296, 3.6288, 3.6283, 3.6269, 3.6253, 3.6238, 3.6231, 3.6196, 3.6193, 3.6191, 3.5718, 3.5306, 3.4682, 3.3432]}, \"token.table\": {\"Topic\": [6, 5, 5, 6, 1, 2, 6, 1, 2, 6, 1, 2, 7, 4, 1, 3, 6, 2, 3, 3, 3, 7, 2, 3, 3, 5, 6, 3, 3, 7, 5, 1, 2, 3, 7, 4, 7, 2, 6, 1, 6, 5, 1, 2, 3, 1, 2, 1, 3, 1, 7, 3, 5, 3, 2, 4, 4, 2, 3, 5, 3, 6, 2, 4, 3, 4, 2, 1, 2, 3, 2, 4, 1, 2, 3, 4, 7, 6, 4, 4, 1, 2, 1, 2, 1, 2, 2, 3, 1, 3, 5, 3, 1, 5, 3, 3, 6, 2, 2, 1, 2, 3, 1, 2, 3, 7, 1, 3, 5, 3, 5, 5, 4, 1, 5, 3, 4, 4, 5, 2, 2, 1, 2, 1, 3, 2, 1, 2, 3, 3, 3, 7, 2, 5, 3, 1, 2, 5, 3, 4, 6, 3, 1, 2, 7, 3, 7, 4, 1, 1, 6, 2, 3, 4, 1, 7, 2, 1, 3, 4, 6, 5, 3, 4, 5, 4, 6, 6, 7, 2, 3, 1, 2, 6, 7, 5, 3, 4, 2, 5, 2, 3, 4, 6, 5, 2, 1, 2, 3, 7, 7, 2, 1, 2, 3, 1, 2, 3, 7, 4, 1, 3, 1, 6, 6, 3, 6, 6, 2, 3, 6, 6, 5, 1, 2, 3, 6, 4, 2, 4, 5, 2, 6, 2, 5, 4, 7, 1, 1, 1, 2, 1, 2, 3, 2, 4, 1, 2, 3, 1, 7, 4, 6, 6, 6, 7, 4, 6, 7, 1, 5, 6, 4, 6, 1, 2, 3, 6, 1, 2, 1, 2, 3, 5, 1, 2, 3, 5, 6, 3, 5, 1, 7, 2, 3, 4, 6, 3, 1, 2, 6, 5, 3, 5, 7, 2, 3, 2, 3, 2, 3, 1, 5, 1, 3, 2, 3, 2, 1, 4, 6, 5, 6, 6, 1, 1, 3, 4, 1, 2, 1, 6, 3, 1, 2, 2, 3, 1, 2, 1, 3, 3, 7, 4, 6, 3, 6, 5, 1, 2, 3, 7, 2, 5, 3, 4, 2, 1, 1, 3, 1, 3, 6, 4, 1, 2, 3, 4, 1, 7, 3, 7, 2, 3, 7, 4, 1, 2, 5, 4, 1, 1, 2, 1, 3, 1, 3, 6, 4, 2, 7, 1, 2, 3, 6, 2, 3, 1, 6, 7, 4, 1, 4, 5, 1, 2, 1, 4, 4, 2, 1, 1, 4, 4, 7, 7, 1, 1, 3, 2, 5, 4, 6, 4, 3, 1, 2, 3, 5, 4, 5, 4, 6, 6, 6, 1, 3, 4, 5, 2, 4, 2, 7, 4, 4, 7, 1, 3, 1, 2, 3], \"Freq\": [0.9814860752663874, 0.987552269027713, 0.9905317590293476, 0.9419456953127746, 0.09765473410364382, 0.9005936589558264, 0.9662188504474093, 0.15779438975264848, 0.8415700786807919, 0.9634126173547812, 0.5851692288099151, 0.41266269314918863, 0.9704559724168842, 0.989788319417346, 0.9961064639835671, 0.7470658872822583, 0.2537204900203896, 0.9633402056839718, 0.029641237097968363, 0.9956209691841117, 0.9919066149836028, 0.9547175580309084, 0.037973995900689714, 0.9569446966973808, 0.18588786717187467, 0.7966622878794629, 0.9714071301301794, 0.9959111591472232, 0.9919740250842808, 0.9491913101007866, 0.9741369886329942, 0.1190031953735975, 0.4016357843858916, 0.47601278149439, 0.962042389824071, 0.9736610225493973, 0.9856313228914703, 0.992102478726024, 0.9686280654571229, 0.10248157295952785, 0.8881736323159081, 0.9907960048511546, 0.06776313982123099, 0.8131576778547718, 0.11858549468715422, 0.8865168779764885, 0.11226632952540683, 0.9965732242217812, 0.9892346282919878, 0.9971816178360796, 0.9818829950053319, 0.9880288433844626, 0.9889134261060638, 0.9907684315513576, 0.9928681396151625, 0.9603633160410056, 0.9945247952106573, 0.6347460489200697, 0.028421464877018045, 0.33158375689854386, 0.9960929827333145, 0.9821351745037558, 0.9914381575522113, 0.9839650172248131, 0.20605927245013847, 0.7948000508791055, 0.992109792251225, 0.6432485253159337, 0.3508628319905093, 0.007309642333135611, 0.9967934982809353, 0.9809548099415909, 0.998305634950766, 0.9945564083642123, 0.051580593163357946, 0.051580593163357946, 0.9026603803587641, 0.9850019091305771, 0.976100117370158, 0.9858550781989268, 0.6615514832188872, 0.334577761627943, 0.2772909872232348, 0.7179855919173044, 0.7819522614095278, 0.21525652139925203, 0.4761634945954298, 0.5226184696779107, 0.7644426128109111, 0.005880327790853162, 0.22345245605242017, 0.9899369625311165, 0.993414147258597, 0.981765132897372, 0.9968133581916928, 0.9917938954706453, 0.9545872439410951, 0.9931994594408052, 0.9974684824003249, 0.617909932524015, 0.2431121045996125, 0.13843883734144602, 0.23889551630142117, 0.7402396279762345, 0.016823627908550787, 0.9559669076899281, 0.6103648604843065, 0.05026534145164877, 0.33749586403249887, 0.14659281534897114, 0.858615061329688, 0.9870293216852497, 0.9788434606513898, 0.9938798086404143, 0.987871036804203, 0.1631654944904594, 0.8158274724522969, 0.9800304331016938, 0.9975177750795959, 0.9920045536648447, 0.9922199094618667, 0.27275187200471684, 0.7243574305699038, 0.9631577579113451, 0.030287979808532865, 0.9942705613310433, 0.7127846163795345, 0.225331910984498, 0.06438054599557086, 0.9933360458082272, 0.9923381689222115, 0.9709839688288353, 0.9976827026208452, 0.9789285940033845, 0.9972915078628, 0.9829041699593218, 0.01585329306386003, 0.9893720278408363, 0.2289113224396317, 0.3433669836594475, 0.4234859465133186, 0.9940045157493251, 0.27086128018825884, 0.7253573266058456, 0.9381193836388975, 0.25220378144937916, 0.7061705880582616, 0.9852217149452424, 0.9936035263550115, 0.5954171322442467, 0.3969447548294978, 0.15492031803789047, 0.0918046329113425, 0.7516504319616167, 0.994690448872743, 0.9519686298473483, 0.9959780834764386, 0.9969632634894087, 0.19504511487415188, 0.7801804594966075, 0.9293334884761434, 0.9880830800277455, 0.2823916685615895, 0.24555797266225174, 0.4665601480582783, 0.19298070863651898, 0.7994915072084358, 0.9497403160122019, 0.9713038894714275, 0.9912532552875009, 0.9979666489103131, 0.4090032609627268, 0.15337622286102254, 0.42604506350284044, 0.9610794125749051, 0.9813505324714324, 0.9921966099831934, 0.9962265670960331, 0.9944802119785275, 0.9878393168531752, 0.5568244241492067, 0.22727527516294152, 0.017045645637220615, 0.1988658657675738, 0.9855347684040632, 0.9924858846005448, 0.16411749141190882, 0.8061065019349639, 0.02896191024916038, 0.9234005992889701, 0.9635243420055948, 0.9935622852342452, 0.26016679524093317, 0.19772676438310918, 0.5411469341011409, 0.17069553121375033, 0.6200776440009707, 0.2055313539104341, 0.9693292597408542, 0.9852100456186739, 0.013732869523451551, 0.9819001709267858, 0.4694559992922693, 0.5197548563592982, 0.9477381841045828, 0.3635684477291892, 0.6261456599780482, 0.9710381996533743, 0.9567166311721689, 0.03953374508975904, 0.9611659423174087, 0.9885144219173885, 0.972148932025554, 0.9907442507719411, 0.4447586868653716, 0.30373763981049773, 0.2386510027082482, 0.9856560308899754, 0.41353955881324994, 0.5760015283470268, 0.9947202770477694, 0.9936196113946723, 0.968784822209328, 0.9984765628740842, 0.9893388522130722, 0.9773547106587865, 0.9304169530714131, 0.9933401831996191, 0.993605308558378, 0.8807604701171192, 0.11575709035824995, 0.9917029347310659, 0.9946738928363591, 0.9897126864722495, 0.9930689432348225, 0.9613884943864631, 0.6704515094121266, 0.31758229393205994, 0.007841538121779257, 0.9984946278150365, 0.9393989914661529, 0.05248564992560945, 0.9447416986609701, 0.9772028802091073, 0.9717831849914228, 0.9489734672556907, 0.9815376991365654, 0.9833312844755393, 0.9708949139140206, 0.9901051683043175, 0.992176394339449, 0.9551935054009747, 0.34501198625302504, 0.6407365458984751, 0.058649585829058486, 0.9314934219909289, 0.010349926911010322, 0.9605789807336067, 0.7524916962334164, 0.24257955996998293, 0.2856949171995347, 0.6999525471388601, 0.014284745859976735, 0.9909480291342188, 0.8895728241017273, 0.09957904747407395, 0.009957904747407395, 0.1769523388891027, 0.8061162104948011, 0.9920494176887964, 0.9868010046150544, 0.9983080406257551, 0.9735642118960037, 0.007743615351729326, 0.68918176630391, 0.02323084605518798, 0.27877015266225574, 0.9915510351048828, 0.11508717568517025, 0.8804168939915524, 0.9856545161800465, 0.9840588586419043, 0.9921488685898633, 0.9618492550055828, 0.9815318358125537, 0.05807375399089806, 0.9374763144244972, 0.9981841224646634, 0.9851370337348402, 0.966425755448733, 0.030518708066802094, 0.15046086864237995, 0.8425808643973278, 0.9903748852447897, 0.9855192985394324, 0.9651510512897329, 0.036558751942792914, 0.9977910308986774, 0.9961081407209965, 0.1505699133346056, 0.8469557625071564, 0.989629294747491, 0.9615648214835856, 0.976924585493417, 0.998032337243669, 0.8948879829959999, 0.105280939176, 0.9683516310280894, 0.9855137940601085, 0.013640329329551676, 0.991026551632175, 0.9649825829954508, 0.9975803161138561, 0.2613035676128996, 0.7355211532807544, 0.6338589260323162, 0.36494907862466686, 0.9974753874222789, 0.9941791709135387, 0.9562657324006626, 0.04234387006940204, 0.996396165420026, 0.9859214622161233, 0.34669068351943994, 0.6525942278012986, 0.7774541260325161, 0.21203294346341348, 0.9933690555399989, 0.772087179739316, 0.12227625018495954, 0.10480821444425104, 0.9548488809806956, 0.9929502656062809, 0.9950081381387753, 0.05766832368799601, 0.9226931790079361, 0.9960940255492595, 0.9981074703555426, 0.2831106810377979, 0.7105522975066301, 0.08296994851040314, 0.8975839884307248, 0.015085445183709661, 0.9741583429131505, 0.5082589837562271, 0.4880632625473705, 0.3176045635665117, 0.668641186455814, 0.9971708936827233, 0.9684687383283663, 0.9930505063017908, 0.9750414039148761, 0.9932714263586598, 0.12204547975974758, 0.8543183583182331, 0.9791368334259248, 0.006344200963802, 0.9896953503531121, 0.9882301942678328, 0.9834270249997665, 0.9964015858251736, 0.004871660165679379, 0.9938186737985932, 0.7565698023807416, 0.23837130759941172, 0.9936971829644228, 0.9855272524799696, 0.9754193157578351, 0.9891859455976812, 0.16282542706192255, 0.8141271353096128, 0.13633923378819626, 0.14770083660387928, 0.6987385731645059, 0.011361602815683023, 0.1733437667956314, 0.8270974015677269, 0.9985750123047699, 0.9524161844562034, 0.9635262173740864, 0.9851236624288574, 0.996484715307606, 0.9836557075715876, 0.9687733586046697, 0.06667375588009739, 0.9334325823213634, 0.551603418925597, 0.44761261043962386, 0.9575350916815321, 0.9937534867434467, 0.9904908849114171, 0.33070995298914324, 0.6614199059782865, 0.9821642703150557, 0.941031370692252, 0.9589421960143173, 0.9934211396840055, 0.08372630852833418, 0.9163379322267685, 0.09254145017223087, 0.8945673516648983, 0.10014328099109462, 0.876253708672078, 0.9668219796141976, 0.9907332887877013, 0.68107551310589, 0.24356342852793417, 0.07216694178605457, 0.987159056151518, 0.9803034355586093, 0.9769339334288211, 0.9847541624474359, 0.9447158843079467, 0.9596516108986783, 0.9847181915792895, 0.17666764300137683, 0.009814869055632046, 0.5937995778657388, 0.22083455375172104, 0.3035776661418336, 0.6746170358707413, 0.9911977426750539, 0.9654723348831893, 0.9965869817220694, 0.993220705497635, 0.9695967220398398, 0.9957538090269215, 0.9860125525735948, 0.12319595694738862, 0.8750071813955551, 0.9933818820744114], \"Term\": [\"ablation\", \"absorption\", \"abstract\", \"academic\", \"accord\", \"accord\", \"accumulation\", \"accurate\", \"accurate\", \"acetone\", \"achieve\", \"achieve\", \"acs\", \"activate\", \"active\", \"activity\", \"activity\", \"address\", \"address\", \"adolescent\", \"age\", \"allows\", \"among\", \"among\", \"amplitude\", \"amplitude\", \"animal\", \"associate\", \"association\", \"attenuate\", \"basin\", \"behavior\", \"behavior\", \"behavior\", \"betacatenin\", \"bind\", \"bioprosthetic\", \"build\", \"ca\", \"cancer\", \"cancer\", \"capture\", \"case\", \"case\", \"case\", \"characteristic\", \"characteristic\", \"characterize\", \"child\", \"circuit\", \"clarify\", \"class\", \"clear\", \"clinical\", \"cognitive\", \"column\", \"combustion\", \"communication\", \"communication\", \"communication\", \"community\", \"completely\", \"complex\", \"compound\", \"concentration\", \"concentration\", \"concept\", \"condition\", \"condition\", \"condition\", \"configuration\", \"consumption\", \"controller\", \"cost\", \"crop\", \"crop\", \"crop\", \"culture\", \"cytokine\", \"db\", \"demonstrate\", \"demonstrate\", \"describe\", \"describe\", \"determine\", \"determine\", \"development\", \"development\", \"device\", \"device\", \"device\", \"diagnosis\", \"digital\", \"discovery\", \"disease\", \"disorder\", \"dna\", \"domain\", \"drive\", \"due\", \"due\", \"due\", \"dynamic\", \"dynamic\", \"dynamic\", \"edge\", \"electrical\", \"electrical\", \"electrical\", \"electricity\", \"electricity\", \"electrode\", \"electronic\", \"element\", \"emerge\", \"emission\", \"emission\", \"encode\", \"engine\", \"engineering\", \"environment\", \"error\", \"error\", \"establish\", \"establish\", \"estimate\", \"evaluate\", \"evaluate\", \"evaluate\", \"evidence\", \"examine\", \"excess\", \"exist\", \"exogenous\", \"experience\", \"experimental\", \"experimental\", \"explicit\", \"expression\", \"expression\", \"expression\", \"family\", \"feature\", \"feature\", \"fiber\", \"fibrosis\", \"fibrosis\", \"film\", \"filter\", \"finding\", \"finding\", \"flow\", \"flow\", \"flow\", \"force\", \"former\", \"framework\", \"frequency\", \"fuel\", \"fuel\", \"fusion\", \"gap\", \"gas\", \"gas\", \"gas\", \"gene\", \"gene\", \"geosynthetic\", \"gi\", \"goal\", \"group\", \"growth\", \"growth\", \"growth\", \"hardness\", \"hdpp\", \"health\", \"heat\", \"help\", \"hip\", \"human\", \"human\", \"human\", \"human\", \"hybrid\", \"ie\", \"image\", \"image\", \"image\", \"immunohistochemistry\", \"impair\", \"implementation\", \"important\", \"important\", \"important\", \"improve\", \"improve\", \"improve\", \"increased\", \"independent\", \"individual\", \"individual\", \"induce\", \"induce\", \"induction\", \"infection\", \"infection\", \"inflammation\", \"information\", \"information\", \"inhibition\", \"inhibitor\", \"innovative\", \"input\", \"involve\", \"involve\", \"involve\", \"iron\", \"isolate\", \"isolate\", \"joint\", \"key\", \"kinase\", \"learn\", \"leave\", \"leukemia\", \"lie\", \"line\", \"linear\", \"load\", \"load\", \"loss\", \"machine\", \"male\", \"many\", \"mass_spectrometry\", \"material\", \"material\", \"material\", \"measurement\", \"median\", \"metabolic\", \"metabolic\", \"metabolism\", \"metabolite\", \"microfluidic\", \"mir\", \"mirnas\", \"mitochondrial\", \"mm\", \"module\", \"molecular\", \"mouse\", \"mouse\", \"network\", \"network\", \"network\", \"nmolminmg\", \"novel\", \"novel\", \"number\", \"number\", \"number\", \"oa\", \"obtain\", \"obtain\", \"obtain\", \"occlusion\", \"occlusion\", \"offer\", \"oil\", \"output\", \"outside\", \"p\", \"p\", \"p\", \"p\", \"parent\", \"part\", \"part\", \"pathway\", \"pc\", \"people\", \"permanent_magnet\", \"popular\", \"practice\", \"practice\", \"prediction\", \"primary\", \"problem\", \"problem\", \"procedure\", \"procedure\", \"produce\", \"production\", \"program\", \"program\", \"project\", \"property\", \"protein\", \"protein\", \"protocol\", \"pvat\", \"radical\", \"range\", \"rate\", \"rate\", \"receptor\", \"reduce\", \"reduce\", \"region\", \"regional\", \"report\", \"require\", \"require\", \"research\", \"research\", \"resistance\", \"resource\", \"response\", \"response\", \"risk\", \"risk_factors\", \"rna\", \"rna\", \"role\", \"role\", \"run\", \"sample\", \"sample\", \"sample\", \"satisfactory\", \"scale\", \"secure\", \"serious\", \"serious\", \"set\", \"signal\", \"significant\", \"significant\", \"significantly\", \"significantly\", \"significantly\", \"similarly\", \"simulation\", \"simulation\", \"skin\", \"skin\", \"small\", \"smoke\", \"social\", \"soft\", \"software\", \"soil\", \"soil\", \"solar\", \"source\", \"source\", \"spread\", \"square\", \"strain\", \"strategy\", \"strategy\", \"stress\", \"stress\", \"structural\", \"student\", \"substance_use\", \"substrate\", \"successful\", \"successful\", \"suggest\", \"suggest\", \"suggest\", \"suggest\", \"support\", \"support\", \"surface\", \"survival\", \"suspension_bridge\", \"sustainable\", \"symptom\", \"synthesize\", \"systematically\", \"technology\", \"technology\", \"temperature\", \"temperature\", \"th\", \"theory\", \"therapy\", \"thermal\", \"thermal\", \"thermodynamic\", \"thrombosis\", \"tl\", \"total\", \"treatment\", \"treatment\", \"trend\", \"trend\", \"tumor\", \"tumor\", \"typical\", \"understand\", \"value\", \"value\", \"value\", \"valve\", \"variability\", \"vegetation\", \"velocity\", \"viral\", \"virus\", \"viscosity\", \"water\", \"water\", \"water\", \"water\", \"wave\", \"wave\", \"way\", \"wf\", \"wind\", \"wind_turbine\", \"wireless_sensor\", \"without\", \"woman\", \"work\", \"work\", \"year\"]}, \"R\": 30, \"lambda.step\": 0.01, \"plot.opts\": {\"xlab\": \"PC1\", \"ylab\": \"PC2\"}, \"topic.order\": [6, 3, 7, 5, 1, 4, 2]};\n",
       "\n",
       "function LDAvis_load_lib(url, callback){\n",
       "  var s = document.createElement('script');\n",
       "  s.src = url;\n",
       "  s.async = true;\n",
       "  s.onreadystatechange = s.onload = callback;\n",
       "  s.onerror = function(){console.warn(\"failed to load library \" + url);};\n",
       "  document.getElementsByTagName(\"head\")[0].appendChild(s);\n",
       "}\n",
       "\n",
       "if(typeof(LDAvis) !== \"undefined\"){\n",
       "   // already loaded: just create the visualization\n",
       "   !function(LDAvis){\n",
       "       new LDAvis(\"#\" + \"ldavis_el57201399024174337605963963955\", ldavis_el57201399024174337605963963955_data);\n",
       "   }(LDAvis);\n",
       "}else if(typeof define === \"function\" && define.amd){\n",
       "   // require.js is available: use it to load d3/LDAvis\n",
       "   require.config({paths: {d3: \"https://d3js.org/d3.v5\"}});\n",
       "   require([\"d3\"], function(d3){\n",
       "      window.d3 = d3;\n",
       "      LDAvis_load_lib(\"https://cdn.jsdelivr.net/gh/bmabey/pyLDAvis@3.3.1/pyLDAvis/js/ldavis.v3.0.0.js\", function(){\n",
       "        new LDAvis(\"#\" + \"ldavis_el57201399024174337605963963955\", ldavis_el57201399024174337605963963955_data);\n",
       "      });\n",
       "    });\n",
       "}else{\n",
       "    // require.js not available: dynamically load d3 & LDAvis\n",
       "    LDAvis_load_lib(\"https://d3js.org/d3.v5.js\", function(){\n",
       "         LDAvis_load_lib(\"https://cdn.jsdelivr.net/gh/bmabey/pyLDAvis@3.3.1/pyLDAvis/js/ldavis.v3.0.0.js\", function(){\n",
       "                 new LDAvis(\"#\" + \"ldavis_el57201399024174337605963963955\", ldavis_el57201399024174337605963963955_data);\n",
       "            })\n",
       "         });\n",
       "}\n",
       "</script>"
      ],
      "text/plain": [
       "PreparedData(topic_coordinates=              x         y  topics  cluster       Freq\n",
       "topic                                                \n",
       "5      0.243856 -0.167615       1        1  31.043976\n",
       "2      0.257494 -0.037497       2        1  27.168857\n",
       "6      0.096970  0.326007       3        1  22.123162\n",
       "4     -0.166455 -0.046524       4        1   7.435916\n",
       "0     -0.154199 -0.058446       5        1   5.369535\n",
       "3     -0.145501 -0.004102       6        1   4.331477\n",
       "1     -0.132166 -0.011823       7        1   2.527078, topic_info=             Term        Freq       Total Category  logprob  loglift\n",
       "704         joint  156.000000  156.000000  Default  30.0000  30.0000\n",
       "896        engine  132.000000  132.000000  Default  29.0000  29.0000\n",
       "1286  temperature  221.000000  221.000000  Default  28.0000  28.0000\n",
       "243         water  203.000000  203.000000  Default  27.0000  27.0000\n",
       "412          flow  174.000000  174.000000  Default  26.0000  26.0000\n",
       "...           ...         ...         ...      ...      ...      ...\n",
       "1921       allows   12.836965   13.616593   Topic7  -5.8326   3.6191\n",
       "887          crop   34.863119   38.774273   Topic7  -4.8335   3.5718\n",
       "4288         soil   35.349667   40.968334   Topic7  -4.8197   3.5306\n",
       "2945   successful   14.935377   18.424641   Topic7  -5.6812   3.4682\n",
       "897      fibrosis   14.183531   19.825238   Topic7  -5.7329   3.3432\n",
       "\n",
       "[338 rows x 6 columns], token_table=      Topic      Freq        Term\n",
       "term                             \n",
       "2678      6  0.981486    ablation\n",
       "664       5  0.987552  absorption\n",
       "153       5  0.990532    abstract\n",
       "4965      6  0.941946    academic\n",
       "389       1  0.097655      accord\n",
       "...     ...       ...         ...\n",
       "607       1  0.995754     without\n",
       "76        3  0.986013       woman\n",
       "460       1  0.123196        work\n",
       "460       2  0.875007        work\n",
       "331       3  0.993382        year\n",
       "\n",
       "[431 rows x 3 columns], R=30, lambda_step=0.01, plot_opts={'xlab': 'PC1', 'ylab': 'PC2'}, topic_order=[6, 3, 7, 5, 1, 4, 2])"
      ]
     },
     "execution_count": 96,
     "metadata": {},
     "output_type": "execute_result"
    }
   ],
   "source": [
    "vis_ldamodel_mock = pyLDAvis.gensim_models.prepare(mockdata_lda_model,mock_corpus,mockdata_word2id)\n",
    "vis_ldamodel_mock"
   ]
  },
  {
   "cell_type": "code",
   "execution_count": 103,
   "metadata": {},
   "outputs": [
    {
     "name": "stdout",
     "output_type": "stream",
     "text": [
      "Perplexity:  -8.990820876485346\n",
      "UMass Coherence Score:  -4.134717354256426\n",
      "C_v Coherence Score:  0.5186172903544527\n"
     ]
    }
   ],
   "source": [
    "# A lower perplexity score indicates better generalization performance.\n",
    "mock_perplexity = mockdata_lda_model.log_perplexity(mock_corpus)\n",
    "print('Perplexity: ', mock_perplexity )\n",
    "\n",
    "# get coherence value u_mass\n",
    "# probability = the number of documents in which the word occurs divided by the total number of documents\"\n",
    "mock_cm = CoherenceModel(model=mockdata_lda_model, corpus=mock_corpus, dictionary = mockdata_word2id,coherence='u_mass')\n",
    "mock_coherence_umass = mock_cm.get_coherence() \n",
    "print('UMass Coherence Score: ', mock_coherence_umass)\n",
    "\n",
    "# Compute Coherence Score using c_v\n",
    "# CV measure is based on the Pointwise Mutual Information score\n",
    "mock_coherence_model_lda = CoherenceModel(model=mockdata_lda_model, texts=documents, dictionary=mockdata_word2id, coherence=\"c_v\")\n",
    "mock_coherence_cv = mock_coherence_model_lda.get_coherence()\n",
    "print('C_v Coherence Score: ', mock_coherence_cv)"
   ]
  },
  {
   "cell_type": "code",
   "execution_count": 107,
   "metadata": {},
   "outputs": [
    {
     "name": "stdout",
     "output_type": "stream",
     "text": [
      "overall accuracy: 0.7485\n",
      "accuracy by domain Domain\n",
      "CS              0.789625\n",
      "Civil           0.384615\n",
      "ECE             0.890671\n",
      "MAE             0.421769\n",
      "Medical         0.125000\n",
      "Psychology      0.887029\n",
      "biochemistry    0.233010\n",
      "dtype: float64\n"
     ]
    },
    {
     "data": {
      "text/html": [
       "<div>\n",
       "<style scoped>\n",
       "    .dataframe tbody tr th:only-of-type {\n",
       "        vertical-align: middle;\n",
       "    }\n",
       "\n",
       "    .dataframe tbody tr th {\n",
       "        vertical-align: top;\n",
       "    }\n",
       "\n",
       "    .dataframe thead th {\n",
       "        text-align: right;\n",
       "    }\n",
       "</style>\n",
       "<table border=\"1\" class=\"dataframe\">\n",
       "  <thead>\n",
       "    <tr style=\"text-align: right;\">\n",
       "      <th></th>\n",
       "      <th>Domain</th>\n",
       "      <th>actual</th>\n",
       "      <th>predicted</th>\n",
       "      <th>correct</th>\n",
       "    </tr>\n",
       "  </thead>\n",
       "  <tbody>\n",
       "    <tr>\n",
       "      <th>0</th>\n",
       "      <td>Psychology</td>\n",
       "      <td>6</td>\n",
       "      <td>6</td>\n",
       "      <td>True</td>\n",
       "    </tr>\n",
       "    <tr>\n",
       "      <th>1</th>\n",
       "      <td>Psychology</td>\n",
       "      <td>6</td>\n",
       "      <td>6</td>\n",
       "      <td>True</td>\n",
       "    </tr>\n",
       "    <tr>\n",
       "      <th>2</th>\n",
       "      <td>CS</td>\n",
       "      <td>2</td>\n",
       "      <td>2</td>\n",
       "      <td>True</td>\n",
       "    </tr>\n",
       "    <tr>\n",
       "      <th>3</th>\n",
       "      <td>CS</td>\n",
       "      <td>2</td>\n",
       "      <td>4</td>\n",
       "      <td>False</td>\n",
       "    </tr>\n",
       "    <tr>\n",
       "      <th>4</th>\n",
       "      <td>Psychology</td>\n",
       "      <td>6</td>\n",
       "      <td>6</td>\n",
       "      <td>True</td>\n",
       "    </tr>\n",
       "  </tbody>\n",
       "</table>\n",
       "</div>"
      ],
      "text/plain": [
       "       Domain  actual  predicted  correct\n",
       "0  Psychology       6          6     True\n",
       "1  Psychology       6          6     True\n",
       "2          CS       2          2     True\n",
       "3          CS       2          4    False\n",
       "4  Psychology       6          6     True"
      ]
     },
     "execution_count": 107,
     "metadata": {},
     "output_type": "execute_result"
    }
   ],
   "source": [
    "def get_weight_each_topic(i,t_predict):\n",
    "    find = t_predict[list(map(lambda topic: i in topic, t_predict))]\n",
    "    if len(find)==0:\n",
    "        return 0.0\n",
    "    else:\n",
    "        return find[0][1]\n",
    "\n",
    "def get_topic_dist(model,text):\n",
    "    t_predict = np.array(model[text][0])\n",
    "    topic_dist_d = list(map(lambda i:get_weight_each_topic(i,t_predict),range(7)))\n",
    "    return topic_dist_d\n",
    "\n",
    "# accuracy on the training dataset\n",
    "topic_weight_matrix = list(map(lambda text_i:get_topic_dist(mockdata_lda_model,text_i),mock_corpus))\n",
    "dominant_topic = np.argmax(topic_weight_matrix,axis=1)\n",
    "mock_data['Domain_No'] = mock_data.Domain.map(topic2numMock)\n",
    "predict_compare = pd.DataFrame({\"Domain\": mock_data.Domain[:2000],\"actual\": mock_data.Domain_No[:2000],\"predicted\":dominant_topic})\n",
    "predict_compare[\"correct\"] = np.equal(predict_compare.actual,predict_compare.predicted)\n",
    "accuracy = np.sum(predict_compare['correct'])/len(predict_compare)\n",
    "print(\"overall accuracy:\",accuracy)\n",
    "# compute accuracy by domain\n",
    "accuracy_by_domain = predict_compare.groupby('Domain').apply(lambda grp: np.sum(grp.correct)/len(grp))\n",
    "print(\"accuracy by domain\", accuracy_by_domain)\n",
    "predict_compare.head()"
   ]
  },
  {
   "cell_type": "code",
   "execution_count": 108,
   "metadata": {},
   "outputs": [
    {
     "name": "stdout",
     "output_type": "stream",
     "text": [
      "0.732\n",
      "accuracy by domain Domain\n",
      "CS              0.783439\n",
      "Civil           0.166667\n",
      "ECE             0.937824\n",
      "MAE             0.243902\n",
      "Medical         0.000000\n",
      "Psychology      0.959184\n",
      "biochemistry    0.062500\n",
      "dtype: float64\n"
     ]
    },
    {
     "name": "stderr",
     "output_type": "stream",
     "text": [
      "/tmp/ipykernel_5720/1188854384.py:8: SettingWithCopyWarning: \n",
      "A value is trying to be set on a copy of a slice from a DataFrame.\n",
      "Try using .loc[row_indexer,col_indexer] = value instead\n",
      "\n",
      "See the caveats in the documentation: https://pandas.pydata.org/pandas-docs/stable/user_guide/indexing.html#returning-a-view-versus-a-copy\n",
      "  mock_test['Domain_No'] = mock_test.Domain.map(topic2numMock)\n"
     ]
    },
    {
     "data": {
      "text/html": [
       "<div>\n",
       "<style scoped>\n",
       "    .dataframe tbody tr th:only-of-type {\n",
       "        vertical-align: middle;\n",
       "    }\n",
       "\n",
       "    .dataframe tbody tr th {\n",
       "        vertical-align: top;\n",
       "    }\n",
       "\n",
       "    .dataframe thead th {\n",
       "        text-align: right;\n",
       "    }\n",
       "</style>\n",
       "<table border=\"1\" class=\"dataframe\">\n",
       "  <thead>\n",
       "    <tr style=\"text-align: right;\">\n",
       "      <th></th>\n",
       "      <th>Domain</th>\n",
       "      <th>actual</th>\n",
       "      <th>predicted</th>\n",
       "      <th>correct</th>\n",
       "    </tr>\n",
       "  </thead>\n",
       "  <tbody>\n",
       "    <tr>\n",
       "      <th>2000</th>\n",
       "      <td>ECE</td>\n",
       "      <td>5</td>\n",
       "      <td>5</td>\n",
       "      <td>True</td>\n",
       "    </tr>\n",
       "    <tr>\n",
       "      <th>2001</th>\n",
       "      <td>ECE</td>\n",
       "      <td>5</td>\n",
       "      <td>5</td>\n",
       "      <td>True</td>\n",
       "    </tr>\n",
       "    <tr>\n",
       "      <th>2002</th>\n",
       "      <td>CS</td>\n",
       "      <td>2</td>\n",
       "      <td>2</td>\n",
       "      <td>True</td>\n",
       "    </tr>\n",
       "    <tr>\n",
       "      <th>2003</th>\n",
       "      <td>CS</td>\n",
       "      <td>2</td>\n",
       "      <td>2</td>\n",
       "      <td>True</td>\n",
       "    </tr>\n",
       "    <tr>\n",
       "      <th>2004</th>\n",
       "      <td>MAE</td>\n",
       "      <td>0</td>\n",
       "      <td>5</td>\n",
       "      <td>False</td>\n",
       "    </tr>\n",
       "  </tbody>\n",
       "</table>\n",
       "</div>"
      ],
      "text/plain": [
       "     Domain  actual  predicted  correct\n",
       "2000    ECE       5          5     True\n",
       "2001    ECE       5          5     True\n",
       "2002     CS       2          2     True\n",
       "2003     CS       2          2     True\n",
       "2004    MAE       0          5    False"
      ]
     },
     "execution_count": 108,
     "metadata": {},
     "output_type": "execute_result"
    }
   ],
   "source": [
    "#test on 2000-2500 in te mock data\n",
    "mock_test = mock_data[2000:2500]\n",
    "documents = list(map(lambda abstract:abstract.split(\" \"),mock_test.Abstract))\n",
    "mock_corpus_test = [mockdata_word2id .doc2bow(text) for text in documents]\n",
    "\n",
    "topic_weight_matrix_test = list(map(lambda text_i:get_topic_dist(mockdata_lda_model,text_i),mock_corpus_test))\n",
    "dominant_topic_test = np.argmax(topic_weight_matrix_test,axis=1)\n",
    "mock_test['Domain_No'] = mock_test.Domain.map(topic2numMock)\n",
    "predict_compare_test = pd.DataFrame({\"Domain\":mock_test.Domain,\"actual\": mock_test.Domain_No,\"predicted\":dominant_topic_test})\n",
    "predict_compare_test[\"correct\"] = np.equal(predict_compare_test.actual,predict_compare_test.predicted)\n",
    "test_accuracy = np.sum(predict_compare_test['correct'])/len(predict_compare_test)\n",
    "print(test_accuracy)\n",
    "# compute accuracy by domain\n",
    "accuracy_by_domain = predict_compare_test.groupby('Domain').apply(lambda grp: np.sum(grp.correct)/len(grp))\n",
    "print(\"accuracy by domain\", accuracy_by_domain)\n",
    "predict_compare_test.head()"
   ]
  },
  {
   "cell_type": "code",
   "execution_count": null,
   "metadata": {},
   "outputs": [],
   "source": []
  },
  {
   "cell_type": "markdown",
   "metadata": {},
   "source": [
    "# Ignore\n",
    "#### Naive Bayes (assume each text only has one topic, will try this and see how bad)\n",
    "$$\n",
    "\\begin{align}\n",
    "topic=&argmax_{topic_i} p(words|topic_i)p(topic_i)\\\\\n",
    "=&argmax_{topic_i} p(word1|topic_i)p(word2|topic_i)...|p(topic_i)\\\\\n",
    "=&argmax_{topic_i} \\sum_{word_j} log p(word_j|topic_i)|p(topic_i)\n",
    "\\end{align}\n",
    "$$\n",
    "\n",
    "#### Better approach\n",
    "Since we used LDA, probably better finding topic mixture for each given document. + One research paper can include multiple domains <br>\n",
    "Get the topic assignment for every word in the new document -> the distribution of topics in that document. <br>\n",
    "For each document:\n",
    "we know: W, the text <br>\n",
    "Unknown: $\\phi$, distribution over words for each topic (but we will use what we had for $\\bm{\\beta}$ from training our LDA model, SparkML Rstudio says orignially use $\\bm{\\beta}$, bu later paper uses $\\phi$ [https://spark.rstudio.com/reference/ml_lda]. Blei extends $\\bm{\\beta}$ as a random varible drawn from a Dirichlet distirbution for smoothing purpose)<br> \n",
    "&emsp;&emsp; &emsp; &emsp;$z$ latent variable, topic of each word <br>\n",
    "&emsp;&emsp; &emsp; &emsp;$\\bm{\\theta}$ latent variables, distribution over topics for each document<br>\n",
    "Goal: find z that maximzes $p(\\bm{z}|\\bm{w}) -> p(\\bm{w}|\\bm{z})$\n",
    "\n",
    "#### MCMC using Gibbs Sampling\n",
    "Find the conditional probability distribution of a single word’s topic assignment conditioned on the rest of the topic assignments.<br>\n",
    "$$\\begin{align}\n",
    "p(z_i|\\bm{z_{-i}},\\bm{\\alpha},\\bm{\\beta},\\bm{w}) =& \\frac{p(z_i,\\bm{z_{-i}},\\bm{w}|\\bm{\\alpha},\\bm{\\beta})}{p(\\bm{z_{-i}},\\bm{w}|\\bm{\\alpha},\\bm{\\beta})} \\\\\n",
    " &\\propto p(z_i,\\bm{z_{-i}},\\bm{w}|\\bm{\\alpha},\\bm{\\beta}) \\\\\n",
    " &\\propto P(\\bm{z},\\bm{w}|\\bm{\\alpha},\\bm{\\beta}) \n",
    "\\end{align} $$\n",
    "\n",
    "$$\n",
    "\\begin{align}\n",
    "p(\\bm{z},\\bm{w}|\\bm{\\alpha},\\bm{\\beta}) =& \\int p(\\bm{z},\\bm{w},\\bm{\\theta}|\\bm{\\alpha},\\bm{\\beta})d\\bm{\\theta}\\\\\n",
    "=& \\int p(\\bm{\\theta}|\\bm{\\alpha}) p(\\bm{z}|\\bm{\\theta}) p(\\bm{w}|\\bm{\\beta}_{\\bm{z}}) d\\bm{\\theta} \\\\\n",
    "= & p(\\bm{w}|\\bm{\\beta}_{\\bm{z}}) \\int p(\\bm{\\theta}|\\bm{\\alpha}) p(\\bm{z}|\\bm{\\theta}) d\\bm{\\theta}, \n",
    "\\end{align}$$\n",
    "where\n",
    "$$\n",
    "\\begin{align}\n",
    "p(\\bm{w}|\\bm{\\beta}_{\\bm{z}}) = \\prod_{j} {\\bm{\\beta}_{z_j,w_j}}.\n",
    "\\end{align}\n",
    "$$\n",
    "Expand the integral term:<br>\n",
    "The 1st term is: $$ p(\\bm{z}|\\bm{\\theta})= \\prod_i \\bm{\\theta}_{z_i}.$$\n",
    "The 2nd term is:\n",
    "$$\n",
    "\\begin{align}\n",
    "p(\\bm{\\theta}|\\bm{\\alpha}) = Dir(\\bm{\\theta},\\bm{\\alpha}) = \\frac{1}{\\Beta(\\bm{\\alpha})}\\prod_{k=0}^{k=N} \\theta_k^{\\alpha_k-1},\n",
    "\\end{align}\n",
    "$$\n",
    "where $N$ is the number of topics, and $\\frac{1}{\\Beta(\\alpha)}$, the normalization constant is given by the multivariate beta function and comupted from gamma function as\n",
    "$$\\Beta(\\bm{\\alpha}) = \\frac{\\prod_{k=1}^{k=N}\\Gamma(\\alpha_k)}{\\Gamma(\\sum_{k=1}^{k=N}\\alpha_k)}.$$\n",
    "\n",
    "Plug in these two terms into the integral term:\n",
    "$$\n",
    "\\begin{align}\n",
    "\\int p(\\bm{\\theta}|\\bm{\\alpha}) p(\\bm{z}|\\bm{\\theta}) d\\bm{\\theta} =& \\int \\prod_i \\bm{\\theta}_{z_i} \\frac{1}{\\Beta(\\bm{\\alpha})}\\prod_{k=0}^{k=N} \\theta_k^{\\alpha_k-1} d\\bm{\\theta}\\\\\n",
    "= & \\frac{1}{\\Beta(\\bm{\\alpha})} \\int \\prod_i \\bm{\\theta}_{z_i} \\prod_{k=0}^{k=N} \\theta_k^{\\alpha_k-1} d\\bm{\\theta}\\\\\n",
    "= & \\frac{1}{\\Beta(\\bm{\\alpha})} \\int \\prod_k \\theta_k ^{n_k+\\alpha_k-1} d\\bm{\\theta} \\hskip{0.5 in} (n_k =\\textrm{ the number of times }z_i=k)\\textrm{, and define }\\bm{n} = [n_1,n_2,...,n_k] \\\\\n",
    "= & \\frac{\\Beta(\\bm{\\alpha}+\\bm{n})}{\\Beta(\\bm{\\alpha})} \\int \\frac{1}{\\Beta(\\bm{\\alpha}+\\bm{n})} \\prod_k \\theta_k ^{n_k+\\alpha_k-1} d\\bm{\\theta} \\\\\n",
    "=& \\frac{\\Beta(\\bm{\\alpha}+\\bm{n})}{\\Beta(\\bm{\\alpha})} \\int Dir(\\bm{\\theta},\\bm{\\alpha}+\\bm{n}) d\\bm{\\theta} \\\\\n",
    "=& \\frac{\\Beta(\\bm{\\alpha}+\\bm{n})}{\\Beta(\\bm{\\alpha})}\n",
    "\\end{align}\n",
    "$$\n",
    "Thus \n",
    "$$ \n",
    "p(\\bm{w},\\bm{z}|\\bm{\\alpha},\\bm{\\beta})=\\frac{\\Beta(\\bm{\\alpha}+\\bm{n})}{\\Beta(\\bm{\\alpha})} \\prod_{j} {\\bm{\\beta}_{z_j,w_j}}.\n",
    "$$\n",
    "Conditional distribution for how to draw topic $z_i$ for word $w_i$:\n",
    "$$\\begin{align}\n",
    "p(z_i|\\bm{z_{-i}},\\bm{w},\\bm{\\alpha},\\bm{\\beta}) =& \\frac{p(\\bm{z},\\bm{w}|,\\bm{\\alpha},\\bm{\\beta})}{p(\\bm{z_{-i}},\\bm{w}|,\\bm{\\alpha},\\bm{\\beta})}\\\\\n",
    "\\propto &  \\frac{\\Beta(\\bm{\\alpha}+\\bm{n})}{\\Beta(\\bm{\\alpha})} \\prod_{j} {\\bm{\\beta}_{z_j,w_j}} / \\frac{\\Beta(\\bm{\\alpha}+\\bm{n_{-i}})}{\\Beta(\\bm{\\alpha})} \\prod_{j \\neq i} {\\bm{\\beta}_{z_j,w_j}} \\\\\n",
    "\\propto &  \\frac{\\Beta(\\bm{\\alpha}+\\bm{n})}{\\Beta(\\bm{\\alpha}+\\bm{n_{-i}})}\\frac{\\prod_{j} {\\bm{\\beta}_{z_j,w_j}} }{\\prod_{j \\neq i} {\\bm{\\beta}_{z_j,w_j}} }\\\\\n",
    "\\propto & \\frac{\\Beta(\\bm{\\alpha}+\\bm{n})}{\\Beta(\\bm{\\alpha}+\\bm{n_{-i}})}\\bm{\\beta}_{z_i,w_i}\\\\\n",
    "\\propto & \\frac{\\prod_{k=1}^{k=N}\\Gamma((\\bm{\\alpha}+\\bm{n})_k)}{\\Gamma(\\sum_{k=1}^{k=N}(\\bm{\\alpha}+\\bm{n})_k)} \\frac{\\Gamma(\\sum_{k=1}^{k=N}(\\bm{\\alpha}+\\bm{n_{-i}})_k)}{\\prod_{k=1}^{k=N}\\Gamma((\\bm{\\alpha}+\\bm{n_{-i}})_k)} \\bm{\\beta}_{z_i,w_i}\n",
    "\\end{align} $$\n",
    "\n",
    "\n",
    "The sampling process is:\n",
    "* Initailize $\\bm{z}$\n",
    "* while not max_iteration/not converged:\n",
    "    * for each word $w_i$ in $\\bm{w}$:\n",
    "        1. compute  conditional_p = $p(z_i|\\bm{z_{-i}},\\bm{w},\\bm{\\alpha},\\bm{\\beta})$ ( probabily of $z_i=k$ for each topic $k$ from $N$ total topics)\n",
    "        2. draw $z_i$ from Multinomial(conditional_p)\n",
    "        3. update $z_i$, save this \n",
    "    * estimate $\\bm{\\theta}$:$$\\theta_k = \\frac{n_k+\\alpha_k}{\\sum_{k} n_k+\\alpha_k}$$\n",
    "    * compute $p(\\bm{\\theta},\\bm{w},\\bm{z}|\\alpha,\\beta)$:\n",
    "            $$p(\\bm{\\theta},\\bm{w},\\bm{z}|\\alpha,\\beta) = \\log p(\\bm{\\theta}|\\bm{\\alpha})+ \\sum_{i=0}^{len(\\bm{w})}\\log p(w_i|z_i,\\bm{\\beta})  +\\log p(z_i|\\bm{\\theta}) = \\log p(\\bm{\\theta}|\\bm{\\alpha}) +\\sum_{i=0}^{len(\\bm{w})} \\log \\beta_{zi,wi} +\\log p(z_i|\\bm{\\theta})            $$\n",
    "\n"
   ]
  },
  {
   "cell_type": "markdown",
   "metadata": {},
   "source": []
  },
  {
   "cell_type": "code",
   "execution_count": 153,
   "metadata": {},
   "outputs": [],
   "source": [
    "class GibbsSampler_Predict:\n",
    "    def __init__(self, n_topics,alpha=0.2,beta=0.1):\n",
    "        self.n_topics = n_topics\n",
    "        self.alpha = alpha\n",
    "        self.beta = beta\n",
    "        self.theta = 0\n",
    "        self.z_vec = 0\n",
    "        self.w_vec = None\n",
    "        self.text_length = 0\n",
    "        self.maxiter = 5\n",
    "        self.log_likelihood_list = []\n",
    "\n",
    "\n",
    "    def initialize(self,words):\n",
    "        self.w_vec = words\n",
    "        self.text_length = len(words)\n",
    "        # initialize z_vec closer to the posterior distribution based on alpha parameter\n",
    "        self.theta = np.random.dirichlet(self.alpha)\n",
    "        self.z_vec = np.random.choice(range(self.n_topics),len(self.w_vec),p=self.theta)\n",
    "    \n",
    "    def _conditional_prob(self,i):\n",
    "        # conditional probablity distribution of zi=k for word w_i given alpha and beta\n",
    "        z_matrix_zi_all_k = np.tile(self.z_vec,(self.n_topics,1))\n",
    "        z_matrix_zi_all_k[:,i] = np.arange(0,self.n_topics,1)\n",
    "        n_matrix_all_k = np.array(list(map(lambda j: np.sum(z_matrix_zi_all_k==j,axis=1),range(self.n_topics)))).T\n",
    "\n",
    "        z_matrix_min_i = np.delete(z_matrix_zi_all_k,i,1)\n",
    "        n_matrix_min_i = np.array(list(map(lambda j: np.sum(z_matrix_min_i==j,axis=1),range(self.n_topics)))).T\n",
    "\n",
    "        top = np.prod(gamma(self.alpha+n_matrix_all_k),axis=1)/gamma(np.sum(self.alpha+n_matrix_all_k,axis=1))\n",
    "        bottom= np.prod(gamma(self.alpha+n_matrix_min_i),axis=1)/gamma(np.sum(self.alpha+n_matrix_min_i,axis=1))\n",
    "        p_wi_zi = self.beta[:,self.w_vec[i]]\n",
    "\n",
    "        prob = top/bottom*p_wi_zi\n",
    "        prob_normalized = prob/np.sum(prob)\n",
    "\n",
    "        return prob_normalized\n",
    "    \n",
    "    def _estimate_theta(self):\n",
    "        n_vec = np.array(list(map(lambda j: np.sum(self.z_vec==j),range(self.n_topics))))\n",
    "        theta = (n_vec+alpha)/np.sum(n_vec+alpha)\n",
    "        return theta\n",
    "\n",
    "    def _logP_theta_z_w(self,theta):\n",
    "        logP_w_z_theta = np.sum(list(map(lambda i: np.log(theta[self.z_vec[i]])+np.log(beta[(self.z_vec[i],self.w_vec[i])]),range(self.text_length))))\n",
    "        logP_theta_alpha = dirichlet.logpdf(theta, self.alpha)\n",
    "        logP = logP_theta_alpha+logP_w_z_theta\n",
    "        return logP\n",
    "\n",
    "\n",
    "    def sample(self,maxiter=5):\n",
    "        self.maxiter = maxiter\n",
    "        iter = 0\n",
    "        #got to final estimated z_vec\n",
    "        while iter < maxiter:\n",
    "                iter += 1\n",
    "                for i in range(self.text_length):\n",
    "                    conditional_p = self._conditional_prob(i)\n",
    "                    z_i_new = np.argmax(np.random.multinomial(1,conditional_p))# sample topic for i_th word in W from conditional probability\n",
    "                    self.z_vec[i] = z_i_new        \n",
    "                theta = self._estimate_theta()\n",
    "                log_likelihood = self._logP_theta_z_w(theta)\n",
    "                self.log_likelihood_list.append(log_likelihood)\n",
    "        self.theta = theta\n",
    "    \n",
    "    def plot(self):\n",
    "        plt.plot(np.arange(0,self.maxiter,1),self.log_likelihood_list)\n",
    "        plt.xlabel(\"iteration\")\n",
    "        plt.ylabel(\"log likliehood\")\n",
    "        plt.show()\n",
    "\n"
   ]
  },
  {
   "cell_type": "code",
   "execution_count": 168,
   "metadata": {},
   "outputs": [
    {
     "data": {
      "image/png": "[encoded data removed]",
      "text/plain": [
       "<Figure size 432x288 with 1 Axes>"
      ]
     },
     "metadata": {
      "needs_background": "light"
     },
     "output_type": "display_data"
    },
    {
     "name": "stdout",
     "output_type": "stream",
     "text": [
      "[8.87311486e-04 8.87311486e-04 8.87311486e-04 8.87311486e-04\n",
      " 9.88464951e-01 8.87311486e-04 7.09849161e-03]\n",
      "most salient topic: 4\n",
      "Gensim result: [(0, 0.43223852), (5, 0.5619697)]\n"
     ]
    }
   ],
   "source": [
    "corpus_uncategorized = prepare_text(df_test.Abstract)\n",
    "corpus_d = corpus_uncategorized[1]\n",
    "\n",
    "GBS_sampler = GibbsSampler_Predict(n_topics=7,alpha=alpha,beta=beta)\n",
    "GBS_sampler.initialize(corpus_d)\n",
    "GBS_sampler.sample(maxiter=3000)\n",
    "GBS_sampler.plot()\n",
    "\n",
    "topic_weight = GBS_sampler.theta\n",
    "dominant_topic = np.argmax(topic_weight)\n",
    "print(topic_weight)\n",
    "print(\"most salient topic:\",dominant_topic)\n",
    "# gensim implementation\n",
    "topic_dist_inferred = lda_model[corpus[0]]\n",
    "print(\"Gensim result:\", topic_dist_inferred)"
   ]
  },
  {
   "cell_type": "markdown",
   "metadata": {},
   "source": [
    "# use $\\alpha$ and $\\bm{\\beta}$ to generate synthetic data"
   ]
  },
  {
   "cell_type": "code",
   "execution_count": 166,
   "metadata": {},
   "outputs": [],
   "source": [
    "\n",
    "topic_dictionary = {0: \"CS\", 1: \"Civil\", 2: \"MAE\", 3: \"ECE\",4: \"Psychology\", 5: \"Biochemistry\", 6: \"Medical\"}\n",
    "\n",
    "# Possion distribution: draw sample length, lambda = median from the data\n",
    "# alpha: topic mixture of each synethic text\n",
    "# beta: topic-term distribution\n",
    "def lda_gen(vocabulary,beta,alpha,possion_lambda):\n",
    "    xi = np.random.poisson(possion_lambda) #length = sample from poisson dist\n",
    "    v = np.shape(beta)[0]\n",
    "    topic_proportion = np.random.dirichlet(alpha) # generate topic proportion based of a text dist\n",
    "    dominant_domain = topic_dictionary[np.argmax(topic_proportion)]\n",
    "    topic_list = np.random.choice(range(v),xi,p=topic_proportion) #sample from topic proportion dist, \n",
    "\n",
    "    #pick a word for each topic in each document\n",
    "    # frequency of the topics = topics mixture in each document\n",
    "    word_bag = []\n",
    "    for topic_index in topic_list:\n",
    "        word = np.random.choice(vocabulary,p=beta[topic_index])\n",
    "        word_bag.append(word)\n",
    "    return (dominant_domain,word_bag)\n",
    "\n",
    "vocabulary = list(dictionary.keys())\n",
    "alpha = lda_model.alpha\n",
    "beta = lda_model.get_topics()\n",
    "possion_lambda = median_count\n",
    "\n",
    "synthetic_data_size = 1000\n",
    "synthetic_data = [ lda_gen(vocabulary,beta,alpha,possion_lambda) for _ in range(synthetic_data_size)]\n",
    "synthetic_df = pd.DataFrame(synthetic_data,columns=['Domain','Abstract'])\n",
    "synthetic_df.Abstract = synthetic_df.Abstract.map(lambda a: \" \".join(a))\n",
    "synthetic_df.to_csv(\"mockdata.csv\",index=False)\n",
    "\n"
   ]
  },
  {
   "cell_type": "markdown",
   "metadata": {},
   "source": [
    "## Categorize the synthetic data with lda probabilistic classifier"
   ]
  },
  {
   "cell_type": "code",
   "execution_count": 185,
   "metadata": {},
   "outputs": [
    {
     "name": "stdout",
     "output_type": "stream",
     "text": [
      "{'CS': 0, 'Civil': 1, 'MAE': 2, 'ECE': 3, 'Psychology': 4, 'Biochemistry': 5, 'Medical': 6}\n"
     ]
    },
    {
     "data": {
      "text/html": [
       "<div>\n",
       "<style scoped>\n",
       "    .dataframe tbody tr th:only-of-type {\n",
       "        vertical-align: middle;\n",
       "    }\n",
       "\n",
       "    .dataframe tbody tr th {\n",
       "        vertical-align: top;\n",
       "    }\n",
       "\n",
       "    .dataframe thead th {\n",
       "        text-align: right;\n",
       "    }\n",
       "</style>\n",
       "<table border=\"1\" class=\"dataframe\">\n",
       "  <thead>\n",
       "    <tr style=\"text-align: right;\">\n",
       "      <th></th>\n",
       "      <th>Domain</th>\n",
       "      <th>Abstract</th>\n",
       "      <th>Domain_No</th>\n",
       "    </tr>\n",
       "  </thead>\n",
       "  <tbody>\n",
       "    <tr>\n",
       "      <th>0</th>\n",
       "      <td>MAE</td>\n",
       "      <td>quality drug h potentially calculate windinduc...</td>\n",
       "      <td>2</td>\n",
       "    </tr>\n",
       "    <tr>\n",
       "      <th>1</th>\n",
       "      <td>Biochemistry</td>\n",
       "      <td>additionally disengagement validation style qr...</td>\n",
       "      <td>5</td>\n",
       "    </tr>\n",
       "    <tr>\n",
       "      <th>2</th>\n",
       "      <td>Medical</td>\n",
       "      <td>lipopolysaccharide hyperbolic blueberry insert...</td>\n",
       "      <td>6</td>\n",
       "    </tr>\n",
       "    <tr>\n",
       "      <th>3</th>\n",
       "      <td>Medical</td>\n",
       "      <td>allow rate regard biological voltage divide pr...</td>\n",
       "      <td>6</td>\n",
       "    </tr>\n",
       "    <tr>\n",
       "      <th>4</th>\n",
       "      <td>Civil</td>\n",
       "      <td>request rmse easytofollow mean depression body...</td>\n",
       "      <td>1</td>\n",
       "    </tr>\n",
       "  </tbody>\n",
       "</table>\n",
       "</div>"
      ],
      "text/plain": [
       "         Domain                                           Abstract  Domain_No\n",
       "0           MAE  quality drug h potentially calculate windinduc...          2\n",
       "1  Biochemistry  additionally disengagement validation style qr...          5\n",
       "2       Medical  lipopolysaccharide hyperbolic blueberry insert...          6\n",
       "3       Medical  allow rate regard biological voltage divide pr...          6\n",
       "4         Civil  request rmse easytofollow mean depression body...          1"
      ]
     },
     "execution_count": 185,
     "metadata": {},
     "output_type": "execute_result"
    }
   ],
   "source": [
    "\n",
    "mock_data = pd.read_csv(\"mockdata.csv\", engine='python')\n",
    "topic2num = {\"CS\": 0, \"Civil\":1, \"MAE\":2, \"ECE\":3, \"Psychology\":4, \"Biochemistry\":5,\"Medical\":6}\n",
    "mock_data['Domain_No'] = mock_data.Domain.map(topic2num)\n",
    "mock_data.head()"
   ]
  },
  {
   "cell_type": "code",
   "execution_count": 186,
   "metadata": {},
   "outputs": [
    {
     "name": "stderr",
     "output_type": "stream",
     "text": [
      "WARNING:gensim.models.ldamodel:too few updates, training might not converge; consider increasing the number of passes or iterations to improve accuracy\n"
     ]
    },
    {
     "name": "stdout",
     "output_type": "stream",
     "text": [
      "alpha [0.14285715 0.14285715 0.14285715 0.14285715 0.14285715 0.14285715\n",
      " 0.14285715]\n",
      "beta [(0, '0.002*\"obtain\" + 0.002*\"condition\" + 0.002*\"temperature\" + 0.002*\"expression\" + 0.002*\"well\" + 0.002*\"treatment\" + 0.002*\"one\" + 0.002*\"rate\" + 0.002*\"sample\" + 0.002*\"suggest\"'), (1, '0.002*\"may\" + 0.002*\"however\" + 0.002*\"well\" + 0.002*\"one\" + 0.002*\"circuit\" + 0.002*\"sample\" + 0.002*\"parameter\" + 0.002*\"demonstrate\" + 0.002*\"group\" + 0.002*\"water\"'), (2, '0.002*\"structure\" + 0.002*\"treatment\" + 0.002*\"one\" + 0.002*\"efficiency\" + 0.002*\"gene\" + 0.002*\"parameter\" + 0.002*\"current\" + 0.002*\"novel\" + 0.002*\"measurement\" + 0.002*\"dynamic\"'), (3, '0.002*\"may\" + 0.002*\"technique\" + 0.002*\"range\" + 0.002*\"investigate\" + 0.002*\"condition\" + 0.002*\"find\" + 0.002*\"c\" + 0.002*\"large\" + 0.002*\"novel\" + 0.002*\"one\"'), (4, '0.003*\"structure\" + 0.002*\"condition\" + 0.002*\"application\" + 0.002*\"reduce\" + 0.002*\"well\" + 0.002*\"expression\" + 0.002*\"frequency\" + 0.002*\"type\" + 0.002*\"one\" + 0.002*\"determine\"'), (5, '0.002*\"group\" + 0.002*\"condition\" + 0.002*\"structure\" + 0.002*\"may\" + 0.002*\"gene\" + 0.002*\"dynamic\" + 0.002*\"significant\" + 0.002*\"find\" + 0.002*\"response\" + 0.002*\"range\"'), (6, '0.002*\"simulation\" + 0.002*\"make\" + 0.002*\"well\" + 0.002*\"technique\" + 0.002*\"function\" + 0.002*\"treatment\" + 0.002*\"dynamic\" + 0.001*\"energy\" + 0.001*\"material\" + 0.001*\"one\"')]\n"
     ]
    }
   ],
   "source": [
    "# extract alpha and beta from the mock data\n",
    "documents = list(map(lambda abstract:abstract.split(\" \"),mock_data.Abstract))\n",
    "mockdata_word2id = Dictionary(documents)\n",
    "mock_corpus = [mockdata_word2id .doc2bow(text) for text in documents]\n",
    "mockdata_model = LdaModel(\n",
    "    mock_corpus,\n",
    "    id2word=mockdata_word2id,\n",
    "    num_topics=7,\n",
    ")\n",
    "print(\"alpha\", mockdata_model.alpha)\n",
    "print(\"beta\",mockdata_model.show_topics())"
   ]
  },
  {
   "cell_type": "code",
   "execution_count": 188,
   "metadata": {},
   "outputs": [
    {
     "name": "stdout",
     "output_type": "stream",
     "text": [
      "0.138\n"
     ]
    },
    {
     "data": {
      "text/html": [
       "<div>\n",
       "<style scoped>\n",
       "    .dataframe tbody tr th:only-of-type {\n",
       "        vertical-align: middle;\n",
       "    }\n",
       "\n",
       "    .dataframe tbody tr th {\n",
       "        vertical-align: top;\n",
       "    }\n",
       "\n",
       "    .dataframe thead th {\n",
       "        text-align: right;\n",
       "    }\n",
       "</style>\n",
       "<table border=\"1\" class=\"dataframe\">\n",
       "  <thead>\n",
       "    <tr style=\"text-align: right;\">\n",
       "      <th></th>\n",
       "      <th>actual</th>\n",
       "      <th>predicted</th>\n",
       "      <th>correct</th>\n",
       "    </tr>\n",
       "  </thead>\n",
       "  <tbody>\n",
       "    <tr>\n",
       "      <th>0</th>\n",
       "      <td>2</td>\n",
       "      <td>3</td>\n",
       "      <td>False</td>\n",
       "    </tr>\n",
       "    <tr>\n",
       "      <th>1</th>\n",
       "      <td>5</td>\n",
       "      <td>4</td>\n",
       "      <td>False</td>\n",
       "    </tr>\n",
       "    <tr>\n",
       "      <th>2</th>\n",
       "      <td>6</td>\n",
       "      <td>3</td>\n",
       "      <td>False</td>\n",
       "    </tr>\n",
       "    <tr>\n",
       "      <th>3</th>\n",
       "      <td>6</td>\n",
       "      <td>2</td>\n",
       "      <td>False</td>\n",
       "    </tr>\n",
       "    <tr>\n",
       "      <th>4</th>\n",
       "      <td>1</td>\n",
       "      <td>2</td>\n",
       "      <td>False</td>\n",
       "    </tr>\n",
       "  </tbody>\n",
       "</table>\n",
       "</div>"
      ],
      "text/plain": [
       "   actual  predicted  correct\n",
       "0       2          3    False\n",
       "1       5          4    False\n",
       "2       6          3    False\n",
       "3       6          2    False\n",
       "4       1          2    False"
      ]
     },
     "execution_count": 188,
     "metadata": {},
     "output_type": "execute_result"
    }
   ],
   "source": [
    "def get_weight_each_topic(i,t_predict):\n",
    "    find = t_predict[list(map(lambda topic: i in topic, t_predict))]\n",
    "    if len(find)==0:\n",
    "        return 0.0\n",
    "    else:\n",
    "        return find[0][1]\n",
    "\n",
    "def get_topic_dist(model,text):\n",
    "    t_predict = np.array(model[text])\n",
    "    topic_dist_d = list(map(lambda i:get_weight_each_topic(i,t_predict),range(7)))\n",
    "    return topic_dist_d\n",
    "\n",
    "\n",
    "topic_weight_matrix = list(map(lambda text_i:get_topic_dist(mockdata_model,text_i),mock_corpus))\n",
    "dominant_topic = np.argmax(topic_weight_matrix,axis=1)\n",
    "predict_compare = pd.DataFrame({\"actual\": mock_data.Domain_No,\"predicted\":dominant_topic})\n",
    "predict_compare[\"correct\"] = np.equal(predict_compare.actual,predict_compare.predicted)\n",
    "accuracy = np.sum(predict_compare['correct'])/len(predict_compare)\n",
    "print(accuracy)\n",
    "predict_compare.head()"
   ]
  },
  {
   "cell_type": "code",
   "execution_count": 184,
   "metadata": {},
   "outputs": [
    {
     "data": {
      "text/html": [
       "<div>\n",
       "<style scoped>\n",
       "    .dataframe tbody tr th:only-of-type {\n",
       "        vertical-align: middle;\n",
       "    }\n",
       "\n",
       "    .dataframe tbody tr th {\n",
       "        vertical-align: top;\n",
       "    }\n",
       "\n",
       "    .dataframe thead th {\n",
       "        text-align: right;\n",
       "    }\n",
       "</style>\n",
       "<table border=\"1\" class=\"dataframe\">\n",
       "  <thead>\n",
       "    <tr style=\"text-align: right;\">\n",
       "      <th></th>\n",
       "      <th>Y1</th>\n",
       "      <th>Y2</th>\n",
       "      <th>Y</th>\n",
       "      <th>Domain</th>\n",
       "      <th>area</th>\n",
       "      <th>keywords</th>\n",
       "      <th>Abstract</th>\n",
       "    </tr>\n",
       "  </thead>\n",
       "  <tbody>\n",
       "    <tr>\n",
       "      <th>2000</th>\n",
       "      <td>6</td>\n",
       "      <td>3</td>\n",
       "      <td>128</td>\n",
       "      <td>biochemistry</td>\n",
       "      <td>Immunology</td>\n",
       "      <td>CARs; TRUCKs; Tumor-Targeted; Nanoparticles; ...</td>\n",
       "      <td>Adoptive transfer of antigen-specific T cells ...</td>\n",
       "    </tr>\n",
       "    <tr>\n",
       "      <th>2001</th>\n",
       "      <td>4</td>\n",
       "      <td>6</td>\n",
       "      <td>67</td>\n",
       "      <td>Civil</td>\n",
       "      <td>Stealth Technology</td>\n",
       "      <td>adsorption; conductive textiles; Olney addres...</td>\n",
       "      <td>Adsorption at the liquid-solid interface is wi...</td>\n",
       "    </tr>\n",
       "    <tr>\n",
       "      <th>2002</th>\n",
       "      <td>3</td>\n",
       "      <td>6</td>\n",
       "      <td>58</td>\n",
       "      <td>MAE</td>\n",
       "      <td>Thermodynamics</td>\n",
       "      <td>HIC; Protein unfolding; Mathematical modeling...</td>\n",
       "      <td>Adsorption behavior of unstable proteins, i.e....</td>\n",
       "    </tr>\n",
       "    <tr>\n",
       "      <th>2003</th>\n",
       "      <td>4</td>\n",
       "      <td>8</td>\n",
       "      <td>69</td>\n",
       "      <td>Civil</td>\n",
       "      <td>Solar Energy</td>\n",
       "      <td>Adsorption; ORC; Cooling and power generation...</td>\n",
       "      <td>Adsorption cooling and Organic Rankine Cycle (...</td>\n",
       "    </tr>\n",
       "    <tr>\n",
       "      <th>2004</th>\n",
       "      <td>3</td>\n",
       "      <td>6</td>\n",
       "      <td>58</td>\n",
       "      <td>MAE</td>\n",
       "      <td>Thermodynamics</td>\n",
       "      <td>adsorption; anion exchange membrane; anionic ...</td>\n",
       "      <td>Adsorption is a widely used technique for the ...</td>\n",
       "    </tr>\n",
       "  </tbody>\n",
       "</table>\n",
       "</div>"
      ],
      "text/plain": [
       "      Y1  Y2    Y         Domain                   area  \\\n",
       "2000   6   3  128  biochemistry            Immunology     \n",
       "2001   4   6   67         Civil    Stealth Technology     \n",
       "2002   3   6   58           MAE        Thermodynamics     \n",
       "2003   4   8   69         Civil          Solar Energy     \n",
       "2004   3   6   58           MAE        Thermodynamics     \n",
       "\n",
       "                                               keywords  \\\n",
       "2000   CARs; TRUCKs; Tumor-Targeted; Nanoparticles; ...   \n",
       "2001   adsorption; conductive textiles; Olney addres...   \n",
       "2002   HIC; Protein unfolding; Mathematical modeling...   \n",
       "2003   Adsorption; ORC; Cooling and power generation...   \n",
       "2004   adsorption; anion exchange membrane; anionic ...   \n",
       "\n",
       "                                               Abstract  \n",
       "2000  Adoptive transfer of antigen-specific T cells ...  \n",
       "2001  Adsorption at the liquid-solid interface is wi...  \n",
       "2002  Adsorption behavior of unstable proteins, i.e....  \n",
       "2003  Adsorption cooling and Organic Rankine Cycle (...  \n",
       "2004  Adsorption is a widely used technique for the ...  "
      ]
     },
     "execution_count": 184,
     "metadata": {},
     "output_type": "execute_result"
    }
   ],
   "source": [
    "df_test = df_paper_raw[2000:2500]\n",
    "df_test.head()"
   ]
  },
  {
   "cell_type": "code",
   "execution_count": 178,
   "metadata": {},
   "outputs": [
    {
     "name": "stdout",
     "output_type": "stream",
     "text": [
      "0.15\n"
     ]
    },
    {
     "data": {
      "text/html": [
       "<div>\n",
       "<style scoped>\n",
       "    .dataframe tbody tr th:only-of-type {\n",
       "        vertical-align: middle;\n",
       "    }\n",
       "\n",
       "    .dataframe tbody tr th {\n",
       "        vertical-align: top;\n",
       "    }\n",
       "\n",
       "    .dataframe thead th {\n",
       "        text-align: right;\n",
       "    }\n",
       "</style>\n",
       "<table border=\"1\" class=\"dataframe\">\n",
       "  <thead>\n",
       "    <tr style=\"text-align: right;\">\n",
       "      <th></th>\n",
       "      <th>actual</th>\n",
       "      <th>predicted</th>\n",
       "      <th>correct</th>\n",
       "    </tr>\n",
       "  </thead>\n",
       "  <tbody>\n",
       "    <tr>\n",
       "      <th>0</th>\n",
       "      <td>0</td>\n",
       "      <td>6</td>\n",
       "      <td>False</td>\n",
       "    </tr>\n",
       "    <tr>\n",
       "      <th>1</th>\n",
       "      <td>1</td>\n",
       "      <td>3</td>\n",
       "      <td>False</td>\n",
       "    </tr>\n",
       "    <tr>\n",
       "      <th>2</th>\n",
       "      <td>2</td>\n",
       "      <td>6</td>\n",
       "      <td>False</td>\n",
       "    </tr>\n",
       "    <tr>\n",
       "      <th>3</th>\n",
       "      <td>2</td>\n",
       "      <td>5</td>\n",
       "      <td>False</td>\n",
       "    </tr>\n",
       "    <tr>\n",
       "      <th>4</th>\n",
       "      <td>3</td>\n",
       "      <td>5</td>\n",
       "      <td>False</td>\n",
       "    </tr>\n",
       "  </tbody>\n",
       "</table>\n",
       "</div>"
      ],
      "text/plain": [
       "   actual  predicted  correct\n",
       "0       0          6    False\n",
       "1       1          3    False\n",
       "2       2          6    False\n",
       "3       2          5    False\n",
       "4       3          5    False"
      ]
     },
     "execution_count": 178,
     "metadata": {},
     "output_type": "execute_result"
    }
   ],
   "source": []
  },
  {
   "cell_type": "markdown",
   "metadata": {},
   "source": []
  }
 ],
 "metadata": {
  "interpreter": {
   "hash": "b10cdd4904fdd44c62b07c72ba64e3113d365136411c6c9d777e955188ee8c1b"
  },
  "kernelspec": {
   "display_name": "Python 3.8.10 64-bit ('.nlp_env': venv)",
   "language": "python",
   "name": "python3"
  },
  "language_info": {
   "codemirror_mode": {
    "name": "ipython",
    "version": 3
   },
   "file_extension": ".py",
   "mimetype": "text/x-python",
   "name": "python",
   "nbconvert_exporter": "python",
   "pygments_lexer": "ipython3",
   "version": "3.8.10"
  },
  "orig_nbformat": 4
 },
 "nbformat": 4,
 "nbformat_minor": 2
}
