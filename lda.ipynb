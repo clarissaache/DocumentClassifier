{
 "cells": [
  {
   "cell_type": "markdown",
   "metadata": {},
   "source": [
    "# Generative Probabilistic Approach with LDA for Document Categorization"
   ]
  },
  {
   "cell_type": "code",
   "execution_count": 1,
   "metadata": {},
   "outputs": [
    {
     "name": "stderr",
     "output_type": "stream",
     "text": [
      "[nltk_data] Downloading package stopwords to /home/sxia1/nltk_data...\n",
      "[nltk_data]   Package stopwords is already up-to-date!\n"
     ]
    }
   ],
   "source": [
    "import re \n",
    "import string\n",
    "import nltk\n",
    "nltk.download('stopwords')\n",
    "from nltk.corpus import stopwords\n",
    "from nltk.stem import WordNetLemmatizer\n",
    "\n",
    "import numpy as np\n",
    "import pandas as pd\n",
    "import matplotlib.pyplot as plt\n",
    "from scipy.special import gamma,gammaln\n",
    "from scipy.stats import dirichlet\n",
    "\n",
    "# Gensim\n",
    "import gensim\n",
    "import gensim.corpora as corpora\n",
    "from gensim.utils import simple_preprocess\n",
    "from gensim.models import CoherenceModel\n",
    "from gensim.corpora.dictionary import Dictionary\n",
    "from gensim.models import LdaModel\n",
    "\n",
    "import pyLDAvis\n",
    "import pyLDAvis.gensim_models\n",
    "pyLDAvis.enable_notebook()\n",
    "\n",
    "%matplotlib inline\n",
    "\n",
    "stop_words = stopwords.words('english')"
   ]
  },
  {
   "cell_type": "markdown",
   "metadata": {},
   "source": [
    "# Extract $\\bm{\\alpha}$ and $\\bm{\\beta}$ from data\n",
    "## clean up data and tokenize text\n"
   ]
  },
  {
   "cell_type": "markdown",
   "metadata": {},
   "source": [
    "### Web of science paper data"
   ]
  },
  {
   "cell_type": "code",
   "execution_count": 2,
   "metadata": {},
   "outputs": [
    {
     "name": "stdout",
     "output_type": "stream",
     "text": [
      "46985\n",
      "['CS ' 'Medical ' 'Civil ' 'ECE ' 'biochemistry ' 'MAE ' 'Psychology  ']\n"
     ]
    },
    {
     "name": "stderr",
     "output_type": "stream",
     "text": [
      "/tmp/ipykernel_32672/4099232812.py:10: SettingWithCopyWarning: \n",
      "A value is trying to be set on a copy of a slice from a DataFrame.\n",
      "Try using .loc[row_indexer,col_indexer] = value instead\n",
      "\n",
      "See the caveats in the documentation: https://pandas.pydata.org/pandas-docs/stable/user_guide/indexing.html#returning-a-view-versus-a-copy\n",
      "  df_paper['n_words']=list(map(lambda x:len(x),text_tokenized))\n"
     ]
    },
    {
     "data": {
      "text/plain": [
       "Text(0.5, 1.0, 'abstract word count')"
      ]
     },
     "execution_count": 2,
     "metadata": {},
     "output_type": "execute_result"
    },
    {
     "data": {
      "image/png": "[encoded data removed]",
      "text/plain": [
       "<Figure size 1440x360 with 3 Axes>"
      ]
     },
     "metadata": {
      "needs_background": "light"
     },
     "output_type": "display_data"
    }
   ],
   "source": [
    "# read-in pre-labled research apper abstracts\n",
    "df_paper_raw = pd.read_excel(\"data/WebOfScienceData.xlsx\",sheet_name=\"abstracts\")\n",
    "print(len(df_paper_raw))\n",
    "df_paper = df_paper_raw.head(2000) #use first 2000\n",
    "print(df_paper.Domain.unique())\n",
    "\n",
    "# remove puncutations and number, then tokenize each text\n",
    "text_tokenized = list(map(lambda abstract_i:nltk.word_tokenize(re.sub(r'[^A-Za-z\\s]','',abstract_i.lower())), df_paper['Abstract']))\n",
    "len(text_tokenized)\n",
    "df_paper['n_words']=list(map(lambda x:len(x),text_tokenized))\n",
    "\n",
    "fig,axs = plt.subplots(1,3,figsize=(20,5))\n",
    "categories = df_paper.Domain.value_counts().index\n",
    "counts = df_paper.Domain.value_counts().values\n",
    "axs[0].bar(categories, counts, width=0.5)\n",
    "axs[0].set_title(\"Domain Frquency\")\n",
    "\n",
    "categories = df_paper.area.value_counts().index\n",
    "counts = df_paper.area.value_counts().values\n",
    "axs[1].bar(categories, counts, width=0.5)\n",
    "axs[1].set_title(\"Area Frquency\")\n",
    "\n",
    "axs[2].hist(df_paper.n_words)\n",
    "axs[2].set_title(\"abstract word count\")"
   ]
  },
  {
   "cell_type": "markdown",
   "metadata": {},
   "source": [
    "## remove stopwords, make biargam, lemmatize"
   ]
  },
  {
   "cell_type": "code",
   "execution_count": 3,
   "metadata": {},
   "outputs": [
    {
     "name": "stderr",
     "output_type": "stream",
     "text": [
      "/tmp/ipykernel_32672/1049156276.py:39: SettingWithCopyWarning: \n",
      "A value is trying to be set on a copy of a slice from a DataFrame.\n",
      "Try using .loc[row_indexer,col_indexer] = value instead\n",
      "\n",
      "See the caveats in the documentation: https://pandas.pydata.org/pandas-docs/stable/user_guide/indexing.html#returning-a-view-versus-a-copy\n",
      "  df_paper['n_words_removed']=list(map(lambda x:len(x),abstract_lemmatized))\n"
     ]
    },
    {
     "data": {
      "text/plain": [
       "Text(0.5, 1.0, 'abstract without stop words word count')"
      ]
     },
     "execution_count": 3,
     "metadata": {},
     "output_type": "execute_result"
    },
    {
     "data": {
      "image/png": "[encoded data removed]",
      "text/plain": [
       "<Figure size 432x288 with 1 Axes>"
      ]
     },
     "metadata": {
      "needs_background": "light"
     },
     "output_type": "display_data"
    }
   ],
   "source": [
    "#helper function for lemmatization\n",
    "def get_wordnet_pos(tag):\n",
    "\n",
    "    if tag.startswith('J'):\n",
    "        return 'a'\n",
    "    elif tag.startswith('V'):\n",
    "        return 'v'\n",
    "    elif tag.startswith('R'):\n",
    "        return 'r'\n",
    "    else:\n",
    "        return 'n' #if not belong to any, default is noun, inclunding N\n",
    "\n",
    "def lemmatize_with_pos(abstract_toekenized):\n",
    "    abstract_tagged = nltk.pos_tag(abstract_toekenized)\n",
    "    tags = list(map(lambda token: get_wordnet_pos(token[1]),abstract_tagged))\n",
    "    abstract_lemmatized = list(map(lemmatizer.lemmatize,abstract_toekenized,tags))\n",
    "    return abstract_lemmatized\n",
    "\n",
    "\n",
    "# Creating Bigram: find words frequently occur together\n",
    "bigram = gensim.models.Phrases(text_tokenized, min_count=5, threshold=100)  \n",
    "#come back to adjust the threshold value: (cnt(a, b) - min_count) * N / (cnt(a) * cnt(b)) > threshold\n",
    "bigram_freeze = bigram.freeze()\n",
    "#import nltk lemmatizer\n",
    "lemmatizer = WordNetLemmatizer()\n",
    "\n",
    "def prepare_token(text_tokenized_list):\n",
    "    # remove stopwords and puntuation, \n",
    "    text_stopwords_removed = list(map(lambda abstract: list(filter(lambda word: word not in stop_words, abstract)),text_tokenized_list))\n",
    "\n",
    "    #apply biagram model\n",
    "    word_and_bigram_list = list(map(lambda abstract_cleaned: bigram[abstract_cleaned],text_stopwords_removed))\n",
    "\n",
    "    # lemmatize\n",
    "    abstract_lemmatized = list(map(lemmatize_with_pos,word_and_bigram_list))\n",
    "    return abstract_lemmatized\n",
    "\n",
    "abstract_lemmatized = prepare_token(text_tokenized)\n",
    "df_paper['n_words_removed']=list(map(lambda x:len(x),abstract_lemmatized))\n",
    "plt.hist(df_paper.n_words_removed,bins=30)\n",
    "plt.title(\"abstract without stop words word count\")"
   ]
  },
  {
   "cell_type": "code",
   "execution_count": 21,
   "metadata": {},
   "outputs": [
    {
     "name": "stdout",
     "output_type": "stream",
     "text": [
      "['use', 'model', 'system', 'study', 'result', 'method', 'propose', 'show', 'control', 'base', 'present', 'design', 'analysis', 'high', 'data', 'also', 'patient', 'cell', 'effect', 'increase', 'two', 'different', 'time', 'develop', 'provide', 'new', 'process', 'include', 'rights_reserved', 'approach', 'compare', 'performance', 'test', 'algorithm', 'paper', 'low', 'c_elsevier', 'level', 'power', 'measure', 'structure', 'well', 'find', 'parameter', 'one', 'application', 'may', 'function', 'current', 'energy', 'obtain', 'condition', 'simulation', 'group', 'dynamic']\n"
     ]
    },
    {
     "data": {
      "image/png": "[encoded data removed]",
      "text/plain": [
       "<Figure size 3960x504 with 1 Axes>"
      ]
     },
     "metadata": {
      "needs_background": "light"
     },
     "output_type": "display_data"
    }
   ],
   "source": [
    "def check_frequent_words(corpus,top_n):\n",
    "    all_corpus_together=np.concatenate(corpus)\n",
    "    (word, counts) = np.unique(all_corpus_together, return_counts=True)\n",
    "    frequencies = np.asarray((word, counts)).T\n",
    "    count_df = pd.DataFrame(data=frequencies,columns = ['word','freq'])\n",
    "    count_df.freq = count_df.freq.astype(int)\n",
    "    count_df.sort_values(by=['freq'],axis=0,ascending=False,ignore_index=True,inplace=True)\n",
    "    print(list(count_df.head(top_n).word))\n",
    "    plt.figure(figsize=(top_n,7))\n",
    "    plt.bar(count_df[:top_n].word,height=count_df[:top_n].freq,width=0.6,align='center')\n",
    "    plt.title(\"most frequent words - should consider removeing them\",fontsize=20)\n",
    "    plt.show()\n",
    "    return count_df\n",
    "\n",
    "count_df =check_frequent_words(abstract_lemmatized,55)"
   ]
  },
  {
   "cell_type": "code",
   "execution_count": 20,
   "metadata": {},
   "outputs": [
    {
     "name": "stdout",
     "output_type": "stream",
     "text": [
      "['obtain', 'condition', 'simulation', 'group', 'dynamic', 'change', 'frequency', 'improve', 'treatment', 'reduce', 'demonstrate', 'circuit', 'work', 'however', 'expression', 'gene', 'response', 'signal', 'human', 'sample']\n"
     ]
    },
    {
     "data": {
      "image/png": "[encoded data removed]",
      "text/plain": [
       "<Figure size 1440x504 with 1 Axes>"
      ]
     },
     "metadata": {
      "needs_background": "light"
     },
     "output_type": "display_data"
    },
    {
     "name": "stderr",
     "output_type": "stream",
     "text": [
      "/tmp/ipykernel_32672/1339668137.py:6: SettingWithCopyWarning: \n",
      "A value is trying to be set on a copy of a slice from a DataFrame.\n",
      "Try using .loc[row_indexer,col_indexer] = value instead\n",
      "\n",
      "See the caveats in the documentation: https://pandas.pydata.org/pandas-docs/stable/user_guide/indexing.html#returning-a-view-versus-a-copy\n",
      "  df_paper['n_words_lemmatize_clean']=list(map(lambda x:len(x),abstract_lemmatized_cleaned))\n"
     ]
    },
    {
     "data": {
      "text/plain": [
       "Text(200, 150, 'median length: 87')"
      ]
     },
     "execution_count": 20,
     "metadata": {},
     "output_type": "execute_result"
    },
    {
     "data": {
      "image/png": "[encoded data removed]",
      "text/plain": [
       "<Figure size 432x288 with 1 Axes>"
      ]
     },
     "metadata": {
      "needs_background": "light"
     },
     "output_type": "display_data"
    }
   ],
   "source": [
    "# remove top 50 most frequent words\n",
    "top_n = list(count_df[:50].word)\n",
    "abstract_lemmatized_cleaned = list(map(lambda abstract: list(filter(lambda word: word not in top_n, abstract)),abstract_lemmatized))\n",
    "check_frequent_words(abstract_lemmatized_cleaned,top_n=20)\n",
    "\n",
    "df_paper['n_words_lemmatize_clean']=list(map(lambda x:len(x),abstract_lemmatized_cleaned))\n",
    "median_count = np.median(df_paper.n_words_lemmatize_clean)\n",
    "plt.hist(df_paper.n_words_lemmatize_clean,bins=30)\n",
    "plt.title(\"abstract without stop words word count\")\n",
    "plt.text(200,150,\"median length: %d\"%median_count,fontsize=10)\n"
   ]
  },
  {
   "cell_type": "code",
   "execution_count": 6,
   "metadata": {},
   "outputs": [
    {
     "data": {
      "text/plain": [
       "89.0"
      ]
     },
     "execution_count": 6,
     "metadata": {},
     "output_type": "execute_result"
    }
   ],
   "source": [
    "np.median(df_paper.n_words_lemmatize_clean)"
   ]
  },
  {
   "cell_type": "markdown",
   "metadata": {},
   "source": [
    "## make dictionary and corpus for the inputs to Gensim LDA Model"
   ]
  },
  {
   "cell_type": "code",
   "execution_count": 7,
   "metadata": {},
   "outputs": [
    {
     "name": "stdout",
     "output_type": "stream",
     "text": [
      "total vocabulary size 22487\n",
      "[('p', 1), ('suggest', 1), ('accumulates', 1), ('accumulation', 2), ('across', 1), ('age', 2), ('aggregate', 1), ('among', 1), ('ap', 1), ('appear', 1)]\n"
     ]
    }
   ],
   "source": [
    "# define mapping between words to integer ids\n",
    "word2id = Dictionary(abstract_lemmatized_cleaned)\n",
    "dictionary = word2id.token2id\n",
    "vocab_size = len(dictionary)\n",
    "print(\"total vocabulary size\", vocab_size)\n",
    "# word2id.token2id gives the dictonary between words and their ids\n",
    "\n",
    "# define corpus from documents\n",
    "# documents: a list of lists of strings\n",
    "# corpus: bag of words: each text = [(word_id, frequency), (word_id, frequency)]\n",
    "corpus = list(map(word2id.doc2bow,abstract_lemmatized))\n",
    "print([(word2id[id], freq) for id, freq in corpus[1][:10]])"
   ]
  },
  {
   "cell_type": "markdown",
   "metadata": {},
   "source": [
    "## Use LDA to extract topic distribution and topic-term distribution"
   ]
  },
  {
   "cell_type": "code",
   "execution_count": 22,
   "metadata": {},
   "outputs": [
    {
     "name": "stdout",
     "output_type": "stream",
     "text": [
      "[(0, '0.017*\"material\" + 0.011*\"sleep\" + 0.010*\"fracture\" + 0.010*\"heat\" + 0.009*\"wind\" + 0.008*\"machine\" + 0.007*\"tank\" + 0.007*\"start\" + 0.005*\"wind_turbine\" + 0.005*\"capable\" + 0.005*\"roll\" + 0.005*\"solid\" + 0.004*\"permanent_magnet\" + 0.004*\"site\" + 0.004*\"curve\"'), (1, '0.009*\"light\" + 0.009*\"telomere\" + 0.008*\"stimulation\" + 0.008*\"hdpp\" + 0.007*\"prosocial\" + 0.006*\"compound\" + 0.006*\"overcome\" + 0.006*\"ht\" + 0.006*\"potent\" + 0.006*\"tolerance\" + 0.006*\"nmolminmg\" + 0.006*\"et\" + 0.005*\"determination\" + 0.005*\"inhibition\" + 0.005*\"algorithms\"'), (2, '0.008*\"energy\" + 0.007*\"parameter\" + 0.006*\"simulation\" + 0.005*\"structure\" + 0.005*\"condition\" + 0.005*\"temperature\" + 0.005*\"measurement\" + 0.005*\"experimental\" + 0.005*\"area\" + 0.005*\"load\" + 0.004*\"water\" + 0.004*\"characteristic\" + 0.004*\"surface\" + 0.004*\"dynamic\" + 0.004*\"controller\"'), (3, '0.018*\"signal\" + 0.017*\"circuit\" + 0.010*\"voltage\" + 0.010*\"filter\" + 0.009*\"digital\" + 0.009*\"frequency\" + 0.008*\"loop\" + 0.008*\"current\" + 0.007*\"integrate\" + 0.007*\"gain\" + 0.007*\"converter\" + 0.007*\"recognition\" + 0.006*\"adjust\" + 0.006*\"gender\" + 0.006*\"input\"'), (4, '0.012*\"expression\" + 0.009*\"gene\" + 0.007*\"protein\" + 0.006*\"activity\" + 0.005*\"human\" + 0.005*\"cancer\" + 0.004*\"mouse\" + 0.004*\"inhibitor\" + 0.004*\"reaction\" + 0.004*\"role\" + 0.004*\"potential\" + 0.004*\"receptor\" + 0.003*\"c\" + 0.003*\"tumor\" + 0.003*\"tissue\"'), (5, '0.007*\"network\" + 0.006*\"problem\" + 0.006*\"information\" + 0.005*\"one\" + 0.005*\"research\" + 0.005*\"application\" + 0.005*\"set\" + 0.005*\"work\" + 0.005*\"feature\" + 0.004*\"service\" + 0.004*\"solution\" + 0.004*\"learn\" + 0.004*\"function\" + 0.004*\"technique\" + 0.003*\"exist\"'), (6, '0.006*\"adolescent\" + 0.006*\"group\" + 0.006*\"treatment\" + 0.006*\"may\" + 0.005*\"associate\" + 0.005*\"report\" + 0.005*\"disease\" + 0.004*\"behavior\" + 0.004*\"stress\" + 0.004*\"support\" + 0.004*\"examine\" + 0.004*\"among\" + 0.004*\"social\" + 0.004*\"individual\" + 0.004*\"year\"')]\n"
     ]
    }
   ],
   "source": [
    "# Train the model on the corpus.\n",
    "lda_model = LdaModel(corpus, \n",
    "                num_topics=len(df_paper.Domain.unique()),\n",
    "                id2word = word2id,\n",
    "                random_state=121,\n",
    "                update_every=1,\n",
    "                chunksize=100,\n",
    "                passes=10,\n",
    "                alpha='auto',\n",
    "                per_word_topics=True)\n",
    "# Save model to disk.\n",
    "# temp_file = datapath(\"model\")\n",
    "# lda.save(temp_file)\n",
    "\n",
    "# alpha = parameter for Dirichlet Distribution . higer alpha more towards the center, i.e. a mixture of different topic for one document\n",
    "alpha = lda_model.alpha\n",
    "print(alpha)\n",
    "# alpha all parameters are equal => have no prior information to favor one component over any other\n",
    "\n",
    "#beta = #distribution over word weights in each topic\n",
    "topic_term_distribution = lda_model.get_topics()\n",
    "print(np.shape(topic_term_distribution))\n",
    "\n",
    "print(lda_model.print_topics(num_words=15)) \n",
    "#okay, i think i need remove \"model\", \"use\", \"method\", \"system\", \"purpose\", \"result\", \"study\", \"show\"\n",
    "\n"
   ]
  },
  {
   "cell_type": "code",
   "execution_count": 24,
   "metadata": {},
   "outputs": [],
   "source": [
    "num2topic ={0:\"Civil\", 1:\"Medical\",2:\"MAE\",3:\"ECE\",4:\"biochemistry\",5:\"CS\", 6:\"Psychology\"}"
   ]
  },
  {
   "cell_type": "markdown",
   "metadata": {},
   "source": [
    "## evalute model perplexity and coherence \n",
    "how to interpret these scores?\n",
    "coherence score is not high"
   ]
  },
  {
   "cell_type": "code",
   "execution_count": 9,
   "metadata": {},
   "outputs": [
    {
     "name": "stdout",
     "output_type": "stream",
     "text": [
      "Perplexity:  -9.04370370668989\n",
      "UMass Coherence Score:  -6.193833935408214\n",
      "C_v Coherence Score:  0.4641668950515726\n"
     ]
    }
   ],
   "source": [
    "# A lower perplexity score indicates better generalization performance.\n",
    "perplexity = lda_model.log_perplexity(corpus)\n",
    "print('Perplexity: ', perplexity )\n",
    "\n",
    "# get coherence value u_mass\n",
    "# probability = the number of documents in which the word occurs divided by the total number of documents\"\n",
    "cm = CoherenceModel(model=lda_model, corpus=corpus, dictionary = word2id,coherence='u_mass')\n",
    "coherence_umass = cm.get_coherence() \n",
    "print('UMass Coherence Score: ', coherence_umass)\n",
    "\n",
    "# Compute Coherence Score using c_v\n",
    "# CV measure is based on the Pointwise Mutual Information score\n",
    "coherence_model_lda = CoherenceModel(model=lda_model, texts=abstract_lemmatized_cleaned, dictionary=word2id, coherence=\"c_v\")\n",
    "coherence_cv = coherence_model_lda.get_coherence()\n",
    "print('C_v Coherence Score: ', coherence_cv)"
   ]
  },
  {
   "cell_type": "markdown",
   "metadata": {},
   "source": [
    "## visualize the model\n",
    "0: CS <br>\n",
    "1: Civil<br>\n",
    "2: MAE <br>\n",
    "3: ECE <br>\n",
    "4: Psychology <br>\n",
    "5: Biochemistry <br>\n",
    "6: Medical <br>"
   ]
  },
  {
   "cell_type": "code",
   "execution_count": 12,
   "metadata": {},
   "outputs": [
    {
     "name": "stderr",
     "output_type": "stream",
     "text": [
      "/home/sxia1/.nlp_env/lib/python3.8/site-packages/pyLDAvis/_prepare.py:246: FutureWarning: In a future version of pandas all arguments of DataFrame.drop except for the argument 'labels' will be keyword-only\n",
      "  default_term_info = default_term_info.sort_values(\n",
      "/home/sxia1/.nlp_env/lib/python3.8/site-packages/past/builtins/misc.py:45: DeprecationWarning: the imp module is deprecated in favour of importlib; see the module's documentation for alternative uses\n",
      "  from imp import reload\n",
      "/home/sxia1/.nlp_env/lib/python3.8/site-packages/past/builtins/misc.py:45: DeprecationWarning: the imp module is deprecated in favour of importlib; see the module's documentation for alternative uses\n",
      "  from imp import reload\n",
      "/home/sxia1/.nlp_env/lib/python3.8/site-packages/past/builtins/misc.py:45: DeprecationWarning: the imp module is deprecated in favour of importlib; see the module's documentation for alternative uses\n",
      "  from imp import reload\n",
      "/home/sxia1/.nlp_env/lib/python3.8/site-packages/past/builtins/misc.py:45: DeprecationWarning: the imp module is deprecated in favour of importlib; see the module's documentation for alternative uses\n",
      "  from imp import reload\n"
     ]
    },
    {
     "data": {
      "text/html": [
       "\n",
       "<link rel=\"stylesheet\" type=\"text/css\" href=\"https://cdn.jsdelivr.net/gh/bmabey/pyLDAvis@3.3.1/pyLDAvis/js/ldavis.v1.0.0.css\">\n",
       "\n",
       "\n",
       "<div id=\"ldavis_el326721401218352881604844434497\"></div>\n",
       "<script type=\"text/javascript\">\n",
       "\n",
       "var ldavis_el326721401218352881604844434497_data = {\"mdsDat\": {\"x\": [-0.157714008937107, -0.174650978987957, -0.1857098180290135, -0.05146374783686679, 0.16298069467383783, 0.2080386379600895, 0.19851922115701728], \"y\": [-0.18426723249502167, 0.22829104160117186, -0.13817613786609287, 0.1468950700644141, -0.08776917237155109, 0.006313018166874752, 0.028713412900204856], \"topics\": [1, 2, 3, 4, 5, 6, 7], \"cluster\": [1, 1, 1, 1, 1, 1, 1], \"Freq\": [24.852654806650285, 22.64020557904708, 21.96836203815019, 18.172539348016254, 6.194453997207333, 3.9926788398098787, 2.1791053911189726]}, \"tinfo\": {\"Term\": [\"signal\", \"expression\", \"material\", \"circuit\", \"gene\", \"parameter\", \"frequency\", \"energy\", \"network\", \"protein\", \"adolescent\", \"current\", \"problem\", \"human\", \"group\", \"filter\", \"simulation\", \"voltage\", \"treatment\", \"temperature\", \"measurement\", \"activity\", \"information\", \"gain\", \"digital\", \"fracture\", \"disease\", \"water\", \"machine\", \"research\", \"parameter\", \"temperature\", \"measurement\", \"water\", \"controller\", \"simple\", \"feedback\", \"scale\", \"engine\", \"transfer\", \"strength\", \"thermal\", \"pressure\", \"operate\", \"configuration\", \"conventional\", \"validate\", \"vehicle\", \"bias\", \"yield\", \"selection\", \"simulate\", \"maximum\", \"modify\", \"space\", \"methodology\", \"surface\", \"soil\", \"urban\", \"computational\", \"ratio\", \"load\", \"energy\", \"simulation\", \"speed\", \"efficiency\", \"experimental\", \"node\", \"variation\", \"area\", \"characteristic\", \"ltd\", \"error\", \"structure\", \"condition\", \"dynamic\", \"flow\", \"range\", \"obtain\", \"value\", \"rate\", \"phase\", \"apply\", \"reduce\", \"determine\", \"large\", \"achieve\", \"due\", \"adolescent\", \"disease\", \"social\", \"parent\", \"health\", \"clinical\", \"evidence\", \"experience\", \"disorder\", \"risk\", \"age\", \"child\", \"intervention\", \"association\", \"brain\", \"people\", \"review\", \"family\", \"woman\", \"rna\", \"whether\", \"male\", \"diagnosis\", \"student\", \"care\", \"symptom\", \"participant\", \"acute\", \"injury\", \"joint\", \"group\", \"year\", \"associate\", \"treatment\", \"among\", \"may\", \"report\", \"individual\", \"examine\", \"behavior\", \"support\", \"stress\", \"significantly\", \"suggest\", \"p\", \"development\", \"however\", \"change\", \"network\", \"problem\", \"service\", \"equation\", \"framework\", \"communication\", \"term\", \"nonlinear\", \"resource\", \"project\", \"electrical\", \"concept\", \"security\", \"effectiveness\", \"robust\", \"criterion\", \"numerical\", \"protocol\", \"monitor\", \"extend\", \"create\", \"attack\", \"mechanical\", \"reflect\", \"perspective\", \"mobile\", \"user\", \"practical\", \"vibration\", \"perception\", \"motion\", \"solution\", \"learn\", \"software\", \"tool\", \"set\", \"exist\", \"information\", \"feature\", \"part\", \"key\", \"domain\", \"introduce\", \"one\", \"research\", \"scheme\", \"many\", \"application\", \"describe\", \"work\", \"technique\", \"function\", \"estimate\", \"case\", \"however\", \"number\", \"gene\", \"protein\", \"cancer\", \"mouse\", \"inhibitor\", \"reaction\", \"tumor\", \"receptor\", \"tissue\", \"cd\", \"pathway\", \"molecular\", \"enzyme\", \"assay\", \"acid\", \"formation\", \"metabolic\", \"specie\", \"dna\", \"kinase\", \"mutation\", \"bind\", \"mir\", \"metabolism\", \"platform\", \"liver\", \"regulation\", \"vitro\", \"inflammatory\", \"survival\", \"expression\", \"beta\", \"concentration\", \"marker\", \"activity\", \"human\", \"induce\", \"drug\", \"role\", \"indicate\", \"potential\", \"c\", \"mechanism\", \"detect\", \"sample\", \"find\", \"n\", \"target\", \"reveal\", \"novel\", \"demonstrate\", \"circuit\", \"voltage\", \"digital\", \"loop\", \"integrate\", \"converter\", \"recognition\", \"adjust\", \"gender\", \"iron\", \"module\", \"amplifier\", \"prior\", \"db\", \"involvement\", \"segmentation\", \"analog\", \"bandwidth\", \"ci\", \"operational_amplifier\", \"proportion\", \"proposed\", \"ic\", \"capacitor\", \"detector\", \"pulse\", \"mixture\", \"cea\", \"adapt\", \"modulation\", \"filter\", \"signal\", \"switch\", \"gain\", \"noise\", \"frequency\", \"current\", \"input\", \"output\", \"detection\", \"internal\", \"mu\", \"implement\", \"active\", \"coefficient\", \"sleep\", \"wind\", \"tank\", \"start\", \"wind_turbine\", \"capable\", \"roll\", \"solid\", \"permanent_magnet\", \"industry\", \"diameter\", \"fusion\", \"reactor\", \"shear\", \"compression\", \"dry\", \"stochastic\", \"automatic\", \"harvest\", \"friction\", \"outcomes\", \"conjugate\", \"distortion\", \"adhesive\", \"threedimensional\", \"crack\", \"slip\", \"fiber\", \"tend\", \"lab\", \"heat\", \"fracture\", \"material\", \"machine\", \"curve\", \"site\", \"benefit\", \"contact\", \"telomere\", \"stimulation\", \"hdpp\", \"prosocial\", \"overcome\", \"potent\", \"ht\", \"tolerance\", \"et\", \"nmolminmg\", \"determination\", \"algorithms\", \"equipment\", \"abi\", \"ache\", \"reliability\", \"aceclofenac\", \"repair\", \"brain_stimulation\", \"fabp\", \"ft\", \"adaptive_deep\", \"restore\", \"lifetime\", \"deck\", \"crystal\", \"deep_brain\", \"embed\", \"antioxidant\", \"pd\", \"meoh\", \"light\", \"compound\", \"inhibition\", \"status\", \"human\", \"skin\"], \"Freq\": [283.0, 420.0, 242.0, 200.0, 320.0, 338.0, 237.0, 388.0, 285.0, 245.0, 274.0, 273.0, 247.0, 242.0, 292.0, 135.0, 298.0, 116.0, 318.0, 230.0, 228.0, 292.0, 266.0, 130.0, 104.0, 97.0, 198.0, 209.0, 105.0, 327.0, 337.32614692932293, 229.83448654685256, 228.26807092273123, 208.8350993690664, 201.21843101341292, 151.5988837118947, 125.4542355667185, 119.61979331212063, 115.44905305261318, 115.38549146837435, 114.72963425591574, 113.61960791811383, 109.62063230778476, 104.18903555479399, 102.35056898569404, 121.30971486683657, 98.27981178048765, 94.16814946305259, 93.88773771673942, 92.73173780165112, 90.62688440557508, 90.12697996412332, 89.04750520736381, 86.17255919406664, 83.70288461436998, 82.8427455169727, 202.25694650767608, 81.59143571568677, 77.04242876108614, 76.22581564887473, 128.8521865256728, 219.39479145458296, 363.84154029740733, 281.09159209421045, 120.8168499601872, 168.72632097734757, 226.50515480714125, 105.20655157523892, 113.43567028875408, 222.5004609285419, 208.75216281904068, 153.67974853937488, 194.02359324322592, 249.5470684228684, 235.85263899968578, 202.09575199075482, 150.9404056264789, 175.14560778332822, 191.1591740419717, 181.49514904449745, 181.43306034754033, 132.91311004226293, 150.19579612524242, 152.18956566213672, 142.39840666613122, 135.6513916099118, 138.87945151895053, 138.37537750688506, 274.1437064590417, 197.70099385298593, 158.62200182021567, 149.91759457241503, 147.31556314761409, 144.01500390197984, 139.7486684299484, 139.65582999609003, 137.94419906605202, 137.88086963917243, 136.14471199855294, 132.11960846555144, 120.3829460325606, 118.45150210503431, 116.61366615417629, 116.13789137900234, 114.95680102077463, 114.47075580886886, 112.46155845974448, 110.38283587752765, 108.68902282331838, 104.05551677164046, 104.00488480112385, 101.7267421058805, 101.2093725552393, 97.23702216844828, 96.78881281136151, 94.97891718406215, 93.27252506469141, 92.53012343776157, 272.0465444471882, 154.07877892563, 226.6860605694523, 261.7595724108729, 161.54379801438793, 252.03995074410716, 204.15854328054482, 155.853019069405, 161.68770251983517, 186.56330210628377, 165.5857229639387, 175.83096210171826, 140.02987713135815, 141.3221565596798, 129.91384225817046, 134.48867560356192, 130.2703083000129, 128.56293945322963, 284.9056471762964, 246.79223961055362, 184.71668592355158, 142.41519148096927, 134.90319680313598, 134.85971549283153, 134.94020665466326, 128.78790758782947, 127.66906320667351, 120.01303070522935, 113.4558633919413, 112.27841210156392, 106.36206280467142, 102.2501304464298, 98.06456131168845, 91.729836034119, 89.0431946057245, 85.50370872750806, 85.19531882655096, 83.37995976159495, 80.6765652964253, 77.4672434803917, 73.04165598106366, 73.0514876203597, 72.6709735027946, 71.02103870953842, 70.51901242295213, 70.02278268709004, 69.4273989064287, 65.22559847234321, 88.0394196543042, 168.25972796061293, 167.33360094135452, 141.77147279592063, 120.17790930658852, 191.16346508423715, 143.59943014453157, 234.0774505513192, 187.5053677056526, 115.30514974965797, 130.9782570547967, 142.76676592415077, 106.0818850176437, 214.27783095936252, 209.3841253198811, 116.91171811057617, 135.00713264328905, 199.0289296916985, 134.49817538605978, 188.1384410324761, 154.9330414130388, 155.64952571667484, 126.71566224354513, 127.62710402942464, 131.00345362210655, 125.56909397981725, 319.64475928140024, 244.77347074374734, 154.7625144169167, 152.77028573194065, 130.92328015268197, 128.0674704524765, 117.47199477496297, 119.75716519284718, 115.57686955908616, 101.36076963707282, 95.96443954662092, 91.88974452943458, 91.39961829313616, 86.97433081273319, 85.99582053253577, 85.49324553963778, 81.77753718541078, 76.64744576981755, 75.85342574566364, 74.02670533863363, 70.51199055390657, 69.97956863758377, 69.77917691636726, 68.06474080948065, 66.39123434539616, 64.92136641563619, 64.24034340669817, 63.33255821886136, 60.70716138253714, 59.9724828072248, 402.8859202206303, 89.25772736199252, 109.79521402421804, 80.06107380009574, 195.4106506035069, 165.66797363662738, 86.94031054660609, 89.0859075961267, 125.7652582253033, 109.5137786802025, 124.6776946199578, 117.9762090125277, 105.30352525622763, 99.75812684883522, 106.21358321324007, 103.58912082556645, 94.81532111618094, 96.14338646321168, 90.23480429298857, 95.67158492333274, 91.59767389272615, 199.90455678690827, 115.52404546649767, 103.6792526961979, 92.39566771899668, 83.26684166141857, 81.2472073171135, 78.90480506917802, 71.63124391165495, 70.00049020218592, 59.37519281005932, 58.5238523787344, 54.68645264694609, 49.17042875104233, 45.68365432064869, 47.687810533289, 41.35081400885564, 40.57880237651285, 40.35022864875289, 40.446147715822136, 38.32611336643537, 39.069981468827585, 35.9766279972079, 36.05152984538253, 34.269066691228815, 34.14606224342639, 33.53914078451996, 33.827664604038254, 32.73465584838803, 32.48703003599436, 31.316079952529726, 112.9136453343733, 209.12440527206488, 52.69449754262887, 82.65596024102761, 46.09514479692592, 103.22642961579605, 88.68310260125925, 65.1554624794066, 57.713763570726634, 59.97241006887249, 44.483456668891854, 47.73711164886711, 48.38230193801615, 48.35780254440101, 42.49219260079825, 78.92374533871057, 66.25198250328755, 50.449841479000845, 48.981971481944434, 41.010932968552204, 39.687773236574415, 35.59669649572431, 34.545582736275314, 30.389106949547084, 27.835553286620673, 26.468243805011156, 25.796772655213143, 25.611481158197154, 25.39115172391678, 24.449946917541137, 23.995269742269738, 23.60210121523404, 23.52961559082389, 22.868707322996883, 22.645380055470582, 23.022393688897193, 22.55511969836141, 21.551141342548792, 21.45524547651126, 20.98092492495051, 20.86029475976954, 20.157178461348796, 19.891002883115867, 19.876935859440103, 20.028810998173253, 71.88932875719036, 76.46050422964167, 128.27242333617744, 59.77419204599128, 29.298052238273613, 29.881166472385, 26.23517488435429, 23.214669110840145, 35.09286674580377, 34.105346507714636, 30.616331296823297, 29.626566228394413, 24.880375757595296, 24.529496620742385, 24.69376236573066, 23.621278527887323, 23.274478828910713, 23.289153790023455, 21.91705727064976, 19.502603600132794, 18.13427125481442, 17.95602754764292, 17.751096568107467, 16.656050476087945, 16.06666476276518, 15.280981740570672, 15.373009339012444, 15.228938520773536, 15.165042520815325, 15.17910594608255, 14.777155969410467, 14.2342545770655, 14.06446316890167, 13.536774205508825, 13.588043509600844, 13.259549053627362, 13.05254891786927, 12.98280154542648, 13.057955882317048, 36.39671434547415, 25.45776435310401, 21.400290489392205, 15.975416777567453, 16.349002506249526, 15.307196117203151], \"Total\": [283.0, 420.0, 242.0, 200.0, 320.0, 338.0, 237.0, 388.0, 285.0, 245.0, 274.0, 273.0, 247.0, 242.0, 292.0, 135.0, 298.0, 116.0, 318.0, 230.0, 228.0, 292.0, 266.0, 130.0, 104.0, 97.0, 198.0, 209.0, 105.0, 327.0, 338.0625735857694, 230.5620367358842, 228.99614173726926, 209.56285561653533, 201.9456311167475, 152.32735357405963, 126.18506559535797, 120.35023850890067, 116.1761441560581, 116.11622479484288, 115.45923226036851, 114.34661276171262, 110.34844470526228, 104.9173837216951, 103.0789446170477, 122.20732709398678, 99.00799741397228, 94.89512933315609, 94.6199273894926, 93.46176779615291, 91.35715256338229, 90.85487527975151, 89.77492854303479, 86.90241892605157, 84.43199316739083, 83.57096037848805, 204.0396229213398, 82.31924883616561, 77.77350916023198, 76.95565312018365, 131.1665097114408, 226.1303035947909, 388.3381470028404, 298.35115169838815, 124.2502647578143, 178.16587489414263, 246.50306949522374, 107.80224120185665, 119.29550841436057, 267.0351946475025, 248.57184498103538, 178.04393267340305, 243.05149820283717, 341.8106485645371, 326.5082463751268, 297.4442343817965, 188.53078884538806, 243.8810591378857, 289.863644948867, 265.10607811627534, 270.11621913622866, 158.0560790965541, 238.2232731317701, 285.8844380625076, 237.86138568854722, 217.41697106762064, 270.59733399375455, 263.257867363628, 274.92477029919695, 198.48128564676767, 159.40135130535884, 150.69719805213475, 148.09548284241723, 144.7957679752122, 140.5290669051012, 140.4364344860061, 138.72380902396344, 138.66133788663043, 136.9243666062085, 132.89875202378192, 121.16239701042751, 119.23195764321792, 117.3940593311843, 116.91872922012293, 115.73903273093988, 115.2524177358699, 113.24067936438703, 111.17096163122994, 109.47002107566166, 104.83526983432384, 104.78545193603848, 102.50667238044996, 101.98989877299084, 98.01625428184225, 97.568320979749, 95.76190717556413, 94.05267003445927, 93.31951867998035, 292.56930272690624, 167.41750799712798, 262.1971160525627, 318.06877395969485, 187.39441378006222, 338.8621140929693, 259.4149103057409, 181.6968734783784, 193.40636976762414, 277.1662765081755, 230.5005369222707, 299.7350951164877, 219.09176224532348, 241.3736478838828, 212.62176113187058, 263.3513484221663, 318.6428867841322, 311.34440023635887, 285.64928943849395, 247.53524924146254, 185.46296065401805, 143.15779549926492, 135.64588142555448, 135.60251970663597, 135.68412722641642, 129.5305520927856, 128.4141452740583, 120.7557346015693, 114.19920649042187, 113.02171655853708, 107.10459156705721, 102.99348584476598, 98.80880146630248, 92.47517954649062, 89.78602776991801, 86.24787895376319, 85.94324463357177, 84.13133030101632, 81.42107038839893, 78.21113759485995, 73.78598461866262, 73.79673500423885, 73.41678623172879, 71.76407561735408, 71.26234320379137, 70.76738448691222, 70.17168571326721, 65.97046204717088, 89.20420297664592, 172.35446425663054, 173.42542257550028, 148.46015570968137, 125.29970656542422, 205.87204752619675, 153.3305623202098, 266.40591804718275, 214.9888961026001, 124.45736857298982, 145.84997244747893, 163.07426033928135, 114.84638218917796, 326.70717880060613, 327.13258619243237, 135.98061872234672, 172.77857665556778, 337.26774128804, 177.71663659447862, 340.5804412333231, 249.42597230701122, 311.987951111651, 189.65696752934835, 238.61333686224518, 318.6428867841322, 226.65898243990705, 320.40782569035923, 245.53660344743955, 155.52625281244187, 153.53356501287337, 131.6877189201561, 128.83241677174115, 118.2354777383855, 120.54545269755506, 116.34094279550465, 102.12657107133386, 96.72928897597389, 92.65323990776916, 92.16263405405026, 87.73731637573228, 86.7596880592139, 86.25858630301435, 82.54215950011934, 77.4107546789002, 76.61702880491957, 74.79054308075202, 71.27636558168106, 70.74307610573837, 70.54307226893297, 68.82896682040666, 67.16382048627347, 65.68463808350562, 65.0068876357002, 64.09622027245081, 61.472681572751206, 60.73843618519905, 420.55037570233776, 92.5159886950693, 125.15552645090958, 85.72794256148168, 292.82609415091815, 242.7951102977973, 98.12205088669597, 118.49562456618294, 249.8384865905828, 188.3049759306865, 268.71363805291816, 259.4613290497612, 206.8221267346861, 177.2423999781861, 266.0517240725084, 360.0759770099315, 187.64438562958512, 229.0738509178576, 132.19863310674438, 241.3631052600117, 302.3544712612571, 200.64843878916386, 116.25744620273926, 104.41300558944582, 93.12981313950387, 84.00570478201183, 81.97880074816645, 79.64096398677182, 72.37035836822896, 70.7402499066838, 60.111230178808704, 59.25895765001769, 55.41794099104646, 49.917241732013856, 46.414966242986246, 48.451998612478754, 42.09357364813775, 41.31442714432577, 41.08281552859124, 41.18529961453223, 39.057536613145054, 39.81945345321048, 36.71184225673825, 36.789113590113644, 35.000543256653195, 34.87930590014242, 34.272422261003705, 34.57002119320907, 33.47294830686818, 33.23787052152962, 32.05196207432786, 135.2770014501834, 283.819070918963, 65.86747464331877, 130.7215703485292, 54.75356022427534, 237.34955383151714, 273.7139328887991, 152.44663236399282, 122.26352224434885, 167.95108509048126, 70.75148912864503, 98.54810550858703, 131.09569320937212, 155.19121499152803, 73.27819041795662, 79.69034344466716, 67.01605073717853, 51.21310865967628, 49.75139268851197, 41.77531859549743, 40.45734025899272, 36.36070674999329, 35.30966046292177, 31.152866864732424, 28.605430524989195, 27.23237995616479, 26.56578502088536, 26.375228272826497, 26.154412031993203, 25.215452855840567, 24.762481644239735, 24.369215807673868, 24.298768598692018, 23.632476608050226, 23.41134023492813, 23.81041759523307, 23.332019893248447, 22.322134732185642, 22.22404642443946, 21.747592023783277, 21.625858832671813, 20.922265215049894, 20.660532771979497, 20.652347771482322, 20.810209920219897, 79.88968952880626, 97.16915582561762, 242.63109161775782, 105.50443352358313, 55.8024601986223, 104.38890757996592, 73.42474652689569, 53.065524975685626, 35.894900723705064, 34.91513031055734, 31.430089105594426, 30.429987235431057, 25.692799530282755, 25.33078977208461, 25.51886282967937, 24.429574730412597, 24.075544239387277, 24.093075039204198, 22.721424784741245, 20.305828551244755, 18.94646102279848, 18.76039395189712, 18.551727174856463, 17.458912957190034, 16.88175333462587, 16.084593366204274, 16.191042742042594, 16.050238095348092, 15.992953039206549, 16.00927380133217, 15.601350078206675, 15.04161657659944, 14.865582904362098, 14.340170745059003, 14.399292525232324, 14.06435647015459, 13.852983865622653, 13.783219916001498, 13.878861357413415, 58.23103079976853, 76.01385411344056, 55.099361608750854, 50.73524322200199, 242.7951102977973, 88.45837316304095], \"Category\": [\"Default\", \"Default\", \"Default\", \"Default\", \"Default\", \"Default\", \"Default\", \"Default\", \"Default\", \"Default\", \"Default\", \"Default\", \"Default\", \"Default\", \"Default\", \"Default\", \"Default\", \"Default\", \"Default\", \"Default\", \"Default\", \"Default\", \"Default\", \"Default\", \"Default\", \"Default\", \"Default\", \"Default\", \"Default\", \"Default\", \"Topic1\", \"Topic1\", \"Topic1\", \"Topic1\", \"Topic1\", \"Topic1\", \"Topic1\", \"Topic1\", \"Topic1\", \"Topic1\", \"Topic1\", \"Topic1\", \"Topic1\", \"Topic1\", \"Topic1\", \"Topic1\", \"Topic1\", \"Topic1\", \"Topic1\", \"Topic1\", \"Topic1\", \"Topic1\", \"Topic1\", \"Topic1\", \"Topic1\", \"Topic1\", \"Topic1\", \"Topic1\", \"Topic1\", \"Topic1\", \"Topic1\", \"Topic1\", \"Topic1\", \"Topic1\", \"Topic1\", \"Topic1\", \"Topic1\", \"Topic1\", \"Topic1\", \"Topic1\", \"Topic1\", \"Topic1\", \"Topic1\", \"Topic1\", \"Topic1\", \"Topic1\", \"Topic1\", \"Topic1\", \"Topic1\", \"Topic1\", \"Topic1\", \"Topic1\", \"Topic1\", \"Topic1\", \"Topic1\", \"Topic1\", \"Topic1\", \"Topic1\", \"Topic2\", \"Topic2\", \"Topic2\", \"Topic2\", \"Topic2\", \"Topic2\", \"Topic2\", \"Topic2\", \"Topic2\", \"Topic2\", \"Topic2\", \"Topic2\", \"Topic2\", \"Topic2\", \"Topic2\", \"Topic2\", \"Topic2\", \"Topic2\", \"Topic2\", \"Topic2\", \"Topic2\", \"Topic2\", \"Topic2\", \"Topic2\", \"Topic2\", \"Topic2\", \"Topic2\", \"Topic2\", \"Topic2\", \"Topic2\", \"Topic2\", \"Topic2\", \"Topic2\", \"Topic2\", \"Topic2\", \"Topic2\", \"Topic2\", \"Topic2\", \"Topic2\", \"Topic2\", \"Topic2\", \"Topic2\", \"Topic2\", \"Topic2\", \"Topic2\", \"Topic2\", \"Topic2\", \"Topic2\", \"Topic3\", \"Topic3\", \"Topic3\", \"Topic3\", \"Topic3\", \"Topic3\", \"Topic3\", \"Topic3\", \"Topic3\", \"Topic3\", \"Topic3\", \"Topic3\", \"Topic3\", \"Topic3\", \"Topic3\", \"Topic3\", \"Topic3\", \"Topic3\", \"Topic3\", \"Topic3\", \"Topic3\", \"Topic3\", \"Topic3\", \"Topic3\", \"Topic3\", \"Topic3\", \"Topic3\", \"Topic3\", \"Topic3\", \"Topic3\", \"Topic3\", \"Topic3\", \"Topic3\", \"Topic3\", \"Topic3\", \"Topic3\", \"Topic3\", \"Topic3\", \"Topic3\", \"Topic3\", \"Topic3\", \"Topic3\", \"Topic3\", \"Topic3\", \"Topic3\", \"Topic3\", \"Topic3\", \"Topic3\", \"Topic3\", \"Topic3\", \"Topic3\", \"Topic3\", \"Topic3\", \"Topic3\", \"Topic3\", \"Topic3\", \"Topic4\", \"Topic4\", \"Topic4\", \"Topic4\", \"Topic4\", \"Topic4\", \"Topic4\", \"Topic4\", \"Topic4\", \"Topic4\", \"Topic4\", \"Topic4\", \"Topic4\", \"Topic4\", \"Topic4\", \"Topic4\", \"Topic4\", \"Topic4\", \"Topic4\", \"Topic4\", \"Topic4\", \"Topic4\", \"Topic4\", \"Topic4\", \"Topic4\", \"Topic4\", \"Topic4\", \"Topic4\", \"Topic4\", \"Topic4\", \"Topic4\", \"Topic4\", \"Topic4\", \"Topic4\", \"Topic4\", \"Topic4\", \"Topic4\", \"Topic4\", \"Topic4\", \"Topic4\", \"Topic4\", \"Topic4\", \"Topic4\", \"Topic4\", \"Topic4\", \"Topic4\", \"Topic4\", \"Topic4\", \"Topic4\", \"Topic4\", \"Topic4\", \"Topic5\", \"Topic5\", \"Topic5\", \"Topic5\", \"Topic5\", \"Topic5\", \"Topic5\", \"Topic5\", \"Topic5\", \"Topic5\", \"Topic5\", \"Topic5\", \"Topic5\", \"Topic5\", \"Topic5\", \"Topic5\", \"Topic5\", \"Topic5\", \"Topic5\", \"Topic5\", \"Topic5\", \"Topic5\", \"Topic5\", \"Topic5\", \"Topic5\", \"Topic5\", \"Topic5\", \"Topic5\", \"Topic5\", \"Topic5\", \"Topic5\", \"Topic5\", \"Topic5\", \"Topic5\", \"Topic5\", \"Topic5\", \"Topic5\", \"Topic5\", \"Topic5\", \"Topic5\", \"Topic5\", \"Topic5\", \"Topic5\", \"Topic5\", \"Topic5\", \"Topic6\", \"Topic6\", \"Topic6\", \"Topic6\", \"Topic6\", \"Topic6\", \"Topic6\", \"Topic6\", \"Topic6\", \"Topic6\", \"Topic6\", \"Topic6\", \"Topic6\", \"Topic6\", \"Topic6\", \"Topic6\", \"Topic6\", \"Topic6\", \"Topic6\", \"Topic6\", \"Topic6\", \"Topic6\", \"Topic6\", \"Topic6\", \"Topic6\", \"Topic6\", \"Topic6\", \"Topic6\", \"Topic6\", \"Topic6\", \"Topic6\", \"Topic6\", \"Topic6\", \"Topic6\", \"Topic6\", \"Topic6\", \"Topic6\", \"Topic6\", \"Topic7\", \"Topic7\", \"Topic7\", \"Topic7\", \"Topic7\", \"Topic7\", \"Topic7\", \"Topic7\", \"Topic7\", \"Topic7\", \"Topic7\", \"Topic7\", \"Topic7\", \"Topic7\", \"Topic7\", \"Topic7\", \"Topic7\", \"Topic7\", \"Topic7\", \"Topic7\", \"Topic7\", \"Topic7\", \"Topic7\", \"Topic7\", \"Topic7\", \"Topic7\", \"Topic7\", \"Topic7\", \"Topic7\", \"Topic7\", \"Topic7\", \"Topic7\", \"Topic7\", \"Topic7\", \"Topic7\", \"Topic7\", \"Topic7\"], \"logprob\": [30.0, 29.0, 28.0, 27.0, 26.0, 25.0, 24.0, 23.0, 22.0, 21.0, 20.0, 19.0, 18.0, 17.0, 16.0, 15.0, 14.0, 13.0, 12.0, 11.0, 10.0, 9.0, 8.0, 7.0, 6.0, 5.0, 4.0, 3.0, 2.0, 1.0, -4.9265, -5.3102, -5.317, -5.406, -5.4431, -5.7263, -5.9156, -5.9632, -5.9987, -5.9992, -6.0049, -6.0147, -6.0505, -6.1013, -6.1191, -5.9492, -6.1597, -6.2024, -6.2054, -6.2178, -6.2408, -6.2463, -6.2584, -6.2912, -6.3203, -6.3306, -5.438, -6.3458, -6.4032, -6.4138, -5.8889, -5.3567, -4.8508, -5.1088, -5.9532, -5.6192, -5.3248, -6.0916, -6.0163, -5.3426, -5.4064, -5.7127, -5.4795, -5.2279, -5.2843, -5.4388, -5.7306, -5.5819, -5.4944, -5.5463, -5.5466, -5.8578, -5.7356, -5.7224, -5.7889, -5.8374, -5.8139, -5.8176, -5.0406, -5.3675, -5.5878, -5.6442, -5.6617, -5.6844, -5.7144, -5.7151, -5.7274, -5.7279, -5.7406, -5.7706, -5.8636, -5.8798, -5.8954, -5.8995, -5.9097, -5.914, -5.9317, -5.9503, -5.9658, -6.0094, -6.0098, -6.032, -6.0371, -6.0771, -6.0818, -6.1006, -6.1188, -6.1268, -5.0483, -5.6168, -5.2307, -5.0869, -5.5695, -5.1247, -5.3354, -5.6054, -5.5686, -5.4255, -5.5448, -5.4848, -5.7124, -5.7032, -5.7874, -5.7528, -5.7847, -5.7979, -4.972, -5.1156, -5.4053, -5.6654, -5.7196, -5.7199, -5.7193, -5.766, -5.7747, -5.8366, -5.8927, -5.9032, -5.9573, -5.9967, -6.0385, -6.1053, -6.135, -6.1756, -6.1792, -6.2008, -6.2337, -6.2743, -6.3331, -6.333, -6.3382, -6.3612, -6.3683, -6.3753, -6.3839, -6.4463, -6.1464, -5.4987, -5.5042, -5.6699, -5.8352, -5.371, -5.6571, -5.1685, -5.3904, -5.8766, -5.7491, -5.663, -5.96, -5.2569, -5.28, -5.8627, -5.7188, -5.3307, -5.7226, -5.387, -5.5812, -5.5766, -5.7822, -5.7751, -5.7489, -5.7913, -4.6673, -4.9341, -5.3926, -5.4055, -5.5599, -5.5819, -5.6683, -5.649, -5.6845, -5.8158, -5.8705, -5.9139, -5.9192, -5.9689, -5.9802, -5.986, -6.0305, -6.0953, -6.1057, -6.13, -6.1787, -6.1863, -6.1891, -6.214, -6.2389, -6.2613, -6.2718, -6.2861, -6.3284, -6.3406, -4.4358, -5.9429, -5.7359, -6.0517, -5.1594, -5.3245, -5.9692, -5.9449, -5.6001, -5.7384, -5.6087, -5.664, -5.7776, -5.8317, -5.769, -5.794, -5.8825, -5.8686, -5.9321, -5.8735, -5.9171, -4.0604, -4.6087, -4.7169, -4.8321, -4.9362, -4.9607, -4.99, -5.0867, -5.1097, -5.2743, -5.2888, -5.3566, -5.4629, -5.5365, -5.4935, -5.6361, -5.655, -5.6606, -5.6582, -5.7121, -5.6929, -5.7753, -5.7733, -5.824, -5.8276, -5.8455, -5.8369, -5.8698, -5.8774, -5.9141, -4.6316, -4.0153, -5.3937, -4.9435, -5.5275, -4.7213, -4.8731, -5.1814, -5.3027, -5.2643, -5.5631, -5.4925, -5.4791, -5.4796, -5.6089, -4.5505, -4.7256, -4.998, -5.0276, -5.2052, -5.238, -5.3468, -5.3767, -5.5049, -5.5927, -5.6431, -5.6688, -5.676, -5.6846, -5.7224, -5.7412, -5.7577, -5.7608, -5.7893, -5.7991, -5.7826, -5.8031, -5.8486, -5.8531, -5.8754, -5.8812, -5.9155, -5.9288, -5.9295, -5.9219, -4.6439, -4.5822, -4.0649, -4.8284, -5.5415, -5.5218, -5.6519, -5.7742, -4.7555, -4.784, -4.8919, -4.9248, -5.0994, -5.1136, -5.1069, -5.1513, -5.1661, -5.1655, -5.2262, -5.3429, -5.4157, -5.4255, -5.437, -5.5007, -5.5367, -5.5869, -5.5809, -5.5903, -5.5945, -5.5936, -5.6204, -5.6578, -5.6698, -5.7081, -5.7043, -5.7288, -5.7445, -5.7498, -5.7441, -4.719, -5.0765, -5.2501, -5.5424, -5.5193, -5.5852], \"loglift\": [30.0, 29.0, 28.0, 27.0, 26.0, 25.0, 24.0, 23.0, 22.0, 21.0, 20.0, 19.0, 18.0, 17.0, 16.0, 15.0, 14.0, 13.0, 12.0, 11.0, 10.0, 9.0, 8.0, 7.0, 6.0, 5.0, 4.0, 3.0, 2.0, 1.0, 1.39, 1.389, 1.389, 1.3887, 1.3886, 1.3874, 1.3864, 1.3861, 1.3859, 1.3859, 1.3859, 1.3858, 1.3856, 1.3852, 1.3851, 1.3848, 1.3848, 1.3845, 1.3844, 1.3844, 1.3842, 1.3842, 1.3841, 1.3838, 1.3835, 1.3835, 1.3834, 1.3833, 1.3828, 1.3827, 1.3744, 1.362, 1.327, 1.3326, 1.3642, 1.3378, 1.3076, 1.3678, 1.3418, 1.2098, 1.2176, 1.245, 1.1669, 1.0776, 1.067, 1.0057, 1.1698, 1.0611, 0.9759, 1.0133, 0.9942, 1.219, 0.9309, 0.7617, 0.8791, 0.9205, 0.7252, 0.749, 1.4826, 1.4815, 1.4805, 1.4803, 1.4802, 1.48, 1.4799, 1.4799, 1.4798, 1.4798, 1.4797, 1.4796, 1.479, 1.4789, 1.4788, 1.4787, 1.4787, 1.4786, 1.4785, 1.4783, 1.4783, 1.478, 1.478, 1.4778, 1.4778, 1.4775, 1.4774, 1.4772, 1.4771, 1.4769, 1.4127, 1.4024, 1.3399, 1.2906, 1.337, 1.1894, 1.2459, 1.332, 1.3063, 1.0896, 1.1547, 0.9521, 1.0378, 0.9501, 0.9928, 0.8134, 0.591, 0.601, 1.513, 1.5126, 1.5115, 1.5104, 1.5101, 1.5101, 1.5101, 1.5098, 1.5097, 1.5094, 1.509, 1.509, 1.5086, 1.5083, 1.508, 1.5075, 1.5073, 1.5069, 1.5068, 1.5066, 1.5064, 1.506, 1.5054, 1.5054, 1.5054, 1.5052, 1.5051, 1.505, 1.5049, 1.5042, 1.5024, 1.4915, 1.4798, 1.4695, 1.4738, 1.4414, 1.45, 1.3862, 1.3788, 1.4392, 1.408, 1.3826, 1.4362, 1.0938, 1.0694, 1.3645, 1.2689, 0.9881, 1.2369, 0.9221, 1.0394, 0.8202, 1.1123, 0.8898, 0.6267, 0.925, 1.7029, 1.7021, 1.7003, 1.7003, 1.6994, 1.6993, 1.6988, 1.6987, 1.6987, 1.6977, 1.6973, 1.697, 1.6969, 1.6965, 1.6964, 1.6963, 1.696, 1.6953, 1.6952, 1.695, 1.6945, 1.6944, 1.6944, 1.6941, 1.6937, 1.6936, 1.6934, 1.6933, 1.6927, 1.6926, 1.6623, 1.6694, 1.5743, 1.6369, 1.3008, 1.323, 1.5843, 1.42, 1.0189, 1.1632, 0.9373, 0.9171, 1.0302, 1.1305, 0.787, 0.4594, 1.0226, 0.8371, 1.3234, 0.7799, 0.5111, 2.7778, 2.7752, 2.7745, 2.7736, 2.7727, 2.7726, 2.7722, 2.7713, 2.771, 2.7692, 2.769, 2.7682, 2.7664, 2.7656, 2.7656, 2.7637, 2.7635, 2.7635, 2.7634, 2.7626, 2.7625, 2.7613, 2.7613, 2.7604, 2.7603, 2.7599, 2.7598, 2.7592, 2.7587, 2.7583, 2.6008, 2.4761, 2.5584, 2.3231, 2.6094, 1.9489, 1.6545, 1.9315, 2.0308, 1.7517, 2.3175, 2.0567, 1.7847, 1.6155, 2.2366, 3.211, 3.2092, 3.2057, 3.2051, 3.2022, 3.2015, 3.1995, 3.1988, 3.1959, 3.1934, 3.1922, 3.1913, 3.1913, 3.1911, 3.1899, 3.1892, 3.1887, 3.1885, 3.1879, 3.1874, 3.1871, 3.1868, 3.1856, 3.1855, 3.1848, 3.1847, 3.1835, 3.1828, 3.1824, 3.1824, 3.1152, 2.981, 2.5833, 2.6525, 2.5764, 1.9698, 2.1915, 2.394, 3.8037, 3.8028, 3.8, 3.7995, 3.7941, 3.7941, 3.7934, 3.7926, 3.7924, 3.7923, 3.7902, 3.7859, 3.7824, 3.7824, 3.7821, 3.7792, 3.7768, 3.775, 3.7744, 3.7737, 3.7731, 3.773, 3.772, 3.7711, 3.7709, 3.7686, 3.7683, 3.7673, 3.7667, 3.7664, 3.7653, 3.3563, 2.7324, 2.8805, 2.6707, 1.1282, 2.072]}, \"token.table\": {\"Topic\": [7, 7, 7, 1, 3, 5, 4, 1, 2, 4, 5, 2, 4, 2, 5, 7, 6, 5, 2, 2, 7, 2, 3, 4, 5, 5, 7, 1, 3, 5, 1, 3, 4, 1, 2, 4, 2, 3, 4, 2, 3, 6, 5, 1, 2, 2, 6, 2, 4, 1, 4, 2, 7, 1, 2, 3, 4, 4, 6, 5, 2, 1, 2, 3, 4, 5, 1, 2, 3, 4, 1, 3, 2, 5, 5, 2, 4, 5, 3, 4, 7, 6, 1, 1, 4, 3, 1, 2, 3, 4, 1, 6, 3, 4, 6, 1, 1, 5, 6, 3, 3, 7, 1, 2, 5, 4, 6, 5, 7, 7, 1, 2, 3, 4, 5, 1, 2, 3, 4, 1, 2, 4, 5, 1, 4, 5, 5, 7, 1, 2, 3, 4, 1, 2, 3, 4, 2, 6, 5, 2, 2, 6, 4, 3, 4, 2, 4, 6, 1, 2, 3, 4, 5, 1, 3, 3, 1, 3, 3, 7, 1, 3, 1, 4, 3, 7, 1, 3, 1, 2, 3, 7, 2, 1, 2, 3, 4, 2, 3, 2, 1, 3, 2, 4, 3, 7, 2, 2, 3, 4, 5, 1, 6, 1, 5, 1, 2, 3, 4, 1, 3, 6, 4, 2, 6, 3, 1, 5, 6, 7, 1, 2, 3, 4, 6, 1, 5, 5, 4, 2, 4, 6, 7, 2, 3, 6, 2, 3, 4, 7, 2, 4, 7, 5, 1, 3, 5, 1, 2, 4, 1, 2, 1, 4, 6, 4, 2, 3, 2, 7, 4, 2, 1, 3, 5, 5, 4, 5, 2, 3, 5, 5, 5, 2, 3, 4, 4, 6, 1, 2, 3, 4, 2, 3, 7, 2, 7, 4, 1, 3, 5, 5, 1, 2, 3, 4, 6, 3, 6, 2, 2, 3, 4, 2, 4, 1, 3, 6, 1, 1, 2, 3, 4, 1, 3, 1, 2, 3, 4, 7, 4, 4, 1, 4, 5, 3, 1, 5, 5, 4, 3, 3, 6, 4, 4, 5, 4, 1, 3, 4, 3, 7, 1, 2, 1, 5, 3, 1, 3, 4, 5, 1, 2, 3, 4, 3, 1, 3, 4, 1, 2, 3, 4, 5, 1, 5, 6, 1, 5, 7, 2, 4, 1, 2, 3, 4, 2, 4, 7, 2, 3, 6, 3, 1, 2, 5, 4, 7, 1, 2, 3, 4, 3, 1, 5, 3, 3, 5, 5, 7, 4, 3, 5, 1, 4, 5, 1, 2, 3, 4, 1, 4, 4, 6, 4, 5, 1, 2, 3, 4, 5, 3, 4, 7, 7, 1, 2, 3, 4, 2, 3, 3, 7, 2, 3, 4, 2, 2, 2, 3, 2, 4, 6, 1, 2, 4, 5, 1, 1, 3, 3, 5, 1, 3, 3, 4, 6, 1, 4, 5, 1, 2, 3, 4, 1, 1, 1, 3, 2, 4, 6, 2, 4, 7, 6, 6, 2, 1, 3, 1, 6, 3, 4, 1, 4, 1, 5, 6, 3, 7, 7, 6, 1, 1, 2, 1, 3, 4, 2, 2, 3, 4, 1, 2, 3, 4, 1, 4, 4, 1, 5, 2, 6, 1, 2, 3, 4, 1, 3, 5, 7, 1, 6, 3, 1, 6, 4, 7, 3, 4, 1, 2, 4, 4, 1, 3, 1, 1, 3, 4, 1, 4, 1, 3, 4, 5, 1, 2, 6, 6, 2, 1, 2, 3, 2, 3, 6, 1], \"Freq\": [0.9594681245049106, 0.9477688533206251, 0.9702600642163264, 0.5136783794152537, 0.33629303976106545, 0.1478211163784903, 0.9912437668206528, 0.5090494330127685, 0.07732396450826863, 0.10309861934435817, 0.3092958580330745, 0.3312546318020677, 0.6659242598082804, 0.9920437343194586, 0.9627572253545004, 0.9369569279745726, 0.9449224321681854, 0.9948824577274505, 0.9966362787238467, 0.9932490715194107, 0.9849388784863936, 0.8644868154401513, 0.12273578243903382, 0.016009015100743543, 0.9924583811023585, 0.9923894105265609, 0.9384259828859395, 0.36766042173627006, 0.5900356768186914, 0.04151004761538533, 0.6296614013737837, 0.3316216713901928, 0.037779684082427024, 0.8350959142084967, 0.16477228800526394, 0.9915963194887938, 0.8657608573943784, 0.07627848963827122, 0.057208867228703414, 0.9896675550115149, 0.9845145124837112, 0.9877043728582978, 0.97364310321337, 0.3247148287080492, 0.6746852552045022, 0.6401111644666525, 0.35410404842836096, 0.03242682743074751, 0.9619958804455095, 0.993448236469885, 0.9894961295628747, 0.99664327706675, 0.9264381694855351, 0.22739419479611386, 0.18114452805792122, 0.13489486131972855, 0.4547883895922277, 0.9966163088036558, 0.9886957408454189, 0.9714134935187612, 0.9902941488823892, 0.10058113396174304, 0.3646066106113185, 0.5364327144626295, 0.9889688740205821, 0.9858707305214838, 0.35651837616393206, 0.41433216689321833, 0.12847509050952505, 0.09956819514488192, 0.8408031891783461, 0.15689628888973922, 0.9932373178070093, 0.9712203231340827, 0.99676828390454, 0.9945042041881471, 0.4093987560130658, 0.5731582584182922, 0.9955567218961752, 0.6577748304326426, 0.3288874152163213, 0.9517973021230497, 0.987581768441479, 0.11985088014378278, 0.8789064543877404, 0.9909599978690121, 0.7227995084965129, 0.17151174777883357, 0.03981522716294351, 0.06431690541706259, 0.9895328321311775, 0.9857697749801541, 0.3203586510788185, 0.2449801449426259, 0.43342641028310736, 0.9953173975019007, 0.9901206652440876, 0.9880603187746884, 0.9710597004486924, 0.9948284837525432, 0.9948615450240706, 0.9762784731711642, 0.4530277238403392, 0.2228604125343604, 0.32515699533701764, 0.4659292781618598, 0.5196903487189974, 0.9910596457010469, 0.9417726899825701, 0.9722699900337026, 0.2282089618591378, 0.042995891364765094, 0.3770408935064016, 0.30427861581218374, 0.04961064388242126, 0.14067338027022233, 0.039388546475662256, 0.7540093182483917, 0.056269352108088935, 0.2820995428077801, 0.07334588113002283, 0.5641990856155602, 0.07898787198617843, 0.16076109294235363, 0.4822832788270609, 0.3572468732052303, 0.9747900401842908, 0.9682491396742988, 0.5969863481159278, 0.16816516848335994, 0.016816516848335992, 0.21441058981628391, 0.007594417161646322, 0.5088259498303036, 0.3797208580823161, 0.10252463168222535, 0.9925041890689374, 0.9547457857833755, 0.9960445005187403, 0.9975751585586552, 0.9947823734868871, 0.9855688205429042, 0.9919465840095335, 0.8769011105890274, 0.12264351197049334, 0.2447347748591572, 0.751082584912586, 0.9692081894216324, 0.5242008582003207, 0.20892063189143217, 0.16713650551314574, 0.07217258192613112, 0.026589898604364094, 0.6791188957480843, 0.3193875994854852, 0.990353896301137, 0.9485542621470664, 0.05051472401966626, 0.9894989945440431, 0.92432241941441, 0.9373274369497818, 0.061801809029655944, 0.9898761990716597, 0.9873849736828441, 0.9919124523032288, 0.9500454981191688, 0.7981847527559713, 0.19748901099116817, 0.28472457776508425, 0.04745409629418071, 0.66963002548455, 0.955326275132435, 0.9962351781254019, 0.03619322366895378, 0.8376146049100731, 0.12409105257927008, 0.0051704605241362535, 0.05869671293062069, 0.939147406889931, 0.9968922987285782, 0.9208810278299531, 0.07707814770382868, 0.04042321914850093, 0.9582680774615221, 0.9865528062260694, 0.934565575344799, 0.9891332627941903, 0.0046514030172179945, 0.8744637672369829, 0.10233086637879588, 0.018605612068871978, 0.9906085114766421, 0.9680292478771247, 0.16262927004707178, 0.8353230688781415, 0.24994724932043344, 0.35270334070772275, 0.10831047470552116, 0.2888279325480564, 0.8009301871846162, 0.10077929507620997, 0.0954751216511463, 0.985409147576415, 0.20582663119861344, 0.7821411985547311, 0.9952384737467392, 0.5645681562777238, 0.4339591051985489, 0.9824298724122408, 0.9379130897982171, 0.2275728910267796, 0.0865418036299021, 0.5000193098616567, 0.1859046152049749, 0.9787024919293537, 0.3595428044100819, 0.6349372928943999, 0.9895356616966962, 0.9987271668865124, 0.9296942552236716, 0.06835987170762291, 0.9732369730629595, 0.986316007436394, 0.9926028611987924, 0.08762081867242671, 0.9012427063449604, 0.4079802355295312, 0.4111185450336045, 0.17888364173217908, 0.9796674784004907, 0.24712194543954263, 0.6837040490494013, 0.0658991854505447, 0.9785503505491988, 0.17544436004672437, 0.45005292359811905, 0.36614475140185954, 0.09027908007198683, 0.3239425814347763, 0.5841587534069737, 0.13759180068101148, 0.8585728362495116, 0.11210528011386534, 0.8866508518096622, 0.978835119280575, 0.9923107051675987, 0.12011745172392352, 0.8783588657311907, 0.5989180098732569, 0.3811296426466181, 0.9947776533317197, 0.9888076539020786, 0.1836708332995191, 0.3870206844525581, 0.42637872015959793, 0.9880281370816237, 0.36748343137661854, 0.6218950377142776, 0.9904062890871376, 0.9229720429973496, 0.06965826739602639, 0.9906712080941417, 0.9815137674690203, 0.9965760787828742, 0.898183234468375, 0.09598904795845228, 0.9894299058652581, 0.961066710844052, 0.6255261460601506, 0.05519348347589564, 0.22077393390358255, 0.09658859608281736, 0.02883083648144645, 0.9629499384803114, 0.9307510219200837, 0.36063246196362153, 0.6182270776519226, 0.9895768918961656, 0.9684681642334506, 0.0044222290604267155, 0.022111145302133577, 0.9878684053858084, 0.8649550573705406, 0.050549321534641985, 0.011233182563253773, 0.028082956408134435, 0.039316138971388206, 0.426522360218552, 0.5686964802914027, 0.9920325493925484, 0.0810285642525511, 0.7813468695781713, 0.13311835555776252, 0.05832404057071753, 0.9331846491314805, 0.39566239990066426, 0.07418669998137455, 0.527549866534219, 0.9913680962423344, 0.09148263765920708, 0.7436653125845221, 0.020657369794014502, 0.1446015885581015, 0.9956499627910231, 0.9893477789484723, 0.05802087131322145, 0.23691855786232094, 0.1885678317679697, 0.5076826239906878, 0.9366762636515589, 0.9934317262426535, 0.9879561344779494, 0.9931679571958704, 0.9923015506489056, 0.9835111124166436, 0.9893529511697728, 0.9896157214355624, 0.9671794796247299, 0.9956300674144981, 0.99294962692703, 0.9890247961012714, 0.9865006027018572, 0.011210234121612013, 0.9965247663412973, 0.5073664251784448, 0.487071768171307, 0.9961226196169563, 0.31975377146876943, 0.1705353447833437, 0.5062768048255516, 0.9977269698805473, 0.9546311528343497, 0.9740057240868534, 0.01855248998260673, 0.1461092204275175, 0.8401280174582256, 0.9959040389760282, 0.40602725878268825, 0.1450097352795315, 0.39774098819528647, 0.04971762352441081, 0.17647657096759886, 0.2558910279030183, 0.5559011985479364, 0.008823828548379943, 0.9912455446638953, 0.6589305120816138, 0.30359102127320425, 0.03449897969013685, 0.14998139979625416, 0.1132512610706409, 0.6550208072734366, 0.06427774276982322, 0.015304224469005527, 0.9912561323095078, 0.9729236223057361, 0.9659637386874174, 0.5234594818239677, 0.47438515540297077, 0.9730352650178822, 0.6114143693851375, 0.3856613714583175, 0.9968568730501608, 0.9953735168195128, 0.9240111800415947, 0.06427903861158919, 0.9941751485108885, 0.9924605154892121, 0.9431758383908374, 0.9921421552710068, 0.985289445957238, 0.9629932336648745, 0.9943230117644585, 0.8414734868802628, 0.10122989315852786, 0.05694181490167192, 0.9826719135712162, 0.9869411978441686, 0.23817175958667341, 0.23072889209958988, 0.0669858073837519, 0.4651792179427215, 0.9891562406541372, 0.9968423233676472, 0.9816247512845728, 0.9978376847616542, 0.9937416255711348, 0.9794207759739, 0.9806100099319425, 0.9858696215642706, 0.9978145684191058, 0.9971259704381127, 0.9920512691245148, 0.7175628997947657, 0.15171329881375045, 0.13121150167675716, 0.6700819394658994, 0.26655193172124175, 0.007404220325590049, 0.05182954227913034, 0.983482752447961, 0.015247794611596295, 0.9935387630489305, 0.9857734587566364, 0.9954751283822909, 0.9919518303811806, 0.5316833648943344, 0.1853895943381561, 0.0664604206117918, 0.12592500747497395, 0.09094583873192563, 0.9892036550913386, 0.9845110622532367, 0.9737146889777556, 0.9325694258156915, 0.06167725664320043, 0.7863850222008055, 0.042403113942200296, 0.11179002766580078, 0.35765315024647515, 0.6388846871924214, 0.9967749248093, 0.9614552538599405, 0.2118024925219255, 0.10590124626096276, 0.680793725963332, 0.9936146629749539, 0.995230553110838, 0.9894670189584741, 0.9918144795372473, 0.4923180638760572, 0.5043258215315708, 0.9900797651576627, 0.40593610275032915, 0.16914004281263714, 0.39841876751421196, 0.026310673326410225, 0.9970898395114126, 0.13237180540230858, 0.8604167351150058, 0.9896867953941485, 0.9740204132517, 0.9960905900264952, 0.9975037568019757, 0.927760724659309, 0.06800340390172946, 0.955861671423503, 0.0140934856387508, 0.2501593700878267, 0.7363846246247293, 0.06846446368533043, 0.6390016610630841, 0.05933586852728638, 0.2327791765301235, 0.9978509862714809, 0.9905907605164912, 0.9418431884723243, 0.05697983702501606, 0.16285255200105764, 0.5460350272976638, 0.28738685647245465, 0.12435227561471753, 0.6895898920452518, 0.16957128492916027, 0.9913371756874595, 0.9559194377104786, 0.9974821336075753, 0.04041488419110373, 0.9564855925227883, 0.9961218203436113, 0.9912301489489841, 0.9747354135826336, 0.017405989528261313, 0.9948835370197363, 0.9946938292927899, 0.9738409832433786, 0.02414481776636476, 0.9848970521646226, 0.670145599799854, 0.3153626351999313, 0.9737898640956631, 0.9848490894993182, 0.9960225592065872, 0.41036235664094606, 0.5871851607220041, 0.7313990978627971, 0.21356853657593675, 0.05558633143757258, 0.9950571765848621, 0.5841565607353734, 0.07457317796621787, 0.339722255179437, 0.056399000946292174, 0.7201718582372694, 0.17787377221522918, 0.043383846881763215, 0.9900037899887411, 0.004901008861330401, 0.9878423576308836, 0.1973659999931187, 0.8046459999719455, 0.9896317780220406, 0.9763125361567546, 0.026192426485865068, 0.22263562512985308, 0.3317707354876242, 0.4190788237738411, 0.2445615403872892, 0.6214268649185217, 0.13230378414394334, 0.9750688619925875, 0.9975623188281945, 0.968412900136075, 0.9949579420938839, 0.9969687535700342, 0.9656241471255436, 0.9970694513271744, 0.9824157917134015, 0.9577037591651739, 0.03192345863883913, 0.9903870040830637, 0.8237212246216921, 0.17606255182753724, 0.9895507020226265, 0.9900543363854347, 0.9963186278755788, 0.9898190303783477, 0.6827455684385083, 0.1735154483324386, 0.1395667736587006, 0.9472276157079295, 0.041912726358757944, 0.9905671730525443, 0.9833025856318329, 0.982897271199594, 0.9977855508515961, 0.9973141441746468, 0.995706394581428, 0.9848386957154004, 0.98144074966837, 0.9890438721195344, 0.37582898047956437, 0.07046793383991831, 0.5519988150793601, 0.9198560045622101, 0.0477847275097252, 0.02986545469357825, 0.9950592867325165], \"Term\": [\"abi\", \"aceclofenac\", \"ache\", \"achieve\", \"achieve\", \"achieve\", \"acid\", \"active\", \"active\", \"active\", \"active\", \"activity\", \"activity\", \"acute\", \"adapt\", \"adaptive_deep\", \"adhesive\", \"adjust\", \"adolescent\", \"age\", \"algorithms\", \"among\", \"among\", \"among\", \"amplifier\", \"analog\", \"antioxidant\", \"application\", \"application\", \"application\", \"apply\", \"apply\", \"apply\", \"area\", \"area\", \"assay\", \"associate\", \"associate\", \"associate\", \"association\", \"attack\", \"automatic\", \"bandwidth\", \"behavior\", \"behavior\", \"benefit\", \"benefit\", \"beta\", \"beta\", \"bias\", \"bind\", \"brain\", \"brain_stimulation\", \"c\", \"c\", \"c\", \"c\", \"cancer\", \"capable\", \"capacitor\", \"care\", \"case\", \"case\", \"case\", \"cd\", \"cea\", \"change\", \"change\", \"change\", \"change\", \"characteristic\", \"characteristic\", \"child\", \"ci\", \"circuit\", \"clinical\", \"coefficient\", \"coefficient\", \"communication\", \"compound\", \"compound\", \"compression\", \"computational\", \"concentration\", \"concentration\", \"concept\", \"condition\", \"condition\", \"condition\", \"condition\", \"configuration\", \"conjugate\", \"contact\", \"contact\", \"contact\", \"controller\", \"conventional\", \"converter\", \"crack\", \"create\", \"criterion\", \"crystal\", \"current\", \"current\", \"current\", \"curve\", \"curve\", \"db\", \"deck\", \"deep_brain\", \"demonstrate\", \"demonstrate\", \"demonstrate\", \"demonstrate\", \"demonstrate\", \"describe\", \"describe\", \"describe\", \"describe\", \"detect\", \"detect\", \"detect\", \"detect\", \"detection\", \"detection\", \"detection\", \"detector\", \"determination\", \"determine\", \"determine\", \"determine\", \"determine\", \"development\", \"development\", \"development\", \"development\", \"diagnosis\", \"diameter\", \"digital\", \"disease\", \"disorder\", \"distortion\", \"dna\", \"domain\", \"domain\", \"drug\", \"drug\", \"dry\", \"due\", \"due\", \"due\", \"due\", \"due\", \"dynamic\", \"dynamic\", \"effectiveness\", \"efficiency\", \"efficiency\", \"electrical\", \"embed\", \"energy\", \"energy\", \"engine\", \"enzyme\", \"equation\", \"equipment\", \"error\", \"error\", \"estimate\", \"estimate\", \"estimate\", \"et\", \"evidence\", \"examine\", \"examine\", \"examine\", \"examine\", \"exist\", \"exist\", \"experience\", \"experimental\", \"experimental\", \"expression\", \"expression\", \"extend\", \"fabp\", \"family\", \"feature\", \"feature\", \"feature\", \"feature\", \"feedback\", \"fiber\", \"filter\", \"filter\", \"find\", \"find\", \"find\", \"find\", \"flow\", \"flow\", \"flow\", \"formation\", \"fracture\", \"fracture\", \"framework\", \"frequency\", \"frequency\", \"friction\", \"ft\", \"function\", \"function\", \"function\", \"function\", \"fusion\", \"gain\", \"gain\", \"gender\", \"gene\", \"group\", \"group\", \"harvest\", \"hdpp\", \"health\", \"heat\", \"heat\", \"however\", \"however\", \"however\", \"ht\", \"human\", \"human\", \"human\", \"ic\", \"implement\", \"implement\", \"implement\", \"indicate\", \"indicate\", \"indicate\", \"individual\", \"individual\", \"induce\", \"induce\", \"industry\", \"inflammatory\", \"information\", \"information\", \"inhibition\", \"inhibition\", \"inhibitor\", \"injury\", \"input\", \"input\", \"input\", \"integrate\", \"internal\", \"internal\", \"intervention\", \"introduce\", \"introduce\", \"involvement\", \"iron\", \"joint\", \"key\", \"key\", \"kinase\", \"lab\", \"large\", \"large\", \"large\", \"large\", \"learn\", \"learn\", \"lifetime\", \"light\", \"light\", \"liver\", \"load\", \"load\", \"load\", \"loop\", \"ltd\", \"ltd\", \"ltd\", \"ltd\", \"ltd\", \"machine\", \"machine\", \"male\", \"many\", \"many\", \"many\", \"marker\", \"marker\", \"material\", \"material\", \"material\", \"maximum\", \"may\", \"may\", \"may\", \"may\", \"measurement\", \"mechanical\", \"mechanism\", \"mechanism\", \"mechanism\", \"mechanism\", \"meoh\", \"metabolic\", \"metabolism\", \"methodology\", \"mir\", \"mixture\", \"mobile\", \"modify\", \"modulation\", \"module\", \"molecular\", \"monitor\", \"motion\", \"motion\", \"mouse\", \"mu\", \"mu\", \"mutation\", \"n\", \"n\", \"n\", \"network\", \"nmolminmg\", \"node\", \"node\", \"noise\", \"noise\", \"nonlinear\", \"novel\", \"novel\", \"novel\", \"novel\", \"number\", \"number\", \"number\", \"number\", \"numerical\", \"obtain\", \"obtain\", \"obtain\", \"one\", \"one\", \"one\", \"one\", \"one\", \"operate\", \"operational_amplifier\", \"outcomes\", \"output\", \"output\", \"overcome\", \"p\", \"p\", \"parameter\", \"parent\", \"part\", \"part\", \"participant\", \"pathway\", \"pd\", \"people\", \"perception\", \"permanent_magnet\", \"perspective\", \"phase\", \"phase\", \"phase\", \"platform\", \"potent\", \"potential\", \"potential\", \"potential\", \"potential\", \"practical\", \"pressure\", \"prior\", \"problem\", \"project\", \"proportion\", \"proposed\", \"prosocial\", \"protein\", \"protocol\", \"pulse\", \"range\", \"range\", \"range\", \"rate\", \"rate\", \"rate\", \"rate\", \"ratio\", \"ratio\", \"reaction\", \"reactor\", \"receptor\", \"recognition\", \"reduce\", \"reduce\", \"reduce\", \"reduce\", \"reduce\", \"reflect\", \"regulation\", \"reliability\", \"repair\", \"report\", \"report\", \"report\", \"report\", \"research\", \"research\", \"resource\", \"restore\", \"reveal\", \"reveal\", \"reveal\", \"review\", \"risk\", \"rna\", \"robust\", \"role\", \"role\", \"roll\", \"sample\", \"sample\", \"sample\", \"sample\", \"scale\", \"scheme\", \"scheme\", \"security\", \"segmentation\", \"selection\", \"service\", \"set\", \"set\", \"shear\", \"signal\", \"signal\", \"signal\", \"significantly\", \"significantly\", \"significantly\", \"significantly\", \"simple\", \"simulate\", \"simulation\", \"simulation\", \"site\", \"site\", \"site\", \"skin\", \"skin\", \"skin\", \"sleep\", \"slip\", \"social\", \"software\", \"software\", \"soil\", \"solid\", \"solution\", \"solution\", \"space\", \"specie\", \"speed\", \"speed\", \"start\", \"status\", \"status\", \"stimulation\", \"stochastic\", \"strength\", \"stress\", \"stress\", \"structure\", \"structure\", \"structure\", \"student\", \"suggest\", \"suggest\", \"suggest\", \"support\", \"support\", \"support\", \"support\", \"surface\", \"surface\", \"survival\", \"switch\", \"switch\", \"symptom\", \"tank\", \"target\", \"target\", \"target\", \"target\", \"technique\", \"technique\", \"technique\", \"telomere\", \"temperature\", \"tend\", \"term\", \"thermal\", \"threedimensional\", \"tissue\", \"tolerance\", \"tool\", \"tool\", \"transfer\", \"treatment\", \"treatment\", \"tumor\", \"urban\", \"user\", \"validate\", \"value\", \"value\", \"value\", \"variation\", \"variation\", \"vehicle\", \"vibration\", \"vitro\", \"voltage\", \"water\", \"whether\", \"wind\", \"wind_turbine\", \"woman\", \"work\", \"work\", \"work\", \"year\", \"year\", \"year\", \"yield\"]}, \"R\": 30, \"lambda.step\": 0.01, \"plot.opts\": {\"xlab\": \"PC1\", \"ylab\": \"PC2\"}, \"topic.order\": [3, 7, 6, 5, 4, 1, 2]};\n",
       "\n",
       "function LDAvis_load_lib(url, callback){\n",
       "  var s = document.createElement('script');\n",
       "  s.src = url;\n",
       "  s.async = true;\n",
       "  s.onreadystatechange = s.onload = callback;\n",
       "  s.onerror = function(){console.warn(\"failed to load library \" + url);};\n",
       "  document.getElementsByTagName(\"head\")[0].appendChild(s);\n",
       "}\n",
       "\n",
       "if(typeof(LDAvis) !== \"undefined\"){\n",
       "   // already loaded: just create the visualization\n",
       "   !function(LDAvis){\n",
       "       new LDAvis(\"#\" + \"ldavis_el326721401218352881604844434497\", ldavis_el326721401218352881604844434497_data);\n",
       "   }(LDAvis);\n",
       "}else if(typeof define === \"function\" && define.amd){\n",
       "   // require.js is available: use it to load d3/LDAvis\n",
       "   require.config({paths: {d3: \"https://d3js.org/d3.v5\"}});\n",
       "   require([\"d3\"], function(d3){\n",
       "      window.d3 = d3;\n",
       "      LDAvis_load_lib(\"https://cdn.jsdelivr.net/gh/bmabey/pyLDAvis@3.3.1/pyLDAvis/js/ldavis.v3.0.0.js\", function(){\n",
       "        new LDAvis(\"#\" + \"ldavis_el326721401218352881604844434497\", ldavis_el326721401218352881604844434497_data);\n",
       "      });\n",
       "    });\n",
       "}else{\n",
       "    // require.js not available: dynamically load d3 & LDAvis\n",
       "    LDAvis_load_lib(\"https://d3js.org/d3.v5.js\", function(){\n",
       "         LDAvis_load_lib(\"https://cdn.jsdelivr.net/gh/bmabey/pyLDAvis@3.3.1/pyLDAvis/js/ldavis.v3.0.0.js\", function(){\n",
       "                 new LDAvis(\"#\" + \"ldavis_el326721401218352881604844434497\", ldavis_el326721401218352881604844434497_data);\n",
       "            })\n",
       "         });\n",
       "}\n",
       "</script>"
      ],
      "text/plain": [
       "PreparedData(topic_coordinates=              x         y  topics  cluster       Freq\n",
       "topic                                                \n",
       "2     -0.157714 -0.184267       1        1  24.852655\n",
       "6     -0.174651  0.228291       2        1  22.640206\n",
       "5     -0.185710 -0.138176       3        1  21.968362\n",
       "4     -0.051464  0.146895       4        1  18.172539\n",
       "3      0.162981 -0.087769       5        1   6.194454\n",
       "0      0.208039  0.006313       6        1   3.992679\n",
       "1      0.198519  0.028713       7        1   2.179105, topic_info=            Term        Freq       Total Category  logprob  loglift\n",
       "2899      signal  283.000000  283.000000  Default  30.0000  30.0000\n",
       "302   expression  420.000000  420.000000  Default  29.0000  29.0000\n",
       "443     material  242.000000  242.000000  Default  28.0000  28.0000\n",
       "3528     circuit  200.000000  200.000000  Default  27.0000  27.0000\n",
       "305         gene  320.000000  320.000000  Default  26.0000  26.0000\n",
       "...          ...         ...         ...      ...      ...      ...\n",
       "1253    compound   25.457764   76.013854   Topic7  -5.0765   2.7324\n",
       "1717  inhibition   21.400290   55.099362   Topic7  -5.2501   2.8805\n",
       "873       status   15.975417   50.735243   Topic7  -5.5424   2.6707\n",
       "620        human   16.349003  242.795110   Topic7  -5.5193   1.1282\n",
       "3277        skin   15.307196   88.458373   Topic7  -5.5852   2.0720\n",
       "\n",
       "[363 rows x 6 columns], token_table=       Topic      Freq         Term\n",
       "term                               \n",
       "19619      7  0.959468          abi\n",
       "20887      7  0.947769  aceclofenac\n",
       "14647      7  0.970260         ache\n",
       "353        1  0.513678      achieve\n",
       "353        3  0.336293      achieve\n",
       "...      ...       ...          ...\n",
       "1288       3  0.551999         work\n",
       "685        2  0.919856         year\n",
       "685        3  0.047785         year\n",
       "685        6  0.029865         year\n",
       "769        1  0.995059        yield\n",
       "\n",
       "[548 rows x 3 columns], R=30, lambda_step=0.01, plot_opts={'xlab': 'PC1', 'ylab': 'PC2'}, topic_order=[3, 7, 6, 5, 4, 1, 2])"
      ]
     },
     "execution_count": 12,
     "metadata": {},
     "output_type": "execute_result"
    }
   ],
   "source": [
    "vis_ldamodel = pyLDAvis.gensim_models.prepare(lda_model,corpus,word2id)\n",
    "vis_ldamodel"
   ]
  },
  {
   "cell_type": "code",
   "execution_count": 18,
   "metadata": {},
   "outputs": [],
   "source": [
    "def compute_coherence_values(dictionary, corpus, texts, limit, start=5, step=3):\n",
    "    \"\"\"\n",
    "    Compute c_v coherence for various number of topics\n",
    "    \"\"\"\n",
    "    coherence_values = []\n",
    "    model_list = []\n",
    "    for num_topics in range(start, limit, step):\n",
    "        model = LdaModel(corpus,num_topics=num_topics,\n",
    "                id2word = dictionary,\n",
    "                random_state=121,\n",
    "                update_every=1,\n",
    "                chunksize=100,\n",
    "                passes=10,\n",
    "                alpha='auto',\n",
    "                per_word_topics=True)\n",
    "        model_list.append(model)\n",
    "        coherencemodel = CoherenceModel(model=model, texts=texts, dictionary=dictionary, coherence=\"c_v\")\n",
    "        coherence_values.append(coherencemodel.get_coherence())\n",
    "\n",
    "    return model_list, coherence_values\n",
    "\n",
    "model_list, coherence_values = compute_coherence_values(dictionary=word2id, corpus=corpus, texts=abstract_lemmatized_cleaned, start=5, limit=20, step=1)"
   ]
  },
  {
   "cell_type": "code",
   "execution_count": 19,
   "metadata": {},
   "outputs": [
    {
     "data": {
      "image/png": "[encoded data removed]",
      "text/plain": [
       "<Figure size 432x288 with 1 Axes>"
      ]
     },
     "metadata": {
      "needs_background": "light"
     },
     "output_type": "display_data"
    }
   ],
   "source": [
    "n = range(5, 20, 1)\n",
    "plt.plot(n, coherence_values)\n",
    "plt.xlabel(\"Num Topics\")\n",
    "plt.ylabel(\"Coherence score\")\n",
    "plt.legend((\"coherence_values\"), loc='best')\n",
    "plt.show()"
   ]
  },
  {
   "cell_type": "code",
   "execution_count": 23,
   "metadata": {},
   "outputs": [
    {
     "name": "stdout",
     "output_type": "stream",
     "text": [
      "[(0, '0.025*\"fracture\" + 0.011*\"machine\" + 0.011*\"pregnancy\" + 0.010*\"motor\" + 0.009*\"cue\" + 0.009*\"contraceptive\" + 0.008*\"capability\" + 0.008*\"hybrid\" + 0.008*\"permanent_magnet\" + 0.007*\"choice\" + 0.007*\"material\" + 0.006*\"fusion\" + 0.006*\"shear\"'), (1, '0.013*\"telomere\" + 0.011*\"hdpp\" + 0.008*\"nmolminmg\" + 0.008*\"et\" + 0.008*\"adbchminaca\" + 0.008*\"suppression\" + 0.007*\"vi\" + 0.007*\"separate\" + 0.007*\"equipment\" + 0.006*\"ligand\" + 0.006*\"extracellular\" + 0.005*\"engineer\" + 0.005*\"embed\"'), (2, '0.013*\"stress\" + 0.012*\"water\" + 0.011*\"area\" + 0.008*\"symptom\" + 0.007*\"outcome\" + 0.007*\"transfer\" + 0.006*\"secondary\" + 0.006*\"resistance\" + 0.005*\"community\" + 0.005*\"inhibition\" + 0.005*\"improve\" + 0.005*\"soil\" + 0.005*\"perspective\"'), (3, '0.016*\"signal\" + 0.015*\"circuit\" + 0.011*\"frequency\" + 0.010*\"filter\" + 0.009*\"feedback\" + 0.009*\"voltage\" + 0.008*\"current\" + 0.008*\"node\" + 0.008*\"digital\" + 0.007*\"loop\" + 0.006*\"integrate\" + 0.006*\"verify\" + 0.006*\"converter\"'), (4, '0.013*\"expression\" + 0.010*\"gene\" + 0.008*\"protein\" + 0.006*\"activity\" + 0.006*\"human\" + 0.005*\"controller\" + 0.005*\"cancer\" + 0.005*\"mouse\" + 0.004*\"inhibitor\" + 0.004*\"reaction\" + 0.004*\"receptor\" + 0.004*\"tumor\" + 0.004*\"role\"'), (5, '0.012*\"research\" + 0.012*\"service\" + 0.011*\"learn\" + 0.011*\"information\" + 0.010*\"practice\" + 0.010*\"task\" + 0.009*\"network\" + 0.008*\"resource\" + 0.008*\"project\" + 0.007*\"electrical\" + 0.007*\"program\" + 0.007*\"knowledge\" + 0.007*\"security\"'), (6, '0.007*\"adolescent\" + 0.007*\"group\" + 0.007*\"treatment\" + 0.007*\"may\" + 0.006*\"associate\" + 0.006*\"report\" + 0.005*\"disease\" + 0.005*\"behavior\" + 0.004*\"examine\" + 0.004*\"among\" + 0.004*\"social\" + 0.004*\"parent\" + 0.004*\"health\"'), (7, '0.006*\"energy\" + 0.005*\"application\" + 0.005*\"structure\" + 0.005*\"parameter\" + 0.004*\"dynamic\" + 0.004*\"obtain\" + 0.004*\"problem\" + 0.004*\"simulation\" + 0.004*\"characteristic\" + 0.004*\"work\" + 0.004*\"apply\" + 0.004*\"experimental\" + 0.004*\"order\"')]\n"
     ]
    }
   ],
   "source": [
    "model8 = model_list[3]\n",
    "print(model8.print_topics(num_words=13)) "
   ]
  },
  {
   "cell_type": "markdown",
   "metadata": {},
   "source": [
    "# Using the LDA model, find the topic of any given document\n",
    "#### lda built in model"
   ]
  },
  {
   "cell_type": "code",
   "execution_count": 44,
   "metadata": {},
   "outputs": [
    {
     "name": "stderr",
     "output_type": "stream",
     "text": [
      "/tmp/ipykernel_32672/1950728432.py:30: FutureWarning: The default value of regex will change from True to False in a future version.\n",
      "  df_test.Domain = df_test.Domain.str.replace(r'\\s','')\n",
      "/home/sxia1/.nlp_env/lib/python3.8/site-packages/pandas/core/generic.py:5516: SettingWithCopyWarning: \n",
      "A value is trying to be set on a copy of a slice from a DataFrame.\n",
      "Try using .loc[row_indexer,col_indexer] = value instead\n",
      "\n",
      "See the caveats in the documentation: https://pandas.pydata.org/pandas-docs/stable/user_guide/indexing.html#returning-a-view-versus-a-copy\n",
      "  self[name] = value\n",
      "/tmp/ipykernel_32672/1950728432.py:31: SettingWithCopyWarning: \n",
      "A value is trying to be set on a copy of a slice from a DataFrame.\n",
      "Try using .loc[row_indexer,col_indexer] = value instead\n",
      "\n",
      "See the caveats in the documentation: https://pandas.pydata.org/pandas-docs/stable/user_guide/indexing.html#returning-a-view-versus-a-copy\n",
      "  df_test['Domain_No'] = df_test.Domain.map(topic2num)\n"
     ]
    },
    {
     "name": "stdout",
     "output_type": "stream",
     "text": [
      "accuracy: 0.354\n"
     ]
    },
    {
     "data": {
      "text/html": [
       "<div>\n",
       "<style scoped>\n",
       "    .dataframe tbody tr th:only-of-type {\n",
       "        vertical-align: middle;\n",
       "    }\n",
       "\n",
       "    .dataframe tbody tr th {\n",
       "        vertical-align: top;\n",
       "    }\n",
       "\n",
       "    .dataframe thead th {\n",
       "        text-align: right;\n",
       "    }\n",
       "</style>\n",
       "<table border=\"1\" class=\"dataframe\">\n",
       "  <thead>\n",
       "    <tr style=\"text-align: right;\">\n",
       "      <th></th>\n",
       "      <th>actual</th>\n",
       "      <th>predicted</th>\n",
       "      <th>correct</th>\n",
       "    </tr>\n",
       "  </thead>\n",
       "  <tbody>\n",
       "    <tr>\n",
       "      <th>2000</th>\n",
       "      <td>4</td>\n",
       "      <td>4</td>\n",
       "      <td>True</td>\n",
       "    </tr>\n",
       "    <tr>\n",
       "      <th>2001</th>\n",
       "      <td>0</td>\n",
       "      <td>2</td>\n",
       "      <td>False</td>\n",
       "    </tr>\n",
       "    <tr>\n",
       "      <th>2002</th>\n",
       "      <td>2</td>\n",
       "      <td>4</td>\n",
       "      <td>False</td>\n",
       "    </tr>\n",
       "    <tr>\n",
       "      <th>2003</th>\n",
       "      <td>0</td>\n",
       "      <td>5</td>\n",
       "      <td>False</td>\n",
       "    </tr>\n",
       "    <tr>\n",
       "      <th>2004</th>\n",
       "      <td>2</td>\n",
       "      <td>4</td>\n",
       "      <td>False</td>\n",
       "    </tr>\n",
       "  </tbody>\n",
       "</table>\n",
       "</div>"
      ],
      "text/plain": [
       "      actual  predicted  correct\n",
       "2000       4          4     True\n",
       "2001       0          2    False\n",
       "2002       2          4    False\n",
       "2003       0          5    False\n",
       "2004       2          4    False"
      ]
     },
     "execution_count": 44,
     "metadata": {},
     "output_type": "execute_result"
    }
   ],
   "source": [
    "# test on 2000-2500 rows from the real data\n",
    "# step1:  given an abstract/text, tokenize, find biargram, remove popular words, turn it into a bag of words\n",
    "def prepare_text(text_list,BOW=False):\n",
    "    tokenized = list(map(lambda text_i:nltk.word_tokenize(re.sub(r'[^A-Za-z\\s]','',text_i.lower())),text_list))\n",
    "    text_uncategorized = prepare_token(tokenized)\n",
    "    # map corpus to a bag of words, lda doc2idx ignore unknown words\n",
    "    corpus_uncategorized  = list(map(word2id.doc2bow,text_uncategorized))\n",
    "    if BOW:\n",
    "        corpus_uncategorized  = list(map(lambda document: np.array(word2id.doc2bow(document)),text_uncategorized))\n",
    "    else:\n",
    "        corpus_uncategorized  = list(map(lambda document: np.array(word2id.doc2idx(document)),text_uncategorized))\n",
    "        corpus_uncategorized = list(map(lambda document: document[document>=0],corpus_uncategorized))\n",
    "    return corpus_uncategorized\n",
    "\n",
    "#step2: infer topic distribution\n",
    "def get_weight_each_topic(i,t_predict):\n",
    "    find = t_predict[list(map(lambda topic: i in topic, t_predict))]\n",
    "    if len(find)==0:\n",
    "        return 0.0\n",
    "    else:\n",
    "        return find[0][1]\n",
    "\n",
    "def get_topic_dist(model,text):\n",
    "    t_predict = np.array(model[text][0])\n",
    "    topic_dist_d = list(map(lambda i:get_weight_each_topic(i,t_predict),range(7)))\n",
    "    return topic_dist_d\n",
    "\n",
    "df_test = df_paper_raw[2000:2500]\n",
    "topic2num = {\"Civil\": 0, \"Medical\":1, \"MAE\":2, \"ECE\":3, \"biochemistry\":4, \"CS\":5,\"Psychology\":6}\n",
    "df_test.Domain = df_test.Domain.str.replace(r'\\s','')\n",
    "df_test['Domain_No'] = df_test.Domain.map(topic2num)\n",
    "corpus_uncategorized = prepare_text(df_test.Abstract,BOW=True)\n",
    "# corpus_uncategorized[1]\n",
    "topic_weight_matrix = list(map(lambda text_i:get_topic_dist(lda_model,text_i),corpus_uncategorized))\n",
    "dominant_topic = np.argmax(topic_weight_matrix,axis=1)\n",
    "predict_compare = pd.DataFrame({\"actual\":df_test.Domain_No,\"predicted\":dominant_topic})\n",
    "predict_compare[\"correct\"] = np.equal(predict_compare.actual,predict_compare.predicted)\n",
    "accuracy = np.sum(predict_compare['correct'])/len(predict_compare)\n",
    "print(\"accuracy:\", accuracy)\n",
    "predict_compare.head()"
   ]
  },
  {
   "cell_type": "code",
   "execution_count": 43,
   "metadata": {},
   "outputs": [
    {
     "data": {
      "text/plain": [
       "[(0, 0.10804731),\n",
       " (2, 0.4671807),\n",
       " (3, 0.043634847),\n",
       " (4, 0.20106961),\n",
       " (5, 0.13779163),\n",
       " (6, 0.040779144)]"
      ]
     },
     "execution_count": 43,
     "metadata": {},
     "output_type": "execute_result"
    }
   ],
   "source": [
    "lda_model[corpus_uncategorized[1]][0]"
   ]
  },
  {
   "cell_type": "markdown",
   "metadata": {},
   "source": [
    "# generate synthetic data using $\\alpha$ and $\\bm{\\beta}$ to "
   ]
  },
  {
   "cell_type": "code",
   "execution_count": 45,
   "metadata": {},
   "outputs": [],
   "source": [
    "num2topic = {0:\"Civil\", 1:\"Medical\",2:\"MAE\",3:\"ECE\",4:\"biochemistry\",5:\"CS\", 6:\"Psychology\"}\n",
    "\n",
    "# Possion distribution: draw sample length, lambda = median from the data\n",
    "# alpha: topic mixture of each synethic text\n",
    "# beta: topic-term distribution\n",
    "def lda_gen(vocabulary,beta,alpha,possion_lambda):\n",
    "    xi = np.random.poisson(possion_lambda) #length = sample from poisson dist\n",
    "    v = np.shape(beta)[0]\n",
    "    topic_proportion = np.random.dirichlet(alpha) # generate topic proportion based of a text dist\n",
    "    dominant_domain = num2topic[np.argmax(topic_proportion)]\n",
    "    topic_list = np.random.choice(range(v),xi,p=topic_proportion) #sample from topic proportion dist, \n",
    "\n",
    "    #pick a word for each topic in each document\n",
    "    # frequency of the topics = topics mixture in each document\n",
    "    word_bag = []\n",
    "    for topic_index in topic_list:\n",
    "        word = np.random.choice(vocabulary,p=beta[topic_index])\n",
    "        word_bag.append(word)\n",
    "    return (dominant_domain,word_bag)\n",
    "\n",
    "vocabulary = list(dictionary.keys())\n",
    "alpha = lda_model.alpha\n",
    "beta = lda_model.get_topics()\n",
    "possion_lambda = median_count\n",
    "\n",
    "synthetic_data_size = 2500\n",
    "synthetic_data = [ lda_gen(vocabulary,beta,alpha,possion_lambda) for _ in range(synthetic_data_size)]\n",
    "synthetic_df = pd.DataFrame(synthetic_data,columns=['Domain','Abstract'])\n",
    "synthetic_df.Abstract = synthetic_df.Abstract.map(lambda a: \" \".join(a))\n",
    "synthetic_df.to_csv(\"mockdata.csv\",index=False)\n",
    "\n"
   ]
  },
  {
   "cell_type": "markdown",
   "metadata": {},
   "source": [
    "# Categorize the synthetic data with lda probabilistic classifier"
   ]
  },
  {
   "cell_type": "code",
   "execution_count": 46,
   "metadata": {},
   "outputs": [
    {
     "data": {
      "text/html": [
       "<div>\n",
       "<style scoped>\n",
       "    .dataframe tbody tr th:only-of-type {\n",
       "        vertical-align: middle;\n",
       "    }\n",
       "\n",
       "    .dataframe tbody tr th {\n",
       "        vertical-align: top;\n",
       "    }\n",
       "\n",
       "    .dataframe thead th {\n",
       "        text-align: right;\n",
       "    }\n",
       "</style>\n",
       "<table border=\"1\" class=\"dataframe\">\n",
       "  <thead>\n",
       "    <tr style=\"text-align: right;\">\n",
       "      <th></th>\n",
       "      <th>Domain</th>\n",
       "      <th>Abstract</th>\n",
       "    </tr>\n",
       "  </thead>\n",
       "  <tbody>\n",
       "    <tr>\n",
       "      <th>0</th>\n",
       "      <td>MAE</td>\n",
       "      <td>epigenetic n enrol thus diversity app bias caa...</td>\n",
       "    </tr>\n",
       "    <tr>\n",
       "      <th>1</th>\n",
       "      <td>Psychology</td>\n",
       "      <td>socially change food emerge hei parameter tsh ...</td>\n",
       "    </tr>\n",
       "    <tr>\n",
       "      <th>2</th>\n",
       "      <td>Civil</td>\n",
       "      <td>contextaware adhesively bimetallic quantity cc...</td>\n",
       "    </tr>\n",
       "    <tr>\n",
       "      <th>3</th>\n",
       "      <td>CS</td>\n",
       "      <td>theoretical mg biology context terrier politic...</td>\n",
       "    </tr>\n",
       "    <tr>\n",
       "      <th>4</th>\n",
       "      <td>MAE</td>\n",
       "      <td>decide generally surface set openended follow ...</td>\n",
       "    </tr>\n",
       "  </tbody>\n",
       "</table>\n",
       "</div>"
      ],
      "text/plain": [
       "       Domain                                           Abstract\n",
       "0         MAE  epigenetic n enrol thus diversity app bias caa...\n",
       "1  Psychology  socially change food emerge hei parameter tsh ...\n",
       "2       Civil  contextaware adhesively bimetallic quantity cc...\n",
       "3          CS  theoretical mg biology context terrier politic...\n",
       "4         MAE  decide generally surface set openended follow ..."
      ]
     },
     "execution_count": 46,
     "metadata": {},
     "output_type": "execute_result"
    }
   ],
   "source": [
    "\n",
    "# read data\n",
    "mock_data = pd.read_csv(\"mockdata.csv\", engine='python')\n",
    "# topic2num = {\"CS\": 0, \"Civil\":1, \"MAE\":2, \"ECE\":3, \"Psychology\":4, \"Biochemistry\":5,\"Medical\":6}\n",
    "\n",
    "mock_data.head()"
   ]
  },
  {
   "cell_type": "code",
   "execution_count": 64,
   "metadata": {},
   "outputs": [
    {
     "name": "stdout",
     "output_type": "stream",
     "text": [
      "alpha [0.6350681 2.226943  2.1324077 1.3235765 2.0217237 0.7682069 1.53954  ]\n",
      "beta [(0, '0.006*\"expect\" + 0.005*\"skill\" + 0.005*\"professional\" + 0.004*\"aggressive\" + 0.004*\"responsible\" + 0.004*\"board\" + 0.004*\"nurse\" + 0.004*\"relapse\" + 0.004*\"mother\" + 0.004*\"whole\"'), (1, '0.007*\"function\" + 0.007*\"one\" + 0.007*\"network\" + 0.007*\"work\" + 0.006*\"case\" + 0.005*\"problem\" + 0.005*\"research\" + 0.005*\"set\" + 0.005*\"consider\" + 0.005*\"however\"'), (2, '0.009*\"energy\" + 0.008*\"parameter\" + 0.008*\"condition\" + 0.007*\"simulation\" + 0.007*\"structure\" + 0.007*\"experimental\" + 0.007*\"characteristic\" + 0.006*\"value\" + 0.005*\"area\" + 0.005*\"load\"'), (3, '0.008*\"material\" + 0.007*\"resource\" + 0.006*\"machine\" + 0.004*\"second\" + 0.004*\"heat\" + 0.004*\"fracture\" + 0.004*\"sleep\" + 0.004*\"failure\" + 0.004*\"effectiveness\" + 0.004*\"source\"'), (4, '0.010*\"expression\" + 0.007*\"gene\" + 0.007*\"activity\" + 0.006*\"mechanism\" + 0.005*\"human\" + 0.005*\"protein\" + 0.005*\"demonstrate\" + 0.004*\"potential\" + 0.004*\"indicate\" + 0.004*\"identify\"'), (5, '0.017*\"signal\" + 0.015*\"circuit\" + 0.011*\"filter\" + 0.010*\"gain\" + 0.008*\"frequency\" + 0.008*\"loop\" + 0.007*\"voltage\" + 0.007*\"detection\" + 0.007*\"digital\" + 0.007*\"gender\"'), (6, '0.008*\"group\" + 0.008*\"treatment\" + 0.007*\"may\" + 0.007*\"adolescent\" + 0.006*\"disease\" + 0.006*\"report\" + 0.006*\"among\" + 0.005*\"examine\" + 0.005*\"behavior\" + 0.005*\"associate\"')]\n"
     ]
    }
   ],
   "source": [
    "# extract alpha and beta from the mock data\n",
    "num_topics = 7\n",
    "documents = list(map(lambda abstract:abstract.split(\" \"),mock_data.Abstract[:2000]))\n",
    "mockdata_word2id = Dictionary(documents)\n",
    "mock_corpus = [mockdata_word2id .doc2bow(text) for text in documents]\n",
    "mockdata_lda_model = LdaModel(mock_corpus, \n",
    "                num_topics=len(mock_data.Domain.unique()),\n",
    "                id2word = mockdata_word2id,\n",
    "                random_state=130,\n",
    "                update_every=1,\n",
    "                chunksize=100,\n",
    "                passes=10,\n",
    "                alpha='auto',\n",
    "                per_word_topics=True)\n",
    "print(\"alpha\", mockdata_lda_model.alpha)\n",
    "print(\"beta\",mockdata_lda_model.show_topics(15))"
   ]
  },
  {
   "cell_type": "code",
   "execution_count": 66,
   "metadata": {},
   "outputs": [],
   "source": [
    "num2topicMock = {0:\"Medicial\",1:\"CS\",2:\"MAE\",3:\"Civil\",4:\"biochemistry\",5:\"ECE\",6:\"Psychology\"}\n",
    "topic2numMock = {\"Medical\":0,\"CS\":1,\"MAE\":2,\"Civil\":3,\"biochemistry\":4,\"ECE\":5,\"Psychology\":6}"
   ]
  },
  {
   "cell_type": "code",
   "execution_count": 65,
   "metadata": {},
   "outputs": [
    {
     "name": "stdout",
     "output_type": "stream",
     "text": [
      "Perplexity:  -9.04749505007605\n",
      "UMass Coherence Score:  -3.805549133782243\n",
      "C_v Coherence Score:  0.4916114180924918\n"
     ]
    }
   ],
   "source": [
    "# A lower perplexity score indicates better generalization performance.\n",
    "mock_perplexity = mockdata_lda_model.log_perplexity(mock_corpus)\n",
    "print('Perplexity: ', mock_perplexity )\n",
    "\n",
    "# get coherence value u_mass\n",
    "# probability = the number of documents in which the word occurs divided by the total number of documents\"\n",
    "mock_cm = CoherenceModel(model=mockdata_lda_model, corpus=mock_corpus, dictionary = mockdata_word2id,coherence='u_mass')\n",
    "mock_coherence_umass = mock_cm.get_coherence() \n",
    "print('UMass Coherence Score: ', mock_coherence_umass)\n",
    "\n",
    "# Compute Coherence Score using c_v\n",
    "# CV measure is based on the Pointwise Mutual Information score\n",
    "mock_coherence_model_lda = CoherenceModel(model=mockdata_lda_model, texts=documents, dictionary=mockdata_word2id, coherence=\"c_v\")\n",
    "mock_coherence_cv = mock_coherence_model_lda.get_coherence()\n",
    "print('C_v Coherence Score: ', mock_coherence_cv)"
   ]
  },
  {
   "cell_type": "code",
   "execution_count": 75,
   "metadata": {},
   "outputs": [
    {
     "name": "stdout",
     "output_type": "stream",
     "text": [
      "0.7275\n"
     ]
    },
    {
     "data": {
      "text/html": [
       "<div>\n",
       "<style scoped>\n",
       "    .dataframe tbody tr th:only-of-type {\n",
       "        vertical-align: middle;\n",
       "    }\n",
       "\n",
       "    .dataframe tbody tr th {\n",
       "        vertical-align: top;\n",
       "    }\n",
       "\n",
       "    .dataframe thead th {\n",
       "        text-align: right;\n",
       "    }\n",
       "</style>\n",
       "<table border=\"1\" class=\"dataframe\">\n",
       "  <thead>\n",
       "    <tr style=\"text-align: right;\">\n",
       "      <th></th>\n",
       "      <th>actual</th>\n",
       "      <th>predicted</th>\n",
       "      <th>correct</th>\n",
       "    </tr>\n",
       "  </thead>\n",
       "  <tbody>\n",
       "    <tr>\n",
       "      <th>0</th>\n",
       "      <td>2</td>\n",
       "      <td>2</td>\n",
       "      <td>True</td>\n",
       "    </tr>\n",
       "    <tr>\n",
       "      <th>1</th>\n",
       "      <td>6</td>\n",
       "      <td>1</td>\n",
       "      <td>False</td>\n",
       "    </tr>\n",
       "    <tr>\n",
       "      <th>2</th>\n",
       "      <td>3</td>\n",
       "      <td>3</td>\n",
       "      <td>True</td>\n",
       "    </tr>\n",
       "    <tr>\n",
       "      <th>3</th>\n",
       "      <td>1</td>\n",
       "      <td>1</td>\n",
       "      <td>True</td>\n",
       "    </tr>\n",
       "    <tr>\n",
       "      <th>4</th>\n",
       "      <td>2</td>\n",
       "      <td>6</td>\n",
       "      <td>False</td>\n",
       "    </tr>\n",
       "  </tbody>\n",
       "</table>\n",
       "</div>"
      ],
      "text/plain": [
       "   actual  predicted  correct\n",
       "0       2          2     True\n",
       "1       6          1    False\n",
       "2       3          3     True\n",
       "3       1          1     True\n",
       "4       2          6    False"
      ]
     },
     "execution_count": 75,
     "metadata": {},
     "output_type": "execute_result"
    }
   ],
   "source": [
    "def get_weight_each_topic(i,t_predict):\n",
    "    find = t_predict[list(map(lambda topic: i in topic, t_predict))]\n",
    "    if len(find)==0:\n",
    "        return 0.0\n",
    "    else:\n",
    "        return find[0][1]\n",
    "\n",
    "def get_topic_dist(model,text):\n",
    "    t_predict = np.array(model[text][0])\n",
    "    topic_dist_d = list(map(lambda i:get_weight_each_topic(i,t_predict),range(7)))\n",
    "    return topic_dist_d\n",
    "\n",
    "# accuracy on the training dataset\n",
    "topic_weight_matrix = list(map(lambda text_i:get_topic_dist(mockdata_lda_model,text_i),mock_corpus))\n",
    "dominant_topic = np.argmax(topic_weight_matrix,axis=1)\n",
    "mock_data['Domain_No'] = mock_data.Domain.map(topic2numMock)\n",
    "predict_compare = pd.DataFrame({\"actual\": mock_data.Domain_No[:2000],\"predicted\":dominant_topic})\n",
    "predict_compare[\"correct\"] = np.equal(predict_compare.actual,predict_compare.predicted)\n",
    "accuracy = np.sum(predict_compare['correct'])/len(predict_compare)\n",
    "print(accuracy)\n",
    "predict_compare.head()"
   ]
  },
  {
   "cell_type": "code",
   "execution_count": 77,
   "metadata": {},
   "outputs": [
    {
     "ename": "SyntaxError",
     "evalue": "unexpected EOF while parsing (2160559482.py, line 2)",
     "output_type": "error",
     "traceback": [
      "\u001b[0;36m  File \u001b[0;32m\"/tmp/ipykernel_32672/2160559482.py\"\u001b[0;36m, line \u001b[0;32m2\u001b[0m\n\u001b[0;31m    predict_compare.group_by('actual').apply(lambda grp:np.sum(predict_compare.correct)\u001b[0m\n\u001b[0m                                                                                       ^\u001b[0m\n\u001b[0;31mSyntaxError\u001b[0m\u001b[0;31m:\u001b[0m unexpected EOF while parsing\n"
     ]
    }
   ],
   "source": [
    "# compute accuracy by domain\n",
    "predict_compare.group_by('actual').apply(lambda grp: np.sum(predict_compare.correct/len(grp))"
   ]
  },
  {
   "cell_type": "code",
   "execution_count": null,
   "metadata": {},
   "outputs": [],
   "source": [
    "#test on 2000-2500 in te mock data\n",
    "mock_test = mock_data[2000:2500]\n",
    "documents = list(map(lambda abstract:abstract.split(\" \"),mock_test.Abstract))\n",
    "mock_corpus_test = [mockdata_word2id .doc2bow(text) for text in documents]\n",
    "\n",
    "topic_weight_matrix_test = list(map(lambda text_i:get_topic_dist(mockdata_lda_model,text_i),mock_corpus_test))\n",
    "dominant_topic_test = np.argmax(topic_weight_matrix_test,axis=1)\n",
    "mock_test['Domain_No'] = mock_test.Domain.map(topic2numMock)\n",
    "predict_compare_test = pd.DataFrame({\"actual\": mock_test.Domain_No,\"predicted\":dominant_topic_test})\n",
    "predict_compare_test[\"correct\"] = np.equal(predict_compare_test.actual,predict_compare_test.predicted)\n",
    "test_accuracy = np.sum(predict_compare_test['correct'])/len(predict_compare_test)\n",
    "print(test_accuracy)\n",
    "predict_compare_test.head()"
   ]
  },
  {
   "cell_type": "code",
   "execution_count": null,
   "metadata": {},
   "outputs": [],
   "source": []
  },
  {
   "cell_type": "markdown",
   "metadata": {},
   "source": [
    "# Ignore\n",
    "#### Naive Bayes (assume each text only has one topic, will try this and see how bad)\n",
    "$$\n",
    "\\begin{align}\n",
    "topic=&argmax_{topic_i} p(words|topic_i)p(topic_i)\\\\\n",
    "=&argmax_{topic_i} p(word1|topic_i)p(word2|topic_i)...|p(topic_i)\\\\\n",
    "=&argmax_{topic_i} \\sum_{word_j} log p(word_j|topic_i)|p(topic_i)\n",
    "\\end{align}\n",
    "$$\n",
    "\n",
    "#### Better approach\n",
    "Since we used LDA, probably better finding topic mixture for each given document. + One research paper can include multiple domains <br>\n",
    "Get the topic assignment for every word in the new document -> the distribution of topics in that document. <br>\n",
    "For each document:\n",
    "we know: W, the text <br>\n",
    "Unknown: $\\phi$, distribution over words for each topic (but we will use what we had for $\\bm{\\beta}$ from training our LDA model, SparkML Rstudio says orignially use $\\bm{\\beta}$, bu later paper uses $\\phi$ [https://spark.rstudio.com/reference/ml_lda]. Blei extends $\\bm{\\beta}$ as a random varible drawn from a Dirichlet distirbution for smoothing purpose)<br> \n",
    "&emsp;&emsp; &emsp; &emsp;$z$ latent variable, topic of each word <br>\n",
    "&emsp;&emsp; &emsp; &emsp;$\\bm{\\theta}$ latent variables, distribution over topics for each document<br>\n",
    "Goal: find z that maximzes $p(\\bm{z}|\\bm{w}) -> p(\\bm{w}|\\bm{z})$\n",
    "\n",
    "#### MCMC using Gibbs Sampling\n",
    "Find the conditional probability distribution of a single word’s topic assignment conditioned on the rest of the topic assignments.<br>\n",
    "$$\\begin{align}\n",
    "p(z_i|\\bm{z_{-i}},\\bm{\\alpha},\\bm{\\beta},\\bm{w}) =& \\frac{p(z_i,\\bm{z_{-i}},\\bm{w}|\\bm{\\alpha},\\bm{\\beta})}{p(\\bm{z_{-i}},\\bm{w}|\\bm{\\alpha},\\bm{\\beta})} \\\\\n",
    " &\\propto p(z_i,\\bm{z_{-i}},\\bm{w}|\\bm{\\alpha},\\bm{\\beta}) \\\\\n",
    " &\\propto P(\\bm{z},\\bm{w}|\\bm{\\alpha},\\bm{\\beta}) \n",
    "\\end{align} $$\n",
    "\n",
    "$$\n",
    "\\begin{align}\n",
    "p(\\bm{z},\\bm{w}|\\bm{\\alpha},\\bm{\\beta}) =& \\int p(\\bm{z},\\bm{w},\\bm{\\theta}|\\bm{\\alpha},\\bm{\\beta})d\\bm{\\theta}\\\\\n",
    "=& \\int p(\\bm{\\theta}|\\bm{\\alpha}) p(\\bm{z}|\\bm{\\theta}) p(\\bm{w}|\\bm{\\beta}_{\\bm{z}}) d\\bm{\\theta} \\\\\n",
    "= & p(\\bm{w}|\\bm{\\beta}_{\\bm{z}}) \\int p(\\bm{\\theta}|\\bm{\\alpha}) p(\\bm{z}|\\bm{\\theta}) d\\bm{\\theta}, \n",
    "\\end{align}$$\n",
    "where\n",
    "$$\n",
    "\\begin{align}\n",
    "p(\\bm{w}|\\bm{\\beta}_{\\bm{z}}) = \\prod_{j} {\\bm{\\beta}_{z_j,w_j}}.\n",
    "\\end{align}\n",
    "$$\n",
    "Expand the integral term:<br>\n",
    "The 1st term is: $$ p(\\bm{z}|\\bm{\\theta})= \\prod_i \\bm{\\theta}_{z_i}.$$\n",
    "The 2nd term is:\n",
    "$$\n",
    "\\begin{align}\n",
    "p(\\bm{\\theta}|\\bm{\\alpha}) = Dir(\\bm{\\theta},\\bm{\\alpha}) = \\frac{1}{\\Beta(\\bm{\\alpha})}\\prod_{k=0}^{k=N} \\theta_k^{\\alpha_k-1},\n",
    "\\end{align}\n",
    "$$\n",
    "where $N$ is the number of topics, and $\\frac{1}{\\Beta(\\alpha)}$, the normalization constant is given by the multivariate beta function and comupted from gamma function as\n",
    "$$\\Beta(\\bm{\\alpha}) = \\frac{\\prod_{k=1}^{k=N}\\Gamma(\\alpha_k)}{\\Gamma(\\sum_{k=1}^{k=N}\\alpha_k)}.$$\n",
    "\n",
    "Plug in these two terms into the integral term:\n",
    "$$\n",
    "\\begin{align}\n",
    "\\int p(\\bm{\\theta}|\\bm{\\alpha}) p(\\bm{z}|\\bm{\\theta}) d\\bm{\\theta} =& \\int \\prod_i \\bm{\\theta}_{z_i} \\frac{1}{\\Beta(\\bm{\\alpha})}\\prod_{k=0}^{k=N} \\theta_k^{\\alpha_k-1} d\\bm{\\theta}\\\\\n",
    "= & \\frac{1}{\\Beta(\\bm{\\alpha})} \\int \\prod_i \\bm{\\theta}_{z_i} \\prod_{k=0}^{k=N} \\theta_k^{\\alpha_k-1} d\\bm{\\theta}\\\\\n",
    "= & \\frac{1}{\\Beta(\\bm{\\alpha})} \\int \\prod_k \\theta_k ^{n_k+\\alpha_k-1} d\\bm{\\theta} \\hskip{0.5 in} (n_k =\\textrm{ the number of times }z_i=k)\\textrm{, and define }\\bm{n} = [n_1,n_2,...,n_k] \\\\\n",
    "= & \\frac{\\Beta(\\bm{\\alpha}+\\bm{n})}{\\Beta(\\bm{\\alpha})} \\int \\frac{1}{\\Beta(\\bm{\\alpha}+\\bm{n})} \\prod_k \\theta_k ^{n_k+\\alpha_k-1} d\\bm{\\theta} \\\\\n",
    "=& \\frac{\\Beta(\\bm{\\alpha}+\\bm{n})}{\\Beta(\\bm{\\alpha})} \\int Dir(\\bm{\\theta},\\bm{\\alpha}+\\bm{n}) d\\bm{\\theta} \\\\\n",
    "=& \\frac{\\Beta(\\bm{\\alpha}+\\bm{n})}{\\Beta(\\bm{\\alpha})}\n",
    "\\end{align}\n",
    "$$\n",
    "Thus \n",
    "$$ \n",
    "p(\\bm{w},\\bm{z}|\\bm{\\alpha},\\bm{\\beta})=\\frac{\\Beta(\\bm{\\alpha}+\\bm{n})}{\\Beta(\\bm{\\alpha})} \\prod_{j} {\\bm{\\beta}_{z_j,w_j}}.\n",
    "$$\n",
    "Conditional distribution for how to draw topic $z_i$ for word $w_i$:\n",
    "$$\\begin{align}\n",
    "p(z_i|\\bm{z_{-i}},\\bm{w},\\bm{\\alpha},\\bm{\\beta}) =& \\frac{p(\\bm{z},\\bm{w}|,\\bm{\\alpha},\\bm{\\beta})}{p(\\bm{z_{-i}},\\bm{w}|,\\bm{\\alpha},\\bm{\\beta})}\\\\\n",
    "\\propto &  \\frac{\\Beta(\\bm{\\alpha}+\\bm{n})}{\\Beta(\\bm{\\alpha})} \\prod_{j} {\\bm{\\beta}_{z_j,w_j}} / \\frac{\\Beta(\\bm{\\alpha}+\\bm{n_{-i}})}{\\Beta(\\bm{\\alpha})} \\prod_{j \\neq i} {\\bm{\\beta}_{z_j,w_j}} \\\\\n",
    "\\propto &  \\frac{\\Beta(\\bm{\\alpha}+\\bm{n})}{\\Beta(\\bm{\\alpha}+\\bm{n_{-i}})}\\frac{\\prod_{j} {\\bm{\\beta}_{z_j,w_j}} }{\\prod_{j \\neq i} {\\bm{\\beta}_{z_j,w_j}} }\\\\\n",
    "\\propto & \\frac{\\Beta(\\bm{\\alpha}+\\bm{n})}{\\Beta(\\bm{\\alpha}+\\bm{n_{-i}})}\\bm{\\beta}_{z_i,w_i}\\\\\n",
    "\\propto & \\frac{\\prod_{k=1}^{k=N}\\Gamma((\\bm{\\alpha}+\\bm{n})_k)}{\\Gamma(\\sum_{k=1}^{k=N}(\\bm{\\alpha}+\\bm{n})_k)} \\frac{\\Gamma(\\sum_{k=1}^{k=N}(\\bm{\\alpha}+\\bm{n_{-i}})_k)}{\\prod_{k=1}^{k=N}\\Gamma((\\bm{\\alpha}+\\bm{n_{-i}})_k)} \\bm{\\beta}_{z_i,w_i}\n",
    "\\end{align} $$\n",
    "\n",
    "\n",
    "The sampling process is:\n",
    "* Initailize $\\bm{z}$\n",
    "* while not max_iteration/not converged:\n",
    "    * for each word $w_i$ in $\\bm{w}$:\n",
    "        1. compute  conditional_p = $p(z_i|\\bm{z_{-i}},\\bm{w},\\bm{\\alpha},\\bm{\\beta})$ ( probabily of $z_i=k$ for each topic $k$ from $N$ total topics)\n",
    "        2. draw $z_i$ from Multinomial(conditional_p)\n",
    "        3. update $z_i$, save this \n",
    "    * estimate $\\bm{\\theta}$:$$\\theta_k = \\frac{n_k+\\alpha_k}{\\sum_{k} n_k+\\alpha_k}$$\n",
    "    * compute $p(\\bm{\\theta},\\bm{w},\\bm{z}|\\alpha,\\beta)$:\n",
    "            $$p(\\bm{\\theta},\\bm{w},\\bm{z}|\\alpha,\\beta) = \\log p(\\bm{\\theta}|\\bm{\\alpha})+ \\sum_{i=0}^{len(\\bm{w})}\\log p(w_i|z_i,\\bm{\\beta})  +\\log p(z_i|\\bm{\\theta}) = \\log p(\\bm{\\theta}|\\bm{\\alpha}) +\\sum_{i=0}^{len(\\bm{w})} \\log \\beta_{zi,wi} +\\log p(z_i|\\bm{\\theta})            $$\n",
    "\n"
   ]
  },
  {
   "cell_type": "markdown",
   "metadata": {},
   "source": []
  },
  {
   "cell_type": "code",
   "execution_count": 153,
   "metadata": {},
   "outputs": [],
   "source": [
    "class GibbsSampler_Predict:\n",
    "    def __init__(self, n_topics,alpha=0.2,beta=0.1):\n",
    "        self.n_topics = n_topics\n",
    "        self.alpha = alpha\n",
    "        self.beta = beta\n",
    "        self.theta = 0\n",
    "        self.z_vec = 0\n",
    "        self.w_vec = None\n",
    "        self.text_length = 0\n",
    "        self.maxiter = 5\n",
    "        self.log_likelihood_list = []\n",
    "\n",
    "\n",
    "    def initialize(self,words):\n",
    "        self.w_vec = words\n",
    "        self.text_length = len(words)\n",
    "        # initialize z_vec closer to the posterior distribution based on alpha parameter\n",
    "        self.theta = np.random.dirichlet(self.alpha)\n",
    "        self.z_vec = np.random.choice(range(self.n_topics),len(self.w_vec),p=self.theta)\n",
    "    \n",
    "    def _conditional_prob(self,i):\n",
    "        # conditional probablity distribution of zi=k for word w_i given alpha and beta\n",
    "        z_matrix_zi_all_k = np.tile(self.z_vec,(self.n_topics,1))\n",
    "        z_matrix_zi_all_k[:,i] = np.arange(0,self.n_topics,1)\n",
    "        n_matrix_all_k = np.array(list(map(lambda j: np.sum(z_matrix_zi_all_k==j,axis=1),range(self.n_topics)))).T\n",
    "\n",
    "        z_matrix_min_i = np.delete(z_matrix_zi_all_k,i,1)\n",
    "        n_matrix_min_i = np.array(list(map(lambda j: np.sum(z_matrix_min_i==j,axis=1),range(self.n_topics)))).T\n",
    "\n",
    "        top = np.prod(gamma(self.alpha+n_matrix_all_k),axis=1)/gamma(np.sum(self.alpha+n_matrix_all_k,axis=1))\n",
    "        bottom= np.prod(gamma(self.alpha+n_matrix_min_i),axis=1)/gamma(np.sum(self.alpha+n_matrix_min_i,axis=1))\n",
    "        p_wi_zi = self.beta[:,self.w_vec[i]]\n",
    "\n",
    "        prob = top/bottom*p_wi_zi\n",
    "        prob_normalized = prob/np.sum(prob)\n",
    "\n",
    "        return prob_normalized\n",
    "    \n",
    "    def _estimate_theta(self):\n",
    "        n_vec = np.array(list(map(lambda j: np.sum(self.z_vec==j),range(self.n_topics))))\n",
    "        theta = (n_vec+alpha)/np.sum(n_vec+alpha)\n",
    "        return theta\n",
    "\n",
    "    def _logP_theta_z_w(self,theta):\n",
    "        logP_w_z_theta = np.sum(list(map(lambda i: np.log(theta[self.z_vec[i]])+np.log(beta[(self.z_vec[i],self.w_vec[i])]),range(self.text_length))))\n",
    "        logP_theta_alpha = dirichlet.logpdf(theta, self.alpha)\n",
    "        logP = logP_theta_alpha+logP_w_z_theta\n",
    "        return logP\n",
    "\n",
    "\n",
    "    def sample(self,maxiter=5):\n",
    "        self.maxiter = maxiter\n",
    "        iter = 0\n",
    "        #got to final estimated z_vec\n",
    "        while iter < maxiter:\n",
    "                iter += 1\n",
    "                for i in range(self.text_length):\n",
    "                    conditional_p = self._conditional_prob(i)\n",
    "                    z_i_new = np.argmax(np.random.multinomial(1,conditional_p))# sample topic for i_th word in W from conditional probability\n",
    "                    self.z_vec[i] = z_i_new        \n",
    "                theta = self._estimate_theta()\n",
    "                log_likelihood = self._logP_theta_z_w(theta)\n",
    "                self.log_likelihood_list.append(log_likelihood)\n",
    "        self.theta = theta\n",
    "    \n",
    "    def plot(self):\n",
    "        plt.plot(np.arange(0,self.maxiter,1),self.log_likelihood_list)\n",
    "        plt.xlabel(\"iteration\")\n",
    "        plt.ylabel(\"log likliehood\")\n",
    "        plt.show()\n",
    "\n"
   ]
  },
  {
   "cell_type": "code",
   "execution_count": 168,
   "metadata": {},
   "outputs": [
    {
     "data": {
      "image/png": "[encoded data removed]",
      "text/plain": [
       "<Figure size 432x288 with 1 Axes>"
      ]
     },
     "metadata": {
      "needs_background": "light"
     },
     "output_type": "display_data"
    },
    {
     "name": "stdout",
     "output_type": "stream",
     "text": [
      "[8.87311486e-04 8.87311486e-04 8.87311486e-04 8.87311486e-04\n",
      " 9.88464951e-01 8.87311486e-04 7.09849161e-03]\n",
      "most salient topic: 4\n",
      "Gensim result: [(0, 0.43223852), (5, 0.5619697)]\n"
     ]
    }
   ],
   "source": [
    "corpus_uncategorized = prepare_text(df_test.Abstract)\n",
    "corpus_d = corpus_uncategorized[1]\n",
    "\n",
    "GBS_sampler = GibbsSampler_Predict(n_topics=7,alpha=alpha,beta=beta)\n",
    "GBS_sampler.initialize(corpus_d)\n",
    "GBS_sampler.sample(maxiter=3000)\n",
    "GBS_sampler.plot()\n",
    "\n",
    "topic_weight = GBS_sampler.theta\n",
    "dominant_topic = np.argmax(topic_weight)\n",
    "print(topic_weight)\n",
    "print(\"most salient topic:\",dominant_topic)\n",
    "# gensim implementation\n",
    "topic_dist_inferred = lda_model[corpus[0]]\n",
    "print(\"Gensim result:\", topic_dist_inferred)"
   ]
  },
  {
   "cell_type": "markdown",
   "metadata": {},
   "source": [
    "# use $\\alpha$ and $\\bm{\\beta}$ to generate synthetic data"
   ]
  },
  {
   "cell_type": "code",
   "execution_count": 166,
   "metadata": {},
   "outputs": [],
   "source": [
    "\n",
    "topic_dictionary = {0: \"CS\", 1: \"Civil\", 2: \"MAE\", 3: \"ECE\",4: \"Psychology\", 5: \"Biochemistry\", 6: \"Medical\"}\n",
    "\n",
    "# Possion distribution: draw sample length, lambda = median from the data\n",
    "# alpha: topic mixture of each synethic text\n",
    "# beta: topic-term distribution\n",
    "def lda_gen(vocabulary,beta,alpha,possion_lambda):\n",
    "    xi = np.random.poisson(possion_lambda) #length = sample from poisson dist\n",
    "    v = np.shape(beta)[0]\n",
    "    topic_proportion = np.random.dirichlet(alpha) # generate topic proportion based of a text dist\n",
    "    dominant_domain = topic_dictionary[np.argmax(topic_proportion)]\n",
    "    topic_list = np.random.choice(range(v),xi,p=topic_proportion) #sample from topic proportion dist, \n",
    "\n",
    "    #pick a word for each topic in each document\n",
    "    # frequency of the topics = topics mixture in each document\n",
    "    word_bag = []\n",
    "    for topic_index in topic_list:\n",
    "        word = np.random.choice(vocabulary,p=beta[topic_index])\n",
    "        word_bag.append(word)\n",
    "    return (dominant_domain,word_bag)\n",
    "\n",
    "vocabulary = list(dictionary.keys())\n",
    "alpha = lda_model.alpha\n",
    "beta = lda_model.get_topics()\n",
    "possion_lambda = median_count\n",
    "\n",
    "synthetic_data_size = 1000\n",
    "synthetic_data = [ lda_gen(vocabulary,beta,alpha,possion_lambda) for _ in range(synthetic_data_size)]\n",
    "synthetic_df = pd.DataFrame(synthetic_data,columns=['Domain','Abstract'])\n",
    "synthetic_df.Abstract = synthetic_df.Abstract.map(lambda a: \" \".join(a))\n",
    "synthetic_df.to_csv(\"mockdata.csv\",index=False)\n",
    "\n"
   ]
  },
  {
   "cell_type": "markdown",
   "metadata": {},
   "source": [
    "## Categorize the synthetic data with lda probabilistic classifier"
   ]
  },
  {
   "cell_type": "code",
   "execution_count": 185,
   "metadata": {},
   "outputs": [
    {
     "name": "stdout",
     "output_type": "stream",
     "text": [
      "{'CS': 0, 'Civil': 1, 'MAE': 2, 'ECE': 3, 'Psychology': 4, 'Biochemistry': 5, 'Medical': 6}\n"
     ]
    },
    {
     "data": {
      "text/html": [
       "<div>\n",
       "<style scoped>\n",
       "    .dataframe tbody tr th:only-of-type {\n",
       "        vertical-align: middle;\n",
       "    }\n",
       "\n",
       "    .dataframe tbody tr th {\n",
       "        vertical-align: top;\n",
       "    }\n",
       "\n",
       "    .dataframe thead th {\n",
       "        text-align: right;\n",
       "    }\n",
       "</style>\n",
       "<table border=\"1\" class=\"dataframe\">\n",
       "  <thead>\n",
       "    <tr style=\"text-align: right;\">\n",
       "      <th></th>\n",
       "      <th>Domain</th>\n",
       "      <th>Abstract</th>\n",
       "      <th>Domain_No</th>\n",
       "    </tr>\n",
       "  </thead>\n",
       "  <tbody>\n",
       "    <tr>\n",
       "      <th>0</th>\n",
       "      <td>MAE</td>\n",
       "      <td>quality drug h potentially calculate windinduc...</td>\n",
       "      <td>2</td>\n",
       "    </tr>\n",
       "    <tr>\n",
       "      <th>1</th>\n",
       "      <td>Biochemistry</td>\n",
       "      <td>additionally disengagement validation style qr...</td>\n",
       "      <td>5</td>\n",
       "    </tr>\n",
       "    <tr>\n",
       "      <th>2</th>\n",
       "      <td>Medical</td>\n",
       "      <td>lipopolysaccharide hyperbolic blueberry insert...</td>\n",
       "      <td>6</td>\n",
       "    </tr>\n",
       "    <tr>\n",
       "      <th>3</th>\n",
       "      <td>Medical</td>\n",
       "      <td>allow rate regard biological voltage divide pr...</td>\n",
       "      <td>6</td>\n",
       "    </tr>\n",
       "    <tr>\n",
       "      <th>4</th>\n",
       "      <td>Civil</td>\n",
       "      <td>request rmse easytofollow mean depression body...</td>\n",
       "      <td>1</td>\n",
       "    </tr>\n",
       "  </tbody>\n",
       "</table>\n",
       "</div>"
      ],
      "text/plain": [
       "         Domain                                           Abstract  Domain_No\n",
       "0           MAE  quality drug h potentially calculate windinduc...          2\n",
       "1  Biochemistry  additionally disengagement validation style qr...          5\n",
       "2       Medical  lipopolysaccharide hyperbolic blueberry insert...          6\n",
       "3       Medical  allow rate regard biological voltage divide pr...          6\n",
       "4         Civil  request rmse easytofollow mean depression body...          1"
      ]
     },
     "execution_count": 185,
     "metadata": {},
     "output_type": "execute_result"
    }
   ],
   "source": [
    "\n",
    "mock_data = pd.read_csv(\"mockdata.csv\", engine='python')\n",
    "topic2num = {\"CS\": 0, \"Civil\":1, \"MAE\":2, \"ECE\":3, \"Psychology\":4, \"Biochemistry\":5,\"Medical\":6}\n",
    "mock_data['Domain_No'] = mock_data.Domain.map(topic2num)\n",
    "mock_data.head()"
   ]
  },
  {
   "cell_type": "code",
   "execution_count": 186,
   "metadata": {},
   "outputs": [
    {
     "name": "stderr",
     "output_type": "stream",
     "text": [
      "WARNING:gensim.models.ldamodel:too few updates, training might not converge; consider increasing the number of passes or iterations to improve accuracy\n"
     ]
    },
    {
     "name": "stdout",
     "output_type": "stream",
     "text": [
      "alpha [0.14285715 0.14285715 0.14285715 0.14285715 0.14285715 0.14285715\n",
      " 0.14285715]\n",
      "beta [(0, '0.002*\"obtain\" + 0.002*\"condition\" + 0.002*\"temperature\" + 0.002*\"expression\" + 0.002*\"well\" + 0.002*\"treatment\" + 0.002*\"one\" + 0.002*\"rate\" + 0.002*\"sample\" + 0.002*\"suggest\"'), (1, '0.002*\"may\" + 0.002*\"however\" + 0.002*\"well\" + 0.002*\"one\" + 0.002*\"circuit\" + 0.002*\"sample\" + 0.002*\"parameter\" + 0.002*\"demonstrate\" + 0.002*\"group\" + 0.002*\"water\"'), (2, '0.002*\"structure\" + 0.002*\"treatment\" + 0.002*\"one\" + 0.002*\"efficiency\" + 0.002*\"gene\" + 0.002*\"parameter\" + 0.002*\"current\" + 0.002*\"novel\" + 0.002*\"measurement\" + 0.002*\"dynamic\"'), (3, '0.002*\"may\" + 0.002*\"technique\" + 0.002*\"range\" + 0.002*\"investigate\" + 0.002*\"condition\" + 0.002*\"find\" + 0.002*\"c\" + 0.002*\"large\" + 0.002*\"novel\" + 0.002*\"one\"'), (4, '0.003*\"structure\" + 0.002*\"condition\" + 0.002*\"application\" + 0.002*\"reduce\" + 0.002*\"well\" + 0.002*\"expression\" + 0.002*\"frequency\" + 0.002*\"type\" + 0.002*\"one\" + 0.002*\"determine\"'), (5, '0.002*\"group\" + 0.002*\"condition\" + 0.002*\"structure\" + 0.002*\"may\" + 0.002*\"gene\" + 0.002*\"dynamic\" + 0.002*\"significant\" + 0.002*\"find\" + 0.002*\"response\" + 0.002*\"range\"'), (6, '0.002*\"simulation\" + 0.002*\"make\" + 0.002*\"well\" + 0.002*\"technique\" + 0.002*\"function\" + 0.002*\"treatment\" + 0.002*\"dynamic\" + 0.001*\"energy\" + 0.001*\"material\" + 0.001*\"one\"')]\n"
     ]
    }
   ],
   "source": [
    "# extract alpha and beta from the mock data\n",
    "documents = list(map(lambda abstract:abstract.split(\" \"),mock_data.Abstract))\n",
    "mockdata_word2id = Dictionary(documents)\n",
    "mock_corpus = [mockdata_word2id .doc2bow(text) for text in documents]\n",
    "mockdata_model = LdaModel(\n",
    "    mock_corpus,\n",
    "    id2word=mockdata_word2id,\n",
    "    num_topics=7,\n",
    ")\n",
    "print(\"alpha\", mockdata_model.alpha)\n",
    "print(\"beta\",mockdata_model.show_topics())"
   ]
  },
  {
   "cell_type": "code",
   "execution_count": 188,
   "metadata": {},
   "outputs": [
    {
     "name": "stdout",
     "output_type": "stream",
     "text": [
      "0.138\n"
     ]
    },
    {
     "data": {
      "text/html": [
       "<div>\n",
       "<style scoped>\n",
       "    .dataframe tbody tr th:only-of-type {\n",
       "        vertical-align: middle;\n",
       "    }\n",
       "\n",
       "    .dataframe tbody tr th {\n",
       "        vertical-align: top;\n",
       "    }\n",
       "\n",
       "    .dataframe thead th {\n",
       "        text-align: right;\n",
       "    }\n",
       "</style>\n",
       "<table border=\"1\" class=\"dataframe\">\n",
       "  <thead>\n",
       "    <tr style=\"text-align: right;\">\n",
       "      <th></th>\n",
       "      <th>actual</th>\n",
       "      <th>predicted</th>\n",
       "      <th>correct</th>\n",
       "    </tr>\n",
       "  </thead>\n",
       "  <tbody>\n",
       "    <tr>\n",
       "      <th>0</th>\n",
       "      <td>2</td>\n",
       "      <td>3</td>\n",
       "      <td>False</td>\n",
       "    </tr>\n",
       "    <tr>\n",
       "      <th>1</th>\n",
       "      <td>5</td>\n",
       "      <td>4</td>\n",
       "      <td>False</td>\n",
       "    </tr>\n",
       "    <tr>\n",
       "      <th>2</th>\n",
       "      <td>6</td>\n",
       "      <td>3</td>\n",
       "      <td>False</td>\n",
       "    </tr>\n",
       "    <tr>\n",
       "      <th>3</th>\n",
       "      <td>6</td>\n",
       "      <td>2</td>\n",
       "      <td>False</td>\n",
       "    </tr>\n",
       "    <tr>\n",
       "      <th>4</th>\n",
       "      <td>1</td>\n",
       "      <td>2</td>\n",
       "      <td>False</td>\n",
       "    </tr>\n",
       "  </tbody>\n",
       "</table>\n",
       "</div>"
      ],
      "text/plain": [
       "   actual  predicted  correct\n",
       "0       2          3    False\n",
       "1       5          4    False\n",
       "2       6          3    False\n",
       "3       6          2    False\n",
       "4       1          2    False"
      ]
     },
     "execution_count": 188,
     "metadata": {},
     "output_type": "execute_result"
    }
   ],
   "source": [
    "def get_weight_each_topic(i,t_predict):\n",
    "    find = t_predict[list(map(lambda topic: i in topic, t_predict))]\n",
    "    if len(find)==0:\n",
    "        return 0.0\n",
    "    else:\n",
    "        return find[0][1]\n",
    "\n",
    "def get_topic_dist(model,text):\n",
    "    t_predict = np.array(model[text])\n",
    "    topic_dist_d = list(map(lambda i:get_weight_each_topic(i,t_predict),range(7)))\n",
    "    return topic_dist_d\n",
    "\n",
    "\n",
    "topic_weight_matrix = list(map(lambda text_i:get_topic_dist(mockdata_model,text_i),mock_corpus))\n",
    "dominant_topic = np.argmax(topic_weight_matrix,axis=1)\n",
    "predict_compare = pd.DataFrame({\"actual\": mock_data.Domain_No,\"predicted\":dominant_topic})\n",
    "predict_compare[\"correct\"] = np.equal(predict_compare.actual,predict_compare.predicted)\n",
    "accuracy = np.sum(predict_compare['correct'])/len(predict_compare)\n",
    "print(accuracy)\n",
    "predict_compare.head()"
   ]
  },
  {
   "cell_type": "code",
   "execution_count": 184,
   "metadata": {},
   "outputs": [
    {
     "data": {
      "text/html": [
       "<div>\n",
       "<style scoped>\n",
       "    .dataframe tbody tr th:only-of-type {\n",
       "        vertical-align: middle;\n",
       "    }\n",
       "\n",
       "    .dataframe tbody tr th {\n",
       "        vertical-align: top;\n",
       "    }\n",
       "\n",
       "    .dataframe thead th {\n",
       "        text-align: right;\n",
       "    }\n",
       "</style>\n",
       "<table border=\"1\" class=\"dataframe\">\n",
       "  <thead>\n",
       "    <tr style=\"text-align: right;\">\n",
       "      <th></th>\n",
       "      <th>Y1</th>\n",
       "      <th>Y2</th>\n",
       "      <th>Y</th>\n",
       "      <th>Domain</th>\n",
       "      <th>area</th>\n",
       "      <th>keywords</th>\n",
       "      <th>Abstract</th>\n",
       "    </tr>\n",
       "  </thead>\n",
       "  <tbody>\n",
       "    <tr>\n",
       "      <th>2000</th>\n",
       "      <td>6</td>\n",
       "      <td>3</td>\n",
       "      <td>128</td>\n",
       "      <td>biochemistry</td>\n",
       "      <td>Immunology</td>\n",
       "      <td>CARs; TRUCKs; Tumor-Targeted; Nanoparticles; ...</td>\n",
       "      <td>Adoptive transfer of antigen-specific T cells ...</td>\n",
       "    </tr>\n",
       "    <tr>\n",
       "      <th>2001</th>\n",
       "      <td>4</td>\n",
       "      <td>6</td>\n",
       "      <td>67</td>\n",
       "      <td>Civil</td>\n",
       "      <td>Stealth Technology</td>\n",
       "      <td>adsorption; conductive textiles; Olney addres...</td>\n",
       "      <td>Adsorption at the liquid-solid interface is wi...</td>\n",
       "    </tr>\n",
       "    <tr>\n",
       "      <th>2002</th>\n",
       "      <td>3</td>\n",
       "      <td>6</td>\n",
       "      <td>58</td>\n",
       "      <td>MAE</td>\n",
       "      <td>Thermodynamics</td>\n",
       "      <td>HIC; Protein unfolding; Mathematical modeling...</td>\n",
       "      <td>Adsorption behavior of unstable proteins, i.e....</td>\n",
       "    </tr>\n",
       "    <tr>\n",
       "      <th>2003</th>\n",
       "      <td>4</td>\n",
       "      <td>8</td>\n",
       "      <td>69</td>\n",
       "      <td>Civil</td>\n",
       "      <td>Solar Energy</td>\n",
       "      <td>Adsorption; ORC; Cooling and power generation...</td>\n",
       "      <td>Adsorption cooling and Organic Rankine Cycle (...</td>\n",
       "    </tr>\n",
       "    <tr>\n",
       "      <th>2004</th>\n",
       "      <td>3</td>\n",
       "      <td>6</td>\n",
       "      <td>58</td>\n",
       "      <td>MAE</td>\n",
       "      <td>Thermodynamics</td>\n",
       "      <td>adsorption; anion exchange membrane; anionic ...</td>\n",
       "      <td>Adsorption is a widely used technique for the ...</td>\n",
       "    </tr>\n",
       "  </tbody>\n",
       "</table>\n",
       "</div>"
      ],
      "text/plain": [
       "      Y1  Y2    Y         Domain                   area  \\\n",
       "2000   6   3  128  biochemistry            Immunology     \n",
       "2001   4   6   67         Civil    Stealth Technology     \n",
       "2002   3   6   58           MAE        Thermodynamics     \n",
       "2003   4   8   69         Civil          Solar Energy     \n",
       "2004   3   6   58           MAE        Thermodynamics     \n",
       "\n",
       "                                               keywords  \\\n",
       "2000   CARs; TRUCKs; Tumor-Targeted; Nanoparticles; ...   \n",
       "2001   adsorption; conductive textiles; Olney addres...   \n",
       "2002   HIC; Protein unfolding; Mathematical modeling...   \n",
       "2003   Adsorption; ORC; Cooling and power generation...   \n",
       "2004   adsorption; anion exchange membrane; anionic ...   \n",
       "\n",
       "                                               Abstract  \n",
       "2000  Adoptive transfer of antigen-specific T cells ...  \n",
       "2001  Adsorption at the liquid-solid interface is wi...  \n",
       "2002  Adsorption behavior of unstable proteins, i.e....  \n",
       "2003  Adsorption cooling and Organic Rankine Cycle (...  \n",
       "2004  Adsorption is a widely used technique for the ...  "
      ]
     },
     "execution_count": 184,
     "metadata": {},
     "output_type": "execute_result"
    }
   ],
   "source": [
    "df_test = df_paper_raw[2000:2500]\n",
    "df_test.head()"
   ]
  },
  {
   "cell_type": "code",
   "execution_count": 178,
   "metadata": {},
   "outputs": [
    {
     "name": "stdout",
     "output_type": "stream",
     "text": [
      "0.15\n"
     ]
    },
    {
     "data": {
      "text/html": [
       "<div>\n",
       "<style scoped>\n",
       "    .dataframe tbody tr th:only-of-type {\n",
       "        vertical-align: middle;\n",
       "    }\n",
       "\n",
       "    .dataframe tbody tr th {\n",
       "        vertical-align: top;\n",
       "    }\n",
       "\n",
       "    .dataframe thead th {\n",
       "        text-align: right;\n",
       "    }\n",
       "</style>\n",
       "<table border=\"1\" class=\"dataframe\">\n",
       "  <thead>\n",
       "    <tr style=\"text-align: right;\">\n",
       "      <th></th>\n",
       "      <th>actual</th>\n",
       "      <th>predicted</th>\n",
       "      <th>correct</th>\n",
       "    </tr>\n",
       "  </thead>\n",
       "  <tbody>\n",
       "    <tr>\n",
       "      <th>0</th>\n",
       "      <td>0</td>\n",
       "      <td>6</td>\n",
       "      <td>False</td>\n",
       "    </tr>\n",
       "    <tr>\n",
       "      <th>1</th>\n",
       "      <td>1</td>\n",
       "      <td>3</td>\n",
       "      <td>False</td>\n",
       "    </tr>\n",
       "    <tr>\n",
       "      <th>2</th>\n",
       "      <td>2</td>\n",
       "      <td>6</td>\n",
       "      <td>False</td>\n",
       "    </tr>\n",
       "    <tr>\n",
       "      <th>3</th>\n",
       "      <td>2</td>\n",
       "      <td>5</td>\n",
       "      <td>False</td>\n",
       "    </tr>\n",
       "    <tr>\n",
       "      <th>4</th>\n",
       "      <td>3</td>\n",
       "      <td>5</td>\n",
       "      <td>False</td>\n",
       "    </tr>\n",
       "  </tbody>\n",
       "</table>\n",
       "</div>"
      ],
      "text/plain": [
       "   actual  predicted  correct\n",
       "0       0          6    False\n",
       "1       1          3    False\n",
       "2       2          6    False\n",
       "3       2          5    False\n",
       "4       3          5    False"
      ]
     },
     "execution_count": 178,
     "metadata": {},
     "output_type": "execute_result"
    }
   ],
   "source": []
  },
  {
   "cell_type": "markdown",
   "metadata": {},
   "source": []
  }
 ],
 "metadata": {
  "interpreter": {
   "hash": "b10cdd4904fdd44c62b07c72ba64e3113d365136411c6c9d777e955188ee8c1b"
  },
  "kernelspec": {
   "display_name": "Python 3.8.10 64-bit ('.nlp_env': venv)",
   "language": "python",
   "name": "python3"
  },
  "language_info": {
   "codemirror_mode": {
    "name": "ipython",
    "version": 3
   },
   "file_extension": ".py",
   "mimetype": "text/x-python",
   "name": "python",
   "nbconvert_exporter": "python",
   "pygments_lexer": "ipython3",
   "version": "3.8.10"
  },
  "orig_nbformat": 4
 },
 "nbformat": 4,
 "nbformat_minor": 2
}
